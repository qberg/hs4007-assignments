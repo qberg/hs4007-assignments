{
 "cells": [
  {
   "cell_type": "markdown",
   "id": "imperial-taxation",
   "metadata": {},
   "source": [
    "# Real Time Bidding\n",
    "[Slides Presented in the Class](https://slides.com/reneeth/real-time-bidding/fullscreen)"
   ]
  },
  {
   "cell_type": "markdown",
   "id": "immediate-guidance",
   "metadata": {},
   "source": [
    "**Link with Stats of RTB**\n",
    "\n",
    "[Link 1](https://www.noboruworld.com/insights/complete-guidebook-on-programmatic-advertisement-for-marketers-in-2020/)\n",
    "[Link 2](https://blog.adbeat.com/programmatic-advertising)\n",
    "[Link 3](https://marketingdigest.com/report-programmatic-ad-spending-will-grow-137-this-year/)\n",
    "\n"
   ]
  },
  {
   "cell_type": "markdown",
   "id": "super-finance",
   "metadata": {},
   "source": [
    "## Underlying Theory"
   ]
  },
  {
   "cell_type": "markdown",
   "id": "fitted-record",
   "metadata": {},
   "source": [
    "### Introduction"
   ]
  },
  {
   "cell_type": "markdown",
   "id": "better-missouri",
   "metadata": {},
   "source": [
    "* RTB refers to the auctions are that are held for displaying an ad in the requested webpage in the time it takes to load that particular webpage. An example would be the sponsored search auctions displayed along with a google search.\n",
    "* Most of the market-places of RTB use *Second price auction.* The market-place for an RTB auction is called the **Ad Exchange.**\n",
    "* In such auctions, the bidder with the highest bid price wins the opportunity to show its ad, which is also called an **ad impression** and the winner is required to pay only the second highest price in the market.\n",
    "* A major feature of RTB is that it is an completely automated process. That is the various agents involved in the auction are software programs. \n",
    "* A computer program decides which ad best suits the user along with the price a bidder should pay.\n",
    "* A major advantage of the automated process is making the auction process more effiecient by eliminating the need of human ad buyers and sales people, who can often be irrational and slow paced."
   ]
  },
  {
   "cell_type": "markdown",
   "id": "immune-sunglasses",
   "metadata": {},
   "source": [
    "### Components Involved"
   ]
  },
  {
   "cell_type": "markdown",
   "id": "concrete-tunisia",
   "metadata": {},
   "source": [
    "![](https://applift.com/wp-content/uploads/2018/09/RTB-Auction-1.jpg)\n",
    "\n",
    "Automated RTB is a highly dynamic process. In each auction, an unknown number of bidders will participate and the set of bidders varies over different auctions. It is almost a no brainer to model the participants of RTB as agents, as the bidders compete among themselves by offering competitive prices and the highest bid normally accepted by the seller is the one that maximises his/her profit.\n",
    "\n",
    "**Goods:** The goods being auctioned are the various ad impression slots on the webpage and they aren't all identical. For example, the slot on the top of the page can be reasonably assumed to be of high price since there is more chance of the user seeing the ad.\n",
    "\n",
    "**Agent 1:** *Supply-Side Platform (SSP)* \n",
    "\n",
    "* A program that is equivalent of a seller in the automated process.\n",
    "* They are designed by the publishers of the webpage with the goal of maximizing the prices their ad slots sell for by opening up ad impressions to as many potential buyers as possible during the real-time auction.\n",
    "* Some popular SSP's include OpenX, PubMatic, Right Media,...\n",
    "\n",
    "**Agent 2:** *Demand-Side Platform (DSP)*\n",
    "\n",
    "* The equivalent of a buyer in the automated process.\n",
    "* Designed by advertisers to buy impressions of ad slots across a range of publisher sites, but targeted to specific users based on information such as their location and their previous browsing behavior. \n",
    "* Some popular DSP's are Invite Media, MediaMath, DataXu,...\n",
    "\n",
    "#### Goal of RTB\n",
    "\n",
    "The bidders are usullay constrained by their budget and this prevents them from bidding their estimation of the true values of an ad impression, which in general is the most optimal bid in second price auctions (aka Vickery Auctions). Owing to the constraint, to obtain an optimal bidding strategy in such a game with a large number of unknown participants is the major challenge in RTB.\n",
    "\n",
    "To make all the participants involved, *a goal of RTB is to deliver the right ads to the right users.* To understand this, consider the ads placed on a newspaper. Everyone with the newspaper, irrespective of their personal preference get the same ads. Cleraly, this isn't efficient. But the ads palced using RTB make use of the user information such as cookies from the browser to make personalized ad allocations thus maximising the chances of user interacting with the ad.\n",
    "##### Optimization Problem\n",
    "\n",
    "Since the bidding is an automated process, DSP involved places bids under the budget constraint, with the target of maximizing Key Performance Indicators (KPI's) such as,\n",
    "* **Click-Through Rates:** represent the probability that the user will respond with the given ad-impression.\n",
    "* **Convesrion Rates:** How many such clicks resulted in web purchases or app installs.\n",
    "\n",
    "Most algorithms follow *pay-per-click* pricing. That is, when a user clicks on the sponsored link, he is sent to the advertiser’s Webpage. The advertiser then pays the search engine for sending the user to its Web page. Hence CTR is a critical component of RTB. "
   ]
  },
  {
   "cell_type": "markdown",
   "id": "expected-injection",
   "metadata": {},
   "source": [
    "### Towards an Auction Framework\n",
    "\n",
    "At first we will look at a single item auction and then generalise it to the case of $k-$disntinct items as in RTB."
   ]
  },
  {
   "cell_type": "markdown",
   "id": "concerned-threshold",
   "metadata": {},
   "source": [
    "#### Second Price Auctions/Vickery Auctions"
   ]
  },
  {
   "cell_type": "markdown",
   "id": "solid-royalty",
   "metadata": {},
   "source": [
    "\n",
    "**Set-Up:** An auction involving bids for a single item from $n-$bidders (each bidder has a private valuation$(v_i)$).\n",
    "\n",
    "Every auction should involve a rule by which the item will be allocated to the winner and the amount the said should pay. In case of second price auctions,\n",
    "\n",
    "**Allocation Rule:** Highest bidder is decided as the winner of the auction.\n",
    "\n",
    "**Payment Rule:** The winner is required to pay only the second highest bid.\n",
    "Such a payment is prefered over first price auctions because of the stable nature of their equillibrium. \n",
    "\n",
    "**Salient Features:**\n",
    "\n",
    "* Vickery auction has an very interesting equillibrium point in which, all the bidders have a dominant strategy of bidding their valuation, $v_i$.\n",
    "* Such a strategy is stable and works with incomplete info.\n",
    "\n",
    "\n",
    "**Why second price auctions in the context of RTB?**\n",
    "![](https://d3i71xaburhd42.cloudfront.net/ce143f809ecfff0179e7628967d0e104aa894def/22-Figure3.1-1.png)\n",
    "\n"
   ]
  },
  {
   "cell_type": "markdown",
   "id": "earned-eating",
   "metadata": {},
   "source": [
    "Consider two advertisers A and B.Let the private valuation of A be $₹100$ and that of B be $₹75$ and there is a floor cutoff price of say $₹50$.\n",
    "\n",
    "Say if we didn't follow the payment rule of second price auctions and instead ask the winner to pay their bid (**first price auction**).\n",
    "* Now both A and B might not be truethful to their valuations but rather keep altering the bid in response to the other. This would lead to a very unstable system.\n",
    "\n",
    "To understand this more clearly, let us look at a instance of bidding,\n",
    "* Both A and B should atleat bid $₹50$ initially.\n",
    "* Then, they both would try to outbid each other ever so slightly.\n",
    "* As a consequence, the winning price keeps on increasing till it reaches $₹75$.\n",
    "* After that point, B stops bidding.\n",
    "* As there is no bid from B, A will try to optimize their profit by minimizing their bid to $₹50$.\n",
    "* At which point B starts bidding again and the whole cycle repeats.\n",
    "\n",
    "On the other hand, say if we are to follow the Vickery Auction Payment Rule we will have a stable equiilibrium point when both A and B bid their truthful value. To undertand this further,\n",
    "* If they were truthful, A would bid $₹100$ and B, $₹75$.\n",
    "* By the Vickery Auction allocation rule A will be the winner and has to pay $₹75$.\n",
    "* This is stable because, B is the loser here and if he decides to decrease the bid, he wouoldn't lose anything as there is no way of winning the auction.\n",
    "* Say if B were to increase the bid to be more than $₹100$, then he might win but he is paying more than what he trulty values the item to be and is hence not feasible. Similar arguments can be made for A."
   ]
  },
  {
   "cell_type": "markdown",
   "id": "illegal-recognition",
   "metadata": {},
   "source": [
    "#### Formulation of RTB\n",
    "\n",
    "As it might be obvious from the example above, Vickery auction and RTB are the same when there is only one slot to display the ad on the webpage. We will formulate a more general case here."
   ]
  },
  {
   "cell_type": "markdown",
   "id": "motivated-jones",
   "metadata": {},
   "source": [
    "**Set-Up:** An auction involving bids for $k-$distinct items (ad slots on the webpage) from $n-$bidders (each bidder has a private valuation$(v_i)$).\n",
    "\n",
    "Let $c_1,c_2,\\dots,c_k$ be the Click Through Rates of the various slots on the webpage. Therefore, the actual valuation of bidder $i$ for a slot $j$ is $v_i \\times c_j$.\n",
    "\n",
    "In auction design,the questions we would like to address are what should be the Allocation and Payment rule? Can we get a equillibrium point as good as the Vickery Auctions?\n",
    "\n",
    "In adressing these issues, we would like to design an auction in such a way that by revealing their true valuations, the advertisers stand the best chance of maximizing their profits. \n",
    "\n",
    "The mathematical theory that assures such an auction exists for RTB is,\n",
    "[Myerson's Lemma](https://www.cs.cornell.edu/courses/cs6840/2017sp/lecnotes/lec18.pdf)\n",
    "\n",
    "A gist of the lemma would be that for such an auction exists only when the allocation rule is *monotone.* By monotone, one means considering a bidder i, if the bids of all the other participants are fixed, then on increrasing the bid the utility of the bidder $i$ only goes up.\n",
    "\n",
    "In accordance with this lemma,\n",
    "\n",
    "**Allocation Rule:** $j-th$ slot should be awarded to the $j-th$ highest bidder.\n",
    "\n",
    "**Payment Rule:** Although using the Lemma described above, one could derive the exact rule for payment, the one commonly used is [Generalized Second Price Auctions](https://pubs.aeaweb.org/doi/pdfplus/10.1257/aer.97.1.242). This can be attributed to historical reasons.\n"
   ]
  },
  {
   "cell_type": "markdown",
   "id": "skilled-smart",
   "metadata": {},
   "source": [
    "## Implementing the Model\n",
    "\n",
    "As was explained in the theory part, a major component of RTB is estimation of Click-Through Rates. In our path to implementing a RTB, we would first like to estimate the CTR's. By doing so, we are modelling the behavious pattern of our users.\n",
    "\n",
    "Each advertising agency use their own model to get theor estimates of this quantity."
   ]
  },
  {
   "cell_type": "markdown",
   "id": "optional-motel",
   "metadata": {},
   "source": [
    "**Input:** User features as a sparse Feature Matrix.\n",
    "\n",
    "**Output:** Probability user will click on the link.\n",
    "\n",
    "![](https://jakevdp.github.io/PythonDataScienceHandbook/figures/05.02-samples-features.png)\n",
    "\n",
    "* n_samples are the n bidders here."
   ]
  },
  {
   "cell_type": "markdown",
   "id": "coordinate-durham",
   "metadata": {},
   "source": [
    "We could denote the above Input and Output as (X,y) and collect many such instances based on the user interactions over a certain period of time. \n",
    "\n",
    "Based on those already avilable samples we will like to predict the y for an unseen user x. This task falls under the Machine Learning Paradigm called, **Supervised Learning.** \n",
    "\n",
    "For the uninitiated, this is classic example of binary classification task, with the two classes being 'Click' and 'Non-Click'. \n",
    "\n",
    "An analogy to understand this would be, consider a bowl of white and black balls both. We would like to segregate them. One way of doing that would be to pick a ball, infer whether it's white or black and put it in seperate bowls\n",
    "corresponding to the two colors. \n",
    "\n",
    "Now if we want a computer to do the same task, we can't expect it to perform exactly same as us humans doing it. One way to teach the computer would be to intially use a bag in which the white and black balls are labelled using say their RGB profiles. \n",
    "\n",
    "Using that bag, the computer trains a model (that is, estimates suitable paramters).The trained model can then be used to segregate future bowls with unlabelled balls.\n",
    "\n",
    "Machine Learning has many method for doing this classification. The one we will be using is called **Logistic Regression.**\n"
   ]
  },
  {
   "cell_type": "markdown",
   "id": "endangered-poker",
   "metadata": {},
   "source": [
    "**Remarks on Feature Matrix:**\n",
    "\n",
    "The kind of features used for classification are given in the figure below.\n",
    "![](feature_matrix.png)\n",
    "\n",
    "To code the features into the matrix, we will be using *one-hot encoding*. Note that all the features are categorical.\n",
    "\n",
    "An example would say there are two features. Let the two features be,\n",
    "* Type of OS (O) and it belongs to the set $\\{Windows,Linux,Mac\\}$.\n",
    "* Time of day (D) and we divide the 24 hours in to say four six hour slots, $\\{04.00 -10.00,10.00-16.00,16.00-22.00,22.00-04.00\\}$\n",
    "* We give a value 1 if that element is used, else zero.\n",
    "* Now an user using Windows at 5 am will have the following feature matrix,\n",
    "$$X = [[1,0,0],[1,0,0,0]]$$"
   ]
  },
  {
   "cell_type": "markdown",
   "id": "immediate-metabolism",
   "metadata": {},
   "source": [
    "## Reference Papers\n",
    "\n",
    "* [Display Advertising with Real-Time Bidding (RTB) and Behavioural Targeting](https://arxiv.org/abs/1610.03013) by Jun Wang, Weinan Zhang and Shuai Yuan. ArXiv 2016.\n",
    "* [Deep CTR Prediction in Display Advertising](http://wnzhang.net/share/rtb-papers/deep-ctr-display.pdf) by Junxuan Chen et al. MM 2016.\n",
    "* [Bid Optimization by Multivariable Control in Display\n",
    "Advertising](https://dl.acm.org/doi/pdf/10.1145/3292500.3330681) by Xun Yang et al. KDD 2019."
   ]
  }
 ],
 "metadata": {
  "kernelspec": {
   "display_name": "Python 3",
   "language": "python",
   "name": "python3"
  },
  "language_info": {
   "codemirror_mode": {
    "name": "ipython",
    "version": 3
   },
   "file_extension": ".py",
   "mimetype": "text/x-python",
   "name": "python",
   "nbconvert_exporter": "python",
   "pygments_lexer": "ipython3",
   "version": "3.8.8"
  },
  "latex_envs": {
   "LaTeX_envs_menu_present": true,
   "autoclose": false,
   "autocomplete": true,
   "bibliofile": "biblio.bib",
   "cite_by": "apalike",
   "current_citInitial": 1,
   "eqLabelWithNumbers": true,
   "eqNumInitial": 1,
   "hotkeys": {
    "equation": "Ctrl-E",
    "itemize": "Ctrl-I"
   },
   "labels_anchors": false,
   "latex_user_defs": false,
   "report_style_numbering": false,
   "user_envs_cfg": false
  },
  "toc": {
   "base_numbering": 1,
   "nav_menu": {},
   "number_sections": true,
   "sideBar": true,
   "skip_h1_title": false,
   "title_cell": "Table of Contents",
   "title_sidebar": "Contents",
   "toc_cell": false,
   "toc_position": {},
   "toc_section_display": true,
   "toc_window_display": false
  },
  "varInspector": {
   "cols": {
    "lenName": 16,
    "lenType": 16,
    "lenVar": 40
   },
   "kernels_config": {
    "python": {
     "delete_cmd_postfix": "",
     "delete_cmd_prefix": "del ",
     "library": "var_list.py",
     "varRefreshCmd": "print(var_dic_list())"
    },
    "r": {
     "delete_cmd_postfix": ") ",
     "delete_cmd_prefix": "rm(",
     "library": "var_list.r",
     "varRefreshCmd": "cat(var_dic_list()) "
    }
   },
   "types_to_exclude": [
    "module",
    "function",
    "builtin_function_or_method",
    "instance",
    "_Feature"
   ],
   "window_display": false
  }
 },
 "nbformat": 4,
 "nbformat_minor": 5
}
