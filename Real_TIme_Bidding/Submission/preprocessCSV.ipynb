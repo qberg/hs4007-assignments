{
 "cells": [
  {
   "cell_type": "code",
   "execution_count": null,
   "metadata": {
    "id": "hjDCUwZ9d2lo"
   },
   "outputs": [],
   "source": [
    "#Mounting the drive to the colab workspace.\n",
    "from google.colab import drive\n",
    "drive.mount('/content/drive', force_remount = True)"
   ]
  },
  {
   "cell_type": "markdown",
   "metadata": {
    "id": "Kh0K-ceXeRTv"
   },
   "source": [
    "# Notebook 2: Preprocessing the CSV file:\n",
    "**Overview of the notebook**\n",
    "* The 'prepareDatasetCSV.ipynb' produces the csv files for click and impressions logs stored as '*clk_logs.csv*' and '*imp_logs.csv*' in the folder TRAIN.\n",
    "* This notebook walks through the process of some data preprocessing performed on those csv files.\n",
    "* This notebook produces seperate training dataset csv files for all the advertisers involved, doing so will help with statistical analysis and is efficient in terms of memory.\n",
    "* The code implemented here is made into a library [preprocessCSV.py](https://drive.google.com/file/d/1tNcT-mDV672PSZNqgd2iQ_e6OyDkW0i2/view?usp=sharing) for later use.\n"
   ]
  },
  {
   "cell_type": "code",
   "execution_count": null,
   "metadata": {
    "id": "DuEXKcjDfZSK"
   },
   "outputs": [],
   "source": [
    "path_clk = 'TRAIN/clk_logs.csv'\n",
    "path_imp = 'TRAIN/imp_logs.csv'"
   ]
  },
  {
   "cell_type": "code",
   "execution_count": null,
   "metadata": {
    "id": "KnzF4DjrfFlz"
   },
   "outputs": [],
   "source": [
    "#Loading the dependancies.\n",
    "import os\n",
    "import pandas as pd\n",
    "from tqdm import tqdm"
   ]
  },
  {
   "cell_type": "code",
   "execution_count": null,
   "metadata": {
    "id": "NBvyrtEywibh"
   },
   "outputs": [],
   "source": [
    "#Utilities.\n",
    "def get_chunks(in_path,out_path,chunk_size=100000,verbose=False):\n",
    "    '''\n",
    "    A method that splits up the csv file in to many chunks of\n",
    "    smaller size.\n",
    "    '''\n",
    "    if len(os.listdir(out_path)) != 0:\n",
    "        print(f'Wow! Chunks have already been created!!!')\n",
    "        return\n",
    "    chunk_num =1\n",
    "    for chunk in pd.read_csv(path_imp,chunksize=chunk_size):\n",
    "        chunk.to_csv(out_path+'chunk'+str(chunk_num)+'.csv',index=False)\n",
    "        if verbose:\n",
    "            print(f'Number of chunks created: {chunk_num}')\n",
    "        chunk_num+=1\n",
    "    print(f'csv file is made in to small chunks and is stored at:{out_path}')\n",
    "\n"
   ]
  },
  {
   "cell_type": "code",
   "execution_count": null,
   "metadata": {
    "colab": {
     "base_uri": "https://localhost:8080/"
    },
    "id": "8g0l7NjffVni",
    "outputId": "325e26b9-e541-4ee4-ff23-80a4feb5440a"
   },
   "outputs": [
    {
     "name": "stdout",
     "output_type": "stream",
     "text": [
      "/content/drive/My Drive/HS4007/Real_Time_Bidding\n"
     ]
    }
   ],
   "source": [
    "#Navigating to main directory.\n",
    "root_dir = r'/content/drive/My Drive/HS4007/Real_Time_Bidding'\n",
    "os.chdir(root_dir)\n",
    "#Sanity Check.\n",
    "!pwd"
   ]
  },
  {
   "cell_type": "markdown",
   "metadata": {
    "id": "c2tljY38fdBn"
   },
   "source": [
    "**Loading \"clk_logs.csv\" as a pandas dataframe**"
   ]
  },
  {
   "cell_type": "code",
   "execution_count": null,
   "metadata": {
    "colab": {
     "base_uri": "https://localhost:8080/",
     "height": 189
    },
    "id": "nLlVhKXLfy4p",
    "outputId": "575ccf5a-b3a9-4cd9-968a-8731ada3ca6d"
   },
   "outputs": [
    {
     "ename": "NameError",
     "evalue": "ignored",
     "output_type": "error",
     "traceback": [
      "\u001b[0;31m---------------------------------------------------------------------------\u001b[0m",
      "\u001b[0;31mNameError\u001b[0m                                 Traceback (most recent call last)",
      "\u001b[0;32m<ipython-input-5-6cc3216546e8>\u001b[0m in \u001b[0;36m<module>\u001b[0;34m()\u001b[0m\n\u001b[0;32m----> 1\u001b[0;31m \u001b[0mclk_df\u001b[0m \u001b[0;34m=\u001b[0m \u001b[0mpd\u001b[0m\u001b[0;34m.\u001b[0m\u001b[0mread_csv\u001b[0m\u001b[0;34m(\u001b[0m\u001b[0mpath_clk\u001b[0m\u001b[0;34m)\u001b[0m\u001b[0;34m\u001b[0m\u001b[0;34m\u001b[0m\u001b[0m\n\u001b[0m\u001b[1;32m      2\u001b[0m \u001b[0mclk_df\u001b[0m\u001b[0;34m.\u001b[0m\u001b[0mtail\u001b[0m\u001b[0;34m(\u001b[0m\u001b[0;36m2\u001b[0m\u001b[0;34m)\u001b[0m\u001b[0;34m\u001b[0m\u001b[0;34m\u001b[0m\u001b[0m\n",
      "\u001b[0;31mNameError\u001b[0m: name 'path_clk' is not defined"
     ]
    }
   ],
   "source": [
    "clk_df = pd.read_csv(path_clk)\n",
    "clk_df.tail(2)"
   ]
  },
  {
   "cell_type": "code",
   "execution_count": null,
   "metadata": {
    "id": "AxRgQyQ_D00Z"
   },
   "outputs": [],
   "source": []
  },
  {
   "cell_type": "markdown",
   "metadata": {
    "id": "CKtMUAlUg3uU"
   },
   "source": [
    "***\n",
    "* The above cell provides an overview of the different features that can be exploited for our studies.\n",
    "\n"
   ]
  },
  {
   "cell_type": "markdown",
   "metadata": {
    "id": "SarwZSr-gRdM"
   },
   "source": [
    "**List of advertisers**\n",
    "* Each advertiser will have a unique advertiser_id.\n"
   ]
  },
  {
   "cell_type": "code",
   "execution_count": null,
   "metadata": {
    "colab": {
     "base_uri": "https://localhost:8080/"
    },
    "id": "aX4HKTnDgDgB",
    "outputId": "86bc4847-b280-4db5-b1c2-36aea73725ca"
   },
   "outputs": [
    {
     "name": "stdout",
     "output_type": "stream",
     "text": [
      "The advertiser_id of different advertisers involved are[3476 3358 3386 3427 1458]\n"
     ]
    }
   ],
   "source": [
    "advertisers = clk_df['advertiser_id'].unique()\n",
    "print(f'The advertiser_id of different advertisers involved are{advertisers}')"
   ]
  },
  {
   "cell_type": "markdown",
   "metadata": {
    "id": "F4M7AuETkJVv"
   },
   "source": [
    "Therefore there are five different advertisers in the dataset."
   ]
  },
  {
   "cell_type": "markdown",
   "metadata": {
    "id": "pD4NZio1w0Wp"
   },
   "source": [
    "**Loading the \"imp_logs.csv\" as pandas dataframe**\n",
    "\n",
    "* Since the dataframe is of large size, its better to read them in chunks.\n",
    "* This process will split up the 'imp_logs.csv' into many csv files each of size equal to the chunksize and are stored at 'TRAIN/imp_chunks' which can be looked at for getting a sense of the dataset."
   ]
  },
  {
   "cell_type": "code",
   "execution_count": null,
   "metadata": {
    "colab": {
     "base_uri": "https://localhost:8080/"
    },
    "id": "8XK4iR1qwyLH",
    "outputId": "e2ff3270-a42b-4989-b844-fac2401875e3"
   },
   "outputs": [
    {
     "name": "stdout",
     "output_type": "stream",
     "text": [
      "Wow! Chunks have already been created!!!\n"
     ]
    }
   ],
   "source": [
    "path_to_chunks = 'TRAIN/imp_chunks/'\n",
    "get_chunks(path_imp,path_to_chunks,verbose=True)"
   ]
  },
  {
   "cell_type": "markdown",
   "metadata": {
    "id": "ig_Y3LRI-vkb"
   },
   "source": [
    "## Preprocessing Steps Illustrated\n",
    "* All the steps of preprocessing will be illustrated with a small chunk of imp_logs.csv and is called \"toy_imp\".\n"
   ]
  },
  {
   "cell_type": "markdown",
   "metadata": {},
   "source": [
    "Initially the datafrmae looked like the follows,"
   ]
  },
  {
   "cell_type": "code",
   "execution_count": null,
   "metadata": {
    "colab": {
     "base_uri": "https://localhost:8080/",
     "height": 201
    },
    "id": "5UKI1Q64cjhZ",
    "outputId": "5fde7fef-7d8c-4920-f6cb-cc07f36700b6"
   },
   "outputs": [
    {
     "data": {
      "text/html": [
       "<div>\n",
       "<style scoped>\n",
       "    .dataframe tbody tr th:only-of-type {\n",
       "        vertical-align: middle;\n",
       "    }\n",
       "\n",
       "    .dataframe tbody tr th {\n",
       "        vertical-align: top;\n",
       "    }\n",
       "\n",
       "    .dataframe thead th {\n",
       "        text-align: right;\n",
       "    }\n",
       "</style>\n",
       "<table border=\"1\" class=\"dataframe\">\n",
       "  <thead>\n",
       "    <tr style=\"text-align: right;\">\n",
       "      <th></th>\n",
       "      <th>bid_id</th>\n",
       "      <th>timestamp</th>\n",
       "      <th>log_type</th>\n",
       "      <th>ipinyou_id</th>\n",
       "      <th>user_agent</th>\n",
       "      <th>ip_address</th>\n",
       "      <th>region_id</th>\n",
       "      <th>city_id</th>\n",
       "      <th>ad_exchange</th>\n",
       "      <th>domain</th>\n",
       "      <th>url</th>\n",
       "      <th>anonymous_url_id</th>\n",
       "      <th>ad_slot_id</th>\n",
       "      <th>ad_slot_width</th>\n",
       "      <th>ad_slot_height</th>\n",
       "      <th>ad_slot_visibility</th>\n",
       "      <th>ad_slot</th>\n",
       "      <th>ad_slot_floor_price</th>\n",
       "      <th>creative_id</th>\n",
       "      <th>bidding_price</th>\n",
       "      <th>paying_price</th>\n",
       "      <th>key_page_url</th>\n",
       "      <th>advertiser_id</th>\n",
       "      <th>user_tags</th>\n",
       "    </tr>\n",
       "  </thead>\n",
       "  <tbody>\n",
       "    <tr>\n",
       "      <th>0</th>\n",
       "      <td>8a15b98c8f9e60d4f92aaab01acf52a4</td>\n",
       "      <td>20130606000104192</td>\n",
       "      <td>1</td>\n",
       "      <td>VhTVORqG36N6qMj</td>\n",
       "      <td>Mozilla/5.0 (Windows NT 5.1) AppleWebKit/537.1...</td>\n",
       "      <td>114.100.37.*</td>\n",
       "      <td>106</td>\n",
       "      <td>117</td>\n",
       "      <td>1</td>\n",
       "      <td>lsxSl559Xql7FmMs</td>\n",
       "      <td>8c9742e63497713b97ac7e780a8f9a12</td>\n",
       "      <td>NaN</td>\n",
       "      <td>mm_30232185_2681382_11190685</td>\n",
       "      <td>950</td>\n",
       "      <td>90</td>\n",
       "      <td>0</td>\n",
       "      <td>1</td>\n",
       "      <td>0</td>\n",
       "      <td>23d6dade7ed21cea308205b37594003e</td>\n",
       "      <td>227</td>\n",
       "      <td>207</td>\n",
       "      <td>b2e35064f3549d447edbbdfb1f707c8c</td>\n",
       "      <td>3427</td>\n",
       "      <td>10063,10684,10083,13403,10059,10024,10048,1005...</td>\n",
       "    </tr>\n",
       "    <tr>\n",
       "      <th>1</th>\n",
       "      <td>5bd0cbeb2f82fb94e56b7dc2e6b77ec</td>\n",
       "      <td>20130606000104252</td>\n",
       "      <td>1</td>\n",
       "      <td>Vhkr1uaROqKsXmb</td>\n",
       "      <td>Mozilla/4.0 (compatible; MSIE 7.0; Windows NT ...</td>\n",
       "      <td>222.220.35.*</td>\n",
       "      <td>308</td>\n",
       "      <td>320</td>\n",
       "      <td>2</td>\n",
       "      <td>eSMvBpa0jqmUagk4JKTI</td>\n",
       "      <td>15b56f50bbaa689c91ccaf5ed7c97b48</td>\n",
       "      <td>NaN</td>\n",
       "      <td>3521017083</td>\n",
       "      <td>336</td>\n",
       "      <td>280</td>\n",
       "      <td>2</td>\n",
       "      <td>0</td>\n",
       "      <td>5</td>\n",
       "      <td>13606a7c541dcd9ca1948875a760bb31</td>\n",
       "      <td>238</td>\n",
       "      <td>72</td>\n",
       "      <td>d29e59bf0f7f8243858b8183f14d4412</td>\n",
       "      <td>3358</td>\n",
       "      <td>13800,10024</td>\n",
       "    </tr>\n",
       "  </tbody>\n",
       "</table>\n",
       "</div>"
      ],
      "text/plain": [
       "                             bid_id  ...                                          user_tags\n",
       "0  8a15b98c8f9e60d4f92aaab01acf52a4  ...  10063,10684,10083,13403,10059,10024,10048,1005...\n",
       "1   5bd0cbeb2f82fb94e56b7dc2e6b77ec  ...                                        13800,10024\n",
       "\n",
       "[2 rows x 24 columns]"
      ]
     },
     "execution_count": 98,
     "metadata": {},
     "output_type": "execute_result"
    }
   ],
   "source": [
    "toy_imp = pd.read_csv(path_to_chunks+'chunk1.csv')\n",
    "toy_imp.head(2)"
   ]
  },
  {
   "cell_type": "markdown",
   "metadata": {
    "id": "XUUPC8Poc29D"
   },
   "source": [
    "As can be seen they have similar columns as clk_df. The columns are as follows,"
   ]
  },
  {
   "cell_type": "code",
   "execution_count": null,
   "metadata": {
    "colab": {
     "base_uri": "https://localhost:8080/"
    },
    "id": "HkLUuxQkwHrz",
    "outputId": "f59094a1-700e-462e-ecfa-6d308ad7f480"
   },
   "outputs": [
    {
     "data": {
      "text/plain": [
       "Index(['bid_id', 'timestamp', 'log_type', 'ipinyou_id', 'user_agent',\n",
       "       'ip_address', 'region_id', 'city_id', 'ad_exchange', 'domain', 'url',\n",
       "       'anonymous_url_id', 'ad_slot_id', 'ad_slot_width', 'ad_slot_height',\n",
       "       'ad_slot_visibility', 'ad_slot', 'ad_slot_floor_price', 'creative_id',\n",
       "       'bidding_price', 'paying_price', 'key_page_url', 'advertiser_id',\n",
       "       'user_tags'],\n",
       "      dtype='object')"
      ]
     },
     "execution_count": 99,
     "metadata": {},
     "output_type": "execute_result"
    }
   ],
   "source": [
    "clk_df.columns"
   ]
  },
  {
   "cell_type": "markdown",
   "metadata": {
    "id": "jKrxcQJ7dBPL"
   },
   "source": [
    "---\n",
    "### Step 0: Creating the click variable which is a boolean.\n",
    "\n",
    "* This is an important variable as it tells us whether a given impression resulted in a click or not.\n",
    "\n"
   ]
  },
  {
   "cell_type": "code",
   "execution_count": null,
   "metadata": {
    "id": "n5_yPEWV4bwe"
   },
   "outputs": [],
   "source": [
    "def create_click_col(df1,df2):\n",
    "    '''\n",
    "    A method that creates click boolean column given impressions (df1) and\n",
    "    clicks dataframe (df2).\n",
    "    '''\n",
    "    click = df1['bid_id'].isin(df2['bid_id'])\n",
    "    df1['click'] = click\n",
    "    #Dropping the log_type and bid_id column as it is useless from now on.\n",
    "    df1.drop(columns=['bid_id','log_type'],axis=1,inplace=True)\n",
    "    #Dropping nan values of click.\n",
    "    df1.dropna(subset=['click'], inplace=True)\n",
    "    #Reordering columns.\n",
    "    cols = ['click'] + [col for col in df1 if col != 'click']\n",
    "    df1=df1[cols]\n",
    "    return df1"
   ]
  },
  {
   "cell_type": "code",
   "execution_count": null,
   "metadata": {
    "colab": {
     "base_uri": "https://localhost:8080/",
     "height": 267
    },
    "id": "dUZn8ln84jXl",
    "outputId": "3846b743-93c5-4fad-abb3-30f096fbb299"
   },
   "outputs": [
    {
     "data": {
      "text/html": [
       "<div>\n",
       "<style scoped>\n",
       "    .dataframe tbody tr th:only-of-type {\n",
       "        vertical-align: middle;\n",
       "    }\n",
       "\n",
       "    .dataframe tbody tr th {\n",
       "        vertical-align: top;\n",
       "    }\n",
       "\n",
       "    .dataframe thead th {\n",
       "        text-align: right;\n",
       "    }\n",
       "</style>\n",
       "<table border=\"1\" class=\"dataframe\">\n",
       "  <thead>\n",
       "    <tr style=\"text-align: right;\">\n",
       "      <th></th>\n",
       "      <th>click</th>\n",
       "      <th>timestamp</th>\n",
       "      <th>ipinyou_id</th>\n",
       "      <th>user_agent</th>\n",
       "      <th>ip_address</th>\n",
       "      <th>region_id</th>\n",
       "      <th>city_id</th>\n",
       "      <th>ad_exchange</th>\n",
       "      <th>domain</th>\n",
       "      <th>url</th>\n",
       "      <th>anonymous_url_id</th>\n",
       "      <th>ad_slot_id</th>\n",
       "      <th>ad_slot_width</th>\n",
       "      <th>ad_slot_height</th>\n",
       "      <th>ad_slot_visibility</th>\n",
       "      <th>ad_slot</th>\n",
       "      <th>ad_slot_floor_price</th>\n",
       "      <th>creative_id</th>\n",
       "      <th>bidding_price</th>\n",
       "      <th>paying_price</th>\n",
       "      <th>key_page_url</th>\n",
       "      <th>advertiser_id</th>\n",
       "      <th>user_tags</th>\n",
       "    </tr>\n",
       "  </thead>\n",
       "  <tbody>\n",
       "    <tr>\n",
       "      <th>0</th>\n",
       "      <td>False</td>\n",
       "      <td>20130606000104192</td>\n",
       "      <td>VhTVORqG36N6qMj</td>\n",
       "      <td>Mozilla/5.0 (Windows NT 5.1) AppleWebKit/537.1...</td>\n",
       "      <td>114.100.37.*</td>\n",
       "      <td>106</td>\n",
       "      <td>117</td>\n",
       "      <td>1</td>\n",
       "      <td>lsxSl559Xql7FmMs</td>\n",
       "      <td>8c9742e63497713b97ac7e780a8f9a12</td>\n",
       "      <td>NaN</td>\n",
       "      <td>mm_30232185_2681382_11190685</td>\n",
       "      <td>950</td>\n",
       "      <td>90</td>\n",
       "      <td>0</td>\n",
       "      <td>1</td>\n",
       "      <td>0</td>\n",
       "      <td>23d6dade7ed21cea308205b37594003e</td>\n",
       "      <td>227</td>\n",
       "      <td>207</td>\n",
       "      <td>b2e35064f3549d447edbbdfb1f707c8c</td>\n",
       "      <td>3427</td>\n",
       "      <td>10063,10684,10083,13403,10059,10024,10048,1005...</td>\n",
       "    </tr>\n",
       "    <tr>\n",
       "      <th>1</th>\n",
       "      <td>False</td>\n",
       "      <td>20130606000104252</td>\n",
       "      <td>Vhkr1uaROqKsXmb</td>\n",
       "      <td>Mozilla/4.0 (compatible; MSIE 7.0; Windows NT ...</td>\n",
       "      <td>222.220.35.*</td>\n",
       "      <td>308</td>\n",
       "      <td>320</td>\n",
       "      <td>2</td>\n",
       "      <td>eSMvBpa0jqmUagk4JKTI</td>\n",
       "      <td>15b56f50bbaa689c91ccaf5ed7c97b48</td>\n",
       "      <td>NaN</td>\n",
       "      <td>3521017083</td>\n",
       "      <td>336</td>\n",
       "      <td>280</td>\n",
       "      <td>2</td>\n",
       "      <td>0</td>\n",
       "      <td>5</td>\n",
       "      <td>13606a7c541dcd9ca1948875a760bb31</td>\n",
       "      <td>238</td>\n",
       "      <td>72</td>\n",
       "      <td>d29e59bf0f7f8243858b8183f14d4412</td>\n",
       "      <td>3358</td>\n",
       "      <td>13800,10024</td>\n",
       "    </tr>\n",
       "    <tr>\n",
       "      <th>2</th>\n",
       "      <td>False</td>\n",
       "      <td>20130606000104253</td>\n",
       "      <td>VhL01pk8OTkW3Mc</td>\n",
       "      <td>Mozilla/5.0 (Windows NT 5.1) AppleWebKit/537.1...</td>\n",
       "      <td>58.100.240.*</td>\n",
       "      <td>94</td>\n",
       "      <td>95</td>\n",
       "      <td>1</td>\n",
       "      <td>tK1NTu1YP5scFsf</td>\n",
       "      <td>e22930480589abcc1468854cb3403314</td>\n",
       "      <td>NaN</td>\n",
       "      <td>mm_10075660_3500949_11453278</td>\n",
       "      <td>950</td>\n",
       "      <td>90</td>\n",
       "      <td>0</td>\n",
       "      <td>1</td>\n",
       "      <td>0</td>\n",
       "      <td>d5cecca9a6cbd7a0a48110f1306b26d1</td>\n",
       "      <td>227</td>\n",
       "      <td>108</td>\n",
       "      <td>d29e59bf0f7f8243858b8183f14d4412</td>\n",
       "      <td>3358</td>\n",
       "      <td>10059,13866,10063,10111</td>\n",
       "    </tr>\n",
       "  </tbody>\n",
       "</table>\n",
       "</div>"
      ],
      "text/plain": [
       "   click  ...                                          user_tags\n",
       "0  False  ...  10063,10684,10083,13403,10059,10024,10048,1005...\n",
       "1  False  ...                                        13800,10024\n",
       "2  False  ...                            10059,13866,10063,10111\n",
       "\n",
       "[3 rows x 23 columns]"
      ]
     },
     "execution_count": 101,
     "metadata": {},
     "output_type": "execute_result"
    }
   ],
   "source": [
    "toy_imp = create_click_col(toy_imp,clk_df)\n",
    "toy_imp.head(3)"
   ]
  },
  {
   "cell_type": "markdown",
   "metadata": {
    "id": "yj61EX7mFS1N"
   },
   "source": [
    "### Step 1: Getting the weekday and hour of the day.\n",
    "\n",
    "* 'timestamp' feature is modified to get the day and time as features."
   ]
  },
  {
   "cell_type": "code",
   "execution_count": null,
   "metadata": {
    "id": "bqEm1yhtFvdE"
   },
   "outputs": [],
   "source": [
    "def get_date(df):\n",
    "    df['timestamp']= df['timestamp'].astype(str)\n",
    "    df['timestamp'] =df.apply(lambda x: x['timestamp'][:-3], axis = 1)\n",
    "    df['timestamp'] = pd.to_datetime(df['timestamp'],format='%Y%m%d%H%M%S')\n",
    "    df['hour'] = df['timestamp'].dt.hour\n",
    "    df['day']=df['timestamp'].dt.dayofweek\n",
    "    df.drop(columns=['timestamp'],axis=1,inplace=True)\n",
    "    cols=['day','hour','click'] + [col for col in df if col not in ['day','hour','click']]\n",
    "    df=df[cols]\n",
    "    return df"
   ]
  },
  {
   "cell_type": "code",
   "execution_count": null,
   "metadata": {
    "colab": {
     "base_uri": "https://localhost:8080/",
     "height": 417
    },
    "id": "zDtCfPHGG0B_",
    "outputId": "49c7f6c0-60f4-459e-bff3-7b6e8a92de3a"
   },
   "outputs": [
    {
     "data": {
      "text/html": [
       "<div>\n",
       "<style scoped>\n",
       "    .dataframe tbody tr th:only-of-type {\n",
       "        vertical-align: middle;\n",
       "    }\n",
       "\n",
       "    .dataframe tbody tr th {\n",
       "        vertical-align: top;\n",
       "    }\n",
       "\n",
       "    .dataframe thead th {\n",
       "        text-align: right;\n",
       "    }\n",
       "</style>\n",
       "<table border=\"1\" class=\"dataframe\">\n",
       "  <thead>\n",
       "    <tr style=\"text-align: right;\">\n",
       "      <th></th>\n",
       "      <th>day</th>\n",
       "      <th>hour</th>\n",
       "      <th>click</th>\n",
       "      <th>ipinyou_id</th>\n",
       "      <th>user_agent</th>\n",
       "      <th>ip_address</th>\n",
       "      <th>region_id</th>\n",
       "      <th>city_id</th>\n",
       "      <th>ad_exchange</th>\n",
       "      <th>domain</th>\n",
       "      <th>url</th>\n",
       "      <th>anonymous_url_id</th>\n",
       "      <th>ad_slot_id</th>\n",
       "      <th>ad_slot_width</th>\n",
       "      <th>ad_slot_height</th>\n",
       "      <th>ad_slot_visibility</th>\n",
       "      <th>ad_slot</th>\n",
       "      <th>ad_slot_floor_price</th>\n",
       "      <th>creative_id</th>\n",
       "      <th>bidding_price</th>\n",
       "      <th>paying_price</th>\n",
       "      <th>key_page_url</th>\n",
       "      <th>advertiser_id</th>\n",
       "      <th>user_tags</th>\n",
       "    </tr>\n",
       "  </thead>\n",
       "  <tbody>\n",
       "    <tr>\n",
       "      <th>0</th>\n",
       "      <td>3</td>\n",
       "      <td>0</td>\n",
       "      <td>False</td>\n",
       "      <td>VhTVORqG36N6qMj</td>\n",
       "      <td>Mozilla/5.0 (Windows NT 5.1) AppleWebKit/537.1...</td>\n",
       "      <td>114.100.37.*</td>\n",
       "      <td>106</td>\n",
       "      <td>117</td>\n",
       "      <td>1</td>\n",
       "      <td>lsxSl559Xql7FmMs</td>\n",
       "      <td>8c9742e63497713b97ac7e780a8f9a12</td>\n",
       "      <td>NaN</td>\n",
       "      <td>mm_30232185_2681382_11190685</td>\n",
       "      <td>950</td>\n",
       "      <td>90</td>\n",
       "      <td>0</td>\n",
       "      <td>1</td>\n",
       "      <td>0</td>\n",
       "      <td>23d6dade7ed21cea308205b37594003e</td>\n",
       "      <td>227</td>\n",
       "      <td>207</td>\n",
       "      <td>b2e35064f3549d447edbbdfb1f707c8c</td>\n",
       "      <td>3427</td>\n",
       "      <td>10063,10684,10083,13403,10059,10024,10048,1005...</td>\n",
       "    </tr>\n",
       "    <tr>\n",
       "      <th>1</th>\n",
       "      <td>3</td>\n",
       "      <td>0</td>\n",
       "      <td>False</td>\n",
       "      <td>Vhkr1uaROqKsXmb</td>\n",
       "      <td>Mozilla/4.0 (compatible; MSIE 7.0; Windows NT ...</td>\n",
       "      <td>222.220.35.*</td>\n",
       "      <td>308</td>\n",
       "      <td>320</td>\n",
       "      <td>2</td>\n",
       "      <td>eSMvBpa0jqmUagk4JKTI</td>\n",
       "      <td>15b56f50bbaa689c91ccaf5ed7c97b48</td>\n",
       "      <td>NaN</td>\n",
       "      <td>3521017083</td>\n",
       "      <td>336</td>\n",
       "      <td>280</td>\n",
       "      <td>2</td>\n",
       "      <td>0</td>\n",
       "      <td>5</td>\n",
       "      <td>13606a7c541dcd9ca1948875a760bb31</td>\n",
       "      <td>238</td>\n",
       "      <td>72</td>\n",
       "      <td>d29e59bf0f7f8243858b8183f14d4412</td>\n",
       "      <td>3358</td>\n",
       "      <td>13800,10024</td>\n",
       "    </tr>\n",
       "    <tr>\n",
       "      <th>2</th>\n",
       "      <td>3</td>\n",
       "      <td>0</td>\n",
       "      <td>False</td>\n",
       "      <td>VhL01pk8OTkW3Mc</td>\n",
       "      <td>Mozilla/5.0 (Windows NT 5.1) AppleWebKit/537.1...</td>\n",
       "      <td>58.100.240.*</td>\n",
       "      <td>94</td>\n",
       "      <td>95</td>\n",
       "      <td>1</td>\n",
       "      <td>tK1NTu1YP5scFsf</td>\n",
       "      <td>e22930480589abcc1468854cb3403314</td>\n",
       "      <td>NaN</td>\n",
       "      <td>mm_10075660_3500949_11453278</td>\n",
       "      <td>950</td>\n",
       "      <td>90</td>\n",
       "      <td>0</td>\n",
       "      <td>1</td>\n",
       "      <td>0</td>\n",
       "      <td>d5cecca9a6cbd7a0a48110f1306b26d1</td>\n",
       "      <td>227</td>\n",
       "      <td>108</td>\n",
       "      <td>d29e59bf0f7f8243858b8183f14d4412</td>\n",
       "      <td>3358</td>\n",
       "      <td>10059,13866,10063,10111</td>\n",
       "    </tr>\n",
       "    <tr>\n",
       "      <th>3</th>\n",
       "      <td>3</td>\n",
       "      <td>0</td>\n",
       "      <td>False</td>\n",
       "      <td>VhT3La5uDlaywOj</td>\n",
       "      <td>Mozilla/5.0 (Windows NT 5.1) AppleWebKit/537.1...</td>\n",
       "      <td>122.233.40.*</td>\n",
       "      <td>94</td>\n",
       "      <td>95</td>\n",
       "      <td>1</td>\n",
       "      <td>trqRTummPvas1m58uG</td>\n",
       "      <td>762a1aa930e6f41c969e77226c62f3a7</td>\n",
       "      <td>NaN</td>\n",
       "      <td>mm_10058411_2865562_9929053</td>\n",
       "      <td>300</td>\n",
       "      <td>250</td>\n",
       "      <td>2</td>\n",
       "      <td>1</td>\n",
       "      <td>0</td>\n",
       "      <td>44966cc8da1ed40c95d59e863c8c75f0</td>\n",
       "      <td>300</td>\n",
       "      <td>81</td>\n",
       "      <td>361e128affece850342293213691a043</td>\n",
       "      <td>3386</td>\n",
       "      <td>10057,10063,10024,13800,13866,10110</td>\n",
       "    </tr>\n",
       "    <tr>\n",
       "      <th>4</th>\n",
       "      <td>3</td>\n",
       "      <td>0</td>\n",
       "      <td>False</td>\n",
       "      <td>VhkSPnNDP8L8eYl</td>\n",
       "      <td>Opera/9.80 (Android; Opera Mini/7.7.33548/29.3...</td>\n",
       "      <td>58.67.157.*</td>\n",
       "      <td>216</td>\n",
       "      <td>217</td>\n",
       "      <td>1</td>\n",
       "      <td>trqRTuS8jZL7FmMs</td>\n",
       "      <td>1eb132233cd79996f8abdd03e2de6699</td>\n",
       "      <td>NaN</td>\n",
       "      <td>mm_40468498_3493773_11415894</td>\n",
       "      <td>300</td>\n",
       "      <td>250</td>\n",
       "      <td>0</td>\n",
       "      <td>5</td>\n",
       "      <td>0</td>\n",
       "      <td>d881a6c788e76c2c27ed1ef04f119544</td>\n",
       "      <td>227</td>\n",
       "      <td>89</td>\n",
       "      <td>d29e59bf0f7f8243858b8183f14d4412</td>\n",
       "      <td>3358</td>\n",
       "      <td>13866,10111</td>\n",
       "    </tr>\n",
       "  </tbody>\n",
       "</table>\n",
       "</div>"
      ],
      "text/plain": [
       "   day  hour  ...  advertiser_id                                          user_tags\n",
       "0    3     0  ...           3427  10063,10684,10083,13403,10059,10024,10048,1005...\n",
       "1    3     0  ...           3358                                        13800,10024\n",
       "2    3     0  ...           3358                            10059,13866,10063,10111\n",
       "3    3     0  ...           3386                10057,10063,10024,13800,13866,10110\n",
       "4    3     0  ...           3358                                        13866,10111\n",
       "\n",
       "[5 rows x 24 columns]"
      ]
     },
     "execution_count": 103,
     "metadata": {},
     "output_type": "execute_result"
    }
   ],
   "source": [
    "toy_imp=get_date(toy_imp)\n",
    "toy_imp.head()"
   ]
  },
  {
   "cell_type": "markdown",
   "metadata": {
    "id": "A_XDAsZWoFlT"
   },
   "source": [
    "***\n",
    "### Step 2: Dropping the unwated columns.\n",
    "\n",
    "As we are in the buisness of finding patterns in data, any column which is unique for user can be safely removed. Based on this and other factors, columns to be dropped are,\n",
    "***\n",
    "Column Name | Reason to be dropped\n",
    " ---|---\n",
    "ipinyou_id & user_id & ad_slot_id | It's an internal user id and can be safely ignored as it is unque for every user and hence cannot be used for classification.\n",
    "anonymous_url_id & creative_id| Higly specialised for user and ad. Also, effects are set in place only after click.\n",
    "ip_adress | Can be used for location but would result in large number of categories as it is unique for every user.\n",
    "city_id | As it is all collected from china alone, using this data doesn't make sense for a generalized model. Also, this information is encoded in region_id.\n",
    "domain & URL | Both of this are hashed values corresponding to the hosting webpage of the ad slot. Is useless for the task where only the clicks matter. Whatever effect this has will all be after the user clicks the link.\n",
    "\n",
    "\n",
    "\n"
   ]
  },
  {
   "cell_type": "code",
   "execution_count": null,
   "metadata": {
    "id": "Af_dnNdAvPWt"
   },
   "outputs": [],
   "source": [
    "cols_to_be_dropped=['ipinyou_id','ip_address','city_id','domain','url',\n",
    "                    'anonymous_url_id','ad_slot_id','creative_id','key_page_url','user_tags']\n",
    "\n",
    "toy_imp.drop(columns=cols_to_be_dropped,inplace=True)"
   ]
  },
  {
   "cell_type": "code",
   "execution_count": null,
   "metadata": {
    "colab": {
     "base_uri": "https://localhost:8080/"
    },
    "id": "_hz-NdgryNUt",
    "outputId": "21a7eb04-8dfe-4da9-fe10-54b01cdad424"
   },
   "outputs": [
    {
     "name": "stdout",
     "output_type": "stream",
     "text": [
      "<class 'pandas.core.frame.DataFrame'>\n",
      "Int64Index: 100000 entries, 0 to 99999\n",
      "Data columns (total 14 columns):\n",
      " #   Column               Non-Null Count   Dtype \n",
      "---  ------               --------------   ----- \n",
      " 0   day                  100000 non-null  int64 \n",
      " 1   hour                 100000 non-null  int64 \n",
      " 2   click                100000 non-null  bool  \n",
      " 3   user_agent           99960 non-null   object\n",
      " 4   region_id            100000 non-null  int64 \n",
      " 5   ad_exchange          100000 non-null  int64 \n",
      " 6   ad_slot_width        100000 non-null  int64 \n",
      " 7   ad_slot_height       100000 non-null  int64 \n",
      " 8   ad_slot_visibility   100000 non-null  int64 \n",
      " 9   ad_slot              100000 non-null  int64 \n",
      " 10  ad_slot_floor_price  100000 non-null  int64 \n",
      " 11  bidding_price        100000 non-null  int64 \n",
      " 12  paying_price         100000 non-null  int64 \n",
      " 13  advertiser_id        100000 non-null  int64 \n",
      "dtypes: bool(1), int64(12), object(1)\n",
      "memory usage: 10.8+ MB\n"
     ]
    }
   ],
   "source": [
    "toy_imp.info()"
   ]
  },
  {
   "cell_type": "markdown",
   "metadata": {
    "id": "b4yGQvIWhC1A"
   },
   "source": [
    "***\n",
    "### Step 3: Determining what kind of operating system and browser the user is using.\n",
    "\n",
    "* This is a categorical data"
   ]
  },
  {
   "cell_type": "code",
   "execution_count": null,
   "metadata": {
    "id": "Z_G8L1l5zubo"
   },
   "outputs": [],
   "source": [
    "class user_agent(object):\n",
    "    def __init__(self,df):\n",
    "        self.df = df\n",
    "        self.df.rename(columns={'user_agent':'browser'},inplace=True)\n",
    "        self.df['browser'] = df['browser'].astype(str)\n",
    "        self.cols = None\n",
    "\n",
    "    def map_browser(self,agent):\n",
    "        browsers = ['edge', 'trident', 'chrome', 'firefox', 'safari', 'opera']\n",
    "        for browser in browsers:\n",
    "            if browser in agent.lower():\n",
    "                return 'ie' if browser == 'trident' else browser\n",
    "        return 'other'\n",
    "    \n",
    "    def map_os(self,agent):\n",
    "        os_list = ['windows', 'linux', 'mac os x']\n",
    "        for os in os_list:\n",
    "            if os in agent.lower():\n",
    "                return os\n",
    "        return 'other'\n",
    "    \n",
    "    def reorder_cols(self,target_index):\n",
    "        cols = [col for col in self.df]\n",
    "        cols[target_index],cols[-1] = cols[-1],cols[target_index]\n",
    "        self.df = self.df[cols]\n",
    "        return self.df\n",
    "\n",
    "\n",
    "    def create_cols(self):\n",
    "        self.df['os'] = self.df['browser'].map(lambda x: self.map_os(x), na_action=None)\n",
    "        self.df['os'] = self.df['os'].astype('category')\n",
    "        self.df['browser'] = self.df['browser'].map(lambda x: self.map_browser(x), na_action=None)\n",
    "        self.df['browser'] = self.df['browser'].astype('category')\n",
    "        self.df = self.reorder_cols(4)\n",
    "        return self.df\n",
    "\n"
   ]
  },
  {
   "cell_type": "code",
   "execution_count": null,
   "metadata": {
    "id": "pNcrj4ar2V4V"
   },
   "outputs": [],
   "source": [
    "c= user_agent(toy_imp)\n",
    "toy_imp = c.create_cols()"
   ]
  },
  {
   "cell_type": "code",
   "execution_count": null,
   "metadata": {
    "colab": {
     "base_uri": "https://localhost:8080/",
     "height": 163
    },
    "id": "enulgHY--MOw",
    "outputId": "31c55a77-2b1b-4301-d283-6b2bde75eb2a"
   },
   "outputs": [
    {
     "data": {
      "text/html": [
       "<div>\n",
       "<style scoped>\n",
       "    .dataframe tbody tr th:only-of-type {\n",
       "        vertical-align: middle;\n",
       "    }\n",
       "\n",
       "    .dataframe tbody tr th {\n",
       "        vertical-align: top;\n",
       "    }\n",
       "\n",
       "    .dataframe thead th {\n",
       "        text-align: right;\n",
       "    }\n",
       "</style>\n",
       "<table border=\"1\" class=\"dataframe\">\n",
       "  <thead>\n",
       "    <tr style=\"text-align: right;\">\n",
       "      <th></th>\n",
       "      <th>day</th>\n",
       "      <th>hour</th>\n",
       "      <th>click</th>\n",
       "      <th>browser</th>\n",
       "      <th>os</th>\n",
       "      <th>ad_exchange</th>\n",
       "      <th>ad_slot_width</th>\n",
       "      <th>ad_slot_height</th>\n",
       "      <th>ad_slot_visibility</th>\n",
       "      <th>ad_slot</th>\n",
       "      <th>ad_slot_floor_price</th>\n",
       "      <th>bidding_price</th>\n",
       "      <th>paying_price</th>\n",
       "      <th>advertiser_id</th>\n",
       "      <th>region_id</th>\n",
       "    </tr>\n",
       "  </thead>\n",
       "  <tbody>\n",
       "    <tr>\n",
       "      <th>99997</th>\n",
       "      <td>3</td>\n",
       "      <td>1</td>\n",
       "      <td>False</td>\n",
       "      <td>chrome</td>\n",
       "      <td>windows</td>\n",
       "      <td>2</td>\n",
       "      <td>300</td>\n",
       "      <td>250</td>\n",
       "      <td>1</td>\n",
       "      <td>0</td>\n",
       "      <td>5</td>\n",
       "      <td>249</td>\n",
       "      <td>120</td>\n",
       "      <td>3476</td>\n",
       "      <td>124</td>\n",
       "    </tr>\n",
       "    <tr>\n",
       "      <th>99998</th>\n",
       "      <td>3</td>\n",
       "      <td>1</td>\n",
       "      <td>False</td>\n",
       "      <td>ie</td>\n",
       "      <td>windows</td>\n",
       "      <td>2</td>\n",
       "      <td>336</td>\n",
       "      <td>280</td>\n",
       "      <td>2</td>\n",
       "      <td>0</td>\n",
       "      <td>4</td>\n",
       "      <td>249</td>\n",
       "      <td>42</td>\n",
       "      <td>3476</td>\n",
       "      <td>124</td>\n",
       "    </tr>\n",
       "    <tr>\n",
       "      <th>99999</th>\n",
       "      <td>3</td>\n",
       "      <td>1</td>\n",
       "      <td>False</td>\n",
       "      <td>ie</td>\n",
       "      <td>windows</td>\n",
       "      <td>3</td>\n",
       "      <td>728</td>\n",
       "      <td>90</td>\n",
       "      <td>0</td>\n",
       "      <td>0</td>\n",
       "      <td>20</td>\n",
       "      <td>300</td>\n",
       "      <td>20</td>\n",
       "      <td>3386</td>\n",
       "      <td>216</td>\n",
       "    </tr>\n",
       "  </tbody>\n",
       "</table>\n",
       "</div>"
      ],
      "text/plain": [
       "       day  hour  click  ... paying_price advertiser_id  region_id\n",
       "99997    3     1  False  ...          120          3476        124\n",
       "99998    3     1  False  ...           42          3476        124\n",
       "99999    3     1  False  ...           20          3386        216\n",
       "\n",
       "[3 rows x 15 columns]"
      ]
     },
     "execution_count": 108,
     "metadata": {},
     "output_type": "execute_result"
    }
   ],
   "source": [
    "toy_imp.tail(3)"
   ]
  },
  {
   "cell_type": "code",
   "execution_count": null,
   "metadata": {
    "id": "nfTzi3mf3-mQ"
   },
   "outputs": [],
   "source": [
    "toy_imp['region_id'].value_counts()"
   ]
  },
  {
   "cell_type": "code",
   "execution_count": null,
   "metadata": {
    "id": "ZvF6rIfi7vw3"
   },
   "outputs": [],
   "source": [
    "df['browser'].value_counts()"
   ]
  },
  {
   "cell_type": "code",
   "execution_count": null,
   "metadata": {
    "colab": {
     "base_uri": "https://localhost:8080/"
    },
    "id": "fEuAFXdzOU4z",
    "outputId": "2887d2df-c765-42dd-da37-ddfa97e7d884"
   },
   "outputs": [
    {
     "name": "stdout",
     "output_type": "stream",
     "text": [
      "<class 'pandas.core.frame.DataFrame'>\n",
      "Int64Index: 100000 entries, 0 to 99999\n",
      "Data columns (total 15 columns):\n",
      " #   Column               Non-Null Count   Dtype   \n",
      "---  ------               --------------   -----   \n",
      " 0   day                  100000 non-null  int64   \n",
      " 1   hour                 100000 non-null  int64   \n",
      " 2   click                100000 non-null  bool    \n",
      " 3   browser              100000 non-null  category\n",
      " 4   os                   100000 non-null  category\n",
      " 5   ad_exchange          100000 non-null  int64   \n",
      " 6   ad_slot_width        100000 non-null  int64   \n",
      " 7   ad_slot_height       100000 non-null  int64   \n",
      " 8   ad_slot_visibility   100000 non-null  int64   \n",
      " 9   ad_slot              100000 non-null  int64   \n",
      " 10  ad_slot_floor_price  100000 non-null  int64   \n",
      " 11  bidding_price        100000 non-null  int64   \n",
      " 12  paying_price         100000 non-null  int64   \n",
      " 13  advertiser_id        100000 non-null  int64   \n",
      " 14  region_id            100000 non-null  int64   \n",
      "dtypes: bool(1), category(2), int64(12)\n",
      "memory usage: 10.2 MB\n"
     ]
    }
   ],
   "source": [
    "toy_imp.info()"
   ]
  },
  {
   "cell_type": "code",
   "execution_count": null,
   "metadata": {
    "colab": {
     "base_uri": "https://localhost:8080/"
    },
    "id": "UamheygSOhst",
    "outputId": "4c3ba438-f88d-49e7-e00d-737abfa0ee5c"
   },
   "outputs": [
    {
     "data": {
      "text/plain": [
       "Index(['click', 'day', 'hour', 'browser', 'os', 'ad_exchange', 'ad_slot_width',\n",
       "       'ad_slot_height', 'ad_slot_visibility', 'ad_slot',\n",
       "       'ad_slot_floor_price', 'bidding_price', 'paying_price', 'advertiser_id',\n",
       "       'region_id'],\n",
       "      dtype='object')"
      ]
     },
     "execution_count": 77,
     "metadata": {},
     "output_type": "execute_result"
    }
   ],
   "source": [
    "toy_imp.columns"
   ]
  },
  {
   "cell_type": "markdown",
   "metadata": {
    "id": "XS2RGUaj-CRn"
   },
   "source": [
    "***\n",
    "### Step 4: Conversion to Numeric Features.\n",
    "\n",
    "* bidding_price is the price bid from the ipinyou for the bid request and paying_price is the actual price paid.\n",
    "* This won't need any modification as we are only using impression logs.\n",
    "* Along with this two columns, the list of columns that needs to used as integer are,"
   ]
  },
  {
   "cell_type": "code",
   "execution_count": null,
   "metadata": {
    "id": "dZ1i5vnWORer"
   },
   "outputs": [],
   "source": [
    "int_cols=['ad_slot_width','ad_slot_height','ad_slot_floor_price', 'bidding_price', 'paying_price']\n",
    "\n",
    "def numerise_features(df,int_cols=['ad_slot_width','ad_slot_height','ad_slot_floor_price', 'bidding_price', 'paying_price']):\n",
    "    for feature in int_cols:\n",
    "        df[feature] = df[feature].astype('int32')\n",
    "    return df"
   ]
  },
  {
   "cell_type": "code",
   "execution_count": null,
   "metadata": {
    "id": "NgPW8jTLPL6r"
   },
   "outputs": [],
   "source": [
    "toy_imp=numerise_features(toy_imp)\n"
   ]
  },
  {
   "cell_type": "code",
   "execution_count": null,
   "metadata": {
    "colab": {
     "base_uri": "https://localhost:8080/"
    },
    "id": "KWVZqu9nPTby",
    "outputId": "0a2a6754-6bb7-48c3-ae77-0e6ec83d8e99"
   },
   "outputs": [
    {
     "name": "stdout",
     "output_type": "stream",
     "text": [
      "<class 'pandas.core.frame.DataFrame'>\n",
      "Int64Index: 100000 entries, 0 to 99999\n",
      "Data columns (total 15 columns):\n",
      " #   Column               Non-Null Count   Dtype   \n",
      "---  ------               --------------   -----   \n",
      " 0   click                100000 non-null  bool    \n",
      " 1   day                  100000 non-null  int64   \n",
      " 2   hour                 100000 non-null  int64   \n",
      " 3   browser              100000 non-null  category\n",
      " 4   os                   100000 non-null  category\n",
      " 5   ad_exchange          100000 non-null  int64   \n",
      " 6   ad_slot_width        100000 non-null  int32   \n",
      " 7   ad_slot_height       100000 non-null  int32   \n",
      " 8   ad_slot_visibility   100000 non-null  int64   \n",
      " 9   ad_slot              100000 non-null  int64   \n",
      " 10  ad_slot_floor_price  100000 non-null  int32   \n",
      " 11  bidding_price        100000 non-null  int32   \n",
      " 12  paying_price         100000 non-null  int32   \n",
      " 13  advertiser_id        100000 non-null  int64   \n",
      " 14  region_id            100000 non-null  int64   \n",
      "dtypes: bool(1), category(2), int32(5), int64(7)\n",
      "memory usage: 8.3 MB\n"
     ]
    }
   ],
   "source": [
    "toy_imp.info()"
   ]
  },
  {
   "cell_type": "code",
   "execution_count": null,
   "metadata": {
    "colab": {
     "base_uri": "https://localhost:8080/"
    },
    "id": "Huw6Xgp48BYg",
    "outputId": "1d783f02-9462-4399-c190-7ae4f2e2c071"
   },
   "outputs": [
    {
     "data": {
      "text/plain": [
       "20     7066\n",
       "80     3160\n",
       "22     2871\n",
       "50     2443\n",
       "21     2263\n",
       "       ... \n",
       "285       4\n",
       "269       4\n",
       "297       3\n",
       "273       3\n",
       "298       1\n",
       "Name: paying_price, Length: 301, dtype: int64"
      ]
     },
     "execution_count": 161,
     "metadata": {},
     "output_type": "execute_result"
    }
   ],
   "source": [
    "df['paying_price'].value_counts()"
   ]
  },
  {
   "cell_type": "code",
   "execution_count": null,
   "metadata": {
    "colab": {
     "base_uri": "https://localhost:8080/"
    },
    "id": "niztJRf3BauU",
    "outputId": "f99cb8b4-1c62-45b8-af70-d75d24f4e5b0"
   },
   "outputs": [
    {
     "data": {
      "text/plain": [
       "300    44762\n",
       "238    21099\n",
       "227    17609\n",
       "241     6715\n",
       "254     5071\n",
       "249     4744\n",
       "Name: bidding_price, dtype: int64"
      ]
     },
     "execution_count": 162,
     "metadata": {},
     "output_type": "execute_result"
    }
   ],
   "source": [
    "df['bidding_price'].value_counts()"
   ]
  },
  {
   "cell_type": "code",
   "execution_count": null,
   "metadata": {
    "colab": {
     "base_uri": "https://localhost:8080/"
    },
    "id": "9cohPcqMBtLL",
    "outputId": "2491016c-fc50-4399-df63-c426333cdb6e"
   },
   "outputs": [
    {
     "data": {
      "text/plain": [
       "Index(['click', 'day', 'hour', 'browser', 'os', 'ad_exchange', 'ad_slot_width',\n",
       "       'ad_slot_height', 'ad_slot_visibility', 'ad_slot',\n",
       "       'ad_slot_floor_price', 'bidding_price', 'paying_price', 'advertiser_id',\n",
       "       'region_id'],\n",
       "      dtype='object')"
      ]
     },
     "execution_count": 85,
     "metadata": {},
     "output_type": "execute_result"
    }
   ],
   "source": [
    "toy_imp.columns"
   ]
  },
  {
   "cell_type": "markdown",
   "metadata": {
    "id": "YZbPUX2HDf3I"
   },
   "source": [
    "\n",
    "### Step 5: Conversion to Category features.\n",
    "\n",
    "The features that will be categorized are,\n",
    "\n",
    "Feature to be categorized | Reason\n",
    "---|---\n",
    "day | Can only be one of the seven days of a week.\n",
    "time | Can only be one of 24 hours in a day.\n",
    "ad_slot_visibility | Describes the times after which the ad was displayed before it was clicked.\n",
    "ad_slot | Describes the format in which the ad was displayed, whether it was an pop-up window, background etc...\n",
    "ad_exchange | This corresponds to the DSP the bid was placed from and hence can only will take categorical values.\n",
    "advertiser_id | There are only a few advertisers.\n",
    "region_id | Can only be a set of localites.\n"
   ]
  },
  {
   "cell_type": "code",
   "execution_count": null,
   "metadata": {
    "id": "qo-6UGr2GAio"
   },
   "outputs": [],
   "source": [
    "category_features = ['day', 'hour','ad_slot_visibility','ad_slot','ad_exchange']\n",
    "\n",
    "\n",
    "def categorize_features(df,category_features = ['day','hour','ad_slot_visibility','ad_slot','advertiser_id','ad_exchange','region_id']):\n",
    "    for feature in category_features:\n",
    "        df[feature]=df[feature].astype('category')\n",
    "    return df\n"
   ]
  },
  {
   "cell_type": "code",
   "execution_count": null,
   "metadata": {
    "colab": {
     "base_uri": "https://localhost:8080/"
    },
    "id": "e0gf9SV5ESkW",
    "outputId": "8719cea6-90a4-4f21-809b-f0575d249333"
   },
   "outputs": [
    {
     "name": "stdout",
     "output_type": "stream",
     "text": [
      "<class 'pandas.core.frame.DataFrame'>\n",
      "Int64Index: 100000 entries, 0 to 99999\n",
      "Data columns (total 15 columns):\n",
      " #   Column               Non-Null Count   Dtype   \n",
      "---  ------               --------------   -----   \n",
      " 0   click                100000 non-null  bool    \n",
      " 1   day                  100000 non-null  category\n",
      " 2   hour                 100000 non-null  category\n",
      " 3   browser              100000 non-null  category\n",
      " 4   os                   100000 non-null  category\n",
      " 5   ad_exchange          100000 non-null  category\n",
      " 6   ad_slot_width        100000 non-null  int32   \n",
      " 7   ad_slot_height       100000 non-null  int32   \n",
      " 8   ad_slot_visibility   100000 non-null  category\n",
      " 9   ad_slot              100000 non-null  category\n",
      " 10  ad_slot_floor_price  100000 non-null  int32   \n",
      " 11  bidding_price        100000 non-null  int32   \n",
      " 12  paying_price         100000 non-null  int32   \n",
      " 13  advertiser_id        100000 non-null  category\n",
      " 14  region_id            100000 non-null  category\n",
      "dtypes: bool(1), category(9), int32(5)\n",
      "memory usage: 3.6 MB\n"
     ]
    }
   ],
   "source": [
    "toy_imp = categorize_features(toy_imp)\n",
    "toy_imp.info()"
   ]
  },
  {
   "cell_type": "markdown",
   "metadata": {
    "id": "8mzxH_arKEVL"
   },
   "source": [
    "***\n",
    "***"
   ]
  },
  {
   "cell_type": "markdown",
   "metadata": {
    "id": "uetNuIAtKygo"
   },
   "source": [
    "## Preprocessing the whole imp_logs\n",
    "\n",
    "* Here we will apply steps 0-5 to the whole 'imp_logs.csv' and consequntly create the train dataset."
   ]
  },
  {
   "cell_type": "code",
   "execution_count": null,
   "metadata": {
    "id": "zYGm3_LMyzQ0"
   },
   "outputs": [],
   "source": [
    "#Creating an iterator for imp_logs.\n",
    "imp_iter = pd.read_csv(path_imp,chunksize=100000)"
   ]
  },
  {
   "cell_type": "code",
   "execution_count": null,
   "metadata": {
    "id": "uzvmG-OpQ7se"
   },
   "outputs": [],
   "source": [
    "p = 'TRAIN/imp_chunks/'\n",
    "def get_data(path_clk,path_imp,mode='Train'):\n",
    "    cols_to_be_dropped=['ipinyou_id','ip_address','city_id','domain','url',\n",
    "                    'anonymous_url_id','ad_slot_id','creative_id','key_page_url','user_tags']\n",
    "    clk_df=pd.read_csv(path_clk)\n",
    "    chunks =pd.read_csv(path_imp, chunksize=100000)\n",
    "    df=pd.DataFrame()\n",
    "    print('Begin preprocessing...')\n",
    "    for chunk in tqdm(chunks):\n",
    "        #Step 0\n",
    "        chunk=create_click_col(chunk,clk_df)    \n",
    "        #Step 1\n",
    "        chunk=get_date(chunk)\n",
    "        #Step 2\n",
    "        chunk.drop(columns=cols_to_be_dropped,axis=1,inplace=True)\n",
    "        #Step 3\n",
    "        col_creator= user_agent(chunk)\n",
    "        chunk = col_creator.create_cols()\n",
    "        #Step 4\n",
    "        chunk=numerise_features(chunk)\n",
    "        #Step 5\n",
    "        chunk=categorize_features(chunk)\n",
    "        if mode=='Test':\n",
    "            chunk.drop(columns=['click'],axis=1,inplace=True)\n",
    "        #Concatenation.\n",
    "        df = pd.concat([df,chunk],ignore_index=True)\n",
    "    print('Ufff! Finally, I am done.')\n",
    "    return df"
   ]
  },
  {
   "cell_type": "code",
   "execution_count": null,
   "metadata": {
    "colab": {
     "base_uri": "https://localhost:8080/"
    },
    "id": "_RsKHpl6S1uh",
    "outputId": "31eaf782-8095-481a-e838-37db3156ca6e"
   },
   "outputs": [
    {
     "name": "stdout",
     "output_type": "stream",
     "text": [
      "Begin preprocessing...\n"
     ]
    },
    {
     "name": "stderr",
     "output_type": "stream",
     "text": [
      "14it [00:34,  2.52s/it]/usr/local/lib/python3.7/dist-packages/pandas/core/frame.py:4174: SettingWithCopyWarning: \n",
      "A value is trying to be set on a copy of a slice from a DataFrame\n",
      "\n",
      "See the caveats in the documentation: https://pandas.pydata.org/pandas-docs/stable/user_guide/indexing.html#returning-a-view-versus-a-copy\n",
      "  errors=errors,\n",
      "/usr/local/lib/python3.7/dist-packages/pandas/core/frame.py:4308: SettingWithCopyWarning: \n",
      "A value is trying to be set on a copy of a slice from a DataFrame\n",
      "\n",
      "See the caveats in the documentation: https://pandas.pydata.org/pandas-docs/stable/user_guide/indexing.html#returning-a-view-versus-a-copy\n",
      "  errors=errors,\n",
      "26it [01:03,  2.42s/it]"
     ]
    },
    {
     "name": "stdout",
     "output_type": "stream",
     "text": [
      "Ufff! Finally, I am done.\n"
     ]
    },
    {
     "name": "stderr",
     "output_type": "stream",
     "text": [
      "\n"
     ]
    }
   ],
   "source": [
    "test_df = get_data(path_clk=path_clk,path_imp='TEST/tst_logs.csv',mode='Test')"
   ]
  },
  {
   "cell_type": "code",
   "execution_count": null,
   "metadata": {
    "colab": {
     "base_uri": "https://localhost:8080/",
     "height": 226
    },
    "id": "qCbXx9t3UlgS",
    "outputId": "be631fd7-c576-4a02-df33-ba2ea4ec41c4"
   },
   "outputs": [
    {
     "data": {
      "text/html": [
       "<div>\n",
       "<style scoped>\n",
       "    .dataframe tbody tr th:only-of-type {\n",
       "        vertical-align: middle;\n",
       "    }\n",
       "\n",
       "    .dataframe tbody tr th {\n",
       "        vertical-align: top;\n",
       "    }\n",
       "\n",
       "    .dataframe thead th {\n",
       "        text-align: right;\n",
       "    }\n",
       "</style>\n",
       "<table border=\"1\" class=\"dataframe\">\n",
       "  <thead>\n",
       "    <tr style=\"text-align: right;\">\n",
       "      <th></th>\n",
       "      <th>day</th>\n",
       "      <th>hour</th>\n",
       "      <th>browser</th>\n",
       "      <th>os</th>\n",
       "      <th>ad_exchange</th>\n",
       "      <th>ad_slot_width</th>\n",
       "      <th>ad_slot_height</th>\n",
       "      <th>ad_slot_visibility</th>\n",
       "      <th>ad_slot</th>\n",
       "      <th>ad_slot_floor_price</th>\n",
       "      <th>bidding_price</th>\n",
       "      <th>paying_price</th>\n",
       "      <th>advertiser_id</th>\n",
       "      <th>region_id</th>\n",
       "    </tr>\n",
       "  </thead>\n",
       "  <tbody>\n",
       "    <tr>\n",
       "      <th>0</th>\n",
       "      <td>3</td>\n",
       "      <td>0</td>\n",
       "      <td>chrome</td>\n",
       "      <td>windows</td>\n",
       "      <td>1</td>\n",
       "      <td>950</td>\n",
       "      <td>90</td>\n",
       "      <td>0</td>\n",
       "      <td>1</td>\n",
       "      <td>0</td>\n",
       "      <td>227</td>\n",
       "      <td>29</td>\n",
       "      <td>3358</td>\n",
       "      <td>94</td>\n",
       "    </tr>\n",
       "    <tr>\n",
       "      <th>1</th>\n",
       "      <td>3</td>\n",
       "      <td>0</td>\n",
       "      <td>chrome</td>\n",
       "      <td>windows</td>\n",
       "      <td>1</td>\n",
       "      <td>950</td>\n",
       "      <td>90</td>\n",
       "      <td>0</td>\n",
       "      <td>1</td>\n",
       "      <td>0</td>\n",
       "      <td>227</td>\n",
       "      <td>20</td>\n",
       "      <td>3427</td>\n",
       "      <td>146</td>\n",
       "    </tr>\n",
       "    <tr>\n",
       "      <th>2</th>\n",
       "      <td>3</td>\n",
       "      <td>0</td>\n",
       "      <td>ie</td>\n",
       "      <td>windows</td>\n",
       "      <td>2</td>\n",
       "      <td>728</td>\n",
       "      <td>90</td>\n",
       "      <td>2</td>\n",
       "      <td>0</td>\n",
       "      <td>5</td>\n",
       "      <td>238</td>\n",
       "      <td>63</td>\n",
       "      <td>3427</td>\n",
       "      <td>79</td>\n",
       "    </tr>\n",
       "    <tr>\n",
       "      <th>3</th>\n",
       "      <td>3</td>\n",
       "      <td>0</td>\n",
       "      <td>chrome</td>\n",
       "      <td>windows</td>\n",
       "      <td>1</td>\n",
       "      <td>300</td>\n",
       "      <td>250</td>\n",
       "      <td>0</td>\n",
       "      <td>5</td>\n",
       "      <td>0</td>\n",
       "      <td>300</td>\n",
       "      <td>293</td>\n",
       "      <td>3386</td>\n",
       "      <td>40</td>\n",
       "    </tr>\n",
       "    <tr>\n",
       "      <th>4</th>\n",
       "      <td>3</td>\n",
       "      <td>0</td>\n",
       "      <td>chrome</td>\n",
       "      <td>windows</td>\n",
       "      <td>1</td>\n",
       "      <td>300</td>\n",
       "      <td>250</td>\n",
       "      <td>2</td>\n",
       "      <td>1</td>\n",
       "      <td>0</td>\n",
       "      <td>227</td>\n",
       "      <td>120</td>\n",
       "      <td>3358</td>\n",
       "      <td>183</td>\n",
       "    </tr>\n",
       "  </tbody>\n",
       "</table>\n",
       "</div>"
      ],
      "text/plain": [
       "   day  hour browser  ... paying_price advertiser_id  region_id\n",
       "0    3     0  chrome  ...           29          3358         94\n",
       "1    3     0  chrome  ...           20          3427        146\n",
       "2    3     0      ie  ...           63          3427         79\n",
       "3    3     0  chrome  ...          293          3386         40\n",
       "4    3     0  chrome  ...          120          3358        183\n",
       "\n",
       "[5 rows x 14 columns]"
      ]
     },
     "execution_count": 129,
     "metadata": {},
     "output_type": "execute_result"
    }
   ],
   "source": [
    "test_df.head()"
   ]
  },
  {
   "cell_type": "code",
   "execution_count": null,
   "metadata": {
    "colab": {
     "base_uri": "https://localhost:8080/"
    },
    "id": "h1G2KUcxLHmn",
    "outputId": "a6dfd5b3-b7ca-4a17-d176-c6aff0ce97d2"
   },
   "outputs": [
    {
     "name": "stdout",
     "output_type": "stream",
     "text": [
      "<class 'pandas.core.frame.DataFrame'>\n",
      "RangeIndex: 2521627 entries, 0 to 2521626\n",
      "Data columns (total 14 columns):\n",
      " #   Column               Dtype   \n",
      "---  ------               -----   \n",
      " 0   day                  int64   \n",
      " 1   hour                 int64   \n",
      " 2   browser              category\n",
      " 3   os                   category\n",
      " 4   ad_exchange          category\n",
      " 5   ad_slot_width        int32   \n",
      " 6   ad_slot_height       int32   \n",
      " 7   ad_slot_visibility   category\n",
      " 8   ad_slot              category\n",
      " 9   ad_slot_floor_price  int32   \n",
      " 10  bidding_price        int32   \n",
      " 11  paying_price         int32   \n",
      " 12  advertiser_id        int64   \n",
      " 13  region_id            category\n",
      "dtypes: category(6), int32(5), int64(3)\n",
      "memory usage: 120.2 MB\n"
     ]
    }
   ],
   "source": [
    "test_df.info()"
   ]
  },
  {
   "cell_type": "code",
   "execution_count": null,
   "metadata": {
    "colab": {
     "base_uri": "https://localhost:8080/"
    },
    "id": "phU8ExZWL0CK",
    "outputId": "c595a8c5-84a2-44f0-f516-1b0b6c1348b3"
   },
   "outputs": [
    {
     "data": {
      "text/plain": [
       "day                    0\n",
       "hour                   0\n",
       "click                  0\n",
       "browser                0\n",
       "os                     0\n",
       "ad_exchange            0\n",
       "ad_slot_width          0\n",
       "ad_slot_height         0\n",
       "ad_slot_visibility     0\n",
       "ad_slot                0\n",
       "ad_slot_floor_price    0\n",
       "bidding_price          0\n",
       "paying_price           0\n",
       "advertiser_id          0\n",
       "region_id              0\n",
       "dtype: int64"
      ]
     },
     "execution_count": 117,
     "metadata": {},
     "output_type": "execute_result"
    }
   ],
   "source": [
    "#Checking if there are some null values.\n",
    "train_df.isnull().sum()"
   ]
  },
  {
   "cell_type": "code",
   "execution_count": null,
   "metadata": {
    "id": "m2GMT8scUHNi"
   },
   "outputs": [],
   "source": [
    "#Writing the dataframe as a csv file for further usage.\n",
    "train_df.to_csv('TRAIN/train.csv')"
   ]
  },
  {
   "cell_type": "code",
   "execution_count": null,
   "metadata": {
    "id": "cJjMfwnDUvjO"
   },
   "outputs": [],
   "source": [
    "df = pd.read_csv('TRAIN/train.csv')"
   ]
  },
  {
   "cell_type": "code",
   "execution_count": null,
   "metadata": {
    "id": "BhE4xst9U9cG"
   },
   "outputs": [],
   "source": [
    "df['advertiser_id'] = df['advertiser_id'].astype('category')\n",
    "df.info()"
   ]
  },
  {
   "cell_type": "code",
   "execution_count": null,
   "metadata": {
    "id": "ZpPhg6enVEHi"
   },
   "outputs": [],
   "source": []
  }
 ],
 "metadata": {
  "colab": {
   "collapsed_sections": [],
   "name": "preprocessCSV",
   "provenance": []
  },
  "kernelspec": {
   "display_name": "Python 3",
   "language": "python",
   "name": "python3"
  },
  "language_info": {
   "codemirror_mode": {
    "name": "ipython",
    "version": 3
   },
   "file_extension": ".py",
   "mimetype": "text/x-python",
   "name": "python",
   "nbconvert_exporter": "python",
   "pygments_lexer": "ipython3",
   "version": "3.8.8"
  },
  "latex_envs": {
   "LaTeX_envs_menu_present": true,
   "autoclose": false,
   "autocomplete": true,
   "bibliofile": "biblio.bib",
   "cite_by": "apalike",
   "current_citInitial": 1,
   "eqLabelWithNumbers": true,
   "eqNumInitial": 1,
   "hotkeys": {
    "equation": "Ctrl-E",
    "itemize": "Ctrl-I"
   },
   "labels_anchors": false,
   "latex_user_defs": false,
   "report_style_numbering": false,
   "user_envs_cfg": false
  },
  "toc": {
   "base_numbering": 1,
   "nav_menu": {},
   "number_sections": true,
   "sideBar": true,
   "skip_h1_title": false,
   "title_cell": "Table of Contents",
   "title_sidebar": "Contents",
   "toc_cell": false,
   "toc_position": {},
   "toc_section_display": true,
   "toc_window_display": false
  },
  "varInspector": {
   "cols": {
    "lenName": 16,
    "lenType": 16,
    "lenVar": 40
   },
   "kernels_config": {
    "python": {
     "delete_cmd_postfix": "",
     "delete_cmd_prefix": "del ",
     "library": "var_list.py",
     "varRefreshCmd": "print(var_dic_list())"
    },
    "r": {
     "delete_cmd_postfix": ") ",
     "delete_cmd_prefix": "rm(",
     "library": "var_list.r",
     "varRefreshCmd": "cat(var_dic_list()) "
    }
   },
   "types_to_exclude": [
    "module",
    "function",
    "builtin_function_or_method",
    "instance",
    "_Feature"
   ],
   "window_display": false
  }
 },
 "nbformat": 4,
 "nbformat_minor": 1
}
