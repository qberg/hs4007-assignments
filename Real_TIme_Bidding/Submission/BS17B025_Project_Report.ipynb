{
 "cells": [
  {
   "cell_type": "markdown",
   "metadata": {
    "toc": true
   },
   "source": [
    "<h1>Table of Contents<span class=\"tocSkip\"></span></h1>\n",
    "<div class=\"toc\"><ul class=\"toc-item\"><li><span><a href=\"#Notebook-0:-Real-Time-Bidding\" data-toc-modified-id=\"Notebook-0:-Real-Time-Bidding-1\"><span class=\"toc-item-num\">1&nbsp;&nbsp;</span>Notebook 0: Real Time Bidding</a></span><ul class=\"toc-item\"><li><span><a href=\"#Underlying-Theory\" data-toc-modified-id=\"Underlying-Theory-1.1\"><span class=\"toc-item-num\">1.1&nbsp;&nbsp;</span>Underlying Theory</a></span><ul class=\"toc-item\"><li><span><a href=\"#Introduction\" data-toc-modified-id=\"Introduction-1.1.1\"><span class=\"toc-item-num\">1.1.1&nbsp;&nbsp;</span>Introduction</a></span></li><li><span><a href=\"#Components-Involved\" data-toc-modified-id=\"Components-Involved-1.1.2\"><span class=\"toc-item-num\">1.1.2&nbsp;&nbsp;</span>Components Involved</a></span><ul class=\"toc-item\"><li><span><a href=\"#Goal-of-RTB\" data-toc-modified-id=\"Goal-of-RTB-1.1.2.1\"><span class=\"toc-item-num\">1.1.2.1&nbsp;&nbsp;</span>Goal of RTB</a></span></li></ul></li><li><span><a href=\"#Towards-an-Auction-Framework\" data-toc-modified-id=\"Towards-an-Auction-Framework-1.1.3\"><span class=\"toc-item-num\">1.1.3&nbsp;&nbsp;</span>Towards an Auction Framework</a></span><ul class=\"toc-item\"><li><span><a href=\"#Second-Price-Auctions/Vickery-Auctions\" data-toc-modified-id=\"Second-Price-Auctions/Vickery-Auctions-1.1.3.1\"><span class=\"toc-item-num\">1.1.3.1&nbsp;&nbsp;</span>Second Price Auctions/Vickery Auctions</a></span></li><li><span><a href=\"#Formulation-of-RTB\" data-toc-modified-id=\"Formulation-of-RTB-1.1.3.2\"><span class=\"toc-item-num\">1.1.3.2&nbsp;&nbsp;</span>Formulation of RTB</a></span></li></ul></li></ul></li><li><span><a href=\"#Implementing-the-Model\" data-toc-modified-id=\"Implementing-the-Model-1.2\"><span class=\"toc-item-num\">1.2&nbsp;&nbsp;</span>Implementing the Model</a></span></li><li><span><a href=\"#Reference-Papers\" data-toc-modified-id=\"Reference-Papers-1.3\"><span class=\"toc-item-num\">1.3&nbsp;&nbsp;</span>Reference Papers</a></span></li></ul></li><li><span><a href=\"#Notebook-1:-Dataset-Prepartion\" data-toc-modified-id=\"Notebook-1:-Dataset-Prepartion-2\"><span class=\"toc-item-num\">2&nbsp;&nbsp;</span>Notebook 1: Dataset Prepartion</a></span><ul class=\"toc-item\"><li><span><a href=\"#Running-the-shell-script\" data-toc-modified-id=\"Running-the-shell-script-2.1\"><span class=\"toc-item-num\">2.1&nbsp;&nbsp;</span>Running the shell script</a></span></li><li><span><a href=\"#Creation-of-csv-files-and-dataframes\" data-toc-modified-id=\"Creation-of-csv-files-and-dataframes-2.2\"><span class=\"toc-item-num\">2.2&nbsp;&nbsp;</span>Creation of csv files and dataframes</a></span></li><li><span><a href=\"#Training-Dataset-Prep\" data-toc-modified-id=\"Training-Dataset-Prep-2.3\"><span class=\"toc-item-num\">2.3&nbsp;&nbsp;</span>Training Dataset Prep</a></span></li></ul></li><li><span><a href=\"#Notebook-2:-Preprocessing-the-CSV-file:\" data-toc-modified-id=\"Notebook-2:-Preprocessing-the-CSV-file:-3\"><span class=\"toc-item-num\">3&nbsp;&nbsp;</span>Notebook 2: Preprocessing the CSV file:</a></span><ul class=\"toc-item\"><li><span><a href=\"#Preprocessing-Steps-Illustrated\" data-toc-modified-id=\"Preprocessing-Steps-Illustrated-3.1\"><span class=\"toc-item-num\">3.1&nbsp;&nbsp;</span>Preprocessing Steps Illustrated</a></span><ul class=\"toc-item\"><li><span><a href=\"#Step-0:-Creating-the-click-feature\" data-toc-modified-id=\"Step-0:-Creating-the-click-feature-3.1.1\"><span class=\"toc-item-num\">3.1.1&nbsp;&nbsp;</span>Step 0: Creating the click feature</a></span></li><li><span><a href=\"#Step-1:-Getting-the-weekday-and-hour-of-the-day\" data-toc-modified-id=\"Step-1:-Getting-the-weekday-and-hour-of-the-day-3.1.2\"><span class=\"toc-item-num\">3.1.2&nbsp;&nbsp;</span>Step 1: Getting the weekday and hour of the day</a></span></li><li><span><a href=\"#Step-2:-Dropping-the-unwated-columns\" data-toc-modified-id=\"Step-2:-Dropping-the-unwated-columns-3.1.3\"><span class=\"toc-item-num\">3.1.3&nbsp;&nbsp;</span>Step 2: Dropping the unwated columns</a></span></li><li><span><a href=\"#Step-3:-Determining-what-kind-of-operating-system-and-browser-the-user-is-using\" data-toc-modified-id=\"Step-3:-Determining-what-kind-of-operating-system-and-browser-the-user-is-using-3.1.4\"><span class=\"toc-item-num\">3.1.4&nbsp;&nbsp;</span>Step 3: Determining what kind of operating system and browser the user is using</a></span></li><li><span><a href=\"#Step-4:-Conversion-to-Numeric-Features\" data-toc-modified-id=\"Step-4:-Conversion-to-Numeric-Features-3.1.5\"><span class=\"toc-item-num\">3.1.5&nbsp;&nbsp;</span>Step 4: Conversion to Numeric Features</a></span></li><li><span><a href=\"#Step-5:-Conversion-to-Category-features\" data-toc-modified-id=\"Step-5:-Conversion-to-Category-features-3.1.6\"><span class=\"toc-item-num\">3.1.6&nbsp;&nbsp;</span>Step 5: Conversion to Category features</a></span></li></ul></li><li><span><a href=\"#Preprocessing-the-whole-imp_logs\" data-toc-modified-id=\"Preprocessing-the-whole-imp_logs-3.2\"><span class=\"toc-item-num\">3.2&nbsp;&nbsp;</span>Preprocessing the whole imp_logs</a></span></li></ul></li><li><span><a href=\"#Notebook-3:-Data-Exploration\" data-toc-modified-id=\"Notebook-3:-Data-Exploration-4\"><span class=\"toc-item-num\">4&nbsp;&nbsp;</span>Notebook 3: Data Exploration</a></span><ul class=\"toc-item\"><li><span><a href=\"#advertiser_id\" data-toc-modified-id=\"advertiser_id-4.1\"><span class=\"toc-item-num\">4.1&nbsp;&nbsp;</span>advertiser_id</a></span></li><li><span><a href=\"#Feature-Extraction\" data-toc-modified-id=\"Feature-Extraction-4.2\"><span class=\"toc-item-num\">4.2&nbsp;&nbsp;</span>Feature Extraction</a></span><ul class=\"toc-item\"><li><span><a href=\"#ad_slot_floor_price\" data-toc-modified-id=\"ad_slot_floor_price-4.2.1\"><span class=\"toc-item-num\">4.2.1&nbsp;&nbsp;</span>ad_slot_floor_price</a></span></li><li><span><a href=\"#Indicatorise-Features\" data-toc-modified-id=\"Indicatorise-Features-4.2.2\"><span class=\"toc-item-num\">4.2.2&nbsp;&nbsp;</span>Indicatorise Features</a></span></li></ul></li></ul></li><li><span><a href=\"#Notebook-4:-Logistic-Regeression\" data-toc-modified-id=\"Notebook-4:-Logistic-Regeression-5\"><span class=\"toc-item-num\">5&nbsp;&nbsp;</span>Notebook 4: Logistic Regeression</a></span><ul class=\"toc-item\"><li><span><a href=\"#Loading-the-data\" data-toc-modified-id=\"Loading-the-data-5.1\"><span class=\"toc-item-num\">5.1&nbsp;&nbsp;</span>Loading the data</a></span><ul class=\"toc-item\"><li><span><a href=\"#Class-Imbalance\" data-toc-modified-id=\"Class-Imbalance-5.1.1\"><span class=\"toc-item-num\">5.1.1&nbsp;&nbsp;</span>Class Imbalance</a></span></li></ul></li><li><span><a href=\"#Finetuning-the-hyperparameters.\" data-toc-modified-id=\"Finetuning-the-hyperparameters.-5.2\"><span class=\"toc-item-num\">5.2&nbsp;&nbsp;</span>Finetuning the hyperparameters.</a></span></li></ul></li><li><span><a href=\"#Notebook-5:-Simple-Bidding-Strategies\" data-toc-modified-id=\"Notebook-5:-Simple-Bidding-Strategies-6\"><span class=\"toc-item-num\">6&nbsp;&nbsp;</span>Notebook 5: Simple Bidding Strategies</a></span><ul class=\"toc-item\"><li><span><a href=\"#Loading-the-data\" data-toc-modified-id=\"Loading-the-data-6.1\"><span class=\"toc-item-num\">6.1&nbsp;&nbsp;</span>Loading the data</a></span></li><li><span><a href=\"#Constant-and-Random-Bidding-Strategy\" data-toc-modified-id=\"Constant-and-Random-Bidding-Strategy-6.2\"><span class=\"toc-item-num\">6.2&nbsp;&nbsp;</span>Constant and Random Bidding Strategy</a></span><ul class=\"toc-item\"><li><span><a href=\"#Validating-the-constant-and-random-bid-strategy\" data-toc-modified-id=\"Validating-the-constant-and-random-bid-strategy-6.2.1\"><span class=\"toc-item-num\">6.2.1&nbsp;&nbsp;</span>Validating the constant and random bid strategy</a></span><ul class=\"toc-item\"><li><span><a href=\"#Constant-Strategy\" data-toc-modified-id=\"Constant-Strategy-6.2.1.1\"><span class=\"toc-item-num\">6.2.1.1&nbsp;&nbsp;</span>Constant Strategy</a></span></li><li><span><a href=\"#Random-Strategy\" data-toc-modified-id=\"Random-Strategy-6.2.1.2\"><span class=\"toc-item-num\">6.2.1.2&nbsp;&nbsp;</span>Random Strategy</a></span></li></ul></li></ul></li><li><span><a href=\"#Linear-Bidding-strategy\" data-toc-modified-id=\"Linear-Bidding-strategy-6.3\"><span class=\"toc-item-num\">6.3&nbsp;&nbsp;</span>Linear Bidding strategy</a></span></li></ul></li></ul></div>"
   ]
  },
  {
   "cell_type": "markdown",
   "id": "imperial-taxation",
   "metadata": {},
   "source": [
    "# Notebook 0: Real Time Bidding\n",
    "[Slides Presented in the Class](https://slides.com/reneeth/real-time-bidding/fullscreen)"
   ]
  },
  {
   "cell_type": "markdown",
   "id": "super-finance",
   "metadata": {},
   "source": [
    "## Underlying Theory"
   ]
  },
  {
   "cell_type": "markdown",
   "id": "fitted-record",
   "metadata": {},
   "source": [
    "### Introduction"
   ]
  },
  {
   "cell_type": "markdown",
   "id": "better-missouri",
   "metadata": {},
   "source": [
    "* RTB refers to the auctions are that are held for displaying an ad in the requested webpage in the time it takes to load that particular webpage. An example would be the sponsored search auctions displayed along with a google search.\n",
    "* Most of the market-places of RTB use *Second price auction.* The market-place for an RTB auction is called the **Ad Exchange.**\n",
    "* In such auctions, the bidder with the highest bid price wins the opportunity to show its ad, which is also called an **ad impression** and the winner is required to pay only the second highest price in the market.\n",
    "* A major feature of RTB is that it is an completely automated process. That is the various agents involved in the auction are software programs. \n",
    "* A computer program decides which ad best suits the user along with the price a bidder should pay.\n",
    "* A major advantage of the automated process is making the auction process more effiecient by eliminating the need of human ad buyers and sales people, who can often be irrational and slow paced."
   ]
  },
  {
   "cell_type": "markdown",
   "id": "immune-sunglasses",
   "metadata": {},
   "source": [
    "### Components Involved"
   ]
  },
  {
   "cell_type": "markdown",
   "id": "concrete-tunisia",
   "metadata": {},
   "source": [
    "![](https://applift.com/wp-content/uploads/2018/09/RTB-Auction-1.jpg)\n",
    "\n",
    "Automated RTB is a highly dynamic process. In each auction, an unknown number of bidders will participate and the set of bidders varies over different auctions. It is almost a no brainer to model the participants of RTB as agents, as the bidders compete among themselves by offering competitive prices and the highest bid normally accepted by the seller is the one that maximises his/her profit.\n",
    "\n",
    "**Goods:** The goods being auctioned are the various ad impression slots on the webpage and they aren't all identical. For example, the slot on the top of the page can be reasonably assumed to be of high price since there is more chance of the user seeing the ad.\n",
    "\n",
    "**Agent 1:** *Supply-Side Platform (SSP)* \n",
    "\n",
    "* A program that is equivalent of a seller in the automated process.\n",
    "* They are designed by the publishers of the webpage with the goal of maximizing the prices their ad slots sell for by opening up ad impressions to as many potential buyers as possible during the real-time auction.\n",
    "* Some popular SSP's include OpenX, PubMatic, Right Media,...\n",
    "\n",
    "**Agent 2:** *Demand-Side Platform (DSP)*\n",
    "\n",
    "* The equivalent of a buyer in the automated process.\n",
    "* Designed by advertisers to buy impressions of ad slots across a range of publisher sites, but targeted to specific users based on information such as their location and their previous browsing behavior. \n",
    "* Some popular DSP's are Invite Media, MediaMath, DataXu,...\n",
    "\n",
    "#### Goal of RTB\n",
    "\n",
    "The bidders are usullay constrained by their budget and this prevents them from bidding their estimation of the true values of an ad impression, which in general is the most optimal bid in second price auctions (aka Vickery Auctions). Owing to the constraint, to obtain an optimal bidding strategy in such a game with a large number of unknown participants is the major challenge in RTB.\n",
    "\n",
    "To make all the participants involved, *a goal of RTB is to deliver the right ads to the right users.* To understand this, consider the ads placed on a newspaper. Everyone with the newspaper, irrespective of their personal preference get the same ads. Cleraly, this isn't efficient. But the ads palced using RTB make use of the user information such as cookies from the browser to make personalized ad allocations thus maximising the chances of user interacting with the ad.\n",
    "##### Optimization Problem\n",
    "\n",
    "Since the bidding is an automated process, DSP involved places bids under the budget constraint, with the target of maximizing Key Performance Indicators (KPI's) such as,\n",
    "* **Click-Through Rates:** represent the probability that the user will respond with the given ad-impression.\n",
    "* **Convesrion Rates:** How many such clicks resulted in web purchases or app installs.\n",
    "\n",
    "Most algorithms follow *pay-per-click* pricing. That is, when a user clicks on the sponsored link, he is sent to the advertiser’s Webpage. The advertiser then pays the search engine for sending the user to its Web page. Hence CTR is a critical component of RTB. "
   ]
  },
  {
   "cell_type": "markdown",
   "id": "expected-injection",
   "metadata": {},
   "source": [
    "### Towards an Auction Framework\n",
    "\n",
    "At first we will look at a single item auction and then generalise it to the case of $k-$disntinct items as in RTB."
   ]
  },
  {
   "cell_type": "markdown",
   "id": "concerned-threshold",
   "metadata": {},
   "source": [
    "#### Second Price Auctions/Vickery Auctions"
   ]
  },
  {
   "cell_type": "markdown",
   "id": "solid-royalty",
   "metadata": {},
   "source": [
    "\n",
    "**Set-Up:** An auction involving bids for a single item from $n-$bidders (each bidder has a private valuation$(v_i)$).\n",
    "\n",
    "Every auction should involve a rule by which the item will be allocated to the winner and the amount the said should pay. In case of second price auctions,\n",
    "\n",
    "**Allocation Rule:** Highest bidder is decided as the winner of the auction.\n",
    "\n",
    "**Payment Rule:** The winner is required to pay only the second highest bid.\n",
    "Such a payment is prefered over first price auctions because of the stable nature of their equillibrium. \n",
    "\n",
    "**Salient Features:**\n",
    "\n",
    "* Vickery auction has an very interesting equillibrium point in which, all the bidders have a dominant strategy of bidding their valuation, $v_i$.\n",
    "* Such a strategy is stable and works with incomplete info.\n",
    "\n",
    "\n",
    "**Why second price auctions in the context of RTB?**\n",
    "![](https://d3i71xaburhd42.cloudfront.net/ce143f809ecfff0179e7628967d0e104aa894def/22-Figure3.1-1.png)\n",
    "\n"
   ]
  },
  {
   "cell_type": "markdown",
   "id": "earned-eating",
   "metadata": {},
   "source": [
    "Consider two advertisers A and B.Let the private valuation of A be $₹100$ and that of B be $₹75$ and there is a floor cutoff price of say $₹50$.\n",
    "\n",
    "Say if we didn't follow the payment rule of second price auctions and instead ask the winner to pay their bid (**first price auction**).\n",
    "* Now both A and B might not be truethful to their valuations but rather keep altering the bid in response to the other. This would lead to a very unstable system.\n",
    "\n",
    "To understand this more clearly, let us look at a instance of bidding,\n",
    "* Both A and B should atleat bid $₹50$ initially.\n",
    "* Then, they both would try to outbid each other ever so slightly.\n",
    "* As a consequence, the winning price keeps on increasing till it reaches $₹75$.\n",
    "* After that point, B stops bidding.\n",
    "* As there is no bid from B, A will try to optimize their profit by minimizing their bid to $₹50$.\n",
    "* At which point B starts bidding again and the whole cycle repeats.\n",
    "\n",
    "On the other hand, say if we are to follow the Vickery Auction Payment Rule we will have a stable equiilibrium point when both A and B bid their truthful value. To undertand this further,\n",
    "* If they were truthful, A would bid $₹100$ and B, $₹75$.\n",
    "* By the Vickery Auction allocation rule A will be the winner and has to pay $₹75$.\n",
    "* This is stable because, B is the loser here and if he decides to decrease the bid, he wouoldn't lose anything as there is no way of winning the auction.\n",
    "* Say if B were to increase the bid to be more than $₹100$, then he might win but he is paying more than what he trulty values the item to be and is hence not feasible. Similar arguments can be made for A."
   ]
  },
  {
   "cell_type": "markdown",
   "id": "illegal-recognition",
   "metadata": {},
   "source": [
    "#### Formulation of RTB\n",
    "\n",
    "As it might be obvious from the example above, Vickery auction and RTB are the same when there is only one slot to display the ad on the webpage. We will formulate a more general case here."
   ]
  },
  {
   "cell_type": "markdown",
   "id": "motivated-jones",
   "metadata": {},
   "source": [
    "**Set-Up:** An auction involving bids for $k-$distinct items (ad slots on the webpage) from $n-$bidders (each bidder has a private valuation$(v_i)$).\n",
    "\n",
    "Let $c_1,c_2,\\dots,c_k$ be the Click Through Rates of the various slots on the webpage. Therefore, the actual valuation of bidder $i$ for a slot $j$ is $v_i \\times c_j$.\n",
    "\n",
    "In auction design,the questions we would like to address are what should be the Allocation and Payment rule? Can we get a equillibrium point as good as the Vickery Auctions?\n",
    "\n",
    "In adressing these issues, we would like to design an auction in such a way that by revealing their true valuations, the advertisers stand the best chance of maximizing their profits. \n",
    "\n",
    "The mathematical theory that assures such an auction exists for RTB is,\n",
    "[Myerson's Lemma](https://www.cs.cornell.edu/courses/cs6840/2017sp/lecnotes/lec18.pdf)\n",
    "\n",
    "A gist of the lemma would be that for such an auction exists only when the allocation rule is *monotone.* By monotone, one means considering a bidder i, if the bids of all the other participants are fixed, then on increrasing the bid the utility of the bidder $i$ only goes up.\n",
    "\n",
    "In accordance with this lemma,\n",
    "\n",
    "**Allocation Rule:** $j-th$ slot should be awarded to the $j-th$ highest bidder.\n",
    "\n",
    "**Payment Rule:** Although using the Lemma described above, one could derive the exact rule for payment, the one commonly used is [Generalized Second Price Auctions](https://pubs.aeaweb.org/doi/pdfplus/10.1257/aer.97.1.242). This can be attributed to historical reasons.\n"
   ]
  },
  {
   "cell_type": "markdown",
   "id": "skilled-smart",
   "metadata": {},
   "source": [
    "## Implementing the Model\n",
    "\n",
    "As was explained in the theory part, a major component of RTB is estimation of Click-Through Rates. In our path to implementing a RTB, we would first like to estimate the CTR's. By doing so, we are modelling the behavious pattern of our users.\n",
    "\n",
    "Each advertising agency use their own model to get theor estimates of this quantity."
   ]
  },
  {
   "cell_type": "markdown",
   "id": "optional-motel",
   "metadata": {},
   "source": [
    "**Input:** User features as a sparse Feature Matrix.\n",
    "\n",
    "**Output:** Probability user will click on the link.\n",
    "\n",
    "![](https://jakevdp.github.io/PythonDataScienceHandbook/figures/05.02-samples-features.png)\n",
    "\n",
    "* n_samples are the n bidders here."
   ]
  },
  {
   "cell_type": "markdown",
   "id": "coordinate-durham",
   "metadata": {},
   "source": [
    "We could denote the above Input and Output as (X,y) and collect many such instances based on the user interactions over a certain period of time. \n",
    "\n",
    "Based on those already avilable samples we will like to predict the y for an unseen user x. This task falls under the Machine Learning Paradigm called, **Supervised Learning.** \n",
    "\n",
    "For the uninitiated, this is classic example of binary classification task, with the two classes being 'Click' and 'Non-Click'. \n",
    "\n",
    "An analogy to understand this would be, consider a bowl of white and black balls both. We would like to segregate them. One way of doing that would be to pick a ball, infer whether it's white or black and put it in seperate bowls\n",
    "corresponding to the two colors. \n",
    "\n",
    "Now if we want a computer to do the same task, we can't expect it to perform exactly same as us humans doing it. One way to teach the computer would be to intially use a bag in which the white and black balls are labelled using say their RGB profiles. \n",
    "\n",
    "Using that bag, the computer trains a model (that is, estimates suitable paramters).The trained model can then be used to segregate future bowls with unlabelled balls.\n",
    "\n",
    "Machine Learning has many method for doing this classification. The one we will be using is called **Logistic Regression.**\n"
   ]
  },
  {
   "cell_type": "markdown",
   "id": "endangered-poker",
   "metadata": {},
   "source": [
    "**Remarks on Feature Matrix:**\n",
    "\n",
    "The kind of features used for classification are given in the figure below.\n",
    "![](feature_matrix.png)\n",
    "\n",
    "To code the features into the matrix, we will be using *one-hot encoding*. Note that all the features are categorical.\n",
    "\n",
    "An example would say there are two features. Let the two features be,\n",
    "* Type of OS (O) and it belongs to the set $\\{Windows,Linux,Mac\\}$.\n",
    "* Time of day (D) and we divide the 24 hours in to say four six hour slots, $\\{04.00 -10.00,10.00-16.00,16.00-22.00,22.00-04.00\\}$\n",
    "* We give a value 1 if that element is used, else zero.\n",
    "* Now an user using Windows at 5 am will have the following feature matrix,\n",
    "$$X = [[1,0,0],[1,0,0,0]]$$"
   ]
  },
  {
   "cell_type": "markdown",
   "id": "immediate-metabolism",
   "metadata": {},
   "source": [
    "## Reference Papers\n",
    "\n",
    "* [Display Advertising with Real-Time Bidding (RTB) and Behavioural Targeting](https://arxiv.org/abs/1610.03013) by Jun Wang, Weinan Zhang and Shuai Yuan. ArXiv 2016.\n",
    "* [Deep CTR Prediction in Display Advertising](http://wnzhang.net/share/rtb-papers/deep-ctr-display.pdf) by Junxuan Chen et al. MM 2016.\n",
    "* [Bid Optimization by Multivariable Control in Display\n",
    "Advertising](https://dl.acm.org/doi/pdf/10.1145/3292500.3330681) by Xun Yang et al. KDD 2019."
   ]
  },
  {
   "cell_type": "markdown",
   "metadata": {
    "id": "uH2YMU1EAmnJ"
   },
   "source": [
    "# Notebook 1: Dataset Prepartion\n",
    "\n",
    "To study the RTB ecosystem we use the publicly available '*iPinYou dataset.*'\n",
    "\n",
    "---\n",
    "**Overview of the notebook**\n",
    "* The bz2 file of the iPinYou dataset is downloaded from [here](https://figshare.com/articles/dataset/ipinyou_contest_dataset_season2/5732328/1).\n",
    "* The file is unzipped in to '*Datasets/ipinyou*'.\n",
    "* Following which the data for different days were composed to form a single log file using the shell script ''.\n",
    "* Then suitable python scripts are written to convert the log.txt files in to csv files which are stored in TRAIN and TEST respectively.\n"
   ]
  },
  {
   "cell_type": "code",
   "execution_count": null,
   "metadata": {
    "id": "hrB3kDkPUZlm"
   },
   "outputs": [],
   "source": [
    "#Importing the required libraries.\n",
    "import os\n",
    "import pandas as pd\n",
    "import bz2\n",
    "import csv\n",
    "import codecs\n",
    "import itertools\n",
    "import time"
   ]
  },
  {
   "cell_type": "code",
   "execution_count": null,
   "metadata": {
    "colab": {
     "base_uri": "https://localhost:8080/"
    },
    "id": "zQWr4TVwR2f9",
    "outputId": "e2f62a1d-8b29-4241-8171-d6fba21b46d0"
   },
   "outputs": [
    {
     "name": "stdout",
     "output_type": "stream",
     "text": [
      "/content/drive/My Drive/HS4007/Real_Time_Bidding\n"
     ]
    }
   ],
   "source": [
    "#Navigating to main directory.\n",
    "root_dir = r'/content/drive/My Drive/HS4007/Real_Time_Bidding'\n",
    "os.chdir(root_dir)\n",
    "#Sanity Check.\n",
    "!pwd"
   ]
  },
  {
   "cell_type": "markdown",
   "metadata": {
    "id": "73wFXdVQDbQA"
   },
   "source": [
    "## Running the shell script"
   ]
  },
  {
   "cell_type": "code",
   "execution_count": null,
   "metadata": {
    "colab": {
     "base_uri": "https://localhost:8080/"
    },
    "id": "VwDBRdYUwY2I",
    "outputId": "1374f4d1-cad4-4351-b92a-52ed315889aa"
   },
   "outputs": [
    {
     "name": "stdout",
     "output_type": "stream",
     "text": [
      "Hi,I am bash and I'm here to make your life easier!\n",
      "Current Working Directory: /content/drive/My Drive/HS4007/Real_Time_Bidding\n",
      "I just  made the train and test folders at the path you mentioned!\n",
      "Already unzipped.\n",
      "Already prepared a single clicks logs file.\n",
      "Already prepared a single impressions logs file.\n",
      "Test file is also prepared.\n"
     ]
    },
    {
     "data": {
      "text/plain": []
     },
     "execution_count": 6,
     "metadata": {},
     "output_type": "execute_result"
    }
   ],
   "source": [
    "%%shell\n",
    "\n",
    "echo \"Hi,I am bash and I'm here to make your life easier!\"\n",
    "\n",
    "echo \"Current Working Directory: $PWD\"\n",
    "\n",
    "ipin=./Datasets/ipinyou\n",
    "#Path for training and test datasets.\n",
    "train=./Datasets/ipinyou/train\n",
    "test=./Datasets/ipinyou/test\n",
    "\n",
    "#Creating the directories for train and test if they do not exist.\n",
    "if [ ! -d \"$train\" ]\n",
    "then\n",
    "   mkdir -p $train \n",
    "fi\n",
    "\n",
    "if [ ! -d \"$test\" ]\n",
    "then\n",
    "   mkdir -p $test \n",
    "fi\n",
    " \n",
    "echo \"I just  made the train and test folders at the path you mentioned!\"\n",
    "\n",
    "__unzip__ (){\n",
    "    echo \"I am going to unzip bz2 files.\" \n",
    "    cp $ipin/training2nd/imp.*.bz2 $train\n",
    "    cp $ipin/training2nd/clk.*.bz2 $train\n",
    "    bzip2 -d $train/* \n",
    "    cp $ipin/testing2nd/* $test\n",
    "    bzip2 -d $test/*\n",
    "    echo \"Done done done!!!\"\n",
    "}\n",
    "\n",
    "#Run this only if the 'Datasets/ipinyou/train' folder is empty.\n",
    "train_files=(${train}/*.txt)\n",
    "test_files=(${test}/*.txt)\n",
    "\n",
    "if ((${#train_files[@]} && ${#test_files[@]}))\n",
    "then\n",
    "    echo \"Already unzipped.\"\n",
    "else\n",
    "    echo \"Unzipping...\"\n",
    "    __unzip__\n",
    "    echo \"Done unzipping.\" \n",
    "fi\n",
    "\n",
    "\n",
    "if [ ! -f \"$train/clk_logs.txt\" ]\n",
    "then \n",
    "    echo \"I am combining all the logs of click in to single file.\"\n",
    "    cat $train/clk*.txt > $train/clk_logs.txt\n",
    "else\n",
    "    echo \"Already prepared a single clicks logs file.\"\n",
    "fi\n",
    "\n",
    "if [ ! -f \"$train/imp_logs.txt\" ]\n",
    "then \n",
    "    echo \"I am combining all the logs of impressions in to a single file.\"\n",
    "    cat $train/imp*.txt > $train/imp_logs.txt\n",
    "else\n",
    "    echo \"Already prepared a single impressions logs file.\"\n",
    "fi\n",
    "\n",
    "if [ ! -f \"$test/raw_test.txt\" ]\n",
    "then\n",
    "    cat $test/*.txt > $test/raw_test.txt\n",
    "else\n",
    "    echo \"Test file is also prepared.\"\n",
    "fi"
   ]
  },
  {
   "cell_type": "markdown",
   "metadata": {
    "id": "GbDIK0DkDgev"
   },
   "source": [
    "## Creation of csv files and dataframes"
   ]
  },
  {
   "cell_type": "code",
   "execution_count": null,
   "metadata": {
    "id": "NOjYEa6PSYCH"
   },
   "outputs": [],
   "source": [
    "class read_dataset(object):\n",
    "    '''\n",
    "    A base class for reading the log data files that can be used\n",
    "    for getting files of all advertisers.\n",
    "    '''\n",
    "    def __init__(self,dataset_path,target_file_path):\n",
    "        '''\n",
    "        Initializing the instace of the base class.\n",
    "        \n",
    "        Args:\n",
    "             dataset_path (str)-> The path in which training or\n",
    "                                  testing datset is located.\n",
    "             target_file (str) -> Path to which the created csv file \n",
    "                                  should be stored.\n",
    "        '''\n",
    "        self.path = dataset_path\n",
    "        self.tf = target_file_path\n",
    "        self.columns = ['bid_id','timestamp','log_type','ipinyou_id','user_agent','ip_address',\n",
    "        'region_id','city_id','ad_exchange','domain','url','anonymous_url_id',\n",
    "        'ad_slot_id','ad_slot_width','ad_slot_height','ad_slot_visibility',\n",
    "        'ad_slot','ad_slot_floor_price','creative_id','bidding_price',\n",
    "        'paying_price','key_page_url','advertiser_id','user_tags']\n",
    "\n",
    "    def print_progress(self,line):\n",
    "        '''\n",
    "        A method that prints the progress of write/read.\n",
    "\n",
    "        Args:\n",
    "\n",
    "             line (list) -> The current line being processed.\n",
    "        '''\n",
    "        pass\n",
    "\n",
    "    def reject_row(self,row):\n",
    "        '''\n",
    "        A method for filtering the rows.\n",
    "\n",
    "        Args:\n",
    "             \n",
    "             row (list) -> The row to be verified.\n",
    "        \n",
    "        Returns: (bool) -> If True, reject the row.\n",
    "        '''\n",
    "        if len(row)<24:\n",
    "            return True\n",
    "        else:\n",
    "            return False\n",
    "\n",
    "\n",
    "    def get_csv(self):\n",
    "        '''\n",
    "        A method which converts the txt file into a csv file \n",
    "        that is readymade for pandas.\n",
    "        '''\n",
    "        #Checking the existence of a file.\n",
    "        if os.path.isfile(self.tf):\n",
    "            print(f'Would you look at that, the csv file has already been created.')\n",
    "            return\n",
    "        #Opeing the files.\n",
    "        with codecs.open(self.path,'r',encoding='utf-8',errors='ignore') as csv_file:\n",
    "            logs_reader = csv.reader(csv_file, delimiter='\\t')\n",
    "            print(f'Let me begin the writing of the csv file...')\n",
    "            \n",
    "            w_progress = 0\n",
    "            with open(self.tf, 'w') as new_csv_file:\n",
    "                #The column names.\n",
    "                fieldnames = self.columns\n",
    "\n",
    "                csv_writer = csv.DictWriter(new_csv_file,fieldnames=fieldnames)\n",
    "                csv_writer.writeheader()\n",
    "\n",
    "                for row in logs_reader:\n",
    "                    # A filter for rows.\n",
    "                    if self.reject_row(row):\n",
    "                        continue\n",
    "                    csv_writer.writerow(self.apply_schema(row))\n",
    "        print(f'Written Sucesfully')\n",
    "\n",
    "\n",
    "    def apply_schema(self,row):\n",
    "        '''\n",
    "        A method that converts a row read from the text file in to \n",
    "        a meaningful log.\n",
    "\n",
    "        Args:\n",
    "             row (list) -> corresponds to elements from a line \n",
    "                           of the text file.\n",
    "        Returns: (dict)\n",
    "        '''\n",
    "        log = {}\n",
    "        index = list(range(len(row)))\n",
    "\n",
    "        for key,value in zip(self.columns,index):\n",
    "            log[key] = row[value]\n",
    "            \n",
    "        return log\n",
    "        "
   ]
  },
  {
   "cell_type": "markdown",
   "metadata": {
    "id": "CUUISSl-8MQS"
   },
   "source": [
    "## Training Dataset Prep"
   ]
  },
  {
   "cell_type": "code",
   "execution_count": null,
   "metadata": {
    "colab": {
     "base_uri": "https://localhost:8080/"
    },
    "id": "awB0EqjuSYOS",
    "outputId": "127b0c88-cbc5-4da9-e9c6-751df0a7de83"
   },
   "outputs": [
    {
     "name": "stdout",
     "output_type": "stream",
     "text": [
      "Would you look at that, the csv file has already been created.\n",
      "Would you look at that, the csv file has already been created.\n",
      "Would you look at that, the csv file has already been created.\n"
     ]
    }
   ],
   "source": [
    "#Paths to impressions and clicks datafile for training.\n",
    "imp_log_path = root_dir + \"/Datasets/ipinyou/train/imp_logs.txt\"\n",
    "clk_log_path = root_dir + \"/Datasets/ipinyou/train/clk_logs.txt\"\n",
    "tst_log_path = root_dir + \"//Datasets/ipinyou/test/raw_test.txt\"\n",
    "\n",
    "#Arguments for the class instances.\n",
    "imp_kargs=  {'dataset_path': imp_log_path,'target_file_path':'TRAIN/imp_logs.csv'}\n",
    "clk_kargs = {'dataset_path': clk_log_path, 'target_file_path':'TRAIN/clk_logs.csv'}\n",
    "tst_kargs = {'dataset_path': tst_log_path, 'target_file_path':'TEST/tst_logs.csv'}\n",
    "\n",
    "logs = ['imp','clk']\n",
    "#An instace of classes.\n",
    "imp_reader = read_dataset(**imp_kargs)\n",
    "clk_reader = read_dataset(**clk_kargs)\n",
    "tst_reader=read_dataset(**tst_kargs)\n",
    "readers=[imp_reader,clk_reader,tst_reader]\n",
    "\n",
    "#Creating the csv files.\n",
    "for reader in readers:\n",
    "    reader.get_csv()\n",
    "\n"
   ]
  },
  {
   "cell_type": "code",
   "execution_count": null,
   "metadata": {
    "id": "hjDCUwZ9d2lo"
   },
   "outputs": [],
   "source": [
    "#Mounting the drive to the colab workspace.\n",
    "from google.colab import drive\n",
    "drive.mount('/content/drive', force_remount = True)"
   ]
  },
  {
   "cell_type": "markdown",
   "metadata": {
    "id": "Kh0K-ceXeRTv"
   },
   "source": [
    "# Notebook 2: Preprocessing the CSV file:\n",
    "**Overview of the notebook**\n",
    "* The 'prepareDatasetCSV.ipynb' produces the csv files for click and impressions logs stored as '*clk_logs.csv*' and '*imp_logs.csv*' in the folder TRAIN.\n",
    "* This notebook walks through the process of some data preprocessing performed on those csv files.\n",
    "* This notebook produces seperate training dataset csv files for all the advertisers involved, doing so will help with statistical analysis and is efficient in terms of memory.\n",
    "* The code implemented here is made into a library [preprocessCSV.py](https://drive.google.com/file/d/1tNcT-mDV672PSZNqgd2iQ_e6OyDkW0i2/view?usp=sharing) for later use.\n"
   ]
  },
  {
   "cell_type": "code",
   "execution_count": null,
   "metadata": {
    "id": "DuEXKcjDfZSK"
   },
   "outputs": [],
   "source": [
    "path_clk = 'TRAIN/clk_logs.csv'\n",
    "path_imp = 'TRAIN/imp_logs.csv'"
   ]
  },
  {
   "cell_type": "code",
   "execution_count": null,
   "metadata": {
    "id": "KnzF4DjrfFlz"
   },
   "outputs": [],
   "source": [
    "#Loading the dependancies.\n",
    "import os\n",
    "import pandas as pd\n",
    "from tqdm import tqdm"
   ]
  },
  {
   "cell_type": "code",
   "execution_count": null,
   "metadata": {
    "id": "NBvyrtEywibh"
   },
   "outputs": [],
   "source": [
    "#Utilities.\n",
    "def get_chunks(in_path,out_path,chunk_size=100000,verbose=False):\n",
    "    '''\n",
    "    A method that splits up the csv file in to many chunks of\n",
    "    smaller size.\n",
    "    '''\n",
    "    if len(os.listdir(out_path)) != 0:\n",
    "        print(f'Wow! Chunks have already been created!!!')\n",
    "        return\n",
    "    chunk_num =1\n",
    "    for chunk in pd.read_csv(path_imp,chunksize=chunk_size):\n",
    "        chunk.to_csv(out_path+'chunk'+str(chunk_num)+'.csv',index=False)\n",
    "        if verbose:\n",
    "            print(f'Number of chunks created: {chunk_num}')\n",
    "        chunk_num+=1\n",
    "    print(f'csv file is made in to small chunks and is stored at:{out_path}')\n",
    "\n"
   ]
  },
  {
   "cell_type": "code",
   "execution_count": null,
   "metadata": {
    "colab": {
     "base_uri": "https://localhost:8080/"
    },
    "id": "8g0l7NjffVni",
    "outputId": "325e26b9-e541-4ee4-ff23-80a4feb5440a"
   },
   "outputs": [
    {
     "name": "stdout",
     "output_type": "stream",
     "text": [
      "/content/drive/My Drive/HS4007/Real_Time_Bidding\n"
     ]
    }
   ],
   "source": [
    "#Navigating to main directory.\n",
    "root_dir = r'/content/drive/My Drive/HS4007/Real_Time_Bidding'\n",
    "os.chdir(root_dir)\n",
    "#Sanity Check.\n",
    "!pwd"
   ]
  },
  {
   "cell_type": "markdown",
   "metadata": {
    "id": "SarwZSr-gRdM"
   },
   "source": [
    "**List of advertisers**\n",
    "* Each advertiser will have a unique advertiser_id.\n"
   ]
  },
  {
   "cell_type": "code",
   "execution_count": null,
   "metadata": {
    "colab": {
     "base_uri": "https://localhost:8080/"
    },
    "id": "aX4HKTnDgDgB",
    "outputId": "86bc4847-b280-4db5-b1c2-36aea73725ca"
   },
   "outputs": [
    {
     "name": "stdout",
     "output_type": "stream",
     "text": [
      "The advertiser_id of different advertisers involved are[3476 3358 3386 3427 1458]\n"
     ]
    }
   ],
   "source": [
    "advertisers = clk_df['advertiser_id'].unique()\n",
    "print(f'The advertiser_id of different advertisers involved are{advertisers}')"
   ]
  },
  {
   "cell_type": "markdown",
   "metadata": {
    "id": "F4M7AuETkJVv"
   },
   "source": [
    "Therefore there are five different advertisers in the dataset."
   ]
  },
  {
   "cell_type": "markdown",
   "metadata": {
    "id": "pD4NZio1w0Wp"
   },
   "source": [
    "**Loading the \"imp_logs.csv\" as pandas dataframe**\n",
    "\n",
    "* Since the dataframe is of large size, its better to read them in chunks.\n",
    "* This process will split up the 'imp_logs.csv' into many csv files each of size equal to the chunksize and are stored at 'TRAIN/imp_chunks' which can be looked at for getting a sense of the dataset."
   ]
  },
  {
   "cell_type": "code",
   "execution_count": null,
   "metadata": {
    "colab": {
     "base_uri": "https://localhost:8080/"
    },
    "id": "8XK4iR1qwyLH",
    "outputId": "e2ff3270-a42b-4989-b844-fac2401875e3"
   },
   "outputs": [
    {
     "name": "stdout",
     "output_type": "stream",
     "text": [
      "Wow! Chunks have already been created!!!\n"
     ]
    }
   ],
   "source": [
    "path_to_chunks = 'TRAIN/imp_chunks/'\n",
    "get_chunks(path_imp,path_to_chunks,verbose=True)"
   ]
  },
  {
   "cell_type": "markdown",
   "metadata": {
    "id": "ig_Y3LRI-vkb"
   },
   "source": [
    "## Preprocessing Steps Illustrated\n",
    "* All the steps of preprocessing will be illustrated with a small chunk of imp_logs.csv and is called \"toy_imp\".\n"
   ]
  },
  {
   "cell_type": "markdown",
   "metadata": {},
   "source": [
    "Initially the datafrmae looked like the follows,"
   ]
  },
  {
   "cell_type": "code",
   "execution_count": null,
   "metadata": {
    "colab": {
     "base_uri": "https://localhost:8080/",
     "height": 201
    },
    "id": "5UKI1Q64cjhZ",
    "outputId": "5fde7fef-7d8c-4920-f6cb-cc07f36700b6"
   },
   "outputs": [
    {
     "data": {
      "text/html": [
       "<div>\n",
       "<style scoped>\n",
       "    .dataframe tbody tr th:only-of-type {\n",
       "        vertical-align: middle;\n",
       "    }\n",
       "\n",
       "    .dataframe tbody tr th {\n",
       "        vertical-align: top;\n",
       "    }\n",
       "\n",
       "    .dataframe thead th {\n",
       "        text-align: right;\n",
       "    }\n",
       "</style>\n",
       "<table border=\"1\" class=\"dataframe\">\n",
       "  <thead>\n",
       "    <tr style=\"text-align: right;\">\n",
       "      <th></th>\n",
       "      <th>bid_id</th>\n",
       "      <th>timestamp</th>\n",
       "      <th>log_type</th>\n",
       "      <th>ipinyou_id</th>\n",
       "      <th>user_agent</th>\n",
       "      <th>ip_address</th>\n",
       "      <th>region_id</th>\n",
       "      <th>city_id</th>\n",
       "      <th>ad_exchange</th>\n",
       "      <th>domain</th>\n",
       "      <th>url</th>\n",
       "      <th>anonymous_url_id</th>\n",
       "      <th>ad_slot_id</th>\n",
       "      <th>ad_slot_width</th>\n",
       "      <th>ad_slot_height</th>\n",
       "      <th>ad_slot_visibility</th>\n",
       "      <th>ad_slot</th>\n",
       "      <th>ad_slot_floor_price</th>\n",
       "      <th>creative_id</th>\n",
       "      <th>bidding_price</th>\n",
       "      <th>paying_price</th>\n",
       "      <th>key_page_url</th>\n",
       "      <th>advertiser_id</th>\n",
       "      <th>user_tags</th>\n",
       "    </tr>\n",
       "  </thead>\n",
       "  <tbody>\n",
       "    <tr>\n",
       "      <th>0</th>\n",
       "      <td>8a15b98c8f9e60d4f92aaab01acf52a4</td>\n",
       "      <td>20130606000104192</td>\n",
       "      <td>1</td>\n",
       "      <td>VhTVORqG36N6qMj</td>\n",
       "      <td>Mozilla/5.0 (Windows NT 5.1) AppleWebKit/537.1...</td>\n",
       "      <td>114.100.37.*</td>\n",
       "      <td>106</td>\n",
       "      <td>117</td>\n",
       "      <td>1</td>\n",
       "      <td>lsxSl559Xql7FmMs</td>\n",
       "      <td>8c9742e63497713b97ac7e780a8f9a12</td>\n",
       "      <td>NaN</td>\n",
       "      <td>mm_30232185_2681382_11190685</td>\n",
       "      <td>950</td>\n",
       "      <td>90</td>\n",
       "      <td>0</td>\n",
       "      <td>1</td>\n",
       "      <td>0</td>\n",
       "      <td>23d6dade7ed21cea308205b37594003e</td>\n",
       "      <td>227</td>\n",
       "      <td>207</td>\n",
       "      <td>b2e35064f3549d447edbbdfb1f707c8c</td>\n",
       "      <td>3427</td>\n",
       "      <td>10063,10684,10083,13403,10059,10024,10048,1005...</td>\n",
       "    </tr>\n",
       "    <tr>\n",
       "      <th>1</th>\n",
       "      <td>5bd0cbeb2f82fb94e56b7dc2e6b77ec</td>\n",
       "      <td>20130606000104252</td>\n",
       "      <td>1</td>\n",
       "      <td>Vhkr1uaROqKsXmb</td>\n",
       "      <td>Mozilla/4.0 (compatible; MSIE 7.0; Windows NT ...</td>\n",
       "      <td>222.220.35.*</td>\n",
       "      <td>308</td>\n",
       "      <td>320</td>\n",
       "      <td>2</td>\n",
       "      <td>eSMvBpa0jqmUagk4JKTI</td>\n",
       "      <td>15b56f50bbaa689c91ccaf5ed7c97b48</td>\n",
       "      <td>NaN</td>\n",
       "      <td>3521017083</td>\n",
       "      <td>336</td>\n",
       "      <td>280</td>\n",
       "      <td>2</td>\n",
       "      <td>0</td>\n",
       "      <td>5</td>\n",
       "      <td>13606a7c541dcd9ca1948875a760bb31</td>\n",
       "      <td>238</td>\n",
       "      <td>72</td>\n",
       "      <td>d29e59bf0f7f8243858b8183f14d4412</td>\n",
       "      <td>3358</td>\n",
       "      <td>13800,10024</td>\n",
       "    </tr>\n",
       "  </tbody>\n",
       "</table>\n",
       "</div>"
      ],
      "text/plain": [
       "                             bid_id  ...                                          user_tags\n",
       "0  8a15b98c8f9e60d4f92aaab01acf52a4  ...  10063,10684,10083,13403,10059,10024,10048,1005...\n",
       "1   5bd0cbeb2f82fb94e56b7dc2e6b77ec  ...                                        13800,10024\n",
       "\n",
       "[2 rows x 24 columns]"
      ]
     },
     "execution_count": 98,
     "metadata": {},
     "output_type": "execute_result"
    }
   ],
   "source": [
    "toy_imp = pd.read_csv(path_to_chunks+'chunk1.csv')\n",
    "toy_imp.head(2)"
   ]
  },
  {
   "cell_type": "markdown",
   "metadata": {
    "id": "XUUPC8Poc29D"
   },
   "source": [
    "As can be seen they have similar columns as clk_df. The columns are as follows,"
   ]
  },
  {
   "cell_type": "code",
   "execution_count": null,
   "metadata": {
    "colab": {
     "base_uri": "https://localhost:8080/"
    },
    "id": "HkLUuxQkwHrz",
    "outputId": "f59094a1-700e-462e-ecfa-6d308ad7f480"
   },
   "outputs": [
    {
     "data": {
      "text/plain": [
       "Index(['bid_id', 'timestamp', 'log_type', 'ipinyou_id', 'user_agent',\n",
       "       'ip_address', 'region_id', 'city_id', 'ad_exchange', 'domain', 'url',\n",
       "       'anonymous_url_id', 'ad_slot_id', 'ad_slot_width', 'ad_slot_height',\n",
       "       'ad_slot_visibility', 'ad_slot', 'ad_slot_floor_price', 'creative_id',\n",
       "       'bidding_price', 'paying_price', 'key_page_url', 'advertiser_id',\n",
       "       'user_tags'],\n",
       "      dtype='object')"
      ]
     },
     "execution_count": 99,
     "metadata": {},
     "output_type": "execute_result"
    }
   ],
   "source": [
    "clk_df.columns"
   ]
  },
  {
   "cell_type": "markdown",
   "metadata": {
    "id": "jKrxcQJ7dBPL"
   },
   "source": [
    "---\n",
    "### Step 0: Creating the click feature\n",
    "\n",
    "* This is an important featue as it tells us whether a given impression resulted in a click or not.\n",
    "* We do this comparing the bid_id's in the impressions logs with the ones in the click logs.\n",
    "* If a given bid_id from the impression logs is present in the click logs, the clcik feature takes the value True (1) and else False (0).\n",
    "\n"
   ]
  },
  {
   "cell_type": "code",
   "execution_count": null,
   "metadata": {
    "id": "n5_yPEWV4bwe"
   },
   "outputs": [],
   "source": [
    "def create_click_col(df1,df2):\n",
    "    '''\n",
    "    A method that creates click boolean column given impressions (df1) and\n",
    "    clicks dataframe (df2).\n",
    "    '''\n",
    "    click = df1['bid_id'].isin(df2['bid_id'])\n",
    "    df1['click'] = click\n",
    "    #Dropping the log_type and bid_id column as it is useless from now on.\n",
    "    df1.drop(columns=['bid_id','log_type'],axis=1,inplace=True)\n",
    "    #Dropping nan values of click.\n",
    "    df1.dropna(subset=['click'], inplace=True)\n",
    "    #Reordering columns.\n",
    "    cols = ['click'] + [col for col in df1 if col != 'click']\n",
    "    df1=df1[cols]\n",
    "    return df1"
   ]
  },
  {
   "cell_type": "code",
   "execution_count": null,
   "metadata": {
    "colab": {
     "base_uri": "https://localhost:8080/",
     "height": 267
    },
    "id": "dUZn8ln84jXl",
    "outputId": "3846b743-93c5-4fad-abb3-30f096fbb299"
   },
   "outputs": [
    {
     "data": {
      "text/html": [
       "<div>\n",
       "<style scoped>\n",
       "    .dataframe tbody tr th:only-of-type {\n",
       "        vertical-align: middle;\n",
       "    }\n",
       "\n",
       "    .dataframe tbody tr th {\n",
       "        vertical-align: top;\n",
       "    }\n",
       "\n",
       "    .dataframe thead th {\n",
       "        text-align: right;\n",
       "    }\n",
       "</style>\n",
       "<table border=\"1\" class=\"dataframe\">\n",
       "  <thead>\n",
       "    <tr style=\"text-align: right;\">\n",
       "      <th></th>\n",
       "      <th>click</th>\n",
       "      <th>timestamp</th>\n",
       "      <th>ipinyou_id</th>\n",
       "      <th>user_agent</th>\n",
       "      <th>ip_address</th>\n",
       "      <th>region_id</th>\n",
       "      <th>city_id</th>\n",
       "      <th>ad_exchange</th>\n",
       "      <th>domain</th>\n",
       "      <th>url</th>\n",
       "      <th>anonymous_url_id</th>\n",
       "      <th>ad_slot_id</th>\n",
       "      <th>ad_slot_width</th>\n",
       "      <th>ad_slot_height</th>\n",
       "      <th>ad_slot_visibility</th>\n",
       "      <th>ad_slot</th>\n",
       "      <th>ad_slot_floor_price</th>\n",
       "      <th>creative_id</th>\n",
       "      <th>bidding_price</th>\n",
       "      <th>paying_price</th>\n",
       "      <th>key_page_url</th>\n",
       "      <th>advertiser_id</th>\n",
       "      <th>user_tags</th>\n",
       "    </tr>\n",
       "  </thead>\n",
       "  <tbody>\n",
       "    <tr>\n",
       "      <th>0</th>\n",
       "      <td>False</td>\n",
       "      <td>20130606000104192</td>\n",
       "      <td>VhTVORqG36N6qMj</td>\n",
       "      <td>Mozilla/5.0 (Windows NT 5.1) AppleWebKit/537.1...</td>\n",
       "      <td>114.100.37.*</td>\n",
       "      <td>106</td>\n",
       "      <td>117</td>\n",
       "      <td>1</td>\n",
       "      <td>lsxSl559Xql7FmMs</td>\n",
       "      <td>8c9742e63497713b97ac7e780a8f9a12</td>\n",
       "      <td>NaN</td>\n",
       "      <td>mm_30232185_2681382_11190685</td>\n",
       "      <td>950</td>\n",
       "      <td>90</td>\n",
       "      <td>0</td>\n",
       "      <td>1</td>\n",
       "      <td>0</td>\n",
       "      <td>23d6dade7ed21cea308205b37594003e</td>\n",
       "      <td>227</td>\n",
       "      <td>207</td>\n",
       "      <td>b2e35064f3549d447edbbdfb1f707c8c</td>\n",
       "      <td>3427</td>\n",
       "      <td>10063,10684,10083,13403,10059,10024,10048,1005...</td>\n",
       "    </tr>\n",
       "    <tr>\n",
       "      <th>1</th>\n",
       "      <td>False</td>\n",
       "      <td>20130606000104252</td>\n",
       "      <td>Vhkr1uaROqKsXmb</td>\n",
       "      <td>Mozilla/4.0 (compatible; MSIE 7.0; Windows NT ...</td>\n",
       "      <td>222.220.35.*</td>\n",
       "      <td>308</td>\n",
       "      <td>320</td>\n",
       "      <td>2</td>\n",
       "      <td>eSMvBpa0jqmUagk4JKTI</td>\n",
       "      <td>15b56f50bbaa689c91ccaf5ed7c97b48</td>\n",
       "      <td>NaN</td>\n",
       "      <td>3521017083</td>\n",
       "      <td>336</td>\n",
       "      <td>280</td>\n",
       "      <td>2</td>\n",
       "      <td>0</td>\n",
       "      <td>5</td>\n",
       "      <td>13606a7c541dcd9ca1948875a760bb31</td>\n",
       "      <td>238</td>\n",
       "      <td>72</td>\n",
       "      <td>d29e59bf0f7f8243858b8183f14d4412</td>\n",
       "      <td>3358</td>\n",
       "      <td>13800,10024</td>\n",
       "    </tr>\n",
       "    <tr>\n",
       "      <th>2</th>\n",
       "      <td>False</td>\n",
       "      <td>20130606000104253</td>\n",
       "      <td>VhL01pk8OTkW3Mc</td>\n",
       "      <td>Mozilla/5.0 (Windows NT 5.1) AppleWebKit/537.1...</td>\n",
       "      <td>58.100.240.*</td>\n",
       "      <td>94</td>\n",
       "      <td>95</td>\n",
       "      <td>1</td>\n",
       "      <td>tK1NTu1YP5scFsf</td>\n",
       "      <td>e22930480589abcc1468854cb3403314</td>\n",
       "      <td>NaN</td>\n",
       "      <td>mm_10075660_3500949_11453278</td>\n",
       "      <td>950</td>\n",
       "      <td>90</td>\n",
       "      <td>0</td>\n",
       "      <td>1</td>\n",
       "      <td>0</td>\n",
       "      <td>d5cecca9a6cbd7a0a48110f1306b26d1</td>\n",
       "      <td>227</td>\n",
       "      <td>108</td>\n",
       "      <td>d29e59bf0f7f8243858b8183f14d4412</td>\n",
       "      <td>3358</td>\n",
       "      <td>10059,13866,10063,10111</td>\n",
       "    </tr>\n",
       "  </tbody>\n",
       "</table>\n",
       "</div>"
      ],
      "text/plain": [
       "   click  ...                                          user_tags\n",
       "0  False  ...  10063,10684,10083,13403,10059,10024,10048,1005...\n",
       "1  False  ...                                        13800,10024\n",
       "2  False  ...                            10059,13866,10063,10111\n",
       "\n",
       "[3 rows x 23 columns]"
      ]
     },
     "execution_count": 101,
     "metadata": {},
     "output_type": "execute_result"
    }
   ],
   "source": [
    "toy_imp = create_click_col(toy_imp,clk_df)\n",
    "toy_imp.head(3)"
   ]
  },
  {
   "cell_type": "markdown",
   "metadata": {
    "id": "yj61EX7mFS1N"
   },
   "source": [
    "### Step 1: Getting the weekday and hour of the day\n",
    "\n",
    "* 'timestamp' feature is modified to get the day and time as features."
   ]
  },
  {
   "cell_type": "code",
   "execution_count": null,
   "metadata": {
    "id": "bqEm1yhtFvdE"
   },
   "outputs": [],
   "source": [
    "def get_date(df):\n",
    "    df['timestamp']= df['timestamp'].astype(str)\n",
    "    df['timestamp'] =df.apply(lambda x: x['timestamp'][:-3], axis = 1)\n",
    "    df['timestamp'] = pd.to_datetime(df['timestamp'],format='%Y%m%d%H%M%S')\n",
    "    df['hour'] = df['timestamp'].dt.hour\n",
    "    df['day']=df['timestamp'].dt.dayofweek\n",
    "    df.drop(columns=['timestamp'],axis=1,inplace=True)\n",
    "    cols=['day','hour','click'] + [col for col in df if col not in ['day','hour','click']]\n",
    "    df=df[cols]\n",
    "    return df"
   ]
  },
  {
   "cell_type": "code",
   "execution_count": null,
   "metadata": {
    "colab": {
     "base_uri": "https://localhost:8080/",
     "height": 417
    },
    "id": "zDtCfPHGG0B_",
    "outputId": "49c7f6c0-60f4-459e-bff3-7b6e8a92de3a"
   },
   "outputs": [
    {
     "data": {
      "text/html": [
       "<div>\n",
       "<style scoped>\n",
       "    .dataframe tbody tr th:only-of-type {\n",
       "        vertical-align: middle;\n",
       "    }\n",
       "\n",
       "    .dataframe tbody tr th {\n",
       "        vertical-align: top;\n",
       "    }\n",
       "\n",
       "    .dataframe thead th {\n",
       "        text-align: right;\n",
       "    }\n",
       "</style>\n",
       "<table border=\"1\" class=\"dataframe\">\n",
       "  <thead>\n",
       "    <tr style=\"text-align: right;\">\n",
       "      <th></th>\n",
       "      <th>day</th>\n",
       "      <th>hour</th>\n",
       "      <th>click</th>\n",
       "      <th>ipinyou_id</th>\n",
       "      <th>user_agent</th>\n",
       "      <th>ip_address</th>\n",
       "      <th>region_id</th>\n",
       "      <th>city_id</th>\n",
       "      <th>ad_exchange</th>\n",
       "      <th>domain</th>\n",
       "      <th>url</th>\n",
       "      <th>anonymous_url_id</th>\n",
       "      <th>ad_slot_id</th>\n",
       "      <th>ad_slot_width</th>\n",
       "      <th>ad_slot_height</th>\n",
       "      <th>ad_slot_visibility</th>\n",
       "      <th>ad_slot</th>\n",
       "      <th>ad_slot_floor_price</th>\n",
       "      <th>creative_id</th>\n",
       "      <th>bidding_price</th>\n",
       "      <th>paying_price</th>\n",
       "      <th>key_page_url</th>\n",
       "      <th>advertiser_id</th>\n",
       "      <th>user_tags</th>\n",
       "    </tr>\n",
       "  </thead>\n",
       "  <tbody>\n",
       "    <tr>\n",
       "      <th>0</th>\n",
       "      <td>3</td>\n",
       "      <td>0</td>\n",
       "      <td>False</td>\n",
       "      <td>VhTVORqG36N6qMj</td>\n",
       "      <td>Mozilla/5.0 (Windows NT 5.1) AppleWebKit/537.1...</td>\n",
       "      <td>114.100.37.*</td>\n",
       "      <td>106</td>\n",
       "      <td>117</td>\n",
       "      <td>1</td>\n",
       "      <td>lsxSl559Xql7FmMs</td>\n",
       "      <td>8c9742e63497713b97ac7e780a8f9a12</td>\n",
       "      <td>NaN</td>\n",
       "      <td>mm_30232185_2681382_11190685</td>\n",
       "      <td>950</td>\n",
       "      <td>90</td>\n",
       "      <td>0</td>\n",
       "      <td>1</td>\n",
       "      <td>0</td>\n",
       "      <td>23d6dade7ed21cea308205b37594003e</td>\n",
       "      <td>227</td>\n",
       "      <td>207</td>\n",
       "      <td>b2e35064f3549d447edbbdfb1f707c8c</td>\n",
       "      <td>3427</td>\n",
       "      <td>10063,10684,10083,13403,10059,10024,10048,1005...</td>\n",
       "    </tr>\n",
       "    <tr>\n",
       "      <th>1</th>\n",
       "      <td>3</td>\n",
       "      <td>0</td>\n",
       "      <td>False</td>\n",
       "      <td>Vhkr1uaROqKsXmb</td>\n",
       "      <td>Mozilla/4.0 (compatible; MSIE 7.0; Windows NT ...</td>\n",
       "      <td>222.220.35.*</td>\n",
       "      <td>308</td>\n",
       "      <td>320</td>\n",
       "      <td>2</td>\n",
       "      <td>eSMvBpa0jqmUagk4JKTI</td>\n",
       "      <td>15b56f50bbaa689c91ccaf5ed7c97b48</td>\n",
       "      <td>NaN</td>\n",
       "      <td>3521017083</td>\n",
       "      <td>336</td>\n",
       "      <td>280</td>\n",
       "      <td>2</td>\n",
       "      <td>0</td>\n",
       "      <td>5</td>\n",
       "      <td>13606a7c541dcd9ca1948875a760bb31</td>\n",
       "      <td>238</td>\n",
       "      <td>72</td>\n",
       "      <td>d29e59bf0f7f8243858b8183f14d4412</td>\n",
       "      <td>3358</td>\n",
       "      <td>13800,10024</td>\n",
       "    </tr>\n",
       "    <tr>\n",
       "      <th>2</th>\n",
       "      <td>3</td>\n",
       "      <td>0</td>\n",
       "      <td>False</td>\n",
       "      <td>VhL01pk8OTkW3Mc</td>\n",
       "      <td>Mozilla/5.0 (Windows NT 5.1) AppleWebKit/537.1...</td>\n",
       "      <td>58.100.240.*</td>\n",
       "      <td>94</td>\n",
       "      <td>95</td>\n",
       "      <td>1</td>\n",
       "      <td>tK1NTu1YP5scFsf</td>\n",
       "      <td>e22930480589abcc1468854cb3403314</td>\n",
       "      <td>NaN</td>\n",
       "      <td>mm_10075660_3500949_11453278</td>\n",
       "      <td>950</td>\n",
       "      <td>90</td>\n",
       "      <td>0</td>\n",
       "      <td>1</td>\n",
       "      <td>0</td>\n",
       "      <td>d5cecca9a6cbd7a0a48110f1306b26d1</td>\n",
       "      <td>227</td>\n",
       "      <td>108</td>\n",
       "      <td>d29e59bf0f7f8243858b8183f14d4412</td>\n",
       "      <td>3358</td>\n",
       "      <td>10059,13866,10063,10111</td>\n",
       "    </tr>\n",
       "    <tr>\n",
       "      <th>3</th>\n",
       "      <td>3</td>\n",
       "      <td>0</td>\n",
       "      <td>False</td>\n",
       "      <td>VhT3La5uDlaywOj</td>\n",
       "      <td>Mozilla/5.0 (Windows NT 5.1) AppleWebKit/537.1...</td>\n",
       "      <td>122.233.40.*</td>\n",
       "      <td>94</td>\n",
       "      <td>95</td>\n",
       "      <td>1</td>\n",
       "      <td>trqRTummPvas1m58uG</td>\n",
       "      <td>762a1aa930e6f41c969e77226c62f3a7</td>\n",
       "      <td>NaN</td>\n",
       "      <td>mm_10058411_2865562_9929053</td>\n",
       "      <td>300</td>\n",
       "      <td>250</td>\n",
       "      <td>2</td>\n",
       "      <td>1</td>\n",
       "      <td>0</td>\n",
       "      <td>44966cc8da1ed40c95d59e863c8c75f0</td>\n",
       "      <td>300</td>\n",
       "      <td>81</td>\n",
       "      <td>361e128affece850342293213691a043</td>\n",
       "      <td>3386</td>\n",
       "      <td>10057,10063,10024,13800,13866,10110</td>\n",
       "    </tr>\n",
       "    <tr>\n",
       "      <th>4</th>\n",
       "      <td>3</td>\n",
       "      <td>0</td>\n",
       "      <td>False</td>\n",
       "      <td>VhkSPnNDP8L8eYl</td>\n",
       "      <td>Opera/9.80 (Android; Opera Mini/7.7.33548/29.3...</td>\n",
       "      <td>58.67.157.*</td>\n",
       "      <td>216</td>\n",
       "      <td>217</td>\n",
       "      <td>1</td>\n",
       "      <td>trqRTuS8jZL7FmMs</td>\n",
       "      <td>1eb132233cd79996f8abdd03e2de6699</td>\n",
       "      <td>NaN</td>\n",
       "      <td>mm_40468498_3493773_11415894</td>\n",
       "      <td>300</td>\n",
       "      <td>250</td>\n",
       "      <td>0</td>\n",
       "      <td>5</td>\n",
       "      <td>0</td>\n",
       "      <td>d881a6c788e76c2c27ed1ef04f119544</td>\n",
       "      <td>227</td>\n",
       "      <td>89</td>\n",
       "      <td>d29e59bf0f7f8243858b8183f14d4412</td>\n",
       "      <td>3358</td>\n",
       "      <td>13866,10111</td>\n",
       "    </tr>\n",
       "  </tbody>\n",
       "</table>\n",
       "</div>"
      ],
      "text/plain": [
       "   day  hour  ...  advertiser_id                                          user_tags\n",
       "0    3     0  ...           3427  10063,10684,10083,13403,10059,10024,10048,1005...\n",
       "1    3     0  ...           3358                                        13800,10024\n",
       "2    3     0  ...           3358                            10059,13866,10063,10111\n",
       "3    3     0  ...           3386                10057,10063,10024,13800,13866,10110\n",
       "4    3     0  ...           3358                                        13866,10111\n",
       "\n",
       "[5 rows x 24 columns]"
      ]
     },
     "execution_count": 103,
     "metadata": {},
     "output_type": "execute_result"
    }
   ],
   "source": [
    "toy_imp=get_date(toy_imp)\n",
    "toy_imp.head()"
   ]
  },
  {
   "cell_type": "markdown",
   "metadata": {
    "id": "A_XDAsZWoFlT"
   },
   "source": [
    "***\n",
    "### Step 2: Dropping the unwated columns\n",
    "\n",
    "As we are in the buisness of finding patterns in data, any column which is unique for user can be safely removed. Based on this and other factors, columns to be dropped are,\n",
    "***\n",
    "Column Name | Reason to be dropped\n",
    " ---|---\n",
    "ipinyou_id & user_id & ad_slot_id | It's an internal user id and can be safely ignored as it is unque for every user and hence cannot be used for classification.\n",
    "anonymous_url_id & creative_id| Higly specialised for user and ad. Also, effects are set in place only after click.\n",
    "ip_adress | Can be used for location but would result in large number of categories as it is unique for every user.\n",
    "city_id | As it is all collected from china alone, using this data doesn't make sense for a generalized model. Also, this information is encoded in region_id.\n",
    "domain & URL | Both of this are hashed values corresponding to the hosting webpage of the ad slot. Is useless for the task where only the clicks matter. Whatever effect this has will all be after the user clicks the link.\n",
    "\n",
    "\n",
    "\n"
   ]
  },
  {
   "cell_type": "code",
   "execution_count": null,
   "metadata": {
    "id": "Af_dnNdAvPWt"
   },
   "outputs": [],
   "source": [
    "cols_to_be_dropped=['ipinyou_id','ip_address','city_id','domain','url',\n",
    "                    'anonymous_url_id','ad_slot_id','creative_id','key_page_url','user_tags']\n",
    "\n",
    "toy_imp.drop(columns=cols_to_be_dropped,inplace=True)"
   ]
  },
  {
   "cell_type": "code",
   "execution_count": null,
   "metadata": {
    "colab": {
     "base_uri": "https://localhost:8080/"
    },
    "id": "_hz-NdgryNUt",
    "outputId": "21a7eb04-8dfe-4da9-fe10-54b01cdad424"
   },
   "outputs": [
    {
     "name": "stdout",
     "output_type": "stream",
     "text": [
      "<class 'pandas.core.frame.DataFrame'>\n",
      "Int64Index: 100000 entries, 0 to 99999\n",
      "Data columns (total 14 columns):\n",
      " #   Column               Non-Null Count   Dtype \n",
      "---  ------               --------------   ----- \n",
      " 0   day                  100000 non-null  int64 \n",
      " 1   hour                 100000 non-null  int64 \n",
      " 2   click                100000 non-null  bool  \n",
      " 3   user_agent           99960 non-null   object\n",
      " 4   region_id            100000 non-null  int64 \n",
      " 5   ad_exchange          100000 non-null  int64 \n",
      " 6   ad_slot_width        100000 non-null  int64 \n",
      " 7   ad_slot_height       100000 non-null  int64 \n",
      " 8   ad_slot_visibility   100000 non-null  int64 \n",
      " 9   ad_slot              100000 non-null  int64 \n",
      " 10  ad_slot_floor_price  100000 non-null  int64 \n",
      " 11  bidding_price        100000 non-null  int64 \n",
      " 12  paying_price         100000 non-null  int64 \n",
      " 13  advertiser_id        100000 non-null  int64 \n",
      "dtypes: bool(1), int64(12), object(1)\n",
      "memory usage: 10.8+ MB\n"
     ]
    }
   ],
   "source": [
    "toy_imp.info()"
   ]
  },
  {
   "cell_type": "markdown",
   "metadata": {
    "id": "b4yGQvIWhC1A"
   },
   "source": [
    "***\n",
    "### Step 3: Determining what kind of operating system and browser the user is using\n",
    "\n",
    "* We convert the os and browser in to a categorical variable."
   ]
  },
  {
   "cell_type": "code",
   "execution_count": null,
   "metadata": {
    "id": "Z_G8L1l5zubo"
   },
   "outputs": [],
   "source": [
    "class user_agent(object):\n",
    "    def __init__(self,df):\n",
    "        self.df = df\n",
    "        self.df.rename(columns={'user_agent':'browser'},inplace=True)\n",
    "        self.df['browser'] = df['browser'].astype(str)\n",
    "        self.cols = None\n",
    "\n",
    "    def map_browser(self,agent):\n",
    "        browsers = ['edge', 'trident', 'chrome', 'firefox', 'safari', 'opera']\n",
    "        for browser in browsers:\n",
    "            if browser in agent.lower():\n",
    "                return 'ie' if browser == 'trident' else browser\n",
    "        return 'other'\n",
    "    \n",
    "    def map_os(self,agent):\n",
    "        os_list = ['windows', 'linux', 'mac os x']\n",
    "        for os in os_list:\n",
    "            if os in agent.lower():\n",
    "                return os\n",
    "        return 'other'\n",
    "    \n",
    "    def reorder_cols(self,target_index):\n",
    "        cols = [col for col in self.df]\n",
    "        cols[target_index],cols[-1] = cols[-1],cols[target_index]\n",
    "        self.df = self.df[cols]\n",
    "        return self.df\n",
    "\n",
    "\n",
    "    def create_cols(self):\n",
    "        self.df['os'] = self.df['browser'].map(lambda x: self.map_os(x), na_action=None)\n",
    "        self.df['os'] = self.df['os'].astype('category')\n",
    "        self.df['browser'] = self.df['browser'].map(lambda x: self.map_browser(x), na_action=None)\n",
    "        self.df['browser'] = self.df['browser'].astype('category')\n",
    "        self.df = self.reorder_cols(4)\n",
    "        return self.df\n",
    "\n"
   ]
  },
  {
   "cell_type": "code",
   "execution_count": null,
   "metadata": {
    "id": "pNcrj4ar2V4V"
   },
   "outputs": [],
   "source": [
    "c= user_agent(toy_imp)\n",
    "toy_imp = c.create_cols()"
   ]
  },
  {
   "cell_type": "code",
   "execution_count": null,
   "metadata": {
    "colab": {
     "base_uri": "https://localhost:8080/",
     "height": 163
    },
    "id": "enulgHY--MOw",
    "outputId": "31c55a77-2b1b-4301-d283-6b2bde75eb2a"
   },
   "outputs": [
    {
     "data": {
      "text/html": [
       "<div>\n",
       "<style scoped>\n",
       "    .dataframe tbody tr th:only-of-type {\n",
       "        vertical-align: middle;\n",
       "    }\n",
       "\n",
       "    .dataframe tbody tr th {\n",
       "        vertical-align: top;\n",
       "    }\n",
       "\n",
       "    .dataframe thead th {\n",
       "        text-align: right;\n",
       "    }\n",
       "</style>\n",
       "<table border=\"1\" class=\"dataframe\">\n",
       "  <thead>\n",
       "    <tr style=\"text-align: right;\">\n",
       "      <th></th>\n",
       "      <th>day</th>\n",
       "      <th>hour</th>\n",
       "      <th>click</th>\n",
       "      <th>browser</th>\n",
       "      <th>os</th>\n",
       "      <th>ad_exchange</th>\n",
       "      <th>ad_slot_width</th>\n",
       "      <th>ad_slot_height</th>\n",
       "      <th>ad_slot_visibility</th>\n",
       "      <th>ad_slot</th>\n",
       "      <th>ad_slot_floor_price</th>\n",
       "      <th>bidding_price</th>\n",
       "      <th>paying_price</th>\n",
       "      <th>advertiser_id</th>\n",
       "      <th>region_id</th>\n",
       "    </tr>\n",
       "  </thead>\n",
       "  <tbody>\n",
       "    <tr>\n",
       "      <th>99997</th>\n",
       "      <td>3</td>\n",
       "      <td>1</td>\n",
       "      <td>False</td>\n",
       "      <td>chrome</td>\n",
       "      <td>windows</td>\n",
       "      <td>2</td>\n",
       "      <td>300</td>\n",
       "      <td>250</td>\n",
       "      <td>1</td>\n",
       "      <td>0</td>\n",
       "      <td>5</td>\n",
       "      <td>249</td>\n",
       "      <td>120</td>\n",
       "      <td>3476</td>\n",
       "      <td>124</td>\n",
       "    </tr>\n",
       "    <tr>\n",
       "      <th>99998</th>\n",
       "      <td>3</td>\n",
       "      <td>1</td>\n",
       "      <td>False</td>\n",
       "      <td>ie</td>\n",
       "      <td>windows</td>\n",
       "      <td>2</td>\n",
       "      <td>336</td>\n",
       "      <td>280</td>\n",
       "      <td>2</td>\n",
       "      <td>0</td>\n",
       "      <td>4</td>\n",
       "      <td>249</td>\n",
       "      <td>42</td>\n",
       "      <td>3476</td>\n",
       "      <td>124</td>\n",
       "    </tr>\n",
       "    <tr>\n",
       "      <th>99999</th>\n",
       "      <td>3</td>\n",
       "      <td>1</td>\n",
       "      <td>False</td>\n",
       "      <td>ie</td>\n",
       "      <td>windows</td>\n",
       "      <td>3</td>\n",
       "      <td>728</td>\n",
       "      <td>90</td>\n",
       "      <td>0</td>\n",
       "      <td>0</td>\n",
       "      <td>20</td>\n",
       "      <td>300</td>\n",
       "      <td>20</td>\n",
       "      <td>3386</td>\n",
       "      <td>216</td>\n",
       "    </tr>\n",
       "  </tbody>\n",
       "</table>\n",
       "</div>"
      ],
      "text/plain": [
       "       day  hour  click  ... paying_price advertiser_id  region_id\n",
       "99997    3     1  False  ...          120          3476        124\n",
       "99998    3     1  False  ...           42          3476        124\n",
       "99999    3     1  False  ...           20          3386        216\n",
       "\n",
       "[3 rows x 15 columns]"
      ]
     },
     "execution_count": 108,
     "metadata": {},
     "output_type": "execute_result"
    }
   ],
   "source": [
    "toy_imp.tail(3)"
   ]
  },
  {
   "cell_type": "code",
   "execution_count": null,
   "metadata": {
    "id": "nfTzi3mf3-mQ"
   },
   "outputs": [],
   "source": [
    "toy_imp['region_id'].value_counts()"
   ]
  },
  {
   "cell_type": "code",
   "execution_count": null,
   "metadata": {
    "id": "ZvF6rIfi7vw3"
   },
   "outputs": [],
   "source": [
    "df['browser'].value_counts()"
   ]
  },
  {
   "cell_type": "code",
   "execution_count": null,
   "metadata": {
    "colab": {
     "base_uri": "https://localhost:8080/"
    },
    "id": "fEuAFXdzOU4z",
    "outputId": "2887d2df-c765-42dd-da37-ddfa97e7d884"
   },
   "outputs": [
    {
     "name": "stdout",
     "output_type": "stream",
     "text": [
      "<class 'pandas.core.frame.DataFrame'>\n",
      "Int64Index: 100000 entries, 0 to 99999\n",
      "Data columns (total 15 columns):\n",
      " #   Column               Non-Null Count   Dtype   \n",
      "---  ------               --------------   -----   \n",
      " 0   day                  100000 non-null  int64   \n",
      " 1   hour                 100000 non-null  int64   \n",
      " 2   click                100000 non-null  bool    \n",
      " 3   browser              100000 non-null  category\n",
      " 4   os                   100000 non-null  category\n",
      " 5   ad_exchange          100000 non-null  int64   \n",
      " 6   ad_slot_width        100000 non-null  int64   \n",
      " 7   ad_slot_height       100000 non-null  int64   \n",
      " 8   ad_slot_visibility   100000 non-null  int64   \n",
      " 9   ad_slot              100000 non-null  int64   \n",
      " 10  ad_slot_floor_price  100000 non-null  int64   \n",
      " 11  bidding_price        100000 non-null  int64   \n",
      " 12  paying_price         100000 non-null  int64   \n",
      " 13  advertiser_id        100000 non-null  int64   \n",
      " 14  region_id            100000 non-null  int64   \n",
      "dtypes: bool(1), category(2), int64(12)\n",
      "memory usage: 10.2 MB\n"
     ]
    }
   ],
   "source": [
    "toy_imp.info()"
   ]
  },
  {
   "cell_type": "code",
   "execution_count": null,
   "metadata": {
    "colab": {
     "base_uri": "https://localhost:8080/"
    },
    "id": "UamheygSOhst",
    "outputId": "4c3ba438-f88d-49e7-e00d-737abfa0ee5c"
   },
   "outputs": [
    {
     "data": {
      "text/plain": [
       "Index(['click', 'day', 'hour', 'browser', 'os', 'ad_exchange', 'ad_slot_width',\n",
       "       'ad_slot_height', 'ad_slot_visibility', 'ad_slot',\n",
       "       'ad_slot_floor_price', 'bidding_price', 'paying_price', 'advertiser_id',\n",
       "       'region_id'],\n",
       "      dtype='object')"
      ]
     },
     "execution_count": 77,
     "metadata": {},
     "output_type": "execute_result"
    }
   ],
   "source": [
    "toy_imp.columns"
   ]
  },
  {
   "cell_type": "markdown",
   "metadata": {
    "id": "XS2RGUaj-CRn"
   },
   "source": [
    "***\n",
    "### Step 4: Conversion to Numeric Features\n",
    "\n",
    "* bidding_price is the price bid from the ipinyou for the bid request and paying_price is the actual price paid.\n",
    "* This won't need any modification as we are only using impression logs.\n",
    "* Along with this two columns, the list of columns that needs to used as integer are,"
   ]
  },
  {
   "cell_type": "code",
   "execution_count": null,
   "metadata": {
    "id": "dZ1i5vnWORer"
   },
   "outputs": [],
   "source": [
    "int_cols=['ad_slot_width','ad_slot_height','ad_slot_floor_price', 'bidding_price', 'paying_price']\n",
    "\n",
    "def numerise_features(df,int_cols=['ad_slot_width','ad_slot_height','ad_slot_floor_price', 'bidding_price', 'paying_price']):\n",
    "    for feature in int_cols:\n",
    "        df[feature] = df[feature].astype('int32')\n",
    "    return df"
   ]
  },
  {
   "cell_type": "code",
   "execution_count": null,
   "metadata": {
    "id": "NgPW8jTLPL6r"
   },
   "outputs": [],
   "source": [
    "toy_imp=numerise_features(toy_imp)\n"
   ]
  },
  {
   "cell_type": "code",
   "execution_count": null,
   "metadata": {
    "colab": {
     "base_uri": "https://localhost:8080/"
    },
    "id": "KWVZqu9nPTby",
    "outputId": "0a2a6754-6bb7-48c3-ae77-0e6ec83d8e99"
   },
   "outputs": [
    {
     "name": "stdout",
     "output_type": "stream",
     "text": [
      "<class 'pandas.core.frame.DataFrame'>\n",
      "Int64Index: 100000 entries, 0 to 99999\n",
      "Data columns (total 15 columns):\n",
      " #   Column               Non-Null Count   Dtype   \n",
      "---  ------               --------------   -----   \n",
      " 0   click                100000 non-null  bool    \n",
      " 1   day                  100000 non-null  int64   \n",
      " 2   hour                 100000 non-null  int64   \n",
      " 3   browser              100000 non-null  category\n",
      " 4   os                   100000 non-null  category\n",
      " 5   ad_exchange          100000 non-null  int64   \n",
      " 6   ad_slot_width        100000 non-null  int32   \n",
      " 7   ad_slot_height       100000 non-null  int32   \n",
      " 8   ad_slot_visibility   100000 non-null  int64   \n",
      " 9   ad_slot              100000 non-null  int64   \n",
      " 10  ad_slot_floor_price  100000 non-null  int32   \n",
      " 11  bidding_price        100000 non-null  int32   \n",
      " 12  paying_price         100000 non-null  int32   \n",
      " 13  advertiser_id        100000 non-null  int64   \n",
      " 14  region_id            100000 non-null  int64   \n",
      "dtypes: bool(1), category(2), int32(5), int64(7)\n",
      "memory usage: 8.3 MB\n"
     ]
    }
   ],
   "source": [
    "toy_imp.info()"
   ]
  },
  {
   "cell_type": "code",
   "execution_count": null,
   "metadata": {
    "colab": {
     "base_uri": "https://localhost:8080/"
    },
    "id": "Huw6Xgp48BYg",
    "outputId": "1d783f02-9462-4399-c190-7ae4f2e2c071"
   },
   "outputs": [
    {
     "data": {
      "text/plain": [
       "20     7066\n",
       "80     3160\n",
       "22     2871\n",
       "50     2443\n",
       "21     2263\n",
       "       ... \n",
       "285       4\n",
       "269       4\n",
       "297       3\n",
       "273       3\n",
       "298       1\n",
       "Name: paying_price, Length: 301, dtype: int64"
      ]
     },
     "execution_count": 161,
     "metadata": {},
     "output_type": "execute_result"
    }
   ],
   "source": [
    "df['paying_price'].value_counts()"
   ]
  },
  {
   "cell_type": "code",
   "execution_count": null,
   "metadata": {
    "colab": {
     "base_uri": "https://localhost:8080/"
    },
    "id": "niztJRf3BauU",
    "outputId": "f99cb8b4-1c62-45b8-af70-d75d24f4e5b0"
   },
   "outputs": [
    {
     "data": {
      "text/plain": [
       "300    44762\n",
       "238    21099\n",
       "227    17609\n",
       "241     6715\n",
       "254     5071\n",
       "249     4744\n",
       "Name: bidding_price, dtype: int64"
      ]
     },
     "execution_count": 162,
     "metadata": {},
     "output_type": "execute_result"
    }
   ],
   "source": [
    "df['bidding_price'].value_counts()"
   ]
  },
  {
   "cell_type": "code",
   "execution_count": null,
   "metadata": {
    "colab": {
     "base_uri": "https://localhost:8080/"
    },
    "id": "9cohPcqMBtLL",
    "outputId": "2491016c-fc50-4399-df63-c426333cdb6e"
   },
   "outputs": [
    {
     "data": {
      "text/plain": [
       "Index(['click', 'day', 'hour', 'browser', 'os', 'ad_exchange', 'ad_slot_width',\n",
       "       'ad_slot_height', 'ad_slot_visibility', 'ad_slot',\n",
       "       'ad_slot_floor_price', 'bidding_price', 'paying_price', 'advertiser_id',\n",
       "       'region_id'],\n",
       "      dtype='object')"
      ]
     },
     "execution_count": 85,
     "metadata": {},
     "output_type": "execute_result"
    }
   ],
   "source": [
    "toy_imp.columns"
   ]
  },
  {
   "cell_type": "markdown",
   "metadata": {
    "id": "YZbPUX2HDf3I"
   },
   "source": [
    "\n",
    "### Step 5: Conversion to Category features\n",
    "\n",
    "The features that will be categorized are,\n",
    "\n",
    "Feature to be categorized | Reason\n",
    "---|---\n",
    "day | Can only be one of the seven days of a week.\n",
    "time | Can only be one of 24 hours in a day.\n",
    "ad_slot_visibility | Describes the times after which the ad was displayed before it was clicked.\n",
    "ad_slot | Describes the format in which the ad was displayed, whether it was an pop-up window, background etc...\n",
    "ad_exchange | This corresponds to the DSP the bid was placed from and hence can only will take categorical values.\n",
    "advertiser_id | There are only a few advertisers.\n",
    "region_id | Can only be a set of localites.\n"
   ]
  },
  {
   "cell_type": "code",
   "execution_count": null,
   "metadata": {
    "id": "qo-6UGr2GAio"
   },
   "outputs": [],
   "source": [
    "category_features = ['day', 'hour','ad_slot_visibility','ad_slot','ad_exchange']\n",
    "\n",
    "\n",
    "def categorize_features(df,category_features = ['day','hour','ad_slot_visibility','ad_slot','advertiser_id','ad_exchange','region_id']):\n",
    "    for feature in category_features:\n",
    "        df[feature]=df[feature].astype('category')\n",
    "    return df\n"
   ]
  },
  {
   "cell_type": "code",
   "execution_count": null,
   "metadata": {
    "colab": {
     "base_uri": "https://localhost:8080/"
    },
    "id": "e0gf9SV5ESkW",
    "outputId": "8719cea6-90a4-4f21-809b-f0575d249333"
   },
   "outputs": [
    {
     "name": "stdout",
     "output_type": "stream",
     "text": [
      "<class 'pandas.core.frame.DataFrame'>\n",
      "Int64Index: 100000 entries, 0 to 99999\n",
      "Data columns (total 15 columns):\n",
      " #   Column               Non-Null Count   Dtype   \n",
      "---  ------               --------------   -----   \n",
      " 0   click                100000 non-null  bool    \n",
      " 1   day                  100000 non-null  category\n",
      " 2   hour                 100000 non-null  category\n",
      " 3   browser              100000 non-null  category\n",
      " 4   os                   100000 non-null  category\n",
      " 5   ad_exchange          100000 non-null  category\n",
      " 6   ad_slot_width        100000 non-null  int32   \n",
      " 7   ad_slot_height       100000 non-null  int32   \n",
      " 8   ad_slot_visibility   100000 non-null  category\n",
      " 9   ad_slot              100000 non-null  category\n",
      " 10  ad_slot_floor_price  100000 non-null  int32   \n",
      " 11  bidding_price        100000 non-null  int32   \n",
      " 12  paying_price         100000 non-null  int32   \n",
      " 13  advertiser_id        100000 non-null  category\n",
      " 14  region_id            100000 non-null  category\n",
      "dtypes: bool(1), category(9), int32(5)\n",
      "memory usage: 3.6 MB\n"
     ]
    }
   ],
   "source": [
    "toy_imp = categorize_features(toy_imp)\n",
    "toy_imp.info()"
   ]
  },
  {
   "cell_type": "markdown",
   "metadata": {
    "id": "8mzxH_arKEVL"
   },
   "source": [
    "***\n",
    "***"
   ]
  },
  {
   "cell_type": "markdown",
   "metadata": {
    "id": "uetNuIAtKygo"
   },
   "source": [
    "## Preprocessing the whole imp_logs\n",
    "\n",
    "* Here we will apply steps 0-5 to the whole 'imp_logs.csv' and consequntly create the train dataset."
   ]
  },
  {
   "cell_type": "code",
   "execution_count": null,
   "metadata": {
    "id": "zYGm3_LMyzQ0"
   },
   "outputs": [],
   "source": [
    "#Creating an iterator for imp_logs.\n",
    "imp_iter = pd.read_csv(path_imp,chunksize=100000)"
   ]
  },
  {
   "cell_type": "code",
   "execution_count": null,
   "metadata": {
    "id": "uzvmG-OpQ7se"
   },
   "outputs": [],
   "source": [
    "p = 'TRAIN/imp_chunks/'\n",
    "def get_data(path_clk,path_imp,mode='Train'):\n",
    "    cols_to_be_dropped=['ipinyou_id','ip_address','city_id','domain','url',\n",
    "                    'anonymous_url_id','ad_slot_id','creative_id','key_page_url','user_tags']\n",
    "    clk_df=pd.read_csv(path_clk)\n",
    "    chunks =pd.read_csv(path_imp, chunksize=100000)\n",
    "    df=pd.DataFrame()\n",
    "    print('Begin preprocessing...')\n",
    "    for chunk in tqdm(chunks):\n",
    "        #Step 0\n",
    "        chunk=create_click_col(chunk,clk_df)    \n",
    "        #Step 1\n",
    "        chunk=get_date(chunk)\n",
    "        #Step 2\n",
    "        chunk.drop(columns=cols_to_be_dropped,axis=1,inplace=True)\n",
    "        #Step 3\n",
    "        col_creator= user_agent(chunk)\n",
    "        chunk = col_creator.create_cols()\n",
    "        #Step 4\n",
    "        chunk=numerise_features(chunk)\n",
    "        #Step 5\n",
    "        chunk=categorize_features(chunk)\n",
    "        if mode=='Test':\n",
    "            chunk.drop(columns=['click'],axis=1,inplace=True)\n",
    "        #Concatenation.\n",
    "        df = pd.concat([df,chunk],ignore_index=True)\n",
    "    print('Ufff! Finally, I am done.')\n",
    "    return df"
   ]
  },
  {
   "cell_type": "code",
   "execution_count": null,
   "metadata": {
    "colab": {
     "base_uri": "https://localhost:8080/"
    },
    "id": "_RsKHpl6S1uh",
    "outputId": "31eaf782-8095-481a-e838-37db3156ca6e"
   },
   "outputs": [
    {
     "name": "stdout",
     "output_type": "stream",
     "text": [
      "Begin preprocessing...\n"
     ]
    },
    {
     "name": "stderr",
     "output_type": "stream",
     "text": [
      "14it [00:34,  2.52s/it]/usr/local/lib/python3.7/dist-packages/pandas/core/frame.py:4174: SettingWithCopyWarning: \n",
      "A value is trying to be set on a copy of a slice from a DataFrame\n",
      "\n",
      "See the caveats in the documentation: https://pandas.pydata.org/pandas-docs/stable/user_guide/indexing.html#returning-a-view-versus-a-copy\n",
      "  errors=errors,\n",
      "/usr/local/lib/python3.7/dist-packages/pandas/core/frame.py:4308: SettingWithCopyWarning: \n",
      "A value is trying to be set on a copy of a slice from a DataFrame\n",
      "\n",
      "See the caveats in the documentation: https://pandas.pydata.org/pandas-docs/stable/user_guide/indexing.html#returning-a-view-versus-a-copy\n",
      "  errors=errors,\n",
      "26it [01:03,  2.42s/it]"
     ]
    },
    {
     "name": "stdout",
     "output_type": "stream",
     "text": [
      "Ufff! Finally, I am done.\n"
     ]
    },
    {
     "name": "stderr",
     "output_type": "stream",
     "text": [
      "\n"
     ]
    }
   ],
   "source": [
    "test_df = get_data(path_clk=path_clk,path_imp='TEST/tst_logs.csv',mode='Test')"
   ]
  },
  {
   "cell_type": "code",
   "execution_count": null,
   "metadata": {
    "colab": {
     "base_uri": "https://localhost:8080/",
     "height": 226
    },
    "id": "qCbXx9t3UlgS",
    "outputId": "be631fd7-c576-4a02-df33-ba2ea4ec41c4"
   },
   "outputs": [
    {
     "data": {
      "text/html": [
       "<div>\n",
       "<style scoped>\n",
       "    .dataframe tbody tr th:only-of-type {\n",
       "        vertical-align: middle;\n",
       "    }\n",
       "\n",
       "    .dataframe tbody tr th {\n",
       "        vertical-align: top;\n",
       "    }\n",
       "\n",
       "    .dataframe thead th {\n",
       "        text-align: right;\n",
       "    }\n",
       "</style>\n",
       "<table border=\"1\" class=\"dataframe\">\n",
       "  <thead>\n",
       "    <tr style=\"text-align: right;\">\n",
       "      <th></th>\n",
       "      <th>day</th>\n",
       "      <th>hour</th>\n",
       "      <th>browser</th>\n",
       "      <th>os</th>\n",
       "      <th>ad_exchange</th>\n",
       "      <th>ad_slot_width</th>\n",
       "      <th>ad_slot_height</th>\n",
       "      <th>ad_slot_visibility</th>\n",
       "      <th>ad_slot</th>\n",
       "      <th>ad_slot_floor_price</th>\n",
       "      <th>bidding_price</th>\n",
       "      <th>paying_price</th>\n",
       "      <th>advertiser_id</th>\n",
       "      <th>region_id</th>\n",
       "    </tr>\n",
       "  </thead>\n",
       "  <tbody>\n",
       "    <tr>\n",
       "      <th>0</th>\n",
       "      <td>3</td>\n",
       "      <td>0</td>\n",
       "      <td>chrome</td>\n",
       "      <td>windows</td>\n",
       "      <td>1</td>\n",
       "      <td>950</td>\n",
       "      <td>90</td>\n",
       "      <td>0</td>\n",
       "      <td>1</td>\n",
       "      <td>0</td>\n",
       "      <td>227</td>\n",
       "      <td>29</td>\n",
       "      <td>3358</td>\n",
       "      <td>94</td>\n",
       "    </tr>\n",
       "    <tr>\n",
       "      <th>1</th>\n",
       "      <td>3</td>\n",
       "      <td>0</td>\n",
       "      <td>chrome</td>\n",
       "      <td>windows</td>\n",
       "      <td>1</td>\n",
       "      <td>950</td>\n",
       "      <td>90</td>\n",
       "      <td>0</td>\n",
       "      <td>1</td>\n",
       "      <td>0</td>\n",
       "      <td>227</td>\n",
       "      <td>20</td>\n",
       "      <td>3427</td>\n",
       "      <td>146</td>\n",
       "    </tr>\n",
       "    <tr>\n",
       "      <th>2</th>\n",
       "      <td>3</td>\n",
       "      <td>0</td>\n",
       "      <td>ie</td>\n",
       "      <td>windows</td>\n",
       "      <td>2</td>\n",
       "      <td>728</td>\n",
       "      <td>90</td>\n",
       "      <td>2</td>\n",
       "      <td>0</td>\n",
       "      <td>5</td>\n",
       "      <td>238</td>\n",
       "      <td>63</td>\n",
       "      <td>3427</td>\n",
       "      <td>79</td>\n",
       "    </tr>\n",
       "    <tr>\n",
       "      <th>3</th>\n",
       "      <td>3</td>\n",
       "      <td>0</td>\n",
       "      <td>chrome</td>\n",
       "      <td>windows</td>\n",
       "      <td>1</td>\n",
       "      <td>300</td>\n",
       "      <td>250</td>\n",
       "      <td>0</td>\n",
       "      <td>5</td>\n",
       "      <td>0</td>\n",
       "      <td>300</td>\n",
       "      <td>293</td>\n",
       "      <td>3386</td>\n",
       "      <td>40</td>\n",
       "    </tr>\n",
       "    <tr>\n",
       "      <th>4</th>\n",
       "      <td>3</td>\n",
       "      <td>0</td>\n",
       "      <td>chrome</td>\n",
       "      <td>windows</td>\n",
       "      <td>1</td>\n",
       "      <td>300</td>\n",
       "      <td>250</td>\n",
       "      <td>2</td>\n",
       "      <td>1</td>\n",
       "      <td>0</td>\n",
       "      <td>227</td>\n",
       "      <td>120</td>\n",
       "      <td>3358</td>\n",
       "      <td>183</td>\n",
       "    </tr>\n",
       "  </tbody>\n",
       "</table>\n",
       "</div>"
      ],
      "text/plain": [
       "   day  hour browser  ... paying_price advertiser_id  region_id\n",
       "0    3     0  chrome  ...           29          3358         94\n",
       "1    3     0  chrome  ...           20          3427        146\n",
       "2    3     0      ie  ...           63          3427         79\n",
       "3    3     0  chrome  ...          293          3386         40\n",
       "4    3     0  chrome  ...          120          3358        183\n",
       "\n",
       "[5 rows x 14 columns]"
      ]
     },
     "execution_count": 129,
     "metadata": {},
     "output_type": "execute_result"
    }
   ],
   "source": [
    "test_df.head()"
   ]
  },
  {
   "cell_type": "code",
   "execution_count": null,
   "metadata": {
    "colab": {
     "base_uri": "https://localhost:8080/"
    },
    "id": "h1G2KUcxLHmn",
    "outputId": "a6dfd5b3-b7ca-4a17-d176-c6aff0ce97d2"
   },
   "outputs": [
    {
     "name": "stdout",
     "output_type": "stream",
     "text": [
      "<class 'pandas.core.frame.DataFrame'>\n",
      "RangeIndex: 2521627 entries, 0 to 2521626\n",
      "Data columns (total 14 columns):\n",
      " #   Column               Dtype   \n",
      "---  ------               -----   \n",
      " 0   day                  int64   \n",
      " 1   hour                 int64   \n",
      " 2   browser              category\n",
      " 3   os                   category\n",
      " 4   ad_exchange          category\n",
      " 5   ad_slot_width        int32   \n",
      " 6   ad_slot_height       int32   \n",
      " 7   ad_slot_visibility   category\n",
      " 8   ad_slot              category\n",
      " 9   ad_slot_floor_price  int32   \n",
      " 10  bidding_price        int32   \n",
      " 11  paying_price         int32   \n",
      " 12  advertiser_id        int64   \n",
      " 13  region_id            category\n",
      "dtypes: category(6), int32(5), int64(3)\n",
      "memory usage: 120.2 MB\n"
     ]
    }
   ],
   "source": [
    "test_df.info()"
   ]
  },
  {
   "cell_type": "code",
   "execution_count": null,
   "metadata": {
    "colab": {
     "base_uri": "https://localhost:8080/"
    },
    "id": "phU8ExZWL0CK",
    "outputId": "c595a8c5-84a2-44f0-f516-1b0b6c1348b3"
   },
   "outputs": [
    {
     "data": {
      "text/plain": [
       "day                    0\n",
       "hour                   0\n",
       "click                  0\n",
       "browser                0\n",
       "os                     0\n",
       "ad_exchange            0\n",
       "ad_slot_width          0\n",
       "ad_slot_height         0\n",
       "ad_slot_visibility     0\n",
       "ad_slot                0\n",
       "ad_slot_floor_price    0\n",
       "bidding_price          0\n",
       "paying_price           0\n",
       "advertiser_id          0\n",
       "region_id              0\n",
       "dtype: int64"
      ]
     },
     "execution_count": 117,
     "metadata": {},
     "output_type": "execute_result"
    }
   ],
   "source": [
    "#Checking if there are some null values.\n",
    "train_df.isnull().sum()"
   ]
  },
  {
   "cell_type": "code",
   "execution_count": null,
   "metadata": {
    "id": "m2GMT8scUHNi"
   },
   "outputs": [],
   "source": [
    "#Writing the dataframe as a csv file for further usage.\n",
    "train_df.to_csv('TRAIN/train.csv')"
   ]
  },
  {
   "cell_type": "code",
   "execution_count": null,
   "metadata": {
    "id": "cJjMfwnDUvjO"
   },
   "outputs": [],
   "source": [
    "df = pd.read_csv('TRAIN/train.csv')"
   ]
  },
  {
   "cell_type": "code",
   "execution_count": null,
   "metadata": {
    "id": "BhE4xst9U9cG"
   },
   "outputs": [],
   "source": [
    "df['advertiser_id'] = df['advertiser_id'].astype('category')\n",
    "df.info()"
   ]
  },
  {
   "cell_type": "code",
   "execution_count": null,
   "metadata": {
    "id": "ZpPhg6enVEHi"
   },
   "outputs": [],
   "source": []
  },
  {
   "cell_type": "markdown",
   "id": "innocent-warrant",
   "metadata": {},
   "source": [
    "# Notebook 3: Data Exploration\n",
    "\n",
    "In this notebook we will explore the 'train.csv' created by the end of notebook 2."
   ]
  },
  {
   "cell_type": "code",
   "execution_count": 1,
   "id": "loving-finish",
   "metadata": {
    "ExecuteTime": {
     "end_time": "2021-11-13T05:21:06.955715Z",
     "start_time": "2021-11-13T05:20:59.881322Z"
    }
   },
   "outputs": [],
   "source": [
    "#Importing the required libraries.\n",
    "import pandas as pd\n",
    "from tqdm import tqdm\n",
    "import os\n",
    "import numpy as np\n",
    "import matplotlib.pyplot as plt\n",
    "pd.options.display.max_columns = 1000\n",
    "import seaborn as sns\n",
    "from random import randrange\n",
    "%matplotlib inline\n"
   ]
  },
  {
   "cell_type": "code",
   "execution_count": 2,
   "id": "abstract-illustration",
   "metadata": {
    "ExecuteTime": {
     "end_time": "2021-11-13T05:21:06.977891Z",
     "start_time": "2021-11-13T05:21:06.955715Z"
    }
   },
   "outputs": [],
   "source": [
    "#Loading the custom made libraries.\n",
    "from preprocessCSV import *\n",
    "\n",
    "class display(object):\n",
    "    \"\"\"Display HTML representation of multiple objects\"\"\"\n",
    "    template = \"\"\"<div style=\"float: left; padding: 10px;\">\n",
    "    <p style='font-family:\"Courier New\", Courier, monospace'>{0}</p>{1}\n",
    "    </div>\"\"\"\n",
    "    def __init__(self, *args):\n",
    "        self.args = args\n",
    "        \n",
    "    def _repr_html_(self):\n",
    "        return '\\n'.join(self.template.format(a, eval(a)._repr_html_())\n",
    "                         for a in self.args)\n",
    "    \n",
    "    def __repr__(self):\n",
    "        return '\\n\\n'.join(a + '\\n' + repr(eval(a))\n",
    "                           for a in self.args)"
   ]
  },
  {
   "cell_type": "code",
   "execution_count": 3,
   "id": "furnished-marina",
   "metadata": {
    "ExecuteTime": {
     "end_time": "2021-11-13T05:21:19.841284Z",
     "start_time": "2021-11-13T05:21:06.977891Z"
    }
   },
   "outputs": [],
   "source": [
    "train = pd.read_csv(r'Data/train.csv')\n",
    "validate = pd.read_csv(r'Data/validation.csv')"
   ]
  },
  {
   "cell_type": "code",
   "execution_count": 4,
   "id": "extra-danish",
   "metadata": {
    "ExecuteTime": {
     "end_time": "2021-11-13T05:21:30.074331Z",
     "start_time": "2021-11-13T05:21:19.841284Z"
    }
   },
   "outputs": [
    {
     "name": "stdout",
     "output_type": "stream",
     "text": [
      "<class 'pandas.core.frame.DataFrame'>\n",
      "RangeIndex: 7342235 entries, 0 to 7342234\n",
      "Data columns (total 15 columns):\n",
      " #   Column               Dtype   \n",
      "---  ------               -----   \n",
      " 0   day                  category\n",
      " 1   hour                 category\n",
      " 2   click                int32   \n",
      " 3   browser              category\n",
      " 4   os                   category\n",
      " 5   ad_exchange          category\n",
      " 6   ad_slot_width        int32   \n",
      " 7   ad_slot_height       int32   \n",
      " 8   ad_slot_visibility   category\n",
      " 9   ad_slot              category\n",
      " 10  ad_slot_floor_price  int32   \n",
      " 11  bidding_price        int32   \n",
      " 12  paying_price         int32   \n",
      " 13  advertiser_id        category\n",
      " 14  region_id            category\n",
      "dtypes: category(9), int32(6)\n",
      "memory usage: 231.1 MB\n",
      "<class 'pandas.core.frame.DataFrame'>\n",
      "RangeIndex: 2447412 entries, 0 to 2447411\n",
      "Data columns (total 15 columns):\n",
      " #   Column               Dtype   \n",
      "---  ------               -----   \n",
      " 0   day                  category\n",
      " 1   hour                 category\n",
      " 2   click                int32   \n",
      " 3   browser              category\n",
      " 4   os                   category\n",
      " 5   ad_exchange          category\n",
      " 6   ad_slot_width        int32   \n",
      " 7   ad_slot_height       int32   \n",
      " 8   ad_slot_visibility   category\n",
      " 9   ad_slot              category\n",
      " 10  ad_slot_floor_price  int32   \n",
      " 11  bidding_price        int32   \n",
      " 12  paying_price         int32   \n",
      " 13  advertiser_id        category\n",
      " 14  region_id            category\n",
      "dtypes: category(9), int32(6)\n",
      "memory usage: 77.0 MB\n"
     ]
    }
   ],
   "source": [
    "#Making sure the dataset is of the correct dtype using the custom features from prepocessCSV.\n",
    "for data in [train,validate]:\n",
    "    data.drop(['Unnamed: 0'],axis =1, inplace =True)\n",
    "    data = categorize_features(data)\n",
    "    data = numerise_features(data)\n",
    "    data.info()"
   ]
  },
  {
   "cell_type": "markdown",
   "id": "liquid-union",
   "metadata": {},
   "source": [
    "* Above we have an overview of the various features and their datatypes. \n",
    "* We will define a function to print out the stats and other kPI's of the RTB such as Click Through Rate (CTR), Cost Per Click (CPC)."
   ]
  },
  {
   "cell_type": "code",
   "execution_count": 5,
   "id": "clean-anime",
   "metadata": {
    "ExecuteTime": {
     "end_time": "2021-11-13T05:21:30.155375Z",
     "start_time": "2021-11-13T05:21:30.084456Z"
    }
   },
   "outputs": [],
   "source": [
    "#Utilities.\n",
    "def describe_feature(data, feature, min_bid=False):\n",
    "    '''\n",
    "    A method that provides the stat analysis of feature \n",
    "    given as input in the context of the data.\n",
    "    \n",
    "    Args: data -> pd.DataFrame\n",
    "             \n",
    "          feature -> str\n",
    "    '''\n",
    "    #Checking tthe validity of the feature.\n",
    "    if feature not in data.columns:\n",
    "        print('Hey you!, give a valid feature to describe!!!')\n",
    "        return\n",
    "    stats = pd.DataFrame()\n",
    "\n",
    "    #data_ = data[feature].astype('int32')\n",
    "\n",
    "    #Creting a feature groupby object.\n",
    "    feat_grp = data.sort_values([feature]).groupby([feature])\n",
    "\n",
    "    #Column for the feature of interest values.\n",
    "    stats[feature] = np.sort(data[feature].unique())\n",
    "\n",
    "    #Number of impressions.\n",
    "    n_imps = feat_grp.apply(lambda x: x.shape[0])\n",
    "    stats['Impressions'] = n_imps.values\n",
    "    \n",
    "    #Number of clicks.\n",
    "    n_clicks = feat_grp['click'].apply(lambda x: x.sum())\n",
    "    stats['Clicks'] = n_clicks.values\n",
    "    \n",
    "    #Cost.\n",
    "    cost = feat_grp['paying_price'].unique().apply(lambda x: x.sum())\n",
    "    stats['Cost'] = cost.values\n",
    "    \n",
    "    \n",
    "    #Click through Rate.\n",
    "    CTR = (n_clicks / n_imps) * 100\n",
    "    stats['CTR'] = CTR.values\n",
    "\n",
    "    #CPM.\n",
    "    CPM = cost/n_imps\n",
    "    stats['CPM'] = CPM.values\n",
    "    \n",
    "    #CPC.\n",
    "    stats['CPC'] = stats['Cost']/stats['Clicks']\n",
    "    \n",
    "\n",
    "    #Minimum Bidding price.\n",
    "    if min_bid:\n",
    "        min_bid = feat_grp['bidding_price'].apply(lambda x: x.min())\n",
    "        stats['Minimum Bid'] = min_bid.values\n",
    "\n",
    "    return stats\n",
    "\n",
    "def is_pattern(data,cat1,cat2,size =(11.7,8.27)):\n",
    "    '''\n",
    "    A method that takes in two categorical features from data and \n",
    "    produces a dataframe that can be used as a grid \n",
    "    for heatmap of number of clicks.\n",
    "    \n",
    "    Args :   data -> dataframe(pd.DataFrame) \n",
    "                The data in which pattern is to be found.\n",
    "             cat1,cat2 -> (str)\n",
    "                 Categorical feature names.\n",
    "             size -> (tuple)\n",
    "                 Size of the heatmap grid.\n",
    "    '''\n",
    "    stats = pd.DataFrame()\n",
    "    #The coulmns of interest.\n",
    "    cols = ['click', cat1, cat2]\n",
    "    \n",
    "    #A checkpoint.\n",
    "    if set(cols).issubset(data.columns):\n",
    "        data = data[cols]\n",
    "    else:\n",
    "        print(f'The features given as input doesnot exist in the data.')\n",
    "    \n",
    "    cat1_grp = data.sort_values([cat1]).groupby(cat1)\n",
    "    \n",
    "    for cat1_val in data[cat1].unique():\n",
    "        #Getting a dataframe of a particular value of category one.\n",
    "        df = cat1_grp.get_group(cat1_val)\n",
    "        #Category 2 groupby object.\n",
    "        cat2_grp = df.sort_values([cat2]).groupby(cat2)\n",
    "        #Counting the number of clicks.\n",
    "        cat2_clks = cat2_grp['click'].apply(lambda x: x.sum())\n",
    "        stats[cat1_val] = cat2_clks\n",
    "    sns.set(rc={'figure.figsize':size})\n",
    "    heatmap = sns.heatmap(stats,annot = True,linewidths=.5)\n",
    "    return heatmap"
   ]
  },
  {
   "cell_type": "markdown",
   "id": "metallic-twins",
   "metadata": {
    "ExecuteTime": {
     "end_time": "2021-11-11T16:27:05.515303Z",
     "start_time": "2021-11-11T16:27:05.507313Z"
    }
   },
   "source": [
    "---\n",
    "---\n",
    "\n",
    "## advertiser_id\n",
    "\n",
    "* The given dataset has five advertisers and they are denoted by their unique id's.\n",
    "* The various advertisers and their overall stats are,"
   ]
  },
  {
   "cell_type": "markdown",
   "id": "tender-limit",
   "metadata": {},
   "source": [
    "\n",
    "\n",
    "  Term |Description\n",
    "---|---\n",
    "CTR | Click Through Rate. Defined as the ratio of total number of clicks received and the total number of impressions made.\n",
    "Cost | Total amount spend by the advertiser.\n",
    "CPM | Cost Per Mille. Ratio of total amount spend by the total number of bids won (impressions).\n",
    "CPC | Effective Cost per Click. Ratio of total amount spend by the advertiser and the number of clicks received.\n",
    "\n",
    "\n",
    "\n",
    "Higher the CTR, better is the bidding strategy and in case of\n",
    "CPC, the more lower, the better it is because our goal is to max-\n",
    "imize the number of clicks by the user on the advertisements and\n",
    "minimize the amount spent by each advertiser. \n"
   ]
  },
  {
   "cell_type": "code",
   "execution_count": 6,
   "id": "sorted-liberty",
   "metadata": {
    "ExecuteTime": {
     "end_time": "2021-11-13T05:21:33.727200Z",
     "start_time": "2021-11-13T05:21:30.155375Z"
    }
   },
   "outputs": [
    {
     "data": {
      "text/html": [
       "<div style=\"float: left; padding: 10px;\">\n",
       "    <p style='font-family:\"Courier New\", Courier, monospace'>adv_stat</p><div>\n",
       "<style scoped>\n",
       "    .dataframe tbody tr th:only-of-type {\n",
       "        vertical-align: middle;\n",
       "    }\n",
       "\n",
       "    .dataframe tbody tr th {\n",
       "        vertical-align: top;\n",
       "    }\n",
       "\n",
       "    .dataframe thead th {\n",
       "        text-align: right;\n",
       "    }\n",
       "</style>\n",
       "<table border=\"1\" class=\"dataframe\">\n",
       "  <thead>\n",
       "    <tr style=\"text-align: right;\">\n",
       "      <th></th>\n",
       "      <th>advertiser_id</th>\n",
       "      <th>Impressions</th>\n",
       "      <th>Clicks</th>\n",
       "      <th>Cost</th>\n",
       "      <th>CTR</th>\n",
       "      <th>CPM</th>\n",
       "      <th>CPC</th>\n",
       "    </tr>\n",
       "  </thead>\n",
       "  <tbody>\n",
       "    <tr>\n",
       "      <th>0</th>\n",
       "      <td>1458</td>\n",
       "      <td>1849308</td>\n",
       "      <td>1287</td>\n",
       "      <td>45149</td>\n",
       "      <td>0.069594</td>\n",
       "      <td>0.024414</td>\n",
       "      <td>35.080808</td>\n",
       "    </tr>\n",
       "    <tr>\n",
       "      <th>1</th>\n",
       "      <td>3358</td>\n",
       "      <td>1046307</td>\n",
       "      <td>741</td>\n",
       "      <td>35357</td>\n",
       "      <td>0.070821</td>\n",
       "      <td>0.033792</td>\n",
       "      <td>47.715250</td>\n",
       "    </tr>\n",
       "    <tr>\n",
       "      <th>2</th>\n",
       "      <td>3386</td>\n",
       "      <td>1708232</td>\n",
       "      <td>1089</td>\n",
       "      <td>45150</td>\n",
       "      <td>0.063750</td>\n",
       "      <td>0.026431</td>\n",
       "      <td>41.460055</td>\n",
       "    </tr>\n",
       "    <tr>\n",
       "      <th>3</th>\n",
       "      <td>3427</td>\n",
       "      <td>1556699</td>\n",
       "      <td>1039</td>\n",
       "      <td>35581</td>\n",
       "      <td>0.066744</td>\n",
       "      <td>0.022857</td>\n",
       "      <td>34.245428</td>\n",
       "    </tr>\n",
       "    <tr>\n",
       "      <th>4</th>\n",
       "      <td>3476</td>\n",
       "      <td>1181689</td>\n",
       "      <td>534</td>\n",
       "      <td>35554</td>\n",
       "      <td>0.045190</td>\n",
       "      <td>0.030087</td>\n",
       "      <td>66.580524</td>\n",
       "    </tr>\n",
       "  </tbody>\n",
       "</table>\n",
       "</div>\n",
       "    </div>\n",
       "<div style=\"float: left; padding: 10px;\">\n",
       "    <p style='font-family:\"Courier New\", Courier, monospace'>desc</p><div>\n",
       "<style scoped>\n",
       "    .dataframe tbody tr th:only-of-type {\n",
       "        vertical-align: middle;\n",
       "    }\n",
       "\n",
       "    .dataframe tbody tr th {\n",
       "        vertical-align: top;\n",
       "    }\n",
       "\n",
       "    .dataframe thead th {\n",
       "        text-align: right;\n",
       "    }\n",
       "</style>\n",
       "<table border=\"1\" class=\"dataframe\">\n",
       "  <thead>\n",
       "    <tr style=\"text-align: right;\">\n",
       "      <th></th>\n",
       "      <th>Impressions</th>\n",
       "      <th>Clicks</th>\n",
       "      <th>CTR</th>\n",
       "    </tr>\n",
       "  </thead>\n",
       "  <tbody>\n",
       "    <tr>\n",
       "      <th>count</th>\n",
       "      <td>5.000000e+00</td>\n",
       "      <td>5.000000</td>\n",
       "      <td>5.000000</td>\n",
       "    </tr>\n",
       "    <tr>\n",
       "      <th>mean</th>\n",
       "      <td>1.468447e+06</td>\n",
       "      <td>938.000000</td>\n",
       "      <td>0.063220</td>\n",
       "    </tr>\n",
       "    <tr>\n",
       "      <th>std</th>\n",
       "      <td>3.430644e+05</td>\n",
       "      <td>298.675409</td>\n",
       "      <td>0.010443</td>\n",
       "    </tr>\n",
       "    <tr>\n",
       "      <th>min</th>\n",
       "      <td>1.046307e+06</td>\n",
       "      <td>534.000000</td>\n",
       "      <td>0.045190</td>\n",
       "    </tr>\n",
       "    <tr>\n",
       "      <th>25%</th>\n",
       "      <td>1.181689e+06</td>\n",
       "      <td>741.000000</td>\n",
       "      <td>0.063750</td>\n",
       "    </tr>\n",
       "    <tr>\n",
       "      <th>50%</th>\n",
       "      <td>1.556699e+06</td>\n",
       "      <td>1039.000000</td>\n",
       "      <td>0.066744</td>\n",
       "    </tr>\n",
       "    <tr>\n",
       "      <th>75%</th>\n",
       "      <td>1.708232e+06</td>\n",
       "      <td>1089.000000</td>\n",
       "      <td>0.069594</td>\n",
       "    </tr>\n",
       "    <tr>\n",
       "      <th>max</th>\n",
       "      <td>1.849308e+06</td>\n",
       "      <td>1287.000000</td>\n",
       "      <td>0.070821</td>\n",
       "    </tr>\n",
       "  </tbody>\n",
       "</table>\n",
       "</div>\n",
       "    </div>"
      ],
      "text/plain": [
       "adv_stat\n",
       "   advertiser_id  Impressions  Clicks   Cost       CTR       CPM        CPC\n",
       "0           1458      1849308    1287  45149  0.069594  0.024414  35.080808\n",
       "1           3358      1046307     741  35357  0.070821  0.033792  47.715250\n",
       "2           3386      1708232    1089  45150  0.063750  0.026431  41.460055\n",
       "3           3427      1556699    1039  35581  0.066744  0.022857  34.245428\n",
       "4           3476      1181689     534  35554  0.045190  0.030087  66.580524\n",
       "\n",
       "desc\n",
       "        Impressions       Clicks       CTR\n",
       "count  5.000000e+00     5.000000  5.000000\n",
       "mean   1.468447e+06   938.000000  0.063220\n",
       "std    3.430644e+05   298.675409  0.010443\n",
       "min    1.046307e+06   534.000000  0.045190\n",
       "25%    1.181689e+06   741.000000  0.063750\n",
       "50%    1.556699e+06  1039.000000  0.066744\n",
       "75%    1.708232e+06  1089.000000  0.069594\n",
       "max    1.849308e+06  1287.000000  0.070821"
      ]
     },
     "execution_count": 6,
     "metadata": {},
     "output_type": "execute_result"
    }
   ],
   "source": [
    "adv_stat = describe_feature(train,feature='advertiser_id')\n",
    "desc = adv_stat[['Impressions','Clicks','CTR']].describe()\n",
    "display('adv_stat','desc')"
   ]
  },
  {
   "cell_type": "markdown",
   "id": "whole-germany",
   "metadata": {},
   "source": [
    "**Observations:**\n",
    "\n",
    "* The CTR's in all 7 days are very low ranging from $0.045190\\% - 0.070821\\%$. \n",
    "* Althought all advertiser have a similar CPM they have varying CPC. This could indicate the difference in the markets of interest of different advertisers."
   ]
  },
  {
   "cell_type": "markdown",
   "id": "ignored-surrey",
   "metadata": {},
   "source": [
    "**Advertisers clicks distribution across various days of the week:**\n",
    "* This can be better understood as a heatmap.\n",
    "* If there is a pattern hiding data heatmap captures it."
   ]
  },
  {
   "cell_type": "code",
   "execution_count": 7,
   "id": "quiet-spokesman",
   "metadata": {
    "ExecuteTime": {
     "end_time": "2021-11-13T05:21:37.060464Z",
     "start_time": "2021-11-13T05:21:33.729163Z"
    }
   },
   "outputs": [
    {
     "data": {
      "text/plain": [
       "<AxesSubplot:ylabel='day'>"
      ]
     },
     "execution_count": 7,
     "metadata": {},
     "output_type": "execute_result"
    },
    {
     "data": {
      "image/png": "[encoded data removed]",
      "text/plain": [
       "<Figure size 842.4x595.44 with 2 Axes>"
      ]
     },
     "metadata": {},
     "output_type": "display_data"
    }
   ],
   "source": [
    "is_pattern(train,'advertiser_id','day')"
   ]
  },
  {
   "cell_type": "markdown",
   "id": "described-transsexual",
   "metadata": {},
   "source": [
    "* As can be seen different advertisers have different distributions for various days.\n",
    "* An instance would be Advertiser 1458 has the highest number of clicks on monday whereas advertiser 3358 has the highest number of clicks on sunday.\n",
    "* All advertisers have very less clicks on thursday, this might lead to bias in any models trained using this dataset.\n",
    "---"
   ]
  },
  {
   "cell_type": "markdown",
   "id": "lovely-alexander",
   "metadata": {},
   "source": [
    "**Distribution of clicks over devices:**"
   ]
  },
  {
   "cell_type": "code",
   "execution_count": 8,
   "id": "juvenile-robin",
   "metadata": {
    "ExecuteTime": {
     "end_time": "2021-11-13T05:21:39.103428Z",
     "start_time": "2021-11-13T05:21:37.060464Z"
    }
   },
   "outputs": [
    {
     "data": {
      "text/plain": [
       "<AxesSubplot:ylabel='browser'>"
      ]
     },
     "execution_count": 8,
     "metadata": {},
     "output_type": "execute_result"
    },
    {
     "data": {
      "image/png": "[encoded data removed]",
      "text/plain": [
       "<Figure size 842.4x595.44 with 2 Axes>"
      ]
     },
     "metadata": {},
     "output_type": "display_data"
    }
   ],
   "source": [
    "is_pattern(train,'advertiser_id','browser')"
   ]
  },
  {
   "cell_type": "code",
   "execution_count": 9,
   "id": "casual-september",
   "metadata": {
    "ExecuteTime": {
     "end_time": "2021-11-13T05:21:40.987984Z",
     "start_time": "2021-11-13T05:21:39.105475Z"
    }
   },
   "outputs": [
    {
     "data": {
      "text/plain": [
       "<AxesSubplot:ylabel='os'>"
      ]
     },
     "execution_count": 9,
     "metadata": {},
     "output_type": "execute_result"
    },
    {
     "data": {
      "image/png": "[encoded data removed]",
      "text/plain": [
       "<Figure size 842.4x595.44 with 2 Axes>"
      ]
     },
     "metadata": {},
     "output_type": "display_data"
    }
   ],
   "source": [
    "is_pattern(train,'advertiser_id','os')"
   ]
  },
  {
   "cell_type": "markdown",
   "id": "possible-terrorist",
   "metadata": {},
   "source": [
    "* Advertiser 1458 has recieved majority of the clicks from users having a windows operating system. This might have lead to the bias of the majority clciks for 1458 to have come from the internet explorer (ie) borwser."
   ]
  },
  {
   "cell_type": "code",
   "execution_count": 10,
   "id": "noted-compact",
   "metadata": {
    "ExecuteTime": {
     "end_time": "2021-11-13T05:21:43.949216Z",
     "start_time": "2021-11-13T05:21:40.987984Z"
    }
   },
   "outputs": [
    {
     "data": {
      "text/plain": [
       "<AxesSubplot:ylabel='region_id'>"
      ]
     },
     "execution_count": 10,
     "metadata": {},
     "output_type": "execute_result"
    },
    {
     "data": {
      "image/png": "[encoded data removed]",
      "text/plain": [
       "<Figure size 1130.4x986.4 with 2 Axes>"
      ]
     },
     "metadata": {},
     "output_type": "display_data"
    }
   ],
   "source": [
    "is_pattern(train,'advertiser_id','region_id',size = (15.7,13.7))"
   ]
  },
  {
   "cell_type": "markdown",
   "id": "recorded-mandate",
   "metadata": {},
   "source": [
    "* Even the regions where the advertisers get maximum number of clicks are significantly diffferent. \n",
    "* Due to this difference in clicks reacieved for same feature it makes more sense to train different models for different advertisers.\n",
    "* For our studies we will use the data for the advertiser 1458 based solely on the availability of more data points for the advertiser."
   ]
  },
  {
   "cell_type": "code",
   "execution_count": 11,
   "id": "declared-forest",
   "metadata": {
    "ExecuteTime": {
     "end_time": "2021-11-13T05:21:44.218104Z",
     "start_time": "2021-11-13T05:21:43.949216Z"
    }
   },
   "outputs": [
    {
     "name": "stdout",
     "output_type": "stream",
     "text": [
      "<class 'pandas.core.frame.DataFrame'>\n",
      "Int64Index: 1849308 entries, 4 to 7342234\n",
      "Data columns (total 14 columns):\n",
      " #   Column               Dtype   \n",
      "---  ------               -----   \n",
      " 0   day                  category\n",
      " 1   hour                 category\n",
      " 2   click                int32   \n",
      " 3   browser              category\n",
      " 4   os                   category\n",
      " 5   ad_exchange          category\n",
      " 6   ad_slot_width        int32   \n",
      " 7   ad_slot_height       int32   \n",
      " 8   ad_slot_visibility   category\n",
      " 9   ad_slot              category\n",
      " 10  ad_slot_floor_price  int32   \n",
      " 11  bidding_price        int32   \n",
      " 12  paying_price         int32   \n",
      " 13  region_id            category\n",
      "dtypes: category(8), int32(6)\n",
      "memory usage: 70.5 MB\n"
     ]
    }
   ],
   "source": [
    "#Making the training dataset and validation dataset for advertiser 1458.\n",
    "adv_grp = train.groupby(['advertiser_id'])\n",
    "train_1458 = adv_grp.get_group(1458).copy(deep=True)\n",
    "train_1458.drop(['advertiser_id'],axis=1,inplace=True)\n",
    "train_1458.info()"
   ]
  },
  {
   "cell_type": "code",
   "execution_count": 12,
   "id": "beneficial-charge",
   "metadata": {
    "ExecuteTime": {
     "end_time": "2021-11-13T05:21:44.434255Z",
     "start_time": "2021-11-13T05:21:44.218104Z"
    }
   },
   "outputs": [
    {
     "name": "stdout",
     "output_type": "stream",
     "text": [
      "<class 'pandas.core.frame.DataFrame'>\n",
      "Int64Index: 617069 entries, 6 to 2447409\n",
      "Data columns (total 14 columns):\n",
      " #   Column               Non-Null Count   Dtype   \n",
      "---  ------               --------------   -----   \n",
      " 0   day                  617069 non-null  category\n",
      " 1   hour                 617069 non-null  category\n",
      " 2   click                617069 non-null  int32   \n",
      " 3   browser              617069 non-null  category\n",
      " 4   os                   617069 non-null  category\n",
      " 5   ad_exchange          617069 non-null  category\n",
      " 6   ad_slot_width        617069 non-null  int32   \n",
      " 7   ad_slot_height       617069 non-null  int32   \n",
      " 8   ad_slot_visibility   617069 non-null  category\n",
      " 9   ad_slot              617069 non-null  category\n",
      " 10  ad_slot_floor_price  617069 non-null  int32   \n",
      " 11  bidding_price        617069 non-null  int32   \n",
      " 12  paying_price         617069 non-null  int32   \n",
      " 13  region_id            617069 non-null  category\n",
      "dtypes: category(8), int32(6)\n",
      "memory usage: 23.5 MB\n"
     ]
    }
   ],
   "source": [
    "#Making the training dataset and validation dataset for advertiser 1458.\n",
    "adv_grp = validate.groupby(['advertiser_id'])\n",
    "validate_1458 = adv_grp.get_group(1458).copy(deep=True)\n",
    "validate_1458.drop(['advertiser_id'],axis=1,inplace=True)\n",
    "validate_1458.info()"
   ]
  },
  {
   "cell_type": "code",
   "execution_count": 13,
   "id": "illegal-address",
   "metadata": {
    "ExecuteTime": {
     "end_time": "2021-11-13T05:21:53.890216Z",
     "start_time": "2021-11-13T05:21:44.434255Z"
    }
   },
   "outputs": [],
   "source": [
    "#Writing them as csv files.\n",
    "train_1458.to_csv('Data/train_1458.csv')\n",
    "validate_1458.to_csv('Data/validate_1458.csv')"
   ]
  },
  {
   "cell_type": "markdown",
   "id": "inside-negotiation",
   "metadata": {
    "ExecuteTime": {
     "end_time": "2021-11-13T04:23:34.081497Z",
     "start_time": "2021-11-13T04:23:32.309937Z"
    }
   },
   "source": [
    "---\n",
    "---"
   ]
  },
  {
   "cell_type": "markdown",
   "id": "strategic-unknown",
   "metadata": {},
   "source": [
    "## Feature Extraction\n",
    " \n",
    "Some features can be better modified to meet our needs. This section does exactly that. The code below will be stored as 'featurize.py' for later use."
   ]
  },
  {
   "cell_type": "markdown",
   "id": "civil-fields",
   "metadata": {},
   "source": [
    "### ad_slot_floor_price\n",
    "\n",
    "* This is the minimum amount an advertiser has to pay to get the ad slot in auction."
   ]
  },
  {
   "cell_type": "code",
   "execution_count": 14,
   "id": "bridal-office",
   "metadata": {
    "ExecuteTime": {
     "end_time": "2021-11-13T05:21:54.691435Z",
     "start_time": "2021-11-13T05:21:53.891255Z"
    }
   },
   "outputs": [
    {
     "data": {
      "text/html": [
       "<div style=\"float: left; padding: 10px;\">\n",
       "    <p style='font-family:\"Courier New\", Courier, monospace'>fp_stats</p><div>\n",
       "<style scoped>\n",
       "    .dataframe tbody tr th:only-of-type {\n",
       "        vertical-align: middle;\n",
       "    }\n",
       "\n",
       "    .dataframe tbody tr th {\n",
       "        vertical-align: top;\n",
       "    }\n",
       "\n",
       "    .dataframe thead th {\n",
       "        text-align: right;\n",
       "    }\n",
       "</style>\n",
       "<table border=\"1\" class=\"dataframe\">\n",
       "  <thead>\n",
       "    <tr style=\"text-align: right;\">\n",
       "      <th></th>\n",
       "      <th>ad_slot_floor_price</th>\n",
       "      <th>Impressions</th>\n",
       "      <th>Clicks</th>\n",
       "      <th>Cost</th>\n",
       "      <th>CTR</th>\n",
       "      <th>CPM</th>\n",
       "      <th>CPC</th>\n",
       "    </tr>\n",
       "  </thead>\n",
       "  <tbody>\n",
       "    <tr>\n",
       "      <th>0</th>\n",
       "      <td>0</td>\n",
       "      <td>622507</td>\n",
       "      <td>401</td>\n",
       "      <td>45149</td>\n",
       "      <td>0.064417</td>\n",
       "      <td>0.072528</td>\n",
       "      <td>112.591022</td>\n",
       "    </tr>\n",
       "    <tr>\n",
       "      <th>1</th>\n",
       "      <td>4</td>\n",
       "      <td>28282</td>\n",
       "      <td>6</td>\n",
       "      <td>44608</td>\n",
       "      <td>0.021215</td>\n",
       "      <td>1.577258</td>\n",
       "      <td>7434.666667</td>\n",
       "    </tr>\n",
       "    <tr>\n",
       "      <th>2</th>\n",
       "      <td>5</td>\n",
       "      <td>414838</td>\n",
       "      <td>291</td>\n",
       "      <td>45140</td>\n",
       "      <td>0.070148</td>\n",
       "      <td>0.108814</td>\n",
       "      <td>155.120275</td>\n",
       "    </tr>\n",
       "    <tr>\n",
       "      <th>3</th>\n",
       "      <td>6</td>\n",
       "      <td>29</td>\n",
       "      <td>0</td>\n",
       "      <td>2673</td>\n",
       "      <td>0.000000</td>\n",
       "      <td>92.172414</td>\n",
       "      <td>inf</td>\n",
       "    </tr>\n",
       "    <tr>\n",
       "      <th>4</th>\n",
       "      <td>7</td>\n",
       "      <td>2</td>\n",
       "      <td>0</td>\n",
       "      <td>211</td>\n",
       "      <td>0.000000</td>\n",
       "      <td>105.500000</td>\n",
       "      <td>inf</td>\n",
       "    </tr>\n",
       "    <tr>\n",
       "      <th>...</th>\n",
       "      <td>...</td>\n",
       "      <td>...</td>\n",
       "      <td>...</td>\n",
       "      <td>...</td>\n",
       "      <td>...</td>\n",
       "      <td>...</td>\n",
       "      <td>...</td>\n",
       "    </tr>\n",
       "    <tr>\n",
       "      <th>160</th>\n",
       "      <td>290</td>\n",
       "      <td>1</td>\n",
       "      <td>0</td>\n",
       "      <td>289</td>\n",
       "      <td>0.000000</td>\n",
       "      <td>289.000000</td>\n",
       "      <td>inf</td>\n",
       "    </tr>\n",
       "    <tr>\n",
       "      <th>161</th>\n",
       "      <td>292</td>\n",
       "      <td>3</td>\n",
       "      <td>0</td>\n",
       "      <td>292</td>\n",
       "      <td>0.000000</td>\n",
       "      <td>97.333333</td>\n",
       "      <td>inf</td>\n",
       "    </tr>\n",
       "    <tr>\n",
       "      <th>162</th>\n",
       "      <td>294</td>\n",
       "      <td>9</td>\n",
       "      <td>0</td>\n",
       "      <td>589</td>\n",
       "      <td>0.000000</td>\n",
       "      <td>65.444444</td>\n",
       "      <td>inf</td>\n",
       "    </tr>\n",
       "    <tr>\n",
       "      <th>163</th>\n",
       "      <td>295</td>\n",
       "      <td>282</td>\n",
       "      <td>0</td>\n",
       "      <td>1188</td>\n",
       "      <td>0.000000</td>\n",
       "      <td>4.212766</td>\n",
       "      <td>inf</td>\n",
       "    </tr>\n",
       "    <tr>\n",
       "      <th>164</th>\n",
       "      <td>300</td>\n",
       "      <td>1</td>\n",
       "      <td>0</td>\n",
       "      <td>299</td>\n",
       "      <td>0.000000</td>\n",
       "      <td>299.000000</td>\n",
       "      <td>inf</td>\n",
       "    </tr>\n",
       "  </tbody>\n",
       "</table>\n",
       "<p>165 rows × 7 columns</p>\n",
       "</div>\n",
       "    </div>\n",
       "<div style=\"float: left; padding: 10px;\">\n",
       "    <p style='font-family:\"Courier New\", Courier, monospace'>desc</p><div>\n",
       "<style scoped>\n",
       "    .dataframe tbody tr th:only-of-type {\n",
       "        vertical-align: middle;\n",
       "    }\n",
       "\n",
       "    .dataframe tbody tr th {\n",
       "        vertical-align: top;\n",
       "    }\n",
       "\n",
       "    .dataframe thead th {\n",
       "        text-align: right;\n",
       "    }\n",
       "</style>\n",
       "<table border=\"1\" class=\"dataframe\">\n",
       "  <thead>\n",
       "    <tr style=\"text-align: right;\">\n",
       "      <th></th>\n",
       "      <th>Impressions</th>\n",
       "      <th>CTR</th>\n",
       "    </tr>\n",
       "  </thead>\n",
       "  <tbody>\n",
       "    <tr>\n",
       "      <th>count</th>\n",
       "      <td>165.000000</td>\n",
       "      <td>165.000000</td>\n",
       "    </tr>\n",
       "    <tr>\n",
       "      <th>mean</th>\n",
       "      <td>11207.927273</td>\n",
       "      <td>0.015385</td>\n",
       "    </tr>\n",
       "    <tr>\n",
       "      <th>std</th>\n",
       "      <td>63566.819669</td>\n",
       "      <td>0.055070</td>\n",
       "    </tr>\n",
       "    <tr>\n",
       "      <th>min</th>\n",
       "      <td>1.000000</td>\n",
       "      <td>0.000000</td>\n",
       "    </tr>\n",
       "    <tr>\n",
       "      <th>25%</th>\n",
       "      <td>2.000000</td>\n",
       "      <td>0.000000</td>\n",
       "    </tr>\n",
       "    <tr>\n",
       "      <th>50%</th>\n",
       "      <td>8.000000</td>\n",
       "      <td>0.000000</td>\n",
       "    </tr>\n",
       "    <tr>\n",
       "      <th>75%</th>\n",
       "      <td>176.000000</td>\n",
       "      <td>0.000000</td>\n",
       "    </tr>\n",
       "    <tr>\n",
       "      <th>max</th>\n",
       "      <td>622507.000000</td>\n",
       "      <td>0.529101</td>\n",
       "    </tr>\n",
       "  </tbody>\n",
       "</table>\n",
       "</div>\n",
       "    </div>"
      ],
      "text/plain": [
       "fp_stats\n",
       "     ad_slot_floor_price  Impressions  Clicks   Cost       CTR         CPM  \\\n",
       "0                      0       622507     401  45149  0.064417    0.072528   \n",
       "1                      4        28282       6  44608  0.021215    1.577258   \n",
       "2                      5       414838     291  45140  0.070148    0.108814   \n",
       "3                      6           29       0   2673  0.000000   92.172414   \n",
       "4                      7            2       0    211  0.000000  105.500000   \n",
       "..                   ...          ...     ...    ...       ...         ...   \n",
       "160                  290            1       0    289  0.000000  289.000000   \n",
       "161                  292            3       0    292  0.000000   97.333333   \n",
       "162                  294            9       0    589  0.000000   65.444444   \n",
       "163                  295          282       0   1188  0.000000    4.212766   \n",
       "164                  300            1       0    299  0.000000  299.000000   \n",
       "\n",
       "             CPC  \n",
       "0     112.591022  \n",
       "1    7434.666667  \n",
       "2     155.120275  \n",
       "3            inf  \n",
       "4            inf  \n",
       "..           ...  \n",
       "160          inf  \n",
       "161          inf  \n",
       "162          inf  \n",
       "163          inf  \n",
       "164          inf  \n",
       "\n",
       "[165 rows x 7 columns]\n",
       "\n",
       "desc\n",
       "         Impressions         CTR\n",
       "count     165.000000  165.000000\n",
       "mean    11207.927273    0.015385\n",
       "std     63566.819669    0.055070\n",
       "min         1.000000    0.000000\n",
       "25%         2.000000    0.000000\n",
       "50%         8.000000    0.000000\n",
       "75%       176.000000    0.000000\n",
       "max    622507.000000    0.529101"
      ]
     },
     "execution_count": 14,
     "metadata": {},
     "output_type": "execute_result"
    }
   ],
   "source": [
    "fp_stats = describe_feature(train_1458,'ad_slot_floor_price')\n",
    "desc = fp_stats[['Impressions','CTR']].describe()\n",
    "display('fp_stats','desc')"
   ]
  },
  {
   "cell_type": "markdown",
   "id": "manufactured-radiation",
   "metadata": {
    "ExecuteTime": {
     "end_time": "2021-11-13T04:47:07.979685Z",
     "start_time": "2021-11-13T04:47:07.942072Z"
    }
   },
   "source": [
    "* As can be seen, the different slots will have different user preferences and hence differnt CTR values.\n",
    "* To reduce the dimesions of thefeature space we divide the floor prices in to differnt bins.\n",
    "* Doing so also converts the continuos variable of floor price in to a category variable."
   ]
  },
  {
   "cell_type": "code",
   "execution_count": 15,
   "id": "specialized-progressive",
   "metadata": {
    "ExecuteTime": {
     "end_time": "2021-11-13T05:21:54.711540Z",
     "start_time": "2021-11-13T05:21:54.693482Z"
    }
   },
   "outputs": [],
   "source": [
    "def make_floorprice_bins(df, nbins=10):\n",
    "    '''\n",
    "    A method that makes bins out of floor price values.\n",
    "    '''\n",
    "    bins = pd.DataFrame()\n",
    "    labels = np.arange(1, nbins+1, 1)\n",
    "\n",
    "    #Cutting up the floor price into bins.\n",
    "    bins['floorprice_bin'] = pd.cut(df['ad_slot_floor_price'].values,\n",
    "                                    bins=nbins,\n",
    "                                    labels=labels)\n",
    "\n",
    "    #Dropping the old feature.\n",
    "    df = df.drop(columns=['ad_slot_floor_price'], axis=1)\n",
    "    df['floorprice_bin'] = bins['floorprice_bin'].values\n",
    "    bins.pop('floorprice_bin')\n",
    "    return df"
   ]
  },
  {
   "cell_type": "code",
   "execution_count": 19,
   "id": "functioning-liberal",
   "metadata": {
    "ExecuteTime": {
     "end_time": "2021-11-13T05:22:21.033834Z",
     "start_time": "2021-11-13T05:22:20.732888Z"
    }
   },
   "outputs": [
    {
     "name": "stdout",
     "output_type": "stream",
     "text": [
      "<class 'pandas.core.frame.DataFrame'>\n",
      "Int64Index: 1849308 entries, 4 to 7342234\n",
      "Data columns (total 14 columns):\n",
      " #   Column              Dtype   \n",
      "---  ------              -----   \n",
      " 0   day                 category\n",
      " 1   hour                category\n",
      " 2   click               int32   \n",
      " 3   browser             category\n",
      " 4   os                  category\n",
      " 5   ad_exchange         category\n",
      " 6   ad_slot_width       int32   \n",
      " 7   ad_slot_height      int32   \n",
      " 8   ad_slot_visibility  category\n",
      " 9   ad_slot             category\n",
      " 10  bidding_price       int32   \n",
      " 11  paying_price        int32   \n",
      " 12  region_id           category\n",
      " 13  floorprice_bin      category\n",
      "dtypes: category(9), int32(5)\n",
      "memory usage: 65.3 MB\n"
     ]
    }
   ],
   "source": [
    "train_1458 = make_floorprice_bins(train_1458)\n",
    "train_1458.info()"
   ]
  },
  {
   "cell_type": "markdown",
   "id": "cleared-medline",
   "metadata": {},
   "source": [
    "### Indicatorise Features\n",
    "\n",
    "* We can convert the category features in to indicator variables. This process is referred to as 'one-hot-encoding' in literature."
   ]
  },
  {
   "cell_type": "code",
   "execution_count": 20,
   "id": "considerable-camcorder",
   "metadata": {
    "ExecuteTime": {
     "end_time": "2021-11-13T05:22:23.878016Z",
     "start_time": "2021-11-13T05:22:23.857913Z"
    }
   },
   "outputs": [],
   "source": [
    "from pandas import get_dummies\n",
    "def indicatorise_features(df,\n",
    "                          category_features=[\n",
    "                              'day', 'hour', 'browser', 'os', 'ad_exchange',\n",
    "                              'ad_slot_visibility', 'ad_slot', 'region_id',\n",
    "                              'floorprice_bin'\n",
    "                          ]):\n",
    "    '''\n",
    "    A method that does one hot encoding on categorical features.\n",
    "    '''\n",
    "    dummies = {}\n",
    "    for feature in category_features:\n",
    "        dummies[feature] = get_dummies(df[feature], prefix=feature)\n",
    "    df = df.join(list(dummies.values()))\n",
    "    df.drop(columns=category_features, axis=1, inplace=True)\n",
    "    return df"
   ]
  },
  {
   "cell_type": "code",
   "execution_count": 21,
   "id": "indian-headset",
   "metadata": {
    "ExecuteTime": {
     "end_time": "2021-11-13T05:22:26.403106Z",
     "start_time": "2021-11-13T05:22:25.139134Z"
    }
   },
   "outputs": [
    {
     "data": {
      "text/html": [
       "<div>\n",
       "<style scoped>\n",
       "    .dataframe tbody tr th:only-of-type {\n",
       "        vertical-align: middle;\n",
       "    }\n",
       "\n",
       "    .dataframe tbody tr th {\n",
       "        vertical-align: top;\n",
       "    }\n",
       "\n",
       "    .dataframe thead th {\n",
       "        text-align: right;\n",
       "    }\n",
       "</style>\n",
       "<table border=\"1\" class=\"dataframe\">\n",
       "  <thead>\n",
       "    <tr style=\"text-align: right;\">\n",
       "      <th></th>\n",
       "      <th>click</th>\n",
       "      <th>ad_slot_width</th>\n",
       "      <th>ad_slot_height</th>\n",
       "      <th>bidding_price</th>\n",
       "      <th>paying_price</th>\n",
       "      <th>day_0</th>\n",
       "      <th>day_1</th>\n",
       "      <th>day_2</th>\n",
       "      <th>day_3</th>\n",
       "      <th>day_4</th>\n",
       "      <th>day_5</th>\n",
       "      <th>day_6</th>\n",
       "      <th>hour_0</th>\n",
       "      <th>hour_1</th>\n",
       "      <th>hour_2</th>\n",
       "      <th>hour_3</th>\n",
       "      <th>hour_4</th>\n",
       "      <th>hour_5</th>\n",
       "      <th>hour_6</th>\n",
       "      <th>hour_7</th>\n",
       "      <th>hour_8</th>\n",
       "      <th>hour_9</th>\n",
       "      <th>hour_10</th>\n",
       "      <th>hour_11</th>\n",
       "      <th>hour_12</th>\n",
       "      <th>hour_13</th>\n",
       "      <th>hour_14</th>\n",
       "      <th>hour_15</th>\n",
       "      <th>hour_16</th>\n",
       "      <th>hour_17</th>\n",
       "      <th>hour_18</th>\n",
       "      <th>hour_19</th>\n",
       "      <th>hour_20</th>\n",
       "      <th>hour_21</th>\n",
       "      <th>hour_22</th>\n",
       "      <th>hour_23</th>\n",
       "      <th>browser_chrome</th>\n",
       "      <th>browser_firefox</th>\n",
       "      <th>browser_ie</th>\n",
       "      <th>browser_opera</th>\n",
       "      <th>browser_other</th>\n",
       "      <th>browser_safari</th>\n",
       "      <th>os_linux</th>\n",
       "      <th>os_mac os x</th>\n",
       "      <th>os_other</th>\n",
       "      <th>os_windows</th>\n",
       "      <th>ad_exchange_1</th>\n",
       "      <th>ad_exchange_2</th>\n",
       "      <th>ad_exchange_3</th>\n",
       "      <th>ad_slot_visibility_0</th>\n",
       "      <th>ad_slot_visibility_1</th>\n",
       "      <th>ad_slot_visibility_2</th>\n",
       "      <th>ad_slot_visibility_255</th>\n",
       "      <th>ad_slot_0</th>\n",
       "      <th>ad_slot_1</th>\n",
       "      <th>ad_slot_5</th>\n",
       "      <th>region_id_0</th>\n",
       "      <th>region_id_1</th>\n",
       "      <th>region_id_2</th>\n",
       "      <th>region_id_3</th>\n",
       "      <th>region_id_15</th>\n",
       "      <th>region_id_27</th>\n",
       "      <th>region_id_40</th>\n",
       "      <th>region_id_55</th>\n",
       "      <th>region_id_65</th>\n",
       "      <th>region_id_79</th>\n",
       "      <th>region_id_80</th>\n",
       "      <th>region_id_94</th>\n",
       "      <th>region_id_106</th>\n",
       "      <th>region_id_124</th>\n",
       "      <th>region_id_134</th>\n",
       "      <th>region_id_146</th>\n",
       "      <th>region_id_164</th>\n",
       "      <th>region_id_183</th>\n",
       "      <th>region_id_201</th>\n",
       "      <th>region_id_216</th>\n",
       "      <th>region_id_238</th>\n",
       "      <th>region_id_253</th>\n",
       "      <th>region_id_275</th>\n",
       "      <th>region_id_276</th>\n",
       "      <th>region_id_298</th>\n",
       "      <th>region_id_308</th>\n",
       "      <th>region_id_325</th>\n",
       "      <th>region_id_333</th>\n",
       "      <th>region_id_344</th>\n",
       "      <th>region_id_359</th>\n",
       "      <th>region_id_368</th>\n",
       "      <th>region_id_374</th>\n",
       "      <th>region_id_393</th>\n",
       "      <th>region_id_394</th>\n",
       "      <th>region_id_395</th>\n",
       "      <th>floorprice_bin_1</th>\n",
       "      <th>floorprice_bin_2</th>\n",
       "      <th>floorprice_bin_3</th>\n",
       "      <th>floorprice_bin_4</th>\n",
       "      <th>floorprice_bin_5</th>\n",
       "      <th>floorprice_bin_6</th>\n",
       "      <th>floorprice_bin_7</th>\n",
       "      <th>floorprice_bin_8</th>\n",
       "      <th>floorprice_bin_9</th>\n",
       "      <th>floorprice_bin_10</th>\n",
       "    </tr>\n",
       "  </thead>\n",
       "  <tbody>\n",
       "    <tr>\n",
       "      <th>4</th>\n",
       "      <td>0</td>\n",
       "      <td>336</td>\n",
       "      <td>280</td>\n",
       "      <td>300</td>\n",
       "      <td>17</td>\n",
       "      <td>0</td>\n",
       "      <td>0</td>\n",
       "      <td>1</td>\n",
       "      <td>0</td>\n",
       "      <td>0</td>\n",
       "      <td>0</td>\n",
       "      <td>0</td>\n",
       "      <td>0</td>\n",
       "      <td>0</td>\n",
       "      <td>0</td>\n",
       "      <td>0</td>\n",
       "      <td>0</td>\n",
       "      <td>0</td>\n",
       "      <td>0</td>\n",
       "      <td>0</td>\n",
       "      <td>0</td>\n",
       "      <td>0</td>\n",
       "      <td>0</td>\n",
       "      <td>0</td>\n",
       "      <td>0</td>\n",
       "      <td>0</td>\n",
       "      <td>0</td>\n",
       "      <td>0</td>\n",
       "      <td>0</td>\n",
       "      <td>0</td>\n",
       "      <td>0</td>\n",
       "      <td>0</td>\n",
       "      <td>0</td>\n",
       "      <td>0</td>\n",
       "      <td>1</td>\n",
       "      <td>0</td>\n",
       "      <td>0</td>\n",
       "      <td>0</td>\n",
       "      <td>1</td>\n",
       "      <td>0</td>\n",
       "      <td>0</td>\n",
       "      <td>0</td>\n",
       "      <td>0</td>\n",
       "      <td>0</td>\n",
       "      <td>0</td>\n",
       "      <td>1</td>\n",
       "      <td>1</td>\n",
       "      <td>0</td>\n",
       "      <td>0</td>\n",
       "      <td>0</td>\n",
       "      <td>0</td>\n",
       "      <td>1</td>\n",
       "      <td>0</td>\n",
       "      <td>0</td>\n",
       "      <td>1</td>\n",
       "      <td>0</td>\n",
       "      <td>0</td>\n",
       "      <td>0</td>\n",
       "      <td>0</td>\n",
       "      <td>0</td>\n",
       "      <td>0</td>\n",
       "      <td>0</td>\n",
       "      <td>0</td>\n",
       "      <td>0</td>\n",
       "      <td>0</td>\n",
       "      <td>0</td>\n",
       "      <td>0</td>\n",
       "      <td>0</td>\n",
       "      <td>0</td>\n",
       "      <td>0</td>\n",
       "      <td>0</td>\n",
       "      <td>0</td>\n",
       "      <td>0</td>\n",
       "      <td>0</td>\n",
       "      <td>0</td>\n",
       "      <td>0</td>\n",
       "      <td>1</td>\n",
       "      <td>0</td>\n",
       "      <td>0</td>\n",
       "      <td>0</td>\n",
       "      <td>0</td>\n",
       "      <td>0</td>\n",
       "      <td>0</td>\n",
       "      <td>0</td>\n",
       "      <td>0</td>\n",
       "      <td>0</td>\n",
       "      <td>0</td>\n",
       "      <td>0</td>\n",
       "      <td>0</td>\n",
       "      <td>0</td>\n",
       "      <td>0</td>\n",
       "      <td>1</td>\n",
       "      <td>0</td>\n",
       "      <td>0</td>\n",
       "      <td>0</td>\n",
       "      <td>0</td>\n",
       "      <td>0</td>\n",
       "      <td>0</td>\n",
       "      <td>0</td>\n",
       "      <td>0</td>\n",
       "      <td>0</td>\n",
       "    </tr>\n",
       "    <tr>\n",
       "      <th>15</th>\n",
       "      <td>0</td>\n",
       "      <td>1000</td>\n",
       "      <td>90</td>\n",
       "      <td>300</td>\n",
       "      <td>80</td>\n",
       "      <td>0</td>\n",
       "      <td>0</td>\n",
       "      <td>0</td>\n",
       "      <td>0</td>\n",
       "      <td>0</td>\n",
       "      <td>1</td>\n",
       "      <td>0</td>\n",
       "      <td>0</td>\n",
       "      <td>0</td>\n",
       "      <td>0</td>\n",
       "      <td>0</td>\n",
       "      <td>0</td>\n",
       "      <td>0</td>\n",
       "      <td>1</td>\n",
       "      <td>0</td>\n",
       "      <td>0</td>\n",
       "      <td>0</td>\n",
       "      <td>0</td>\n",
       "      <td>0</td>\n",
       "      <td>0</td>\n",
       "      <td>0</td>\n",
       "      <td>0</td>\n",
       "      <td>0</td>\n",
       "      <td>0</td>\n",
       "      <td>0</td>\n",
       "      <td>0</td>\n",
       "      <td>0</td>\n",
       "      <td>0</td>\n",
       "      <td>0</td>\n",
       "      <td>0</td>\n",
       "      <td>0</td>\n",
       "      <td>1</td>\n",
       "      <td>0</td>\n",
       "      <td>0</td>\n",
       "      <td>0</td>\n",
       "      <td>0</td>\n",
       "      <td>0</td>\n",
       "      <td>0</td>\n",
       "      <td>0</td>\n",
       "      <td>0</td>\n",
       "      <td>1</td>\n",
       "      <td>0</td>\n",
       "      <td>0</td>\n",
       "      <td>1</td>\n",
       "      <td>1</td>\n",
       "      <td>0</td>\n",
       "      <td>0</td>\n",
       "      <td>0</td>\n",
       "      <td>1</td>\n",
       "      <td>0</td>\n",
       "      <td>0</td>\n",
       "      <td>0</td>\n",
       "      <td>0</td>\n",
       "      <td>0</td>\n",
       "      <td>0</td>\n",
       "      <td>0</td>\n",
       "      <td>1</td>\n",
       "      <td>0</td>\n",
       "      <td>0</td>\n",
       "      <td>0</td>\n",
       "      <td>0</td>\n",
       "      <td>0</td>\n",
       "      <td>0</td>\n",
       "      <td>0</td>\n",
       "      <td>0</td>\n",
       "      <td>0</td>\n",
       "      <td>0</td>\n",
       "      <td>0</td>\n",
       "      <td>0</td>\n",
       "      <td>0</td>\n",
       "      <td>0</td>\n",
       "      <td>0</td>\n",
       "      <td>0</td>\n",
       "      <td>0</td>\n",
       "      <td>0</td>\n",
       "      <td>0</td>\n",
       "      <td>0</td>\n",
       "      <td>0</td>\n",
       "      <td>0</td>\n",
       "      <td>0</td>\n",
       "      <td>0</td>\n",
       "      <td>0</td>\n",
       "      <td>0</td>\n",
       "      <td>0</td>\n",
       "      <td>0</td>\n",
       "      <td>0</td>\n",
       "      <td>0</td>\n",
       "      <td>0</td>\n",
       "      <td>1</td>\n",
       "      <td>0</td>\n",
       "      <td>0</td>\n",
       "      <td>0</td>\n",
       "      <td>0</td>\n",
       "      <td>0</td>\n",
       "      <td>0</td>\n",
       "      <td>0</td>\n",
       "    </tr>\n",
       "    <tr>\n",
       "      <th>20</th>\n",
       "      <td>0</td>\n",
       "      <td>300</td>\n",
       "      <td>250</td>\n",
       "      <td>300</td>\n",
       "      <td>50</td>\n",
       "      <td>0</td>\n",
       "      <td>0</td>\n",
       "      <td>0</td>\n",
       "      <td>0</td>\n",
       "      <td>0</td>\n",
       "      <td>0</td>\n",
       "      <td>1</td>\n",
       "      <td>0</td>\n",
       "      <td>0</td>\n",
       "      <td>0</td>\n",
       "      <td>1</td>\n",
       "      <td>0</td>\n",
       "      <td>0</td>\n",
       "      <td>0</td>\n",
       "      <td>0</td>\n",
       "      <td>0</td>\n",
       "      <td>0</td>\n",
       "      <td>0</td>\n",
       "      <td>0</td>\n",
       "      <td>0</td>\n",
       "      <td>0</td>\n",
       "      <td>0</td>\n",
       "      <td>0</td>\n",
       "      <td>0</td>\n",
       "      <td>0</td>\n",
       "      <td>0</td>\n",
       "      <td>0</td>\n",
       "      <td>0</td>\n",
       "      <td>0</td>\n",
       "      <td>0</td>\n",
       "      <td>0</td>\n",
       "      <td>0</td>\n",
       "      <td>0</td>\n",
       "      <td>0</td>\n",
       "      <td>0</td>\n",
       "      <td>1</td>\n",
       "      <td>0</td>\n",
       "      <td>0</td>\n",
       "      <td>0</td>\n",
       "      <td>0</td>\n",
       "      <td>1</td>\n",
       "      <td>0</td>\n",
       "      <td>0</td>\n",
       "      <td>1</td>\n",
       "      <td>1</td>\n",
       "      <td>0</td>\n",
       "      <td>0</td>\n",
       "      <td>0</td>\n",
       "      <td>1</td>\n",
       "      <td>0</td>\n",
       "      <td>0</td>\n",
       "      <td>0</td>\n",
       "      <td>0</td>\n",
       "      <td>0</td>\n",
       "      <td>0</td>\n",
       "      <td>0</td>\n",
       "      <td>0</td>\n",
       "      <td>0</td>\n",
       "      <td>0</td>\n",
       "      <td>0</td>\n",
       "      <td>0</td>\n",
       "      <td>0</td>\n",
       "      <td>0</td>\n",
       "      <td>0</td>\n",
       "      <td>0</td>\n",
       "      <td>0</td>\n",
       "      <td>1</td>\n",
       "      <td>0</td>\n",
       "      <td>0</td>\n",
       "      <td>0</td>\n",
       "      <td>0</td>\n",
       "      <td>0</td>\n",
       "      <td>0</td>\n",
       "      <td>0</td>\n",
       "      <td>0</td>\n",
       "      <td>0</td>\n",
       "      <td>0</td>\n",
       "      <td>0</td>\n",
       "      <td>0</td>\n",
       "      <td>0</td>\n",
       "      <td>0</td>\n",
       "      <td>0</td>\n",
       "      <td>0</td>\n",
       "      <td>0</td>\n",
       "      <td>0</td>\n",
       "      <td>0</td>\n",
       "      <td>0</td>\n",
       "      <td>1</td>\n",
       "      <td>0</td>\n",
       "      <td>0</td>\n",
       "      <td>0</td>\n",
       "      <td>0</td>\n",
       "      <td>0</td>\n",
       "      <td>0</td>\n",
       "      <td>0</td>\n",
       "      <td>0</td>\n",
       "    </tr>\n",
       "    <tr>\n",
       "      <th>23</th>\n",
       "      <td>0</td>\n",
       "      <td>1000</td>\n",
       "      <td>90</td>\n",
       "      <td>300</td>\n",
       "      <td>70</td>\n",
       "      <td>0</td>\n",
       "      <td>1</td>\n",
       "      <td>0</td>\n",
       "      <td>0</td>\n",
       "      <td>0</td>\n",
       "      <td>0</td>\n",
       "      <td>0</td>\n",
       "      <td>0</td>\n",
       "      <td>0</td>\n",
       "      <td>0</td>\n",
       "      <td>0</td>\n",
       "      <td>0</td>\n",
       "      <td>0</td>\n",
       "      <td>0</td>\n",
       "      <td>0</td>\n",
       "      <td>0</td>\n",
       "      <td>0</td>\n",
       "      <td>0</td>\n",
       "      <td>0</td>\n",
       "      <td>0</td>\n",
       "      <td>0</td>\n",
       "      <td>0</td>\n",
       "      <td>0</td>\n",
       "      <td>0</td>\n",
       "      <td>0</td>\n",
       "      <td>0</td>\n",
       "      <td>0</td>\n",
       "      <td>0</td>\n",
       "      <td>0</td>\n",
       "      <td>1</td>\n",
       "      <td>0</td>\n",
       "      <td>1</td>\n",
       "      <td>0</td>\n",
       "      <td>0</td>\n",
       "      <td>0</td>\n",
       "      <td>0</td>\n",
       "      <td>0</td>\n",
       "      <td>0</td>\n",
       "      <td>0</td>\n",
       "      <td>0</td>\n",
       "      <td>1</td>\n",
       "      <td>0</td>\n",
       "      <td>0</td>\n",
       "      <td>1</td>\n",
       "      <td>1</td>\n",
       "      <td>0</td>\n",
       "      <td>0</td>\n",
       "      <td>0</td>\n",
       "      <td>1</td>\n",
       "      <td>0</td>\n",
       "      <td>0</td>\n",
       "      <td>0</td>\n",
       "      <td>0</td>\n",
       "      <td>0</td>\n",
       "      <td>0</td>\n",
       "      <td>0</td>\n",
       "      <td>0</td>\n",
       "      <td>0</td>\n",
       "      <td>0</td>\n",
       "      <td>0</td>\n",
       "      <td>0</td>\n",
       "      <td>0</td>\n",
       "      <td>0</td>\n",
       "      <td>0</td>\n",
       "      <td>0</td>\n",
       "      <td>0</td>\n",
       "      <td>0</td>\n",
       "      <td>1</td>\n",
       "      <td>0</td>\n",
       "      <td>0</td>\n",
       "      <td>0</td>\n",
       "      <td>0</td>\n",
       "      <td>0</td>\n",
       "      <td>0</td>\n",
       "      <td>0</td>\n",
       "      <td>0</td>\n",
       "      <td>0</td>\n",
       "      <td>0</td>\n",
       "      <td>0</td>\n",
       "      <td>0</td>\n",
       "      <td>0</td>\n",
       "      <td>0</td>\n",
       "      <td>0</td>\n",
       "      <td>0</td>\n",
       "      <td>0</td>\n",
       "      <td>0</td>\n",
       "      <td>0</td>\n",
       "      <td>0</td>\n",
       "      <td>1</td>\n",
       "      <td>0</td>\n",
       "      <td>0</td>\n",
       "      <td>0</td>\n",
       "      <td>0</td>\n",
       "      <td>0</td>\n",
       "      <td>0</td>\n",
       "      <td>0</td>\n",
       "    </tr>\n",
       "    <tr>\n",
       "      <th>27</th>\n",
       "      <td>0</td>\n",
       "      <td>160</td>\n",
       "      <td>600</td>\n",
       "      <td>300</td>\n",
       "      <td>30</td>\n",
       "      <td>0</td>\n",
       "      <td>1</td>\n",
       "      <td>0</td>\n",
       "      <td>0</td>\n",
       "      <td>0</td>\n",
       "      <td>0</td>\n",
       "      <td>0</td>\n",
       "      <td>0</td>\n",
       "      <td>0</td>\n",
       "      <td>0</td>\n",
       "      <td>0</td>\n",
       "      <td>0</td>\n",
       "      <td>0</td>\n",
       "      <td>0</td>\n",
       "      <td>0</td>\n",
       "      <td>0</td>\n",
       "      <td>0</td>\n",
       "      <td>0</td>\n",
       "      <td>0</td>\n",
       "      <td>0</td>\n",
       "      <td>0</td>\n",
       "      <td>0</td>\n",
       "      <td>0</td>\n",
       "      <td>0</td>\n",
       "      <td>0</td>\n",
       "      <td>1</td>\n",
       "      <td>0</td>\n",
       "      <td>0</td>\n",
       "      <td>0</td>\n",
       "      <td>0</td>\n",
       "      <td>0</td>\n",
       "      <td>1</td>\n",
       "      <td>0</td>\n",
       "      <td>0</td>\n",
       "      <td>0</td>\n",
       "      <td>0</td>\n",
       "      <td>0</td>\n",
       "      <td>0</td>\n",
       "      <td>0</td>\n",
       "      <td>0</td>\n",
       "      <td>1</td>\n",
       "      <td>0</td>\n",
       "      <td>1</td>\n",
       "      <td>0</td>\n",
       "      <td>0</td>\n",
       "      <td>0</td>\n",
       "      <td>1</td>\n",
       "      <td>0</td>\n",
       "      <td>1</td>\n",
       "      <td>0</td>\n",
       "      <td>0</td>\n",
       "      <td>0</td>\n",
       "      <td>0</td>\n",
       "      <td>0</td>\n",
       "      <td>0</td>\n",
       "      <td>0</td>\n",
       "      <td>0</td>\n",
       "      <td>0</td>\n",
       "      <td>0</td>\n",
       "      <td>0</td>\n",
       "      <td>0</td>\n",
       "      <td>0</td>\n",
       "      <td>0</td>\n",
       "      <td>0</td>\n",
       "      <td>0</td>\n",
       "      <td>0</td>\n",
       "      <td>0</td>\n",
       "      <td>0</td>\n",
       "      <td>0</td>\n",
       "      <td>0</td>\n",
       "      <td>0</td>\n",
       "      <td>0</td>\n",
       "      <td>0</td>\n",
       "      <td>0</td>\n",
       "      <td>1</td>\n",
       "      <td>0</td>\n",
       "      <td>0</td>\n",
       "      <td>0</td>\n",
       "      <td>0</td>\n",
       "      <td>0</td>\n",
       "      <td>0</td>\n",
       "      <td>0</td>\n",
       "      <td>0</td>\n",
       "      <td>0</td>\n",
       "      <td>0</td>\n",
       "      <td>0</td>\n",
       "      <td>1</td>\n",
       "      <td>0</td>\n",
       "      <td>0</td>\n",
       "      <td>0</td>\n",
       "      <td>0</td>\n",
       "      <td>0</td>\n",
       "      <td>0</td>\n",
       "      <td>0</td>\n",
       "      <td>0</td>\n",
       "      <td>0</td>\n",
       "    </tr>\n",
       "    <tr>\n",
       "      <th>...</th>\n",
       "      <td>...</td>\n",
       "      <td>...</td>\n",
       "      <td>...</td>\n",
       "      <td>...</td>\n",
       "      <td>...</td>\n",
       "      <td>...</td>\n",
       "      <td>...</td>\n",
       "      <td>...</td>\n",
       "      <td>...</td>\n",
       "      <td>...</td>\n",
       "      <td>...</td>\n",
       "      <td>...</td>\n",
       "      <td>...</td>\n",
       "      <td>...</td>\n",
       "      <td>...</td>\n",
       "      <td>...</td>\n",
       "      <td>...</td>\n",
       "      <td>...</td>\n",
       "      <td>...</td>\n",
       "      <td>...</td>\n",
       "      <td>...</td>\n",
       "      <td>...</td>\n",
       "      <td>...</td>\n",
       "      <td>...</td>\n",
       "      <td>...</td>\n",
       "      <td>...</td>\n",
       "      <td>...</td>\n",
       "      <td>...</td>\n",
       "      <td>...</td>\n",
       "      <td>...</td>\n",
       "      <td>...</td>\n",
       "      <td>...</td>\n",
       "      <td>...</td>\n",
       "      <td>...</td>\n",
       "      <td>...</td>\n",
       "      <td>...</td>\n",
       "      <td>...</td>\n",
       "      <td>...</td>\n",
       "      <td>...</td>\n",
       "      <td>...</td>\n",
       "      <td>...</td>\n",
       "      <td>...</td>\n",
       "      <td>...</td>\n",
       "      <td>...</td>\n",
       "      <td>...</td>\n",
       "      <td>...</td>\n",
       "      <td>...</td>\n",
       "      <td>...</td>\n",
       "      <td>...</td>\n",
       "      <td>...</td>\n",
       "      <td>...</td>\n",
       "      <td>...</td>\n",
       "      <td>...</td>\n",
       "      <td>...</td>\n",
       "      <td>...</td>\n",
       "      <td>...</td>\n",
       "      <td>...</td>\n",
       "      <td>...</td>\n",
       "      <td>...</td>\n",
       "      <td>...</td>\n",
       "      <td>...</td>\n",
       "      <td>...</td>\n",
       "      <td>...</td>\n",
       "      <td>...</td>\n",
       "      <td>...</td>\n",
       "      <td>...</td>\n",
       "      <td>...</td>\n",
       "      <td>...</td>\n",
       "      <td>...</td>\n",
       "      <td>...</td>\n",
       "      <td>...</td>\n",
       "      <td>...</td>\n",
       "      <td>...</td>\n",
       "      <td>...</td>\n",
       "      <td>...</td>\n",
       "      <td>...</td>\n",
       "      <td>...</td>\n",
       "      <td>...</td>\n",
       "      <td>...</td>\n",
       "      <td>...</td>\n",
       "      <td>...</td>\n",
       "      <td>...</td>\n",
       "      <td>...</td>\n",
       "      <td>...</td>\n",
       "      <td>...</td>\n",
       "      <td>...</td>\n",
       "      <td>...</td>\n",
       "      <td>...</td>\n",
       "      <td>...</td>\n",
       "      <td>...</td>\n",
       "      <td>...</td>\n",
       "      <td>...</td>\n",
       "      <td>...</td>\n",
       "      <td>...</td>\n",
       "      <td>...</td>\n",
       "      <td>...</td>\n",
       "      <td>...</td>\n",
       "      <td>...</td>\n",
       "      <td>...</td>\n",
       "      <td>...</td>\n",
       "      <td>...</td>\n",
       "    </tr>\n",
       "    <tr>\n",
       "      <th>7342214</th>\n",
       "      <td>0</td>\n",
       "      <td>468</td>\n",
       "      <td>60</td>\n",
       "      <td>300</td>\n",
       "      <td>5</td>\n",
       "      <td>0</td>\n",
       "      <td>0</td>\n",
       "      <td>0</td>\n",
       "      <td>1</td>\n",
       "      <td>0</td>\n",
       "      <td>0</td>\n",
       "      <td>0</td>\n",
       "      <td>0</td>\n",
       "      <td>0</td>\n",
       "      <td>1</td>\n",
       "      <td>0</td>\n",
       "      <td>0</td>\n",
       "      <td>0</td>\n",
       "      <td>0</td>\n",
       "      <td>0</td>\n",
       "      <td>0</td>\n",
       "      <td>0</td>\n",
       "      <td>0</td>\n",
       "      <td>0</td>\n",
       "      <td>0</td>\n",
       "      <td>0</td>\n",
       "      <td>0</td>\n",
       "      <td>0</td>\n",
       "      <td>0</td>\n",
       "      <td>0</td>\n",
       "      <td>0</td>\n",
       "      <td>0</td>\n",
       "      <td>0</td>\n",
       "      <td>0</td>\n",
       "      <td>0</td>\n",
       "      <td>0</td>\n",
       "      <td>0</td>\n",
       "      <td>0</td>\n",
       "      <td>1</td>\n",
       "      <td>0</td>\n",
       "      <td>0</td>\n",
       "      <td>0</td>\n",
       "      <td>0</td>\n",
       "      <td>0</td>\n",
       "      <td>0</td>\n",
       "      <td>1</td>\n",
       "      <td>0</td>\n",
       "      <td>1</td>\n",
       "      <td>0</td>\n",
       "      <td>1</td>\n",
       "      <td>0</td>\n",
       "      <td>0</td>\n",
       "      <td>0</td>\n",
       "      <td>1</td>\n",
       "      <td>0</td>\n",
       "      <td>0</td>\n",
       "      <td>0</td>\n",
       "      <td>0</td>\n",
       "      <td>0</td>\n",
       "      <td>0</td>\n",
       "      <td>0</td>\n",
       "      <td>0</td>\n",
       "      <td>0</td>\n",
       "      <td>0</td>\n",
       "      <td>0</td>\n",
       "      <td>0</td>\n",
       "      <td>0</td>\n",
       "      <td>0</td>\n",
       "      <td>0</td>\n",
       "      <td>0</td>\n",
       "      <td>0</td>\n",
       "      <td>0</td>\n",
       "      <td>0</td>\n",
       "      <td>0</td>\n",
       "      <td>0</td>\n",
       "      <td>0</td>\n",
       "      <td>0</td>\n",
       "      <td>0</td>\n",
       "      <td>0</td>\n",
       "      <td>1</td>\n",
       "      <td>0</td>\n",
       "      <td>0</td>\n",
       "      <td>0</td>\n",
       "      <td>0</td>\n",
       "      <td>0</td>\n",
       "      <td>0</td>\n",
       "      <td>0</td>\n",
       "      <td>0</td>\n",
       "      <td>0</td>\n",
       "      <td>0</td>\n",
       "      <td>0</td>\n",
       "      <td>1</td>\n",
       "      <td>0</td>\n",
       "      <td>0</td>\n",
       "      <td>0</td>\n",
       "      <td>0</td>\n",
       "      <td>0</td>\n",
       "      <td>0</td>\n",
       "      <td>0</td>\n",
       "      <td>0</td>\n",
       "      <td>0</td>\n",
       "    </tr>\n",
       "    <tr>\n",
       "      <th>7342221</th>\n",
       "      <td>0</td>\n",
       "      <td>160</td>\n",
       "      <td>600</td>\n",
       "      <td>300</td>\n",
       "      <td>162</td>\n",
       "      <td>1</td>\n",
       "      <td>0</td>\n",
       "      <td>0</td>\n",
       "      <td>0</td>\n",
       "      <td>0</td>\n",
       "      <td>0</td>\n",
       "      <td>0</td>\n",
       "      <td>0</td>\n",
       "      <td>0</td>\n",
       "      <td>0</td>\n",
       "      <td>0</td>\n",
       "      <td>0</td>\n",
       "      <td>0</td>\n",
       "      <td>0</td>\n",
       "      <td>0</td>\n",
       "      <td>0</td>\n",
       "      <td>0</td>\n",
       "      <td>0</td>\n",
       "      <td>0</td>\n",
       "      <td>0</td>\n",
       "      <td>0</td>\n",
       "      <td>0</td>\n",
       "      <td>0</td>\n",
       "      <td>0</td>\n",
       "      <td>1</td>\n",
       "      <td>0</td>\n",
       "      <td>0</td>\n",
       "      <td>0</td>\n",
       "      <td>0</td>\n",
       "      <td>0</td>\n",
       "      <td>0</td>\n",
       "      <td>0</td>\n",
       "      <td>0</td>\n",
       "      <td>0</td>\n",
       "      <td>0</td>\n",
       "      <td>1</td>\n",
       "      <td>0</td>\n",
       "      <td>0</td>\n",
       "      <td>0</td>\n",
       "      <td>0</td>\n",
       "      <td>1</td>\n",
       "      <td>0</td>\n",
       "      <td>1</td>\n",
       "      <td>0</td>\n",
       "      <td>1</td>\n",
       "      <td>0</td>\n",
       "      <td>0</td>\n",
       "      <td>0</td>\n",
       "      <td>1</td>\n",
       "      <td>0</td>\n",
       "      <td>0</td>\n",
       "      <td>0</td>\n",
       "      <td>0</td>\n",
       "      <td>0</td>\n",
       "      <td>0</td>\n",
       "      <td>0</td>\n",
       "      <td>0</td>\n",
       "      <td>0</td>\n",
       "      <td>0</td>\n",
       "      <td>0</td>\n",
       "      <td>0</td>\n",
       "      <td>0</td>\n",
       "      <td>0</td>\n",
       "      <td>0</td>\n",
       "      <td>0</td>\n",
       "      <td>0</td>\n",
       "      <td>0</td>\n",
       "      <td>0</td>\n",
       "      <td>0</td>\n",
       "      <td>1</td>\n",
       "      <td>0</td>\n",
       "      <td>0</td>\n",
       "      <td>0</td>\n",
       "      <td>0</td>\n",
       "      <td>0</td>\n",
       "      <td>0</td>\n",
       "      <td>0</td>\n",
       "      <td>0</td>\n",
       "      <td>0</td>\n",
       "      <td>0</td>\n",
       "      <td>0</td>\n",
       "      <td>0</td>\n",
       "      <td>0</td>\n",
       "      <td>0</td>\n",
       "      <td>0</td>\n",
       "      <td>0</td>\n",
       "      <td>0</td>\n",
       "      <td>0</td>\n",
       "      <td>0</td>\n",
       "      <td>0</td>\n",
       "      <td>0</td>\n",
       "      <td>1</td>\n",
       "      <td>0</td>\n",
       "      <td>0</td>\n",
       "      <td>0</td>\n",
       "      <td>0</td>\n",
       "    </tr>\n",
       "    <tr>\n",
       "      <th>7342231</th>\n",
       "      <td>0</td>\n",
       "      <td>1000</td>\n",
       "      <td>90</td>\n",
       "      <td>300</td>\n",
       "      <td>70</td>\n",
       "      <td>1</td>\n",
       "      <td>0</td>\n",
       "      <td>0</td>\n",
       "      <td>0</td>\n",
       "      <td>0</td>\n",
       "      <td>0</td>\n",
       "      <td>0</td>\n",
       "      <td>0</td>\n",
       "      <td>0</td>\n",
       "      <td>0</td>\n",
       "      <td>0</td>\n",
       "      <td>0</td>\n",
       "      <td>0</td>\n",
       "      <td>0</td>\n",
       "      <td>0</td>\n",
       "      <td>0</td>\n",
       "      <td>0</td>\n",
       "      <td>0</td>\n",
       "      <td>0</td>\n",
       "      <td>0</td>\n",
       "      <td>0</td>\n",
       "      <td>0</td>\n",
       "      <td>0</td>\n",
       "      <td>0</td>\n",
       "      <td>0</td>\n",
       "      <td>0</td>\n",
       "      <td>0</td>\n",
       "      <td>0</td>\n",
       "      <td>1</td>\n",
       "      <td>0</td>\n",
       "      <td>0</td>\n",
       "      <td>1</td>\n",
       "      <td>0</td>\n",
       "      <td>0</td>\n",
       "      <td>0</td>\n",
       "      <td>0</td>\n",
       "      <td>0</td>\n",
       "      <td>0</td>\n",
       "      <td>0</td>\n",
       "      <td>0</td>\n",
       "      <td>1</td>\n",
       "      <td>0</td>\n",
       "      <td>0</td>\n",
       "      <td>1</td>\n",
       "      <td>1</td>\n",
       "      <td>0</td>\n",
       "      <td>0</td>\n",
       "      <td>0</td>\n",
       "      <td>1</td>\n",
       "      <td>0</td>\n",
       "      <td>0</td>\n",
       "      <td>0</td>\n",
       "      <td>0</td>\n",
       "      <td>0</td>\n",
       "      <td>0</td>\n",
       "      <td>0</td>\n",
       "      <td>0</td>\n",
       "      <td>0</td>\n",
       "      <td>0</td>\n",
       "      <td>0</td>\n",
       "      <td>0</td>\n",
       "      <td>0</td>\n",
       "      <td>0</td>\n",
       "      <td>0</td>\n",
       "      <td>0</td>\n",
       "      <td>0</td>\n",
       "      <td>1</td>\n",
       "      <td>0</td>\n",
       "      <td>0</td>\n",
       "      <td>0</td>\n",
       "      <td>0</td>\n",
       "      <td>0</td>\n",
       "      <td>0</td>\n",
       "      <td>0</td>\n",
       "      <td>0</td>\n",
       "      <td>0</td>\n",
       "      <td>0</td>\n",
       "      <td>0</td>\n",
       "      <td>0</td>\n",
       "      <td>0</td>\n",
       "      <td>0</td>\n",
       "      <td>0</td>\n",
       "      <td>0</td>\n",
       "      <td>0</td>\n",
       "      <td>0</td>\n",
       "      <td>0</td>\n",
       "      <td>0</td>\n",
       "      <td>0</td>\n",
       "      <td>1</td>\n",
       "      <td>0</td>\n",
       "      <td>0</td>\n",
       "      <td>0</td>\n",
       "      <td>0</td>\n",
       "      <td>0</td>\n",
       "      <td>0</td>\n",
       "      <td>0</td>\n",
       "    </tr>\n",
       "    <tr>\n",
       "      <th>7342232</th>\n",
       "      <td>0</td>\n",
       "      <td>336</td>\n",
       "      <td>280</td>\n",
       "      <td>300</td>\n",
       "      <td>51</td>\n",
       "      <td>0</td>\n",
       "      <td>0</td>\n",
       "      <td>0</td>\n",
       "      <td>0</td>\n",
       "      <td>1</td>\n",
       "      <td>0</td>\n",
       "      <td>0</td>\n",
       "      <td>0</td>\n",
       "      <td>0</td>\n",
       "      <td>0</td>\n",
       "      <td>0</td>\n",
       "      <td>0</td>\n",
       "      <td>0</td>\n",
       "      <td>0</td>\n",
       "      <td>0</td>\n",
       "      <td>0</td>\n",
       "      <td>0</td>\n",
       "      <td>0</td>\n",
       "      <td>0</td>\n",
       "      <td>0</td>\n",
       "      <td>0</td>\n",
       "      <td>0</td>\n",
       "      <td>0</td>\n",
       "      <td>0</td>\n",
       "      <td>0</td>\n",
       "      <td>0</td>\n",
       "      <td>1</td>\n",
       "      <td>0</td>\n",
       "      <td>0</td>\n",
       "      <td>0</td>\n",
       "      <td>0</td>\n",
       "      <td>0</td>\n",
       "      <td>0</td>\n",
       "      <td>1</td>\n",
       "      <td>0</td>\n",
       "      <td>0</td>\n",
       "      <td>0</td>\n",
       "      <td>0</td>\n",
       "      <td>0</td>\n",
       "      <td>0</td>\n",
       "      <td>1</td>\n",
       "      <td>1</td>\n",
       "      <td>0</td>\n",
       "      <td>0</td>\n",
       "      <td>1</td>\n",
       "      <td>0</td>\n",
       "      <td>0</td>\n",
       "      <td>0</td>\n",
       "      <td>0</td>\n",
       "      <td>1</td>\n",
       "      <td>0</td>\n",
       "      <td>0</td>\n",
       "      <td>0</td>\n",
       "      <td>0</td>\n",
       "      <td>0</td>\n",
       "      <td>0</td>\n",
       "      <td>0</td>\n",
       "      <td>0</td>\n",
       "      <td>0</td>\n",
       "      <td>0</td>\n",
       "      <td>0</td>\n",
       "      <td>0</td>\n",
       "      <td>0</td>\n",
       "      <td>0</td>\n",
       "      <td>0</td>\n",
       "      <td>0</td>\n",
       "      <td>1</td>\n",
       "      <td>0</td>\n",
       "      <td>0</td>\n",
       "      <td>0</td>\n",
       "      <td>0</td>\n",
       "      <td>0</td>\n",
       "      <td>0</td>\n",
       "      <td>0</td>\n",
       "      <td>0</td>\n",
       "      <td>0</td>\n",
       "      <td>0</td>\n",
       "      <td>0</td>\n",
       "      <td>0</td>\n",
       "      <td>0</td>\n",
       "      <td>0</td>\n",
       "      <td>0</td>\n",
       "      <td>0</td>\n",
       "      <td>0</td>\n",
       "      <td>0</td>\n",
       "      <td>0</td>\n",
       "      <td>1</td>\n",
       "      <td>0</td>\n",
       "      <td>0</td>\n",
       "      <td>0</td>\n",
       "      <td>0</td>\n",
       "      <td>0</td>\n",
       "      <td>0</td>\n",
       "      <td>0</td>\n",
       "      <td>0</td>\n",
       "      <td>0</td>\n",
       "    </tr>\n",
       "    <tr>\n",
       "      <th>7342234</th>\n",
       "      <td>0</td>\n",
       "      <td>300</td>\n",
       "      <td>250</td>\n",
       "      <td>300</td>\n",
       "      <td>64</td>\n",
       "      <td>0</td>\n",
       "      <td>0</td>\n",
       "      <td>0</td>\n",
       "      <td>1</td>\n",
       "      <td>0</td>\n",
       "      <td>0</td>\n",
       "      <td>0</td>\n",
       "      <td>0</td>\n",
       "      <td>0</td>\n",
       "      <td>0</td>\n",
       "      <td>0</td>\n",
       "      <td>0</td>\n",
       "      <td>0</td>\n",
       "      <td>0</td>\n",
       "      <td>0</td>\n",
       "      <td>0</td>\n",
       "      <td>0</td>\n",
       "      <td>0</td>\n",
       "      <td>0</td>\n",
       "      <td>1</td>\n",
       "      <td>0</td>\n",
       "      <td>0</td>\n",
       "      <td>0</td>\n",
       "      <td>0</td>\n",
       "      <td>0</td>\n",
       "      <td>0</td>\n",
       "      <td>0</td>\n",
       "      <td>0</td>\n",
       "      <td>0</td>\n",
       "      <td>0</td>\n",
       "      <td>0</td>\n",
       "      <td>1</td>\n",
       "      <td>0</td>\n",
       "      <td>0</td>\n",
       "      <td>0</td>\n",
       "      <td>0</td>\n",
       "      <td>0</td>\n",
       "      <td>0</td>\n",
       "      <td>0</td>\n",
       "      <td>0</td>\n",
       "      <td>1</td>\n",
       "      <td>0</td>\n",
       "      <td>0</td>\n",
       "      <td>1</td>\n",
       "      <td>1</td>\n",
       "      <td>0</td>\n",
       "      <td>0</td>\n",
       "      <td>0</td>\n",
       "      <td>1</td>\n",
       "      <td>0</td>\n",
       "      <td>0</td>\n",
       "      <td>0</td>\n",
       "      <td>1</td>\n",
       "      <td>0</td>\n",
       "      <td>0</td>\n",
       "      <td>0</td>\n",
       "      <td>0</td>\n",
       "      <td>0</td>\n",
       "      <td>0</td>\n",
       "      <td>0</td>\n",
       "      <td>0</td>\n",
       "      <td>0</td>\n",
       "      <td>0</td>\n",
       "      <td>0</td>\n",
       "      <td>0</td>\n",
       "      <td>0</td>\n",
       "      <td>0</td>\n",
       "      <td>0</td>\n",
       "      <td>0</td>\n",
       "      <td>0</td>\n",
       "      <td>0</td>\n",
       "      <td>0</td>\n",
       "      <td>0</td>\n",
       "      <td>0</td>\n",
       "      <td>0</td>\n",
       "      <td>0</td>\n",
       "      <td>0</td>\n",
       "      <td>0</td>\n",
       "      <td>0</td>\n",
       "      <td>0</td>\n",
       "      <td>0</td>\n",
       "      <td>0</td>\n",
       "      <td>0</td>\n",
       "      <td>0</td>\n",
       "      <td>0</td>\n",
       "      <td>0</td>\n",
       "      <td>1</td>\n",
       "      <td>0</td>\n",
       "      <td>0</td>\n",
       "      <td>0</td>\n",
       "      <td>0</td>\n",
       "      <td>0</td>\n",
       "      <td>0</td>\n",
       "      <td>0</td>\n",
       "      <td>0</td>\n",
       "      <td>0</td>\n",
       "    </tr>\n",
       "  </tbody>\n",
       "</table>\n",
       "<p>1849308 rows × 101 columns</p>\n",
       "</div>"
      ],
      "text/plain": [
       "         click  ad_slot_width  ad_slot_height  bidding_price  paying_price  \\\n",
       "4            0            336             280            300            17   \n",
       "15           0           1000              90            300            80   \n",
       "20           0            300             250            300            50   \n",
       "23           0           1000              90            300            70   \n",
       "27           0            160             600            300            30   \n",
       "...        ...            ...             ...            ...           ...   \n",
       "7342214      0            468              60            300             5   \n",
       "7342221      0            160             600            300           162   \n",
       "7342231      0           1000              90            300            70   \n",
       "7342232      0            336             280            300            51   \n",
       "7342234      0            300             250            300            64   \n",
       "\n",
       "         day_0  day_1  day_2  day_3  day_4  day_5  day_6  hour_0  hour_1  \\\n",
       "4            0      0      1      0      0      0      0       0       0   \n",
       "15           0      0      0      0      0      1      0       0       0   \n",
       "20           0      0      0      0      0      0      1       0       0   \n",
       "23           0      1      0      0      0      0      0       0       0   \n",
       "27           0      1      0      0      0      0      0       0       0   \n",
       "...        ...    ...    ...    ...    ...    ...    ...     ...     ...   \n",
       "7342214      0      0      0      1      0      0      0       0       0   \n",
       "7342221      1      0      0      0      0      0      0       0       0   \n",
       "7342231      1      0      0      0      0      0      0       0       0   \n",
       "7342232      0      0      0      0      1      0      0       0       0   \n",
       "7342234      0      0      0      1      0      0      0       0       0   \n",
       "\n",
       "         hour_2  hour_3  hour_4  hour_5  hour_6  hour_7  hour_8  hour_9  \\\n",
       "4             0       0       0       0       0       0       0       0   \n",
       "15            0       0       0       0       1       0       0       0   \n",
       "20            0       1       0       0       0       0       0       0   \n",
       "23            0       0       0       0       0       0       0       0   \n",
       "27            0       0       0       0       0       0       0       0   \n",
       "...         ...     ...     ...     ...     ...     ...     ...     ...   \n",
       "7342214       1       0       0       0       0       0       0       0   \n",
       "7342221       0       0       0       0       0       0       0       0   \n",
       "7342231       0       0       0       0       0       0       0       0   \n",
       "7342232       0       0       0       0       0       0       0       0   \n",
       "7342234       0       0       0       0       0       0       0       0   \n",
       "\n",
       "         hour_10  hour_11  hour_12  hour_13  hour_14  hour_15  hour_16  \\\n",
       "4              0        0        0        0        0        0        0   \n",
       "15             0        0        0        0        0        0        0   \n",
       "20             0        0        0        0        0        0        0   \n",
       "23             0        0        0        0        0        0        0   \n",
       "27             0        0        0        0        0        0        0   \n",
       "...          ...      ...      ...      ...      ...      ...      ...   \n",
       "7342214        0        0        0        0        0        0        0   \n",
       "7342221        0        0        0        0        0        0        0   \n",
       "7342231        0        0        0        0        0        0        0   \n",
       "7342232        0        0        0        0        0        0        0   \n",
       "7342234        0        0        1        0        0        0        0   \n",
       "\n",
       "         hour_17  hour_18  hour_19  hour_20  hour_21  hour_22  hour_23  \\\n",
       "4              0        0        0        0        0        1        0   \n",
       "15             0        0        0        0        0        0        0   \n",
       "20             0        0        0        0        0        0        0   \n",
       "23             0        0        0        0        0        1        0   \n",
       "27             0        1        0        0        0        0        0   \n",
       "...          ...      ...      ...      ...      ...      ...      ...   \n",
       "7342214        0        0        0        0        0        0        0   \n",
       "7342221        1        0        0        0        0        0        0   \n",
       "7342231        0        0        0        0        1        0        0   \n",
       "7342232        0        0        1        0        0        0        0   \n",
       "7342234        0        0        0        0        0        0        0   \n",
       "\n",
       "         browser_chrome  browser_firefox  browser_ie  browser_opera  \\\n",
       "4                     0                0           1              0   \n",
       "15                    1                0           0              0   \n",
       "20                    0                0           0              0   \n",
       "23                    1                0           0              0   \n",
       "27                    1                0           0              0   \n",
       "...                 ...              ...         ...            ...   \n",
       "7342214               0                0           1              0   \n",
       "7342221               0                0           0              0   \n",
       "7342231               1                0           0              0   \n",
       "7342232               0                0           1              0   \n",
       "7342234               1                0           0              0   \n",
       "\n",
       "         browser_other  browser_safari  os_linux  os_mac os x  os_other  \\\n",
       "4                    0               0         0            0         0   \n",
       "15                   0               0         0            0         0   \n",
       "20                   1               0         0            0         0   \n",
       "23                   0               0         0            0         0   \n",
       "27                   0               0         0            0         0   \n",
       "...                ...             ...       ...          ...       ...   \n",
       "7342214              0               0         0            0         0   \n",
       "7342221              1               0         0            0         0   \n",
       "7342231              0               0         0            0         0   \n",
       "7342232              0               0         0            0         0   \n",
       "7342234              0               0         0            0         0   \n",
       "\n",
       "         os_windows  ad_exchange_1  ad_exchange_2  ad_exchange_3  \\\n",
       "4                 1              1              0              0   \n",
       "15                1              0              0              1   \n",
       "20                1              0              0              1   \n",
       "23                1              0              0              1   \n",
       "27                1              0              1              0   \n",
       "...             ...            ...            ...            ...   \n",
       "7342214           1              0              1              0   \n",
       "7342221           1              0              1              0   \n",
       "7342231           1              0              0              1   \n",
       "7342232           1              1              0              0   \n",
       "7342234           1              0              0              1   \n",
       "\n",
       "         ad_slot_visibility_0  ad_slot_visibility_1  ad_slot_visibility_2  \\\n",
       "4                           0                     0                     1   \n",
       "15                          1                     0                     0   \n",
       "20                          1                     0                     0   \n",
       "23                          1                     0                     0   \n",
       "27                          0                     0                     1   \n",
       "...                       ...                   ...                   ...   \n",
       "7342214                     1                     0                     0   \n",
       "7342221                     1                     0                     0   \n",
       "7342231                     1                     0                     0   \n",
       "7342232                     1                     0                     0   \n",
       "7342234                     1                     0                     0   \n",
       "\n",
       "         ad_slot_visibility_255  ad_slot_0  ad_slot_1  ad_slot_5  region_id_0  \\\n",
       "4                             0          0          1          0            0   \n",
       "15                            0          1          0          0            0   \n",
       "20                            0          1          0          0            0   \n",
       "23                            0          1          0          0            0   \n",
       "27                            0          1          0          0            0   \n",
       "...                         ...        ...        ...        ...          ...   \n",
       "7342214                       0          1          0          0            0   \n",
       "7342221                       0          1          0          0            0   \n",
       "7342231                       0          1          0          0            0   \n",
       "7342232                       0          0          1          0            0   \n",
       "7342234                       0          1          0          0            0   \n",
       "\n",
       "         region_id_1  region_id_2  region_id_3  region_id_15  region_id_27  \\\n",
       "4                  0            0            0             0             0   \n",
       "15                 0            0            0             0             1   \n",
       "20                 0            0            0             0             0   \n",
       "23                 0            0            0             0             0   \n",
       "27                 0            0            0             0             0   \n",
       "...              ...          ...          ...           ...           ...   \n",
       "7342214            0            0            0             0             0   \n",
       "7342221            0            0            0             0             0   \n",
       "7342231            0            0            0             0             0   \n",
       "7342232            0            0            0             0             0   \n",
       "7342234            1            0            0             0             0   \n",
       "\n",
       "         region_id_40  region_id_55  region_id_65  region_id_79  region_id_80  \\\n",
       "4                   0             0             0             0             0   \n",
       "15                  0             0             0             0             0   \n",
       "20                  0             0             0             0             0   \n",
       "23                  0             0             0             0             0   \n",
       "27                  0             0             0             0             0   \n",
       "...               ...           ...           ...           ...           ...   \n",
       "7342214             0             0             0             0             0   \n",
       "7342221             0             0             0             0             0   \n",
       "7342231             0             0             0             0             0   \n",
       "7342232             0             0             0             0             0   \n",
       "7342234             0             0             0             0             0   \n",
       "\n",
       "         region_id_94  region_id_106  region_id_124  region_id_134  \\\n",
       "4                   0              0              0              0   \n",
       "15                  0              0              0              0   \n",
       "20                  0              0              0              0   \n",
       "23                  0              0              0              0   \n",
       "27                  0              0              0              0   \n",
       "...               ...            ...            ...            ...   \n",
       "7342214             0              0              0              0   \n",
       "7342221             0              0              0              0   \n",
       "7342231             0              0              0              0   \n",
       "7342232             0              0              0              0   \n",
       "7342234             0              0              0              0   \n",
       "\n",
       "         region_id_146  region_id_164  region_id_183  region_id_201  \\\n",
       "4                    0              0              0              0   \n",
       "15                   0              0              0              0   \n",
       "20                   1              0              0              0   \n",
       "23                   0              1              0              0   \n",
       "27                   0              0              0              0   \n",
       "...                ...            ...            ...            ...   \n",
       "7342214              0              0              0              0   \n",
       "7342221              0              0              0              1   \n",
       "7342231              1              0              0              0   \n",
       "7342232              1              0              0              0   \n",
       "7342234              0              0              0              0   \n",
       "\n",
       "         region_id_216  region_id_238  region_id_253  region_id_275  \\\n",
       "4                    0              1              0              0   \n",
       "15                   0              0              0              0   \n",
       "20                   0              0              0              0   \n",
       "23                   0              0              0              0   \n",
       "27                   0              0              0              0   \n",
       "...                ...            ...            ...            ...   \n",
       "7342214              0              0              0              0   \n",
       "7342221              0              0              0              0   \n",
       "7342231              0              0              0              0   \n",
       "7342232              0              0              0              0   \n",
       "7342234              0              0              0              0   \n",
       "\n",
       "         region_id_276  region_id_298  region_id_308  region_id_325  \\\n",
       "4                    0              0              0              0   \n",
       "15                   0              0              0              0   \n",
       "20                   0              0              0              0   \n",
       "23                   0              0              0              0   \n",
       "27                   1              0              0              0   \n",
       "...                ...            ...            ...            ...   \n",
       "7342214              1              0              0              0   \n",
       "7342221              0              0              0              0   \n",
       "7342231              0              0              0              0   \n",
       "7342232              0              0              0              0   \n",
       "7342234              0              0              0              0   \n",
       "\n",
       "         region_id_333  region_id_344  region_id_359  region_id_368  \\\n",
       "4                    0              0              0              0   \n",
       "15                   0              0              0              0   \n",
       "20                   0              0              0              0   \n",
       "23                   0              0              0              0   \n",
       "27                   0              0              0              0   \n",
       "...                ...            ...            ...            ...   \n",
       "7342214              0              0              0              0   \n",
       "7342221              0              0              0              0   \n",
       "7342231              0              0              0              0   \n",
       "7342232              0              0              0              0   \n",
       "7342234              0              0              0              0   \n",
       "\n",
       "         region_id_374  region_id_393  region_id_394  region_id_395  \\\n",
       "4                    0              0              0              0   \n",
       "15                   0              0              0              0   \n",
       "20                   0              0              0              0   \n",
       "23                   0              0              0              0   \n",
       "27                   0              0              0              0   \n",
       "...                ...            ...            ...            ...   \n",
       "7342214              0              0              0              0   \n",
       "7342221              0              0              0              0   \n",
       "7342231              0              0              0              0   \n",
       "7342232              0              0              0              0   \n",
       "7342234              0              0              0              0   \n",
       "\n",
       "         floorprice_bin_1  floorprice_bin_2  floorprice_bin_3  \\\n",
       "4                       1                 0                 0   \n",
       "15                      0                 0                 1   \n",
       "20                      0                 1                 0   \n",
       "23                      0                 0                 1   \n",
       "27                      1                 0                 0   \n",
       "...                   ...               ...               ...   \n",
       "7342214                 1                 0                 0   \n",
       "7342221                 0                 0                 0   \n",
       "7342231                 0                 0                 1   \n",
       "7342232                 1                 0                 0   \n",
       "7342234                 1                 0                 0   \n",
       "\n",
       "         floorprice_bin_4  floorprice_bin_5  floorprice_bin_6  \\\n",
       "4                       0                 0                 0   \n",
       "15                      0                 0                 0   \n",
       "20                      0                 0                 0   \n",
       "23                      0                 0                 0   \n",
       "27                      0                 0                 0   \n",
       "...                   ...               ...               ...   \n",
       "7342214                 0                 0                 0   \n",
       "7342221                 0                 0                 1   \n",
       "7342231                 0                 0                 0   \n",
       "7342232                 0                 0                 0   \n",
       "7342234                 0                 0                 0   \n",
       "\n",
       "         floorprice_bin_7  floorprice_bin_8  floorprice_bin_9  \\\n",
       "4                       0                 0                 0   \n",
       "15                      0                 0                 0   \n",
       "20                      0                 0                 0   \n",
       "23                      0                 0                 0   \n",
       "27                      0                 0                 0   \n",
       "...                   ...               ...               ...   \n",
       "7342214                 0                 0                 0   \n",
       "7342221                 0                 0                 0   \n",
       "7342231                 0                 0                 0   \n",
       "7342232                 0                 0                 0   \n",
       "7342234                 0                 0                 0   \n",
       "\n",
       "         floorprice_bin_10  \n",
       "4                        0  \n",
       "15                       0  \n",
       "20                       0  \n",
       "23                       0  \n",
       "27                       0  \n",
       "...                    ...  \n",
       "7342214                  0  \n",
       "7342221                  0  \n",
       "7342231                  0  \n",
       "7342232                  0  \n",
       "7342234                  0  \n",
       "\n",
       "[1849308 rows x 101 columns]"
      ]
     },
     "execution_count": 21,
     "metadata": {},
     "output_type": "execute_result"
    }
   ],
   "source": [
    "train_1458 = indicatorise_features(train_1458)\n",
    "train_1458"
   ]
  },
  {
   "cell_type": "code",
   "execution_count": 22,
   "id": "approved-distribution",
   "metadata": {
    "ExecuteTime": {
     "end_time": "2021-11-13T05:22:28.793597Z",
     "start_time": "2021-11-13T05:22:28.778637Z"
    }
   },
   "outputs": [],
   "source": [
    "#Both the methods combined.\n",
    "def featurise_data(data):\n",
    "    '''\n",
    "    Featurises the data passed as a dataframe.\n",
    "    '''\n",
    "    #Floor price feature.\n",
    "    data = make_floorprice_bins(data)\n",
    "    #Indicatrise the variables.\n",
    "    data = indicatorise_features(data)\n",
    "    return data"
   ]
  },
  {
   "cell_type": "markdown",
   "id": "beautiful-cooperative",
   "metadata": {},
   "source": [
    "# Notebook 4: Logistic Regeression\n",
    "\n",
    "Here we develop a logistic regression model that makes use of the training data for future prdictions."
   ]
  },
  {
   "cell_type": "code",
   "execution_count": 1,
   "id": "compliant-lafayette",
   "metadata": {
    "ExecuteTime": {
     "end_time": "2021-11-13T05:17:48.253163Z",
     "start_time": "2021-11-13T05:17:22.069869Z"
    }
   },
   "outputs": [],
   "source": [
    "#Dependancies and Utilities.\n",
    "import pandas as pd\n",
    "import numpy as np\n",
    "from random import randrange\n",
    "import matplotlib.pyplot as plt\n",
    "import seaborn as sns\n",
    "plt.style.use('seaborn')\n",
    "%matplotlib inline\n",
    "from imblearn.under_sampling import TomekLinks, RandomUnderSampler,NearMiss\n",
    "from imblearn.over_sampling import SMOTE\n",
    "from imblearn.combine import SMOTETomek\n",
    "from sklearn.model_selection import StratifiedKFold, cross_val_score, GridSearchCV\n",
    "from sklearn import metrics\n",
    "from sklearn.metrics import auc,roc_curve,confusion_matrix\n",
    "from sklearn.linear_model import LogisticRegression"
   ]
  },
  {
   "cell_type": "code",
   "execution_count": 12,
   "id": "terminal-joyce",
   "metadata": {
    "ExecuteTime": {
     "end_time": "2021-11-13T05:26:39.332607Z",
     "start_time": "2021-11-13T05:26:39.301397Z"
    }
   },
   "outputs": [],
   "source": [
    "from preprocessCSV import *\n",
    "from featurize import *\n",
    "\n",
    "class display(object):\n",
    "    \"\"\"Display HTML representation of multiple objects\"\"\"\n",
    "    template = \"\"\"<div style=\"float: left; padding: 10px;\">\n",
    "    <p style='font-family:\"Courier New\", Courier, monospace'>{0}</p>{1}\n",
    "    </div>\"\"\"\n",
    "    def __init__(self, *args):\n",
    "        self.args = args\n",
    "        \n",
    "    def _repr_html_(self):\n",
    "        return '\\n'.join(self.template.format(a, eval(a)._repr_html_())\n",
    "                         for a in self.args)\n",
    "    \n",
    "    def __repr__(self):\n",
    "        return '\\n\\n'.join(a + '\\n' + repr(eval(a))\n",
    "                           for a in self.args)\n",
    "    "
   ]
  },
  {
   "cell_type": "markdown",
   "id": "numerical-integrity",
   "metadata": {},
   "source": [
    "## Loading the data\n",
    "All predictions is to be made using advertiser 1458's training data."
   ]
  },
  {
   "cell_type": "code",
   "execution_count": 15,
   "id": "considered-daughter",
   "metadata": {
    "ExecuteTime": {
     "end_time": "2021-11-13T05:27:27.808642Z",
     "start_time": "2021-11-13T05:27:21.981178Z"
    }
   },
   "outputs": [
    {
     "data": {
      "text/html": [
       "<div>\n",
       "<style scoped>\n",
       "    .dataframe tbody tr th:only-of-type {\n",
       "        vertical-align: middle;\n",
       "    }\n",
       "\n",
       "    .dataframe tbody tr th {\n",
       "        vertical-align: top;\n",
       "    }\n",
       "\n",
       "    .dataframe thead th {\n",
       "        text-align: right;\n",
       "    }\n",
       "</style>\n",
       "<table border=\"1\" class=\"dataframe\">\n",
       "  <thead>\n",
       "    <tr style=\"text-align: right;\">\n",
       "      <th></th>\n",
       "      <th>Unnamed: 0</th>\n",
       "      <th>day</th>\n",
       "      <th>hour</th>\n",
       "      <th>click</th>\n",
       "      <th>browser</th>\n",
       "      <th>os</th>\n",
       "      <th>ad_exchange</th>\n",
       "      <th>ad_slot_width</th>\n",
       "      <th>ad_slot_height</th>\n",
       "      <th>ad_slot_visibility</th>\n",
       "      <th>ad_slot</th>\n",
       "      <th>ad_slot_floor_price</th>\n",
       "      <th>bidding_price</th>\n",
       "      <th>paying_price</th>\n",
       "      <th>region_id</th>\n",
       "    </tr>\n",
       "  </thead>\n",
       "  <tbody>\n",
       "    <tr>\n",
       "      <th>0</th>\n",
       "      <td>6</td>\n",
       "      <td>3</td>\n",
       "      <td>23</td>\n",
       "      <td>0</td>\n",
       "      <td>ie</td>\n",
       "      <td>windows</td>\n",
       "      <td>3</td>\n",
       "      <td>300</td>\n",
       "      <td>250</td>\n",
       "      <td>0</td>\n",
       "      <td>0</td>\n",
       "      <td>10</td>\n",
       "      <td>300</td>\n",
       "      <td>10</td>\n",
       "      <td>333</td>\n",
       "    </tr>\n",
       "    <tr>\n",
       "      <th>1</th>\n",
       "      <td>7</td>\n",
       "      <td>1</td>\n",
       "      <td>15</td>\n",
       "      <td>0</td>\n",
       "      <td>other</td>\n",
       "      <td>windows</td>\n",
       "      <td>1</td>\n",
       "      <td>728</td>\n",
       "      <td>90</td>\n",
       "      <td>2</td>\n",
       "      <td>1</td>\n",
       "      <td>0</td>\n",
       "      <td>300</td>\n",
       "      <td>151</td>\n",
       "      <td>164</td>\n",
       "    </tr>\n",
       "    <tr>\n",
       "      <th>2</th>\n",
       "      <td>8</td>\n",
       "      <td>3</td>\n",
       "      <td>10</td>\n",
       "      <td>0</td>\n",
       "      <td>ie</td>\n",
       "      <td>windows</td>\n",
       "      <td>2</td>\n",
       "      <td>728</td>\n",
       "      <td>90</td>\n",
       "      <td>1</td>\n",
       "      <td>0</td>\n",
       "      <td>4</td>\n",
       "      <td>300</td>\n",
       "      <td>183</td>\n",
       "      <td>216</td>\n",
       "    </tr>\n",
       "    <tr>\n",
       "      <th>3</th>\n",
       "      <td>11</td>\n",
       "      <td>4</td>\n",
       "      <td>8</td>\n",
       "      <td>0</td>\n",
       "      <td>other</td>\n",
       "      <td>windows</td>\n",
       "      <td>3</td>\n",
       "      <td>300</td>\n",
       "      <td>250</td>\n",
       "      <td>0</td>\n",
       "      <td>0</td>\n",
       "      <td>50</td>\n",
       "      <td>300</td>\n",
       "      <td>70</td>\n",
       "      <td>164</td>\n",
       "    </tr>\n",
       "    <tr>\n",
       "      <th>4</th>\n",
       "      <td>15</td>\n",
       "      <td>1</td>\n",
       "      <td>11</td>\n",
       "      <td>0</td>\n",
       "      <td>chrome</td>\n",
       "      <td>windows</td>\n",
       "      <td>3</td>\n",
       "      <td>1000</td>\n",
       "      <td>90</td>\n",
       "      <td>0</td>\n",
       "      <td>0</td>\n",
       "      <td>70</td>\n",
       "      <td>300</td>\n",
       "      <td>70</td>\n",
       "      <td>3</td>\n",
       "    </tr>\n",
       "    <tr>\n",
       "      <th>...</th>\n",
       "      <td>...</td>\n",
       "      <td>...</td>\n",
       "      <td>...</td>\n",
       "      <td>...</td>\n",
       "      <td>...</td>\n",
       "      <td>...</td>\n",
       "      <td>...</td>\n",
       "      <td>...</td>\n",
       "      <td>...</td>\n",
       "      <td>...</td>\n",
       "      <td>...</td>\n",
       "      <td>...</td>\n",
       "      <td>...</td>\n",
       "      <td>...</td>\n",
       "      <td>...</td>\n",
       "    </tr>\n",
       "    <tr>\n",
       "      <th>617064</th>\n",
       "      <td>2447396</td>\n",
       "      <td>4</td>\n",
       "      <td>18</td>\n",
       "      <td>0</td>\n",
       "      <td>ie</td>\n",
       "      <td>windows</td>\n",
       "      <td>3</td>\n",
       "      <td>300</td>\n",
       "      <td>250</td>\n",
       "      <td>0</td>\n",
       "      <td>0</td>\n",
       "      <td>10</td>\n",
       "      <td>300</td>\n",
       "      <td>20</td>\n",
       "      <td>146</td>\n",
       "    </tr>\n",
       "    <tr>\n",
       "      <th>617065</th>\n",
       "      <td>2447403</td>\n",
       "      <td>1</td>\n",
       "      <td>12</td>\n",
       "      <td>0</td>\n",
       "      <td>chrome</td>\n",
       "      <td>windows</td>\n",
       "      <td>3</td>\n",
       "      <td>1000</td>\n",
       "      <td>90</td>\n",
       "      <td>0</td>\n",
       "      <td>0</td>\n",
       "      <td>70</td>\n",
       "      <td>300</td>\n",
       "      <td>70</td>\n",
       "      <td>94</td>\n",
       "    </tr>\n",
       "    <tr>\n",
       "      <th>617066</th>\n",
       "      <td>2447406</td>\n",
       "      <td>4</td>\n",
       "      <td>22</td>\n",
       "      <td>0</td>\n",
       "      <td>chrome</td>\n",
       "      <td>windows</td>\n",
       "      <td>3</td>\n",
       "      <td>300</td>\n",
       "      <td>250</td>\n",
       "      <td>0</td>\n",
       "      <td>0</td>\n",
       "      <td>50</td>\n",
       "      <td>300</td>\n",
       "      <td>50</td>\n",
       "      <td>1</td>\n",
       "    </tr>\n",
       "    <tr>\n",
       "      <th>617067</th>\n",
       "      <td>2447407</td>\n",
       "      <td>1</td>\n",
       "      <td>21</td>\n",
       "      <td>0</td>\n",
       "      <td>other</td>\n",
       "      <td>windows</td>\n",
       "      <td>1</td>\n",
       "      <td>728</td>\n",
       "      <td>90</td>\n",
       "      <td>1</td>\n",
       "      <td>1</td>\n",
       "      <td>0</td>\n",
       "      <td>300</td>\n",
       "      <td>76</td>\n",
       "      <td>216</td>\n",
       "    </tr>\n",
       "    <tr>\n",
       "      <th>617068</th>\n",
       "      <td>2447409</td>\n",
       "      <td>6</td>\n",
       "      <td>1</td>\n",
       "      <td>0</td>\n",
       "      <td>ie</td>\n",
       "      <td>windows</td>\n",
       "      <td>2</td>\n",
       "      <td>250</td>\n",
       "      <td>250</td>\n",
       "      <td>2</td>\n",
       "      <td>0</td>\n",
       "      <td>4</td>\n",
       "      <td>300</td>\n",
       "      <td>7</td>\n",
       "      <td>216</td>\n",
       "    </tr>\n",
       "  </tbody>\n",
       "</table>\n",
       "<p>617069 rows × 15 columns</p>\n",
       "</div>"
      ],
      "text/plain": [
       "        Unnamed: 0  day  hour  click browser       os  ad_exchange  \\\n",
       "0                6    3    23      0      ie  windows            3   \n",
       "1                7    1    15      0   other  windows            1   \n",
       "2                8    3    10      0      ie  windows            2   \n",
       "3               11    4     8      0   other  windows            3   \n",
       "4               15    1    11      0  chrome  windows            3   \n",
       "...            ...  ...   ...    ...     ...      ...          ...   \n",
       "617064     2447396    4    18      0      ie  windows            3   \n",
       "617065     2447403    1    12      0  chrome  windows            3   \n",
       "617066     2447406    4    22      0  chrome  windows            3   \n",
       "617067     2447407    1    21      0   other  windows            1   \n",
       "617068     2447409    6     1      0      ie  windows            2   \n",
       "\n",
       "        ad_slot_width  ad_slot_height  ad_slot_visibility  ad_slot  \\\n",
       "0                 300             250                   0        0   \n",
       "1                 728              90                   2        1   \n",
       "2                 728              90                   1        0   \n",
       "3                 300             250                   0        0   \n",
       "4                1000              90                   0        0   \n",
       "...               ...             ...                 ...      ...   \n",
       "617064            300             250                   0        0   \n",
       "617065           1000              90                   0        0   \n",
       "617066            300             250                   0        0   \n",
       "617067            728              90                   1        1   \n",
       "617068            250             250                   2        0   \n",
       "\n",
       "        ad_slot_floor_price  bidding_price  paying_price  region_id  \n",
       "0                        10            300            10        333  \n",
       "1                         0            300           151        164  \n",
       "2                         4            300           183        216  \n",
       "3                        50            300            70        164  \n",
       "4                        70            300            70          3  \n",
       "...                     ...            ...           ...        ...  \n",
       "617064                   10            300            20        146  \n",
       "617065                   70            300            70         94  \n",
       "617066                   50            300            50          1  \n",
       "617067                    0            300            76        216  \n",
       "617068                    4            300             7        216  \n",
       "\n",
       "[617069 rows x 15 columns]"
      ]
     },
     "execution_count": 15,
     "metadata": {},
     "output_type": "execute_result"
    }
   ],
   "source": [
    "train = pd.read_csv('Data/train_1458.csv')\n",
    "validate = pd.read_csv('Data/validate_1458.csv')"
   ]
  },
  {
   "cell_type": "code",
   "execution_count": 18,
   "id": "quick-holder",
   "metadata": {
    "ExecuteTime": {
     "end_time": "2021-11-13T05:27:44.306658Z",
     "start_time": "2021-11-13T05:27:42.889803Z"
    }
   },
   "outputs": [],
   "source": [
    "#Preprocessing done in notebook 2.\n",
    "for data in [train, validate]:\n",
    "    data.drop(columns=['Unnamed: 0'], axis=1, inplace=True)\n",
    "    data = numerise_features(data)\n",
    "    data = categorize_features(data,\n",
    "                               category_features=[\n",
    "                                   'day', 'hour', 'browser', 'os',\n",
    "                                   'ad_slot_visibility', 'ad_slot',\n",
    "                                   'ad_exchange', 'region_id'\n",
    "                               ])"
   ]
  },
  {
   "cell_type": "code",
   "execution_count": 25,
   "id": "supported-pleasure",
   "metadata": {
    "ExecuteTime": {
     "end_time": "2021-11-13T05:30:10.592200Z",
     "start_time": "2021-11-13T05:30:10.175576Z"
    }
   },
   "outputs": [],
   "source": [
    "#Feature Extraction performed in notebook 3.\n",
    "train = featurise_data(train)\n",
    "validate = featurise_data(validate)"
   ]
  },
  {
   "cell_type": "code",
   "execution_count": 27,
   "id": "complimentary-webcam",
   "metadata": {
    "ExecuteTime": {
     "end_time": "2021-11-13T05:30:40.671397Z",
     "start_time": "2021-11-13T05:30:40.633635Z"
    },
    "scrolled": false
   },
   "outputs": [
    {
     "name": "stdout",
     "output_type": "stream",
     "text": [
      "<class 'pandas.core.frame.DataFrame'>\n",
      "RangeIndex: 1849308 entries, 0 to 1849307\n",
      "Data columns (total 100 columns):\n",
      " #   Column                  Dtype\n",
      "---  ------                  -----\n",
      " 0   click                   int32\n",
      " 1   ad_slot_width           int32\n",
      " 2   ad_slot_height          int32\n",
      " 3   bidding_price           int32\n",
      " 4   paying_price            int32\n",
      " 5   day_0                   uint8\n",
      " 6   day_1                   uint8\n",
      " 7   day_2                   uint8\n",
      " 8   day_3                   uint8\n",
      " 9   day_4                   uint8\n",
      " 10  day_5                   uint8\n",
      " 11  day_6                   uint8\n",
      " 12  hour_0                  uint8\n",
      " 13  hour_1                  uint8\n",
      " 14  hour_2                  uint8\n",
      " 15  hour_3                  uint8\n",
      " 16  hour_4                  uint8\n",
      " 17  hour_5                  uint8\n",
      " 18  hour_6                  uint8\n",
      " 19  hour_7                  uint8\n",
      " 20  hour_8                  uint8\n",
      " 21  hour_9                  uint8\n",
      " 22  hour_10                 uint8\n",
      " 23  hour_11                 uint8\n",
      " 24  hour_12                 uint8\n",
      " 25  hour_13                 uint8\n",
      " 26  hour_14                 uint8\n",
      " 27  hour_15                 uint8\n",
      " 28  hour_16                 uint8\n",
      " 29  hour_17                 uint8\n",
      " 30  hour_18                 uint8\n",
      " 31  hour_19                 uint8\n",
      " 32  hour_20                 uint8\n",
      " 33  hour_21                 uint8\n",
      " 34  hour_22                 uint8\n",
      " 35  hour_23                 uint8\n",
      " 36  browser_chrome          uint8\n",
      " 37  browser_firefox         uint8\n",
      " 38  browser_ie              uint8\n",
      " 39  browser_opera           uint8\n",
      " 40  browser_other           uint8\n",
      " 41  browser_safari          uint8\n",
      " 42  os_linux                uint8\n",
      " 43  os_mac os x             uint8\n",
      " 44  os_other                uint8\n",
      " 45  os_windows              uint8\n",
      " 46  ad_exchange_1           uint8\n",
      " 47  ad_exchange_2           uint8\n",
      " 48  ad_exchange_3           uint8\n",
      " 49  ad_slot_visibility_0    uint8\n",
      " 50  ad_slot_visibility_1    uint8\n",
      " 51  ad_slot_visibility_2    uint8\n",
      " 52  ad_slot_visibility_255  uint8\n",
      " 53  ad_slot_0               uint8\n",
      " 54  ad_slot_1               uint8\n",
      " 55  region_id_0             uint8\n",
      " 56  region_id_1             uint8\n",
      " 57  region_id_2             uint8\n",
      " 58  region_id_3             uint8\n",
      " 59  region_id_15            uint8\n",
      " 60  region_id_27            uint8\n",
      " 61  region_id_40            uint8\n",
      " 62  region_id_55            uint8\n",
      " 63  region_id_65            uint8\n",
      " 64  region_id_79            uint8\n",
      " 65  region_id_80            uint8\n",
      " 66  region_id_94            uint8\n",
      " 67  region_id_106           uint8\n",
      " 68  region_id_124           uint8\n",
      " 69  region_id_134           uint8\n",
      " 70  region_id_146           uint8\n",
      " 71  region_id_164           uint8\n",
      " 72  region_id_183           uint8\n",
      " 73  region_id_201           uint8\n",
      " 74  region_id_216           uint8\n",
      " 75  region_id_238           uint8\n",
      " 76  region_id_253           uint8\n",
      " 77  region_id_275           uint8\n",
      " 78  region_id_276           uint8\n",
      " 79  region_id_298           uint8\n",
      " 80  region_id_308           uint8\n",
      " 81  region_id_325           uint8\n",
      " 82  region_id_333           uint8\n",
      " 83  region_id_344           uint8\n",
      " 84  region_id_359           uint8\n",
      " 85  region_id_368           uint8\n",
      " 86  region_id_374           uint8\n",
      " 87  region_id_393           uint8\n",
      " 88  region_id_394           uint8\n",
      " 89  region_id_395           uint8\n",
      " 90  floorprice_bin_1        uint8\n",
      " 91  floorprice_bin_2        uint8\n",
      " 92  floorprice_bin_3        uint8\n",
      " 93  floorprice_bin_4        uint8\n",
      " 94  floorprice_bin_5        uint8\n",
      " 95  floorprice_bin_6        uint8\n",
      " 96  floorprice_bin_7        uint8\n",
      " 97  floorprice_bin_8        uint8\n",
      " 98  floorprice_bin_9        uint8\n",
      " 99  floorprice_bin_10       uint8\n",
      "dtypes: int32(5), uint8(95)\n",
      "memory usage: 202.8 MB\n"
     ]
    }
   ],
   "source": [
    "#Training data overview.\n",
    "train.info()"
   ]
  },
  {
   "cell_type": "markdown",
   "id": "coupled-married",
   "metadata": {},
   "source": [
    "### Class Imbalance\n",
    "\n",
    "We are handed the task of classifying the the data points into two classes of 'click' and 'not click'. But there is haevy imbalence in the number of training data points avaiable for the two classes. To rectify this the data is downsampled by the following steps. The code is adapted directly from the documnetation of imblearn."
   ]
  },
  {
   "cell_type": "code",
   "execution_count": 31,
   "id": "associate-singapore",
   "metadata": {
    "ExecuteTime": {
     "end_time": "2021-11-13T05:32:03.798930Z",
     "start_time": "2021-11-13T05:32:03.632073Z"
    }
   },
   "outputs": [
    {
     "data": {
      "text/plain": [
       "click\n",
       "0    1848021\n",
       "1       1287\n",
       "dtype: int64"
      ]
     },
     "execution_count": 31,
     "metadata": {},
     "output_type": "execute_result"
    }
   ],
   "source": [
    "train.groupby(['click']).size()"
   ]
  },
  {
   "cell_type": "code",
   "execution_count": 32,
   "id": "imported-thing",
   "metadata": {
    "ExecuteTime": {
     "end_time": "2021-11-13T05:32:44.511940Z",
     "start_time": "2021-11-13T05:32:44.480884Z"
    }
   },
   "outputs": [],
   "source": [
    "def downsample(data):\n",
    "    #The imbalanced class.\n",
    "    data_outlier = data.loc[train['click'] == 1]\n",
    "\n",
    "    #More weighted class.\n",
    "    data_inlier = data.loc[data['click'] == 0].sample(\n",
    "        n=20000, random_state=123).reset_index(drop=True)\n",
    "    ratio = data_inlier.shape[0]\n",
    "\n",
    "    data_ = pd.concat([data_inlier, data_outlier], axis=0)\n",
    "\n",
    "    X = data_.drop(columns=['click', 'paying_price', 'bidding_price'], axis=1)\n",
    "    X = X.values\n",
    "    y = data_['click'].values\n",
    "    sm = SMOTE(sampling_strategy=dict({0: ratio, 1: ratio}))\n",
    "\n",
    "    X_train, y_train = sm.fit_resample(X, y)\n",
    "\n",
    "    return X_train, y_train"
   ]
  },
  {
   "cell_type": "code",
   "execution_count": 33,
   "id": "verified-literacy",
   "metadata": {
    "ExecuteTime": {
     "end_time": "2021-11-13T05:32:49.034729Z",
     "start_time": "2021-11-13T05:32:47.534209Z"
    }
   },
   "outputs": [],
   "source": [
    "X_train,y_train = downsample(train)"
   ]
  },
  {
   "cell_type": "code",
   "execution_count": 34,
   "id": "acting-industry",
   "metadata": {
    "ExecuteTime": {
     "end_time": "2021-11-13T05:32:50.172223Z",
     "start_time": "2021-11-13T05:32:50.156591Z"
    }
   },
   "outputs": [
    {
     "name": "stdout",
     "output_type": "stream",
     "text": [
      "Training Data Dimensions:(40000, 97)\n"
     ]
    }
   ],
   "source": [
    "print(f'Training Data Dimensions:{X_train.shape}')"
   ]
  },
  {
   "cell_type": "code",
   "execution_count": 38,
   "id": "exciting-catch",
   "metadata": {
    "ExecuteTime": {
     "end_time": "2021-11-13T05:35:11.648832Z",
     "start_time": "2021-11-13T05:35:11.601937Z"
    }
   },
   "outputs": [
    {
     "data": {
      "text/plain": [
       "Counter({0: 20000, 1: 20000})"
      ]
     },
     "execution_count": 38,
     "metadata": {},
     "output_type": "execute_result"
    }
   ],
   "source": [
    "import collections\n",
    "collections.Counter(y_train)"
   ]
  },
  {
   "cell_type": "markdown",
   "id": "accessory-compatibility",
   "metadata": {},
   "source": [
    "As can be seen there are now equal number of training points for both the classes.\n",
    "\n",
    "---"
   ]
  },
  {
   "cell_type": "code",
   "execution_count": 35,
   "id": "useful-failure",
   "metadata": {
    "ExecuteTime": {
     "end_time": "2021-11-13T05:33:00.739376Z",
     "start_time": "2021-11-13T05:33:00.592039Z"
    }
   },
   "outputs": [],
   "source": [
    "#Preparing the validation dataset.\n",
    "X_val = validate.drop(['click', 'paying_price', 'bidding_price'],axis=1).values\n",
    "y_val = validate['click'].values"
   ]
  },
  {
   "cell_type": "markdown",
   "id": "western-interest",
   "metadata": {},
   "source": [
    "---\n",
    "---"
   ]
  },
  {
   "cell_type": "markdown",
   "id": "decreased-rebecca",
   "metadata": {},
   "source": [
    "## Finetuning the hyperparameters."
   ]
  },
  {
   "cell_type": "code",
   "execution_count": 40,
   "id": "amazing-bridges",
   "metadata": {
    "ExecuteTime": {
     "end_time": "2021-11-13T05:36:38.507677Z",
     "start_time": "2021-11-13T05:36:38.492067Z"
    }
   },
   "outputs": [],
   "source": [
    "#The parameter space to be searched.\n",
    "lr_params_grid = {'C': [0.001,0.01,0.1,1.0,10.0,100,1000]}"
   ]
  },
  {
   "cell_type": "code",
   "execution_count": 41,
   "id": "included-schedule",
   "metadata": {
    "ExecuteTime": {
     "end_time": "2021-11-13T05:41:38.142347Z",
     "start_time": "2021-11-13T05:36:41.556991Z"
    },
    "scrolled": false
   },
   "outputs": [
    {
     "name": "stdout",
     "output_type": "stream",
     "text": [
      "Fitting 3 folds for each of 7 candidates, totalling 21 fits\n"
     ]
    },
    {
     "name": "stderr",
     "output_type": "stream",
     "text": [
      "[Parallel(n_jobs=-1)]: Using backend LokyBackend with 8 concurrent workers.\n",
      "[Parallel(n_jobs=-1)]: Done   1 out of   1 | elapsed:   27.4s finished\n"
     ]
    },
    {
     "name": "stdout",
     "output_type": "stream",
     "text": [
      "[CV 1/3] END ........................................C=0.001; total time=  28.1s\n"
     ]
    },
    {
     "name": "stderr",
     "output_type": "stream",
     "text": [
      "[Parallel(n_jobs=-1)]: Using backend LokyBackend with 8 concurrent workers.\n",
      "[Parallel(n_jobs=-1)]: Done   1 out of   1 | elapsed:   14.0s finished\n"
     ]
    },
    {
     "name": "stdout",
     "output_type": "stream",
     "text": [
      "[CV 2/3] END ........................................C=0.001; total time=  14.4s\n"
     ]
    },
    {
     "name": "stderr",
     "output_type": "stream",
     "text": [
      "[Parallel(n_jobs=-1)]: Using backend LokyBackend with 8 concurrent workers.\n",
      "[Parallel(n_jobs=-1)]: Done   1 out of   1 | elapsed:    7.4s finished\n"
     ]
    },
    {
     "name": "stdout",
     "output_type": "stream",
     "text": [
      "[CV 3/3] END ........................................C=0.001; total time=   7.7s\n"
     ]
    },
    {
     "name": "stderr",
     "output_type": "stream",
     "text": [
      "[Parallel(n_jobs=-1)]: Using backend LokyBackend with 8 concurrent workers.\n",
      "[Parallel(n_jobs=-1)]: Done   1 out of   1 | elapsed:   12.7s finished\n"
     ]
    },
    {
     "name": "stdout",
     "output_type": "stream",
     "text": [
      "[CV 1/3] END .........................................C=0.01; total time=  13.1s\n"
     ]
    },
    {
     "name": "stderr",
     "output_type": "stream",
     "text": [
      "[Parallel(n_jobs=-1)]: Using backend LokyBackend with 8 concurrent workers.\n",
      "[Parallel(n_jobs=-1)]: Done   1 out of   1 | elapsed:   11.7s finished\n"
     ]
    },
    {
     "name": "stdout",
     "output_type": "stream",
     "text": [
      "[CV 2/3] END .........................................C=0.01; total time=  12.0s\n"
     ]
    },
    {
     "name": "stderr",
     "output_type": "stream",
     "text": [
      "[Parallel(n_jobs=-1)]: Using backend LokyBackend with 8 concurrent workers.\n",
      "[Parallel(n_jobs=-1)]: Done   1 out of   1 | elapsed:   12.1s finished\n"
     ]
    },
    {
     "name": "stdout",
     "output_type": "stream",
     "text": [
      "[CV 3/3] END .........................................C=0.01; total time=  12.3s\n"
     ]
    },
    {
     "name": "stderr",
     "output_type": "stream",
     "text": [
      "[Parallel(n_jobs=-1)]: Using backend LokyBackend with 8 concurrent workers.\n",
      "[Parallel(n_jobs=-1)]: Done   1 out of   1 | elapsed:   12.2s finished\n"
     ]
    },
    {
     "name": "stdout",
     "output_type": "stream",
     "text": [
      "[CV 1/3] END ..........................................C=0.1; total time=  12.4s\n"
     ]
    },
    {
     "name": "stderr",
     "output_type": "stream",
     "text": [
      "[Parallel(n_jobs=-1)]: Using backend LokyBackend with 8 concurrent workers.\n",
      "[Parallel(n_jobs=-1)]: Done   1 out of   1 | elapsed:   12.1s finished\n",
      "[Parallel(n_jobs=-1)]: Using backend LokyBackend with 8 concurrent workers.\n"
     ]
    },
    {
     "name": "stdout",
     "output_type": "stream",
     "text": [
      "[CV 2/3] END ..........................................C=0.1; total time=  12.2s\n"
     ]
    },
    {
     "name": "stderr",
     "output_type": "stream",
     "text": [
      "[Parallel(n_jobs=-1)]: Done   1 out of   1 | elapsed:   10.9s finished\n"
     ]
    },
    {
     "name": "stdout",
     "output_type": "stream",
     "text": [
      "[CV 3/3] END ..........................................C=0.1; total time=  11.2s\n"
     ]
    },
    {
     "name": "stderr",
     "output_type": "stream",
     "text": [
      "[Parallel(n_jobs=-1)]: Using backend LokyBackend with 8 concurrent workers.\n",
      "[Parallel(n_jobs=-1)]: Done   1 out of   1 | elapsed:   10.9s finished\n"
     ]
    },
    {
     "name": "stdout",
     "output_type": "stream",
     "text": [
      "[CV 1/3] END ..........................................C=1.0; total time=  11.2s\n"
     ]
    },
    {
     "name": "stderr",
     "output_type": "stream",
     "text": [
      "[Parallel(n_jobs=-1)]: Using backend LokyBackend with 8 concurrent workers.\n",
      "[Parallel(n_jobs=-1)]: Done   1 out of   1 | elapsed:   12.2s finished\n"
     ]
    },
    {
     "name": "stdout",
     "output_type": "stream",
     "text": [
      "[CV 2/3] END ..........................................C=1.0; total time=  12.6s\n"
     ]
    },
    {
     "name": "stderr",
     "output_type": "stream",
     "text": [
      "[Parallel(n_jobs=-1)]: Using backend LokyBackend with 8 concurrent workers.\n",
      "[Parallel(n_jobs=-1)]: Done   1 out of   1 | elapsed:   11.7s finished\n"
     ]
    },
    {
     "name": "stdout",
     "output_type": "stream",
     "text": [
      "[CV 3/3] END ..........................................C=1.0; total time=  11.9s\n"
     ]
    },
    {
     "name": "stderr",
     "output_type": "stream",
     "text": [
      "[Parallel(n_jobs=-1)]: Using backend LokyBackend with 8 concurrent workers.\n",
      "[Parallel(n_jobs=-1)]: Done   1 out of   1 | elapsed:   12.0s finished\n"
     ]
    },
    {
     "name": "stdout",
     "output_type": "stream",
     "text": [
      "[CV 1/3] END .........................................C=10.0; total time=  12.3s\n"
     ]
    },
    {
     "name": "stderr",
     "output_type": "stream",
     "text": [
      "[Parallel(n_jobs=-1)]: Using backend LokyBackend with 8 concurrent workers.\n",
      "[Parallel(n_jobs=-1)]: Done   1 out of   1 | elapsed:   11.5s finished\n"
     ]
    },
    {
     "name": "stdout",
     "output_type": "stream",
     "text": [
      "[CV 2/3] END .........................................C=10.0; total time=  11.8s\n"
     ]
    },
    {
     "name": "stderr",
     "output_type": "stream",
     "text": [
      "[Parallel(n_jobs=-1)]: Using backend LokyBackend with 8 concurrent workers.\n",
      "[Parallel(n_jobs=-1)]: Done   1 out of   1 | elapsed:   11.4s finished\n"
     ]
    },
    {
     "name": "stdout",
     "output_type": "stream",
     "text": [
      "[CV 3/3] END .........................................C=10.0; total time=  11.7s\n"
     ]
    },
    {
     "name": "stderr",
     "output_type": "stream",
     "text": [
      "[Parallel(n_jobs=-1)]: Using backend LokyBackend with 8 concurrent workers.\n",
      "[Parallel(n_jobs=-1)]: Done   1 out of   1 | elapsed:   11.4s finished\n"
     ]
    },
    {
     "name": "stdout",
     "output_type": "stream",
     "text": [
      "[CV 1/3] END ..........................................C=100; total time=  11.7s\n"
     ]
    },
    {
     "name": "stderr",
     "output_type": "stream",
     "text": [
      "[Parallel(n_jobs=-1)]: Using backend LokyBackend with 8 concurrent workers.\n",
      "[Parallel(n_jobs=-1)]: Done   1 out of   1 | elapsed:   10.6s finished\n"
     ]
    },
    {
     "name": "stdout",
     "output_type": "stream",
     "text": [
      "[CV 2/3] END ..........................................C=100; total time=  11.0s\n"
     ]
    },
    {
     "name": "stderr",
     "output_type": "stream",
     "text": [
      "[Parallel(n_jobs=-1)]: Using backend LokyBackend with 8 concurrent workers.\n",
      "[Parallel(n_jobs=-1)]: Done   1 out of   1 | elapsed:   11.5s finished\n"
     ]
    },
    {
     "name": "stdout",
     "output_type": "stream",
     "text": [
      "[CV 3/3] END ..........................................C=100; total time=  11.9s\n"
     ]
    },
    {
     "name": "stderr",
     "output_type": "stream",
     "text": [
      "[Parallel(n_jobs=-1)]: Using backend LokyBackend with 8 concurrent workers.\n",
      "[Parallel(n_jobs=-1)]: Done   1 out of   1 | elapsed:   12.9s finished\n"
     ]
    },
    {
     "name": "stdout",
     "output_type": "stream",
     "text": [
      "[CV 1/3] END .........................................C=1000; total time=  13.2s\n"
     ]
    },
    {
     "name": "stderr",
     "output_type": "stream",
     "text": [
      "[Parallel(n_jobs=-1)]: Using backend LokyBackend with 8 concurrent workers.\n",
      "[Parallel(n_jobs=-1)]: Done   1 out of   1 | elapsed:   12.5s finished\n"
     ]
    },
    {
     "name": "stdout",
     "output_type": "stream",
     "text": [
      "[CV 2/3] END .........................................C=1000; total time=  12.9s\n"
     ]
    },
    {
     "name": "stderr",
     "output_type": "stream",
     "text": [
      "[Parallel(n_jobs=-1)]: Using backend LokyBackend with 8 concurrent workers.\n",
      "[Parallel(n_jobs=-1)]: Done   1 out of   1 | elapsed:   14.3s finished\n"
     ]
    },
    {
     "name": "stdout",
     "output_type": "stream",
     "text": [
      "[CV 3/3] END .........................................C=1000; total time=  14.6s\n"
     ]
    },
    {
     "name": "stderr",
     "output_type": "stream",
     "text": [
      "[Parallel(n_jobs=-1)]: Using backend LokyBackend with 8 concurrent workers.\n",
      "[Parallel(n_jobs=-1)]: Done   1 out of   1 | elapsed:   23.6s finished\n"
     ]
    }
   ],
   "source": [
    "def tune_hyperparameters(X, y, params_space=lr_params_grid):\n",
    "\n",
    "    #Defining the model.\n",
    "    lr_model = LogisticRegression(max_iter=200, verbose=3, n_jobs=-1)\n",
    "    strk = StratifiedKFold(3, random_state=2048, shuffle=True)\n",
    "\n",
    "    gr = GridSearchCV(lr_model,\n",
    "                      params_space,\n",
    "                      scoring='roc_auc',\n",
    "                      cv=strk,\n",
    "                      verbose=3)\n",
    "    gr.fit(X, y)\n",
    "\n",
    "    return gr.cv_results_\n",
    "\n",
    "\n",
    "hyperparams_results = tune_hyperparameters(X=X_train, y=y_train)"
   ]
  },
  {
   "cell_type": "code",
   "execution_count": 42,
   "id": "wooden-covering",
   "metadata": {
    "ExecuteTime": {
     "end_time": "2021-11-13T05:41:59.060769Z",
     "start_time": "2021-11-13T05:41:59.007335Z"
    }
   },
   "outputs": [
    {
     "data": {
      "text/html": [
       "<div>\n",
       "<style scoped>\n",
       "    .dataframe tbody tr th:only-of-type {\n",
       "        vertical-align: middle;\n",
       "    }\n",
       "\n",
       "    .dataframe tbody tr th {\n",
       "        vertical-align: top;\n",
       "    }\n",
       "\n",
       "    .dataframe thead th {\n",
       "        text-align: right;\n",
       "    }\n",
       "</style>\n",
       "<table border=\"1\" class=\"dataframe\">\n",
       "  <thead>\n",
       "    <tr style=\"text-align: right;\">\n",
       "      <th></th>\n",
       "      <th>mean_fit_time</th>\n",
       "      <th>std_fit_time</th>\n",
       "      <th>mean_score_time</th>\n",
       "      <th>std_score_time</th>\n",
       "      <th>param_C</th>\n",
       "      <th>split1_test_score</th>\n",
       "      <th>mean_test_score</th>\n",
       "      <th>std_test_score</th>\n",
       "      <th>rank_test_score</th>\n",
       "    </tr>\n",
       "  </thead>\n",
       "  <tbody>\n",
       "    <tr>\n",
       "      <th>0</th>\n",
       "      <td>16.819669</td>\n",
       "      <td>8.466498</td>\n",
       "      <td>0.022974</td>\n",
       "      <td>0.022431</td>\n",
       "      <td>0.001</td>\n",
       "      <td>0.879679</td>\n",
       "      <td>0.871866</td>\n",
       "      <td>0.007554</td>\n",
       "      <td>7</td>\n",
       "    </tr>\n",
       "    <tr>\n",
       "      <th>1</th>\n",
       "      <td>12.575815</td>\n",
       "      <td>0.434879</td>\n",
       "      <td>0.015573</td>\n",
       "      <td>0.000059</td>\n",
       "      <td>0.01</td>\n",
       "      <td>0.968276</td>\n",
       "      <td>0.966975</td>\n",
       "      <td>0.001444</td>\n",
       "      <td>6</td>\n",
       "    </tr>\n",
       "    <tr>\n",
       "      <th>2</th>\n",
       "      <td>12.045636</td>\n",
       "      <td>0.506781</td>\n",
       "      <td>0.015567</td>\n",
       "      <td>0.012759</td>\n",
       "      <td>0.1</td>\n",
       "      <td>0.971033</td>\n",
       "      <td>0.971369</td>\n",
       "      <td>0.001290</td>\n",
       "      <td>2</td>\n",
       "    </tr>\n",
       "    <tr>\n",
       "      <th>3</th>\n",
       "      <td>11.984067</td>\n",
       "      <td>0.569993</td>\n",
       "      <td>0.014672</td>\n",
       "      <td>0.006362</td>\n",
       "      <td>1.0</td>\n",
       "      <td>0.973512</td>\n",
       "      <td>0.972225</td>\n",
       "      <td>0.001559</td>\n",
       "      <td>1</td>\n",
       "    </tr>\n",
       "    <tr>\n",
       "      <th>4</th>\n",
       "      <td>12.044727</td>\n",
       "      <td>0.261216</td>\n",
       "      <td>0.012506</td>\n",
       "      <td>0.009241</td>\n",
       "      <td>10.0</td>\n",
       "      <td>0.970143</td>\n",
       "      <td>0.969061</td>\n",
       "      <td>0.001102</td>\n",
       "      <td>5</td>\n",
       "    </tr>\n",
       "    <tr>\n",
       "      <th>5</th>\n",
       "      <td>11.620989</td>\n",
       "      <td>0.408796</td>\n",
       "      <td>0.000000</td>\n",
       "      <td>0.000000</td>\n",
       "      <td>100</td>\n",
       "      <td>0.969612</td>\n",
       "      <td>0.970201</td>\n",
       "      <td>0.000880</td>\n",
       "      <td>3</td>\n",
       "    </tr>\n",
       "    <tr>\n",
       "      <th>6</th>\n",
       "      <td>13.666587</td>\n",
       "      <td>0.763128</td>\n",
       "      <td>0.005166</td>\n",
       "      <td>0.007305</td>\n",
       "      <td>1000</td>\n",
       "      <td>0.970647</td>\n",
       "      <td>0.969612</td>\n",
       "      <td>0.001774</td>\n",
       "      <td>4</td>\n",
       "    </tr>\n",
       "  </tbody>\n",
       "</table>\n",
       "</div>"
      ],
      "text/plain": [
       "   mean_fit_time  std_fit_time  mean_score_time  std_score_time param_C  \\\n",
       "0      16.819669      8.466498         0.022974        0.022431   0.001   \n",
       "1      12.575815      0.434879         0.015573        0.000059    0.01   \n",
       "2      12.045636      0.506781         0.015567        0.012759     0.1   \n",
       "3      11.984067      0.569993         0.014672        0.006362     1.0   \n",
       "4      12.044727      0.261216         0.012506        0.009241    10.0   \n",
       "5      11.620989      0.408796         0.000000        0.000000     100   \n",
       "6      13.666587      0.763128         0.005166        0.007305    1000   \n",
       "\n",
       "   split1_test_score  mean_test_score  std_test_score  rank_test_score  \n",
       "0           0.879679         0.871866        0.007554                7  \n",
       "1           0.968276         0.966975        0.001444                6  \n",
       "2           0.971033         0.971369        0.001290                2  \n",
       "3           0.973512         0.972225        0.001559                1  \n",
       "4           0.970143         0.969061        0.001102                5  \n",
       "5           0.969612         0.970201        0.000880                3  \n",
       "6           0.970647         0.969612        0.001774                4  "
      ]
     },
     "execution_count": 42,
     "metadata": {},
     "output_type": "execute_result"
    }
   ],
   "source": [
    "hyperparams_stats_df = pd.DataFrame(hyperparams_results)\n",
    "hyperparams_stats_df.drop(\n",
    "    ['params', 'split0_test_score', 'split2_test_score', 'split2_test_score'],\n",
    "    axis = 1,\n",
    "    inplace = True)\n",
    "hyperparams_stats_df"
   ]
  },
  {
   "cell_type": "markdown",
   "id": "characteristic-laundry",
   "metadata": {},
   "source": [
    "**From the table we can conclude that C = 1.0 is the best hyperparameter.**"
   ]
  },
  {
   "cell_type": "code",
   "execution_count": 43,
   "id": "revised-northeast",
   "metadata": {
    "ExecuteTime": {
     "end_time": "2021-11-13T05:43:03.917424Z",
     "start_time": "2021-11-13T05:42:43.433626Z"
    }
   },
   "outputs": [
    {
     "name": "stderr",
     "output_type": "stream",
     "text": [
      "[Parallel(n_jobs=-1)]: Using backend LokyBackend with 8 concurrent workers.\n",
      "[Parallel(n_jobs=-1)]: Done   1 out of   1 | elapsed:   19.7s finished\n"
     ]
    }
   ],
   "source": [
    "#Defining the best model.\n",
    "LR_MODEL = LogisticRegression(C=1.0, max_iter=200, verbose=3, n_jobs=-1)\n",
    "\n",
    "#Fititng the model over the training dataset and predicting on the validation datset.\n",
    "y_preds = LR_MODEL.fit(X_train, y_train).predict(X_val)"
   ]
  },
  {
   "cell_type": "code",
   "execution_count": 44,
   "id": "identical-mauritius",
   "metadata": {
    "ExecuteTime": {
     "end_time": "2021-11-13T05:43:13.377567Z",
     "start_time": "2021-11-13T05:43:12.789708Z"
    }
   },
   "outputs": [
    {
     "name": "stdout",
     "output_type": "stream",
     "text": [
      "[[594866  21763]\n",
      " [   406     34]]\n"
     ]
    }
   ],
   "source": [
    "#Gettting the confusion matrix.\n",
    "print(confusion_matrix(y_val,y_preds))"
   ]
  },
  {
   "cell_type": "code",
   "execution_count": 45,
   "id": "electrical-recovery",
   "metadata": {
    "ExecuteTime": {
     "end_time": "2021-11-13T05:43:20.875213Z",
     "start_time": "2021-11-13T05:43:20.508436Z"
    }
   },
   "outputs": [],
   "source": [
    "#Estimation of pCTR for validation datset.\n",
    "pred_probs = LR_MODEL.predict_proba(X_val)\n",
    "pCTR = pd.DataFrame(pred_probs)"
   ]
  },
  {
   "cell_type": "code",
   "execution_count": 46,
   "id": "hidden-sussex",
   "metadata": {
    "ExecuteTime": {
     "end_time": "2021-11-13T05:43:30.519719Z",
     "start_time": "2021-11-13T05:43:24.848670Z"
    }
   },
   "outputs": [
    {
     "name": "stderr",
     "output_type": "stream",
     "text": [
      "C:\\Users\\Reneeth\\anaconda3\\envs\\R_Data_Analysis\\lib\\site-packages\\seaborn\\distributions.py:2557: FutureWarning: `distplot` is a deprecated function and will be removed in a future version. Please adapt your code to use either `displot` (a figure-level function with similar flexibility) or `histplot` (an axes-level function for histograms).\n",
      "  warnings.warn(msg, FutureWarning)\n"
     ]
    },
    {
     "data": {
      "text/plain": [
       "Text(0.5, 1.0, 'Logistic Regression pCTR')"
      ]
     },
     "execution_count": 46,
     "metadata": {},
     "output_type": "execute_result"
    },
    {
     "data": {
      "image/png": "[encoded data removed]",
      "text/plain": [
       "<Figure size 842.4x626.4 with 1 Axes>"
      ]
     },
     "metadata": {
      "needs_background": "light"
     },
     "output_type": "display_data"
    }
   ],
   "source": [
    "#Defining a figure.\n",
    "fig,ax = plt.subplots(1,1,figsize=(11.7,8.7))\n",
    "\n",
    "#pCTR distribution for click=1.\n",
    "sns.distplot(pCTR[1])\n",
    "plt.xlabel(\"pCTR\")\n",
    "plt.title('Logistic Regression pCTR')"
   ]
  },
  {
   "cell_type": "code",
   "execution_count": 47,
   "id": "treated-jurisdiction",
   "metadata": {
    "ExecuteTime": {
     "end_time": "2021-11-13T05:43:49.913625Z",
     "start_time": "2021-11-13T05:43:47.917948Z"
    }
   },
   "outputs": [],
   "source": [
    "#Storing the results.\n",
    "#pd.DataFrame(pred).to_csv('LR_pCTR_val1.csv')\n",
    "pCTR[[1]].to_csv('LR_pCTR_val_1458.csv')"
   ]
  },
  {
   "cell_type": "code",
   "execution_count": 48,
   "id": "limiting-variation",
   "metadata": {
    "ExecuteTime": {
     "end_time": "2021-11-13T05:44:05.266735Z",
     "start_time": "2021-11-13T05:44:04.783519Z"
    }
   },
   "outputs": [],
   "source": [
    "LR_pCTR = pd.read_csv('LR_pCTR_val_1458.csv')"
   ]
  },
  {
   "cell_type": "code",
   "execution_count": 52,
   "id": "downtown-fundamentals",
   "metadata": {
    "ExecuteTime": {
     "end_time": "2021-11-13T05:45:02.876297Z",
     "start_time": "2021-11-13T05:45:02.827963Z"
    }
   },
   "outputs": [],
   "source": [
    "#Using a small subset for further verifications.\n",
    "LR_pCTR = LR_pCTR.loc[:20000,'1']\n",
    "val_clk = validate.click[:20000]"
   ]
  },
  {
   "cell_type": "code",
   "execution_count": 55,
   "id": "injured-looking",
   "metadata": {
    "ExecuteTime": {
     "end_time": "2021-11-13T05:45:29.430042Z",
     "start_time": "2021-11-13T05:45:29.245075Z"
    }
   },
   "outputs": [
    {
     "data": {
      "image/png": "[encoded data removed]",
      "text/plain": [
       "<Figure size 842.4x626.4 with 1 Axes>"
      ]
     },
     "metadata": {
      "needs_background": "light"
     },
     "output_type": "display_data"
    }
   ],
   "source": [
    "#ROC curves.\n",
    "rocaucs_list = []\n",
    "\n",
    "for p_CTR in [LR_pCTR]:\n",
    "    fpr, tpr, thresholds = roc_curve([click for click in val_clk], p_CTR)\n",
    "    roc_auc = metrics.auc(fpr, tpr)\n",
    "    rocaucs_list.append([fpr,tpr,roc_auc])\n",
    "    \n",
    "f, axes = plt.subplots(1, figsize=(11.7, 8.7))\n",
    "for [fpr, tpr, roc_auc],label in zip(rocaucs_list,['Logistic Regression Model 1']):\n",
    "    lab = '%s AUC=%.4f' % (label,roc_auc)\n",
    "    axes.step(fpr, tpr, lw=3,label=lab)\n",
    "axes.legend(loc='lower right', fontsize='small')\n",
    "plt.title('ROC curve for pCTR estimator')\n",
    "plt.show()"
   ]
  },
  {
   "cell_type": "markdown",
   "id": "adequate-madison",
   "metadata": {},
   "source": [
    "# Notebook 5: Simple Bidding Strategies\n",
    "In this notebook, several bidding strategies are implemented. We make use of the data that was tailor made for our needs in the previous notebook."
   ]
  },
  {
   "cell_type": "code",
   "execution_count": 1,
   "id": "collect-first",
   "metadata": {
    "ExecuteTime": {
     "end_time": "2021-11-12T09:12:54.780865Z",
     "start_time": "2021-11-12T09:12:53.314573Z"
    },
    "code_folding": []
   },
   "outputs": [],
   "source": [
    "#Dependancies and Utilities.\n",
    "import pandas as pd\n",
    "import numpy as np\n",
    "from random import randrange\n",
    "import matplotlib.pyplot as plt\n",
    "import seaborn as sns\n",
    "plt.style.use('seaborn')\n",
    "%matplotlib inline\n",
    "class display(object):\n",
    "    \"\"\"Display HTML representation of multiple objects\"\"\"\n",
    "    template = \"\"\"<div style=\"float: left; padding: 10px;\">\n",
    "    <p style='font-family:\"Courier New\", Courier, monospace'>{0}</p>{1}\n",
    "    </div>\"\"\"\n",
    "    def __init__(self, *args):\n",
    "        self.args = args\n",
    "        \n",
    "    def _repr_html_(self):\n",
    "        return '\\n'.join(self.template.format(a, eval(a)._repr_html_())\n",
    "                         for a in self.args)\n",
    "    \n",
    "    def __repr__(self):\n",
    "        return '\\n\\n'.join(a + '\\n' + repr(eval(a))\n",
    "                           for a in self.args)\n",
    "    "
   ]
  },
  {
   "cell_type": "code",
   "execution_count": 2,
   "id": "rough-booth",
   "metadata": {
    "ExecuteTime": {
     "end_time": "2021-11-12T09:12:54.803118Z",
     "start_time": "2021-11-12T09:12:54.780865Z"
    }
   },
   "outputs": [],
   "source": [
    "from preprocessCSV import *\n",
    "from featurize import *"
   ]
  },
  {
   "cell_type": "markdown",
   "id": "rental-product",
   "metadata": {},
   "source": [
    "## Loading the data"
   ]
  },
  {
   "cell_type": "code",
   "execution_count": 3,
   "id": "numerical-least",
   "metadata": {
    "ExecuteTime": {
     "end_time": "2021-11-12T09:13:12.110119Z",
     "start_time": "2021-11-12T09:12:54.803118Z"
    }
   },
   "outputs": [],
   "source": [
    "train = pd.read_csv('Data/train_1458.csv')\n",
    "validate = pd.read_csv('Data/validation_1458.csv')\n",
    "for data in [train,validate]:\n",
    "    data.drop(columns = ['Unnamed: 0'], axis =1, inplace=True)\n",
    "    data = numerise_features(data)\n",
    "    data = categorize_features(data)"
   ]
  },
  {
   "cell_type": "markdown",
   "id": "fitted-economics",
   "metadata": {},
   "source": [
    "## Constant and Random Bidding Strategy\n",
    "\n",
    "Stright off the bat we build a *SimpleBidSimulator* class which runs bids based on constant bids and random bids. This provides a benchmark for the comparison of other models developed using machine learning tecjniques.\n",
    "\n",
    "**Constant Bidding Strategy:** The optimum bid placed at each stage is a constant and does not make use of any data  patterns.\n",
    "\n",
    "**Random Bidding Strategy:** Given an upper bound, a random number is generated which plays the role of the bid. The upper bound can be thought of as the maximum budget the advertiser can spend."
   ]
  },
  {
   "cell_type": "code",
   "execution_count": 4,
   "id": "ordinary-shooting",
   "metadata": {
    "ExecuteTime": {
     "end_time": "2021-11-12T09:13:12.141367Z",
     "start_time": "2021-11-12T09:13:12.110119Z"
    }
   },
   "outputs": [],
   "source": [
    "class SimpleBidSimulator():\n",
    "    '''\n",
    "    A class for running auctions for on constant and random bidding\n",
    "    strategy advertisers.\n",
    "    '''\n",
    "    def __init__(self,Bidder,data):\n",
    "        '''\n",
    "        Bidder is the advertiser and data is the df against which results \n",
    "        are to valuated\n",
    "        '''\n",
    "        self.bidder = Bidder \n",
    "        self.D = data.loc[:,['click','paying_price']]\n",
    "        #Determining the bounds of bid based on the validatin dataset.\n",
    "        self.minBid = np.min(data['paying_price'].values)\n",
    "        self.maxBid = np.max(data['paying_price'].values)\n",
    "        #Possible values of bidding price.\n",
    "        self.base_bids = np.arange(self.minBid+5,self.maxBid+10,Bidder.interval)\n",
    "        self.imp_lst   = []\n",
    "        self.clk_lst   = []\n",
    "        self.ctr_lst   = []\n",
    "        self.spend_lst = []\n",
    "        self.cpc_lst   = []\n",
    "        self.bids      = None\n",
    "        \n",
    "        \n",
    "    def evaluate_bids(self):\n",
    "        '''\n",
    "        A method that compares the bid placed by the created bidder against\n",
    "        what was already observed in the validation dataset.\n",
    "        '''\n",
    "        budget = self.bidder.budget\n",
    "        clicks = 0\n",
    "        imps   = 0\n",
    "        spend   = 0\n",
    "        \n",
    "        for bid,click,pay_price in self.D[['bids','click','paying_price']].values:\n",
    "            if bid > pay_price:\n",
    "                imps   += 1\n",
    "                clicks += click\n",
    "                spend   += pay_price\n",
    "            if spend >= budget:\n",
    "                break\n",
    "        return imps,clicks,spend\n",
    "        \n",
    "        \n",
    "    def run_bids(self):\n",
    "        '''\n",
    "        A method that runs bids by using base bid as prices specified in base_bids.\n",
    "        '''\n",
    "        for base_bid in self.base_bids:\n",
    "            self.D['base_bid'] = base_bid\n",
    "            self.bids = self.bidder.get_bid(self.D['base_bid'].values)\n",
    "            self.D['bids'] = self.bids\n",
    "            imps,clicks,spend = self.evaluate_bids()\n",
    "            ctr = np.nan\n",
    "            if imps != 0:\n",
    "                ctr = clicks*100/imps\n",
    "            cpc = np.nan\n",
    "            if clicks != 0:\n",
    "                cpc = spend/clicks\n",
    "            self.imp_lst.append(imps)\n",
    "            self.clk_lst.append(clicks)\n",
    "            self.spend_lst.append(spend)\n",
    "            self.ctr_lst.append(ctr)\n",
    "            self.cpc_lst.append(cpc)\n",
    "            self.D.drop(columns=['base_bid','bids'],axis=1,inplace=True)\n",
    "\n",
    "    def get_summary(self):\n",
    "        '''\n",
    "        Prints out the results of the austions run as a pandas dataframe.\n",
    "        '''\n",
    "        summary = pd.DataFrame()\n",
    "        summary['Bid Upper Bound'] = self.base_bids\n",
    "        summary['Impressions']  = self.imp_lst\n",
    "        summary['Clicks']       = self.clk_lst\n",
    "        summary['Amount Spend'] = self.spend_lst\n",
    "        summary['CTR'] = self.ctr_lst\n",
    "        summary['CPC'] = self.cpc_lst\n",
    "        summary.dropna()\n",
    "        return summary"
   ]
  },
  {
   "cell_type": "code",
   "execution_count": 5,
   "id": "abroad-liability",
   "metadata": {
    "ExecuteTime": {
     "end_time": "2021-11-12T09:13:12.226035Z",
     "start_time": "2021-11-12T09:13:12.141367Z"
    },
    "code_folding": []
   },
   "outputs": [],
   "source": [
    "class ConstantBidder():\n",
    "    '''\n",
    "    A bidder who bids foloows the constant price\n",
    "    strategy.\n",
    "    '''\n",
    "    def __init__(self,budget):\n",
    "        self.budget = budget\n",
    "        self.interval =2\n",
    "    def get_bid(self,base_bids):\n",
    "        return base_bids\n",
    "    def get_lower_bound(self):\n",
    "        pass\n",
    "\n",
    "\n",
    "class RandomBidder():\n",
    "    '''\n",
    "    A bidder who bids foloows the random bid price\n",
    "    strategy.\n",
    "    He generates a random bid between [lower_bound,upper_bound].\n",
    "    '''\n",
    "    def __init__(self, budget, lower_bound=0):\n",
    "        self.budget = budget\n",
    "        self.interval = 20\n",
    "        self.lower_bound = lower_bound\n",
    "\n",
    "    def get_bid(self, base_bids, lower_bound=0):\n",
    "\n",
    "        bids = [\n",
    "            0 if upper_bound <= self.lower_bound else randrange(\n",
    "                self.lower_bound, upper_bound) for upper_bound in base_bids\n",
    "        ]\n",
    "        return bids"
   ]
  },
  {
   "cell_type": "code",
   "execution_count": 6,
   "id": "secure-kitchen",
   "metadata": {
    "ExecuteTime": {
     "end_time": "2021-11-12T09:13:12.388985Z",
     "start_time": "2021-11-12T09:13:12.226035Z"
    }
   },
   "outputs": [],
   "source": [
    "#Defining the bidders.\n",
    "budget = 100000\n",
    "constantBidder = ConstantBidder(budget)\n",
    "randomBidder = RandomBidder(budget)\n"
   ]
  },
  {
   "cell_type": "markdown",
   "id": "round-indie",
   "metadata": {},
   "source": [
    "### Validating the constant and random bid strategy"
   ]
  },
  {
   "cell_type": "markdown",
   "id": "heated-helena",
   "metadata": {},
   "source": [
    "#### Constant Strategy"
   ]
  },
  {
   "cell_type": "code",
   "execution_count": 7,
   "id": "expired-aaron",
   "metadata": {
    "ExecuteTime": {
     "end_time": "2021-11-12T09:13:12.558274Z",
     "start_time": "2021-11-12T09:13:12.388985Z"
    }
   },
   "outputs": [],
   "source": [
    "#Selecting 20000 points for easier evaluation.\n",
    "validate = validate[:20000]"
   ]
  },
  {
   "cell_type": "code",
   "execution_count": 8,
   "id": "organizational-broadcasting",
   "metadata": {
    "ExecuteTime": {
     "end_time": "2021-11-12T09:13:14.406460Z",
     "start_time": "2021-11-12T09:13:12.558274Z"
    }
   },
   "outputs": [],
   "source": [
    "bidSim = SimpleBidSimulator(constantBidder,validate)\n",
    "bidSim.run_bids()"
   ]
  },
  {
   "cell_type": "code",
   "execution_count": 9,
   "id": "super-electric",
   "metadata": {
    "ExecuteTime": {
     "end_time": "2021-11-12T09:13:14.453324Z",
     "start_time": "2021-11-12T09:13:14.406460Z"
    }
   },
   "outputs": [
    {
     "data": {
      "text/html": [
       "<div style=\"float: left; padding: 10px;\">\n",
       "    <p style='font-family:\"Courier New\", Courier, monospace'>constantBidder_stats</p><div>\n",
       "<style scoped>\n",
       "    .dataframe tbody tr th:only-of-type {\n",
       "        vertical-align: middle;\n",
       "    }\n",
       "\n",
       "    .dataframe tbody tr th {\n",
       "        vertical-align: top;\n",
       "    }\n",
       "\n",
       "    .dataframe thead th {\n",
       "        text-align: right;\n",
       "    }\n",
       "</style>\n",
       "<table border=\"1\" class=\"dataframe\">\n",
       "  <thead>\n",
       "    <tr style=\"text-align: right;\">\n",
       "      <th></th>\n",
       "      <th>Bid Upper Bound</th>\n",
       "      <th>Impressions</th>\n",
       "      <th>Clicks</th>\n",
       "      <th>Amount Spend</th>\n",
       "      <th>CTR</th>\n",
       "      <th>CPC</th>\n",
       "    </tr>\n",
       "  </thead>\n",
       "  <tbody>\n",
       "    <tr>\n",
       "      <th>0</th>\n",
       "      <td>6</td>\n",
       "      <td>434</td>\n",
       "      <td>0</td>\n",
       "      <td>2038</td>\n",
       "      <td>0.000000</td>\n",
       "      <td>NaN</td>\n",
       "    </tr>\n",
       "    <tr>\n",
       "      <th>1</th>\n",
       "      <td>8</td>\n",
       "      <td>614</td>\n",
       "      <td>0</td>\n",
       "      <td>3234</td>\n",
       "      <td>0.000000</td>\n",
       "      <td>NaN</td>\n",
       "    </tr>\n",
       "    <tr>\n",
       "      <th>2</th>\n",
       "      <td>10</td>\n",
       "      <td>783</td>\n",
       "      <td>0</td>\n",
       "      <td>4683</td>\n",
       "      <td>0.000000</td>\n",
       "      <td>NaN</td>\n",
       "    </tr>\n",
       "    <tr>\n",
       "      <th>3</th>\n",
       "      <td>12</td>\n",
       "      <td>1106</td>\n",
       "      <td>0</td>\n",
       "      <td>8067</td>\n",
       "      <td>0.000000</td>\n",
       "      <td>NaN</td>\n",
       "    </tr>\n",
       "    <tr>\n",
       "      <th>4</th>\n",
       "      <td>14</td>\n",
       "      <td>1294</td>\n",
       "      <td>0</td>\n",
       "      <td>10409</td>\n",
       "      <td>0.000000</td>\n",
       "      <td>NaN</td>\n",
       "    </tr>\n",
       "    <tr>\n",
       "      <th>...</th>\n",
       "      <td>...</td>\n",
       "      <td>...</td>\n",
       "      <td>...</td>\n",
       "      <td>...</td>\n",
       "      <td>...</td>\n",
       "      <td>...</td>\n",
       "    </tr>\n",
       "    <tr>\n",
       "      <th>147</th>\n",
       "      <td>300</td>\n",
       "      <td>1309</td>\n",
       "      <td>1</td>\n",
       "      <td>100010</td>\n",
       "      <td>0.076394</td>\n",
       "      <td>100010.0</td>\n",
       "    </tr>\n",
       "    <tr>\n",
       "      <th>148</th>\n",
       "      <td>302</td>\n",
       "      <td>1306</td>\n",
       "      <td>1</td>\n",
       "      <td>100024</td>\n",
       "      <td>0.076570</td>\n",
       "      <td>100024.0</td>\n",
       "    </tr>\n",
       "    <tr>\n",
       "      <th>149</th>\n",
       "      <td>304</td>\n",
       "      <td>1306</td>\n",
       "      <td>1</td>\n",
       "      <td>100024</td>\n",
       "      <td>0.076570</td>\n",
       "      <td>100024.0</td>\n",
       "    </tr>\n",
       "    <tr>\n",
       "      <th>150</th>\n",
       "      <td>306</td>\n",
       "      <td>1306</td>\n",
       "      <td>1</td>\n",
       "      <td>100024</td>\n",
       "      <td>0.076570</td>\n",
       "      <td>100024.0</td>\n",
       "    </tr>\n",
       "    <tr>\n",
       "      <th>151</th>\n",
       "      <td>308</td>\n",
       "      <td>1306</td>\n",
       "      <td>1</td>\n",
       "      <td>100024</td>\n",
       "      <td>0.076570</td>\n",
       "      <td>100024.0</td>\n",
       "    </tr>\n",
       "  </tbody>\n",
       "</table>\n",
       "<p>152 rows × 6 columns</p>\n",
       "</div>\n",
       "    </div>\n",
       "<div style=\"float: left; padding: 10px;\">\n",
       "    <p style='font-family:\"Courier New\", Courier, monospace'>desc</p><div>\n",
       "<style scoped>\n",
       "    .dataframe tbody tr th:only-of-type {\n",
       "        vertical-align: middle;\n",
       "    }\n",
       "\n",
       "    .dataframe tbody tr th {\n",
       "        vertical-align: top;\n",
       "    }\n",
       "\n",
       "    .dataframe thead th {\n",
       "        text-align: right;\n",
       "    }\n",
       "</style>\n",
       "<table border=\"1\" class=\"dataframe\">\n",
       "  <thead>\n",
       "    <tr style=\"text-align: right;\">\n",
       "      <th></th>\n",
       "      <th>Clicks</th>\n",
       "      <th>CTR</th>\n",
       "    </tr>\n",
       "  </thead>\n",
       "  <tbody>\n",
       "    <tr>\n",
       "      <th>count</th>\n",
       "      <td>152.000000</td>\n",
       "      <td>152.000000</td>\n",
       "    </tr>\n",
       "    <tr>\n",
       "      <th>mean</th>\n",
       "      <td>1.105263</td>\n",
       "      <td>0.069590</td>\n",
       "    </tr>\n",
       "    <tr>\n",
       "      <th>std</th>\n",
       "      <td>0.662705</td>\n",
       "      <td>0.043854</td>\n",
       "    </tr>\n",
       "    <tr>\n",
       "      <th>min</th>\n",
       "      <td>0.000000</td>\n",
       "      <td>0.000000</td>\n",
       "    </tr>\n",
       "    <tr>\n",
       "      <th>25%</th>\n",
       "      <td>1.000000</td>\n",
       "      <td>0.050007</td>\n",
       "    </tr>\n",
       "    <tr>\n",
       "      <th>50%</th>\n",
       "      <td>1.000000</td>\n",
       "      <td>0.073073</td>\n",
       "    </tr>\n",
       "    <tr>\n",
       "      <th>75%</th>\n",
       "      <td>2.000000</td>\n",
       "      <td>0.088409</td>\n",
       "    </tr>\n",
       "    <tr>\n",
       "      <th>max</th>\n",
       "      <td>2.000000</td>\n",
       "      <td>0.141443</td>\n",
       "    </tr>\n",
       "  </tbody>\n",
       "</table>\n",
       "</div>\n",
       "    </div>"
      ],
      "text/plain": [
       "constantBidder_stats\n",
       "     Bid Upper Bound  Impressions  Clicks  Amount Spend       CTR       CPC\n",
       "0                  6          434       0          2038  0.000000       NaN\n",
       "1                  8          614       0          3234  0.000000       NaN\n",
       "2                 10          783       0          4683  0.000000       NaN\n",
       "3                 12         1106       0          8067  0.000000       NaN\n",
       "4                 14         1294       0         10409  0.000000       NaN\n",
       "..               ...          ...     ...           ...       ...       ...\n",
       "147              300         1309       1        100010  0.076394  100010.0\n",
       "148              302         1306       1        100024  0.076570  100024.0\n",
       "149              304         1306       1        100024  0.076570  100024.0\n",
       "150              306         1306       1        100024  0.076570  100024.0\n",
       "151              308         1306       1        100024  0.076570  100024.0\n",
       "\n",
       "[152 rows x 6 columns]\n",
       "\n",
       "desc\n",
       "           Clicks         CTR\n",
       "count  152.000000  152.000000\n",
       "mean     1.105263    0.069590\n",
       "std      0.662705    0.043854\n",
       "min      0.000000    0.000000\n",
       "25%      1.000000    0.050007\n",
       "50%      1.000000    0.073073\n",
       "75%      2.000000    0.088409\n",
       "max      2.000000    0.141443"
      ]
     },
     "execution_count": 9,
     "metadata": {},
     "output_type": "execute_result"
    }
   ],
   "source": [
    "constantBidder_stats = bidSim.get_summary()\n",
    "desc = constantBidder_stats[['Clicks','CTR']].describe()\n",
    "display('constantBidder_stats','desc')"
   ]
  },
  {
   "cell_type": "markdown",
   "id": "regulated-princeton",
   "metadata": {},
   "source": [
    "As can be seen from the table above, the highest number of clicks received is 2 and the highest CTR is 0.141143%.  The correspondong optimal bid for that can be found by,"
   ]
  },
  {
   "cell_type": "code",
   "execution_count": 10,
   "id": "rubber-franklin",
   "metadata": {
    "ExecuteTime": {
     "end_time": "2021-11-12T09:13:14.553561Z",
     "start_time": "2021-11-12T09:13:14.453324Z"
    }
   },
   "outputs": [
    {
     "data": {
      "text/html": [
       "<div>\n",
       "<style scoped>\n",
       "    .dataframe tbody tr th:only-of-type {\n",
       "        vertical-align: middle;\n",
       "    }\n",
       "\n",
       "    .dataframe tbody tr th {\n",
       "        vertical-align: top;\n",
       "    }\n",
       "\n",
       "    .dataframe thead th {\n",
       "        text-align: right;\n",
       "    }\n",
       "</style>\n",
       "<table border=\"1\" class=\"dataframe\">\n",
       "  <thead>\n",
       "    <tr style=\"text-align: right;\">\n",
       "      <th></th>\n",
       "      <th>Bid Upper Bound</th>\n",
       "      <th>Impressions</th>\n",
       "      <th>Clicks</th>\n",
       "      <th>Amount Spend</th>\n",
       "      <th>CTR</th>\n",
       "      <th>CPC</th>\n",
       "    </tr>\n",
       "  </thead>\n",
       "  <tbody>\n",
       "    <tr>\n",
       "      <th>108</th>\n",
       "      <td>222</td>\n",
       "      <td>1414</td>\n",
       "      <td>2</td>\n",
       "      <td>100120</td>\n",
       "      <td>0.141443</td>\n",
       "      <td>50060.0</td>\n",
       "    </tr>\n",
       "  </tbody>\n",
       "</table>\n",
       "</div>"
      ],
      "text/plain": [
       "     Bid Upper Bound  Impressions  Clicks  Amount Spend       CTR      CPC\n",
       "108              222         1414       2        100120  0.141443  50060.0"
      ]
     },
     "execution_count": 10,
     "metadata": {},
     "output_type": "execute_result"
    }
   ],
   "source": [
    "filt = (constantBidder_stats['CTR'] == constantBidder_stats['CTR'].max() )\n",
    "opt_bid = constantBidder_stats[filt]\n",
    "opt_bid"
   ]
  },
  {
   "cell_type": "markdown",
   "id": "authentic-turner",
   "metadata": {},
   "source": [
    "* In order to achieve the highest clicks and CTR, the advertiser has to constantly bid an amount of 221"
   ]
  },
  {
   "cell_type": "code",
   "execution_count": 11,
   "id": "allied-delhi",
   "metadata": {
    "ExecuteTime": {
     "end_time": "2021-11-12T09:13:15.007992Z",
     "start_time": "2021-11-12T09:13:14.553561Z"
    }
   },
   "outputs": [
    {
     "data": {
      "text/plain": [
       "Text(0, 0.5, 'Clicks')"
      ]
     },
     "execution_count": 11,
     "metadata": {},
     "output_type": "execute_result"
    },
    {
     "data": {
      "image/png": "[encoded data removed]",
      "text/plain": [
       "<Figure size 842.4x595.44 with 2 Axes>"
      ]
     },
     "metadata": {
      "needs_background": "light"
     },
     "output_type": "display_data"
    }
   ],
   "source": [
    "#Defining a figure\n",
    "fig, ax1 = plt.subplots(1, 1, figsize=(11.7, 8.27))\n",
    "kargs1 = {\n",
    "    'x': 'Bid Upper Bound',\n",
    "    'y': 'CTR',\n",
    "    'data': constantBidder_stats,\n",
    "    'color': 'red'\n",
    "}\n",
    "\n",
    "kargs2 = {\n",
    "    'x': 'Bid Upper Bound',\n",
    "    'y': 'Clicks',\n",
    "    'data': constantBidder_stats,\n",
    "    'color': 'green'\n",
    "}\n",
    "\n",
    "ax1.set_title('Constant bid strategy')\n",
    "ax1 = sns.lineplot(**kargs1)\n",
    "ax1.set_ylabel('CTR', color='r')\n",
    "\n",
    "ax2 = ax1.twinx()\n",
    "ax2 = sns.lineplot(**kargs2)\n",
    "ax2.set_ylabel('Clicks', color='green')"
   ]
  },
  {
   "cell_type": "markdown",
   "id": "minus-physiology",
   "metadata": {},
   "source": [
    "* Even a simple strategy like the constant bids has significantly improved CTR.\n",
    "* As can be inferred form the plot above the number of clicks keeps on increasing until the bid value is high enough such that the total budget is spend. \n",
    "* After that point the number of clciks gradually decreases and reaches a constsant value.\n",
    "* At this constant value the advertiser buys all the impressions at payprice until the budget runs out. "
   ]
  },
  {
   "cell_type": "markdown",
   "metadata": {},
   "source": [
    "#### Random Strategy"
   ]
  },
  {
   "cell_type": "code",
   "execution_count": 12,
   "id": "invisible-algebra",
   "metadata": {
    "ExecuteTime": {
     "end_time": "2021-11-12T09:13:15.710508Z",
     "start_time": "2021-11-12T09:13:15.007992Z"
    }
   },
   "outputs": [],
   "source": [
    "bidSim = SimpleBidSimulator(randomBidder,validate)\n",
    "bidSim.run_bids()"
   ]
  },
  {
   "cell_type": "code",
   "execution_count": 13,
   "id": "intimate-identification",
   "metadata": {
    "ExecuteTime": {
     "end_time": "2021-11-12T09:13:15.751761Z",
     "start_time": "2021-11-12T09:13:15.710508Z"
    }
   },
   "outputs": [
    {
     "data": {
      "text/html": [
       "<div style=\"float: left; padding: 10px;\">\n",
       "    <p style='font-family:\"Courier New\", Courier, monospace'>randomBidder_stats</p><div>\n",
       "<style scoped>\n",
       "    .dataframe tbody tr th:only-of-type {\n",
       "        vertical-align: middle;\n",
       "    }\n",
       "\n",
       "    .dataframe tbody tr th {\n",
       "        vertical-align: top;\n",
       "    }\n",
       "\n",
       "    .dataframe thead th {\n",
       "        text-align: right;\n",
       "    }\n",
       "</style>\n",
       "<table border=\"1\" class=\"dataframe\">\n",
       "  <thead>\n",
       "    <tr style=\"text-align: right;\">\n",
       "      <th></th>\n",
       "      <th>Bid Upper Bound</th>\n",
       "      <th>Impressions</th>\n",
       "      <th>Clicks</th>\n",
       "      <th>Amount Spend</th>\n",
       "      <th>CTR</th>\n",
       "      <th>CPC</th>\n",
       "    </tr>\n",
       "  </thead>\n",
       "  <tbody>\n",
       "    <tr>\n",
       "      <th>0</th>\n",
       "      <td>6</td>\n",
       "      <td>23</td>\n",
       "      <td>0</td>\n",
       "      <td>71</td>\n",
       "      <td>0.000000</td>\n",
       "      <td>NaN</td>\n",
       "    </tr>\n",
       "    <tr>\n",
       "      <th>1</th>\n",
       "      <td>26</td>\n",
       "      <td>1364</td>\n",
       "      <td>0</td>\n",
       "      <td>15826</td>\n",
       "      <td>0.000000</td>\n",
       "      <td>NaN</td>\n",
       "    </tr>\n",
       "    <tr>\n",
       "      <th>2</th>\n",
       "      <td>46</td>\n",
       "      <td>2767</td>\n",
       "      <td>0</td>\n",
       "      <td>47236</td>\n",
       "      <td>0.000000</td>\n",
       "      <td>NaN</td>\n",
       "    </tr>\n",
       "    <tr>\n",
       "      <th>3</th>\n",
       "      <td>66</td>\n",
       "      <td>4113</td>\n",
       "      <td>0</td>\n",
       "      <td>100033</td>\n",
       "      <td>0.000000</td>\n",
       "      <td>NaN</td>\n",
       "    </tr>\n",
       "    <tr>\n",
       "      <th>4</th>\n",
       "      <td>86</td>\n",
       "      <td>3036</td>\n",
       "      <td>1</td>\n",
       "      <td>100029</td>\n",
       "      <td>0.032938</td>\n",
       "      <td>100029.0</td>\n",
       "    </tr>\n",
       "    <tr>\n",
       "      <th>5</th>\n",
       "      <td>106</td>\n",
       "      <td>2529</td>\n",
       "      <td>1</td>\n",
       "      <td>100020</td>\n",
       "      <td>0.039541</td>\n",
       "      <td>100020.0</td>\n",
       "    </tr>\n",
       "    <tr>\n",
       "      <th>6</th>\n",
       "      <td>126</td>\n",
       "      <td>2293</td>\n",
       "      <td>3</td>\n",
       "      <td>100044</td>\n",
       "      <td>0.130833</td>\n",
       "      <td>33348.0</td>\n",
       "    </tr>\n",
       "    <tr>\n",
       "      <th>7</th>\n",
       "      <td>146</td>\n",
       "      <td>2137</td>\n",
       "      <td>2</td>\n",
       "      <td>100023</td>\n",
       "      <td>0.093589</td>\n",
       "      <td>50011.5</td>\n",
       "    </tr>\n",
       "    <tr>\n",
       "      <th>8</th>\n",
       "      <td>166</td>\n",
       "      <td>2044</td>\n",
       "      <td>0</td>\n",
       "      <td>100023</td>\n",
       "      <td>0.000000</td>\n",
       "      <td>NaN</td>\n",
       "    </tr>\n",
       "    <tr>\n",
       "      <th>9</th>\n",
       "      <td>186</td>\n",
       "      <td>1920</td>\n",
       "      <td>1</td>\n",
       "      <td>100017</td>\n",
       "      <td>0.052083</td>\n",
       "      <td>100017.0</td>\n",
       "    </tr>\n",
       "    <tr>\n",
       "      <th>10</th>\n",
       "      <td>206</td>\n",
       "      <td>1836</td>\n",
       "      <td>0</td>\n",
       "      <td>100053</td>\n",
       "      <td>0.000000</td>\n",
       "      <td>NaN</td>\n",
       "    </tr>\n",
       "    <tr>\n",
       "      <th>11</th>\n",
       "      <td>226</td>\n",
       "      <td>1800</td>\n",
       "      <td>1</td>\n",
       "      <td>100045</td>\n",
       "      <td>0.055556</td>\n",
       "      <td>100045.0</td>\n",
       "    </tr>\n",
       "    <tr>\n",
       "      <th>12</th>\n",
       "      <td>246</td>\n",
       "      <td>1717</td>\n",
       "      <td>1</td>\n",
       "      <td>100030</td>\n",
       "      <td>0.058241</td>\n",
       "      <td>100030.0</td>\n",
       "    </tr>\n",
       "    <tr>\n",
       "      <th>13</th>\n",
       "      <td>266</td>\n",
       "      <td>1657</td>\n",
       "      <td>1</td>\n",
       "      <td>100038</td>\n",
       "      <td>0.060350</td>\n",
       "      <td>100038.0</td>\n",
       "    </tr>\n",
       "    <tr>\n",
       "      <th>14</th>\n",
       "      <td>286</td>\n",
       "      <td>1605</td>\n",
       "      <td>2</td>\n",
       "      <td>100066</td>\n",
       "      <td>0.124611</td>\n",
       "      <td>50033.0</td>\n",
       "    </tr>\n",
       "    <tr>\n",
       "      <th>15</th>\n",
       "      <td>306</td>\n",
       "      <td>1589</td>\n",
       "      <td>1</td>\n",
       "      <td>100101</td>\n",
       "      <td>0.062933</td>\n",
       "      <td>100101.0</td>\n",
       "    </tr>\n",
       "  </tbody>\n",
       "</table>\n",
       "</div>\n",
       "    </div>\n",
       "<div style=\"float: left; padding: 10px;\">\n",
       "    <p style='font-family:\"Courier New\", Courier, monospace'>desc</p><div>\n",
       "<style scoped>\n",
       "    .dataframe tbody tr th:only-of-type {\n",
       "        vertical-align: middle;\n",
       "    }\n",
       "\n",
       "    .dataframe tbody tr th {\n",
       "        vertical-align: top;\n",
       "    }\n",
       "\n",
       "    .dataframe thead th {\n",
       "        text-align: right;\n",
       "    }\n",
       "</style>\n",
       "<table border=\"1\" class=\"dataframe\">\n",
       "  <thead>\n",
       "    <tr style=\"text-align: right;\">\n",
       "      <th></th>\n",
       "      <th>Clicks</th>\n",
       "      <th>CTR</th>\n",
       "    </tr>\n",
       "  </thead>\n",
       "  <tbody>\n",
       "    <tr>\n",
       "      <th>count</th>\n",
       "      <td>16.000000</td>\n",
       "      <td>16.000000</td>\n",
       "    </tr>\n",
       "    <tr>\n",
       "      <th>mean</th>\n",
       "      <td>0.875000</td>\n",
       "      <td>0.044417</td>\n",
       "    </tr>\n",
       "    <tr>\n",
       "      <th>std</th>\n",
       "      <td>0.885061</td>\n",
       "      <td>0.044181</td>\n",
       "    </tr>\n",
       "    <tr>\n",
       "      <th>min</th>\n",
       "      <td>0.000000</td>\n",
       "      <td>0.000000</td>\n",
       "    </tr>\n",
       "    <tr>\n",
       "      <th>25%</th>\n",
       "      <td>0.000000</td>\n",
       "      <td>0.000000</td>\n",
       "    </tr>\n",
       "    <tr>\n",
       "      <th>50%</th>\n",
       "      <td>1.000000</td>\n",
       "      <td>0.045812</td>\n",
       "    </tr>\n",
       "    <tr>\n",
       "      <th>75%</th>\n",
       "      <td>1.000000</td>\n",
       "      <td>0.060996</td>\n",
       "    </tr>\n",
       "    <tr>\n",
       "      <th>max</th>\n",
       "      <td>3.000000</td>\n",
       "      <td>0.130833</td>\n",
       "    </tr>\n",
       "  </tbody>\n",
       "</table>\n",
       "</div>\n",
       "    </div>"
      ],
      "text/plain": [
       "randomBidder_stats\n",
       "    Bid Upper Bound  Impressions  Clicks  Amount Spend       CTR       CPC\n",
       "0                 6           23       0            71  0.000000       NaN\n",
       "1                26         1364       0         15826  0.000000       NaN\n",
       "2                46         2767       0         47236  0.000000       NaN\n",
       "3                66         4113       0        100033  0.000000       NaN\n",
       "4                86         3036       1        100029  0.032938  100029.0\n",
       "5               106         2529       1        100020  0.039541  100020.0\n",
       "6               126         2293       3        100044  0.130833   33348.0\n",
       "7               146         2137       2        100023  0.093589   50011.5\n",
       "8               166         2044       0        100023  0.000000       NaN\n",
       "9               186         1920       1        100017  0.052083  100017.0\n",
       "10              206         1836       0        100053  0.000000       NaN\n",
       "11              226         1800       1        100045  0.055556  100045.0\n",
       "12              246         1717       1        100030  0.058241  100030.0\n",
       "13              266         1657       1        100038  0.060350  100038.0\n",
       "14              286         1605       2        100066  0.124611   50033.0\n",
       "15              306         1589       1        100101  0.062933  100101.0\n",
       "\n",
       "desc\n",
       "          Clicks        CTR\n",
       "count  16.000000  16.000000\n",
       "mean    0.875000   0.044417\n",
       "std     0.885061   0.044181\n",
       "min     0.000000   0.000000\n",
       "25%     0.000000   0.000000\n",
       "50%     1.000000   0.045812\n",
       "75%     1.000000   0.060996\n",
       "max     3.000000   0.130833"
      ]
     },
     "execution_count": 13,
     "metadata": {},
     "output_type": "execute_result"
    }
   ],
   "source": [
    "randomBidder_stats = bidSim.get_summary()\n",
    "desc = randomBidder_stats[['Clicks','CTR']].describe()\n",
    "display('randomBidder_stats','desc')"
   ]
  },
  {
   "cell_type": "code",
   "execution_count": 14,
   "id": "canadian-congo",
   "metadata": {
    "ExecuteTime": {
     "end_time": "2021-11-12T09:13:24.973832Z",
     "start_time": "2021-11-12T09:13:15.751761Z"
    }
   },
   "outputs": [],
   "source": [
    "#Lower Bound trials.\n",
    "lower_bounds = np.arange(0,300,20)\n",
    "grid_df = pd.DataFrame()\n",
    "for lb in lower_bounds:\n",
    "    random_bidder = RandomBidder(budget,lb)\n",
    "    bidSim = SimpleBidSimulator(random_bidder,validate)\n",
    "    bidSim.run_bids()\n",
    "    df_ = bidSim.get_summary()\n",
    "    df_ = df_[['Bid Upper Bound','Clicks']]\n",
    "    df_['Bid Lower Bound'] = lb\n",
    "    grid_df = pd.concat([grid_df,df_],ignore_index = True)"
   ]
  },
  {
   "cell_type": "code",
   "execution_count": 15,
   "id": "excited-holder",
   "metadata": {
    "ExecuteTime": {
     "end_time": "2021-11-12T09:13:25.406210Z",
     "start_time": "2021-11-12T09:13:24.973832Z"
    }
   },
   "outputs": [
    {
     "data": {
      "image/png": "[encoded data removed]",
      "text/plain": [
       "<Figure size 842.4x842.4 with 2 Axes>"
      ]
     },
     "metadata": {},
     "output_type": "display_data"
    }
   ],
   "source": [
    "#Producing a heat map.\n",
    "sns.set(rc={'figure.figsize':(11.7,11.7)})\n",
    "grid_df_map= grid_df.pivot('Bid Upper Bound','Bid Lower Bound','Clicks')\n",
    "ax = sns.heatmap(grid_df_map, linewidths=.5,cmap='YlGnBu')"
   ]
  },
  {
   "cell_type": "markdown",
   "id": "surgical-translator",
   "metadata": {},
   "source": [
    "* From the heat map we could infer the lower and upper bounds for a random bidder to be optimal (dark_blue_regions).\n"
   ]
  },
  {
   "cell_type": "markdown",
   "id": "serial-murray",
   "metadata": {},
   "source": [
    "## Linear Bidding strategy\n",
    "\n",
    "\n",
    "\n"
   ]
  },
  {
   "cell_type": "markdown",
   "id": "applied-thinking",
   "metadata": {},
   "source": [
    "* Instead of randomly bidding or bidding at a constant price, we make use of the available training data and train a logistic regression model which predicts the probabilty of the CTR (pCTR).\n",
    "* The logistic regression model was trained in notebook 5 and here we make use of the 'LR_pCTR_val.csv', generated in that process. It contains the pCTR for the validation dataset which can be used for valuation of the model.\n",
    "* We assume a bid price formula that is linear in pCTR as the bid made by the advertiser.\n",
    "\n",
    "$$\\text{Bidding Price} = \\text{Base Bid} \\times \\frac{pCTR}{\\text{Average pCTR} } $$\n",
    "\n",
    "* Better the accracy of pCTR better will be the model."
   ]
  },
  {
   "cell_type": "code",
   "execution_count": 16,
   "id": "operational-election",
   "metadata": {
    "ExecuteTime": {
     "end_time": "2021-11-12T09:13:26.270154Z",
     "start_time": "2021-11-12T09:13:25.406210Z"
    }
   },
   "outputs": [],
   "source": [
    "#Loading the pCTR values predicted by Logistic Regression.\n",
    "y_preds = pd.read_csv('LR_pCTR_val_1458.csv')\n",
    "y_preds.drop(['Unnamed: 0'],axis=1,inplace=True)\n",
    "y_preds = y_preds[:20000].values"
   ]
  },
  {
   "cell_type": "code",
   "execution_count": 17,
   "id": "verbal-humanity",
   "metadata": {
    "ExecuteTime": {
     "end_time": "2021-11-12T09:13:26.331523Z",
     "start_time": "2021-11-12T09:13:26.275917Z"
    }
   },
   "outputs": [
    {
     "name": "stdout",
     "output_type": "stream",
     "text": [
      "The average CTR values is: 0.06387700747796822\n"
     ]
    }
   ],
   "source": [
    "#Avg_CTR = Total clicks/Total Impressions.\n",
    "avg_CTR = train['click'].sum()*100/len(train)\n",
    "print(f'The average CTR values is: {avg_CTR}')"
   ]
  },
  {
   "cell_type": "code",
   "execution_count": 18,
   "id": "exciting-accused",
   "metadata": {
    "ExecuteTime": {
     "end_time": "2021-11-12T09:13:26.423383Z",
     "start_time": "2021-11-12T09:13:26.332524Z"
    }
   },
   "outputs": [],
   "source": [
    "class LinearBidder():\n",
    "    '''\n",
    "    A  bidder who follows the linear bidding strategy.\n",
    "    '''\n",
    "    def __init__(self,budget,y_preds,avg_CTR):\n",
    "        self.pctr = y_preds.ravel()\n",
    "        self.avg_ctr = avg_CTR\n",
    "        self.interval = 10\n",
    "        self.budget = budget\n",
    "    \n",
    "    def get_bid(self,base_bids):\n",
    "        bids = np.multiply(np.array(base_bids),self.pctr)/self.avg_ctr\n",
    "        return bids"
   ]
  },
  {
   "cell_type": "code",
   "execution_count": 26,
   "id": "quality-confirmation",
   "metadata": {
    "ExecuteTime": {
     "end_time": "2021-11-12T09:15:03.826456Z",
     "start_time": "2021-11-12T09:15:03.810808Z"
    }
   },
   "outputs": [],
   "source": [
    "#Defining a linear bidder.\n",
    "budget = 100000\n",
    "linearBidder = LinearBidder(budget,y_preds = y_preds,avg_CTR = avg_CTR)"
   ]
  },
  {
   "cell_type": "code",
   "execution_count": 27,
   "id": "damaged-creativity",
   "metadata": {
    "ExecuteTime": {
     "end_time": "2021-11-12T09:15:05.229696Z",
     "start_time": "2021-11-12T09:15:05.029231Z"
    }
   },
   "outputs": [],
   "source": [
    "#Simulating bids.\n",
    "bidSim = SimpleBidSimulator(linearBidder,validate)\n",
    "bidSim.run_bids()"
   ]
  },
  {
   "cell_type": "code",
   "execution_count": 28,
   "id": "disciplinary-certificate",
   "metadata": {
    "ExecuteTime": {
     "end_time": "2021-11-12T09:15:06.279424Z",
     "start_time": "2021-11-12T09:15:06.232619Z"
    }
   },
   "outputs": [
    {
     "data": {
      "text/html": [
       "<div style=\"float: left; padding: 10px;\">\n",
       "    <p style='font-family:\"Courier New\", Courier, monospace'>linearBidder_stats</p><div>\n",
       "<style scoped>\n",
       "    .dataframe tbody tr th:only-of-type {\n",
       "        vertical-align: middle;\n",
       "    }\n",
       "\n",
       "    .dataframe tbody tr th {\n",
       "        vertical-align: top;\n",
       "    }\n",
       "\n",
       "    .dataframe thead th {\n",
       "        text-align: right;\n",
       "    }\n",
       "</style>\n",
       "<table border=\"1\" class=\"dataframe\">\n",
       "  <thead>\n",
       "    <tr style=\"text-align: right;\">\n",
       "      <th></th>\n",
       "      <th>Bid Upper Bound</th>\n",
       "      <th>Impressions</th>\n",
       "      <th>Clicks</th>\n",
       "      <th>Amount Spend</th>\n",
       "      <th>CTR</th>\n",
       "      <th>CPC</th>\n",
       "    </tr>\n",
       "  </thead>\n",
       "  <tbody>\n",
       "    <tr>\n",
       "      <th>0</th>\n",
       "      <td>6</td>\n",
       "      <td>2376</td>\n",
       "      <td>0.0</td>\n",
       "      <td>49300.0</td>\n",
       "      <td>0.000000</td>\n",
       "      <td>NaN</td>\n",
       "    </tr>\n",
       "    <tr>\n",
       "      <th>1</th>\n",
       "      <td>16</td>\n",
       "      <td>2022</td>\n",
       "      <td>4.0</td>\n",
       "      <td>100040.0</td>\n",
       "      <td>0.197824</td>\n",
       "      <td>25010.0</td>\n",
       "    </tr>\n",
       "    <tr>\n",
       "      <th>2</th>\n",
       "      <td>26</td>\n",
       "      <td>1761</td>\n",
       "      <td>2.0</td>\n",
       "      <td>100026.0</td>\n",
       "      <td>0.113572</td>\n",
       "      <td>50013.0</td>\n",
       "    </tr>\n",
       "    <tr>\n",
       "      <th>3</th>\n",
       "      <td>36</td>\n",
       "      <td>1600</td>\n",
       "      <td>2.0</td>\n",
       "      <td>100034.0</td>\n",
       "      <td>0.125000</td>\n",
       "      <td>50017.0</td>\n",
       "    </tr>\n",
       "    <tr>\n",
       "      <th>4</th>\n",
       "      <td>46</td>\n",
       "      <td>1506</td>\n",
       "      <td>2.0</td>\n",
       "      <td>100149.0</td>\n",
       "      <td>0.132802</td>\n",
       "      <td>50074.5</td>\n",
       "    </tr>\n",
       "    <tr>\n",
       "      <th>5</th>\n",
       "      <td>56</td>\n",
       "      <td>1436</td>\n",
       "      <td>2.0</td>\n",
       "      <td>100017.0</td>\n",
       "      <td>0.139276</td>\n",
       "      <td>50008.5</td>\n",
       "    </tr>\n",
       "    <tr>\n",
       "      <th>6</th>\n",
       "      <td>66</td>\n",
       "      <td>1391</td>\n",
       "      <td>2.0</td>\n",
       "      <td>100081.0</td>\n",
       "      <td>0.143781</td>\n",
       "      <td>50040.5</td>\n",
       "    </tr>\n",
       "    <tr>\n",
       "      <th>7</th>\n",
       "      <td>76</td>\n",
       "      <td>1356</td>\n",
       "      <td>2.0</td>\n",
       "      <td>100018.0</td>\n",
       "      <td>0.147493</td>\n",
       "      <td>50009.0</td>\n",
       "    </tr>\n",
       "    <tr>\n",
       "      <th>8</th>\n",
       "      <td>86</td>\n",
       "      <td>1335</td>\n",
       "      <td>2.0</td>\n",
       "      <td>100184.0</td>\n",
       "      <td>0.149813</td>\n",
       "      <td>50092.0</td>\n",
       "    </tr>\n",
       "    <tr>\n",
       "      <th>9</th>\n",
       "      <td>96</td>\n",
       "      <td>1326</td>\n",
       "      <td>2.0</td>\n",
       "      <td>100020.0</td>\n",
       "      <td>0.150830</td>\n",
       "      <td>50010.0</td>\n",
       "    </tr>\n",
       "    <tr>\n",
       "      <th>10</th>\n",
       "      <td>106</td>\n",
       "      <td>1320</td>\n",
       "      <td>2.0</td>\n",
       "      <td>100043.0</td>\n",
       "      <td>0.151515</td>\n",
       "      <td>50021.5</td>\n",
       "    </tr>\n",
       "    <tr>\n",
       "      <th>11</th>\n",
       "      <td>116</td>\n",
       "      <td>1315</td>\n",
       "      <td>2.0</td>\n",
       "      <td>100102.0</td>\n",
       "      <td>0.152091</td>\n",
       "      <td>50051.0</td>\n",
       "    </tr>\n",
       "    <tr>\n",
       "      <th>12</th>\n",
       "      <td>126</td>\n",
       "      <td>1314</td>\n",
       "      <td>2.0</td>\n",
       "      <td>100045.0</td>\n",
       "      <td>0.152207</td>\n",
       "      <td>50022.5</td>\n",
       "    </tr>\n",
       "    <tr>\n",
       "      <th>13</th>\n",
       "      <td>136</td>\n",
       "      <td>1311</td>\n",
       "      <td>2.0</td>\n",
       "      <td>100071.0</td>\n",
       "      <td>0.152555</td>\n",
       "      <td>50035.5</td>\n",
       "    </tr>\n",
       "    <tr>\n",
       "      <th>14</th>\n",
       "      <td>146</td>\n",
       "      <td>1305</td>\n",
       "      <td>2.0</td>\n",
       "      <td>100007.0</td>\n",
       "      <td>0.153257</td>\n",
       "      <td>50003.5</td>\n",
       "    </tr>\n",
       "    <tr>\n",
       "      <th>15</th>\n",
       "      <td>156</td>\n",
       "      <td>1304</td>\n",
       "      <td>2.0</td>\n",
       "      <td>100128.0</td>\n",
       "      <td>0.153374</td>\n",
       "      <td>50064.0</td>\n",
       "    </tr>\n",
       "    <tr>\n",
       "      <th>16</th>\n",
       "      <td>166</td>\n",
       "      <td>1299</td>\n",
       "      <td>2.0</td>\n",
       "      <td>100039.0</td>\n",
       "      <td>0.153965</td>\n",
       "      <td>50019.5</td>\n",
       "    </tr>\n",
       "    <tr>\n",
       "      <th>17</th>\n",
       "      <td>176</td>\n",
       "      <td>1298</td>\n",
       "      <td>2.0</td>\n",
       "      <td>100105.0</td>\n",
       "      <td>0.154083</td>\n",
       "      <td>50052.5</td>\n",
       "    </tr>\n",
       "    <tr>\n",
       "      <th>18</th>\n",
       "      <td>186</td>\n",
       "      <td>1295</td>\n",
       "      <td>2.0</td>\n",
       "      <td>100127.0</td>\n",
       "      <td>0.154440</td>\n",
       "      <td>50063.5</td>\n",
       "    </tr>\n",
       "    <tr>\n",
       "      <th>19</th>\n",
       "      <td>196</td>\n",
       "      <td>1295</td>\n",
       "      <td>2.0</td>\n",
       "      <td>100127.0</td>\n",
       "      <td>0.154440</td>\n",
       "      <td>50063.5</td>\n",
       "    </tr>\n",
       "    <tr>\n",
       "      <th>20</th>\n",
       "      <td>206</td>\n",
       "      <td>1296</td>\n",
       "      <td>2.0</td>\n",
       "      <td>100200.0</td>\n",
       "      <td>0.154321</td>\n",
       "      <td>50100.0</td>\n",
       "    </tr>\n",
       "    <tr>\n",
       "      <th>21</th>\n",
       "      <td>216</td>\n",
       "      <td>1291</td>\n",
       "      <td>2.0</td>\n",
       "      <td>100002.0</td>\n",
       "      <td>0.154919</td>\n",
       "      <td>50001.0</td>\n",
       "    </tr>\n",
       "    <tr>\n",
       "      <th>22</th>\n",
       "      <td>226</td>\n",
       "      <td>1292</td>\n",
       "      <td>2.0</td>\n",
       "      <td>100021.0</td>\n",
       "      <td>0.154799</td>\n",
       "      <td>50010.5</td>\n",
       "    </tr>\n",
       "    <tr>\n",
       "      <th>23</th>\n",
       "      <td>236</td>\n",
       "      <td>1294</td>\n",
       "      <td>2.0</td>\n",
       "      <td>100037.0</td>\n",
       "      <td>0.154560</td>\n",
       "      <td>50018.5</td>\n",
       "    </tr>\n",
       "    <tr>\n",
       "      <th>24</th>\n",
       "      <td>246</td>\n",
       "      <td>1295</td>\n",
       "      <td>2.0</td>\n",
       "      <td>100047.0</td>\n",
       "      <td>0.154440</td>\n",
       "      <td>50023.5</td>\n",
       "    </tr>\n",
       "    <tr>\n",
       "      <th>25</th>\n",
       "      <td>256</td>\n",
       "      <td>1291</td>\n",
       "      <td>2.0</td>\n",
       "      <td>100024.0</td>\n",
       "      <td>0.154919</td>\n",
       "      <td>50012.0</td>\n",
       "    </tr>\n",
       "    <tr>\n",
       "      <th>26</th>\n",
       "      <td>266</td>\n",
       "      <td>1291</td>\n",
       "      <td>2.0</td>\n",
       "      <td>100024.0</td>\n",
       "      <td>0.154919</td>\n",
       "      <td>50012.0</td>\n",
       "    </tr>\n",
       "    <tr>\n",
       "      <th>27</th>\n",
       "      <td>276</td>\n",
       "      <td>1291</td>\n",
       "      <td>2.0</td>\n",
       "      <td>100024.0</td>\n",
       "      <td>0.154919</td>\n",
       "      <td>50012.0</td>\n",
       "    </tr>\n",
       "    <tr>\n",
       "      <th>28</th>\n",
       "      <td>286</td>\n",
       "      <td>1291</td>\n",
       "      <td>2.0</td>\n",
       "      <td>100024.0</td>\n",
       "      <td>0.154919</td>\n",
       "      <td>50012.0</td>\n",
       "    </tr>\n",
       "    <tr>\n",
       "      <th>29</th>\n",
       "      <td>296</td>\n",
       "      <td>1291</td>\n",
       "      <td>2.0</td>\n",
       "      <td>100024.0</td>\n",
       "      <td>0.154919</td>\n",
       "      <td>50012.0</td>\n",
       "    </tr>\n",
       "    <tr>\n",
       "      <th>30</th>\n",
       "      <td>306</td>\n",
       "      <td>1291</td>\n",
       "      <td>2.0</td>\n",
       "      <td>100024.0</td>\n",
       "      <td>0.154919</td>\n",
       "      <td>50012.0</td>\n",
       "    </tr>\n",
       "  </tbody>\n",
       "</table>\n",
       "</div>\n",
       "    </div>\n",
       "<div style=\"float: left; padding: 10px;\">\n",
       "    <p style='font-family:\"Courier New\", Courier, monospace'>desc</p><div>\n",
       "<style scoped>\n",
       "    .dataframe tbody tr th:only-of-type {\n",
       "        vertical-align: middle;\n",
       "    }\n",
       "\n",
       "    .dataframe tbody tr th {\n",
       "        vertical-align: top;\n",
       "    }\n",
       "\n",
       "    .dataframe thead th {\n",
       "        text-align: right;\n",
       "    }\n",
       "</style>\n",
       "<table border=\"1\" class=\"dataframe\">\n",
       "  <thead>\n",
       "    <tr style=\"text-align: right;\">\n",
       "      <th></th>\n",
       "      <th>Impressions</th>\n",
       "      <th>CTR</th>\n",
       "    </tr>\n",
       "  </thead>\n",
       "  <tbody>\n",
       "    <tr>\n",
       "      <th>count</th>\n",
       "      <td>31.000000</td>\n",
       "      <td>31.000000</td>\n",
       "    </tr>\n",
       "    <tr>\n",
       "      <th>mean</th>\n",
       "      <td>1399.322581</td>\n",
       "      <td>0.146286</td>\n",
       "    </tr>\n",
       "    <tr>\n",
       "      <th>std</th>\n",
       "      <td>241.644558</td>\n",
       "      <td>0.030073</td>\n",
       "    </tr>\n",
       "    <tr>\n",
       "      <th>min</th>\n",
       "      <td>1291.000000</td>\n",
       "      <td>0.000000</td>\n",
       "    </tr>\n",
       "    <tr>\n",
       "      <th>25%</th>\n",
       "      <td>1293.000000</td>\n",
       "      <td>0.150321</td>\n",
       "    </tr>\n",
       "    <tr>\n",
       "      <th>50%</th>\n",
       "      <td>1304.000000</td>\n",
       "      <td>0.153965</td>\n",
       "    </tr>\n",
       "    <tr>\n",
       "      <th>75%</th>\n",
       "      <td>1345.500000</td>\n",
       "      <td>0.154859</td>\n",
       "    </tr>\n",
       "    <tr>\n",
       "      <th>max</th>\n",
       "      <td>2376.000000</td>\n",
       "      <td>0.197824</td>\n",
       "    </tr>\n",
       "  </tbody>\n",
       "</table>\n",
       "</div>\n",
       "    </div>"
      ],
      "text/plain": [
       "linearBidder_stats\n",
       "    Bid Upper Bound  Impressions  Clicks  Amount Spend       CTR      CPC\n",
       "0                 6         2376     0.0       49300.0  0.000000      NaN\n",
       "1                16         2022     4.0      100040.0  0.197824  25010.0\n",
       "2                26         1761     2.0      100026.0  0.113572  50013.0\n",
       "3                36         1600     2.0      100034.0  0.125000  50017.0\n",
       "4                46         1506     2.0      100149.0  0.132802  50074.5\n",
       "5                56         1436     2.0      100017.0  0.139276  50008.5\n",
       "6                66         1391     2.0      100081.0  0.143781  50040.5\n",
       "7                76         1356     2.0      100018.0  0.147493  50009.0\n",
       "8                86         1335     2.0      100184.0  0.149813  50092.0\n",
       "9                96         1326     2.0      100020.0  0.150830  50010.0\n",
       "10              106         1320     2.0      100043.0  0.151515  50021.5\n",
       "11              116         1315     2.0      100102.0  0.152091  50051.0\n",
       "12              126         1314     2.0      100045.0  0.152207  50022.5\n",
       "13              136         1311     2.0      100071.0  0.152555  50035.5\n",
       "14              146         1305     2.0      100007.0  0.153257  50003.5\n",
       "15              156         1304     2.0      100128.0  0.153374  50064.0\n",
       "16              166         1299     2.0      100039.0  0.153965  50019.5\n",
       "17              176         1298     2.0      100105.0  0.154083  50052.5\n",
       "18              186         1295     2.0      100127.0  0.154440  50063.5\n",
       "19              196         1295     2.0      100127.0  0.154440  50063.5\n",
       "20              206         1296     2.0      100200.0  0.154321  50100.0\n",
       "21              216         1291     2.0      100002.0  0.154919  50001.0\n",
       "22              226         1292     2.0      100021.0  0.154799  50010.5\n",
       "23              236         1294     2.0      100037.0  0.154560  50018.5\n",
       "24              246         1295     2.0      100047.0  0.154440  50023.5\n",
       "25              256         1291     2.0      100024.0  0.154919  50012.0\n",
       "26              266         1291     2.0      100024.0  0.154919  50012.0\n",
       "27              276         1291     2.0      100024.0  0.154919  50012.0\n",
       "28              286         1291     2.0      100024.0  0.154919  50012.0\n",
       "29              296         1291     2.0      100024.0  0.154919  50012.0\n",
       "30              306         1291     2.0      100024.0  0.154919  50012.0\n",
       "\n",
       "desc\n",
       "       Impressions        CTR\n",
       "count    31.000000  31.000000\n",
       "mean   1399.322581   0.146286\n",
       "std     241.644558   0.030073\n",
       "min    1291.000000   0.000000\n",
       "25%    1293.000000   0.150321\n",
       "50%    1304.000000   0.153965\n",
       "75%    1345.500000   0.154859\n",
       "max    2376.000000   0.197824"
      ]
     },
     "execution_count": 28,
     "metadata": {},
     "output_type": "execute_result"
    }
   ],
   "source": [
    "linearBidder_stats = bidSim.get_summary()\n",
    "desc = linearBidder_stats[['Impressions','CTR']].describe()\n",
    "display('linearBidder_stats','desc')"
   ]
  },
  {
   "cell_type": "markdown",
   "id": "homeless-compression",
   "metadata": {},
   "source": [
    "* As can be infered from the table, our model has made use of the previously available data and has made fewer bids. In the fewer bids made there was a high chance for the user to click them as denoted by the high CTR."
   ]
  },
  {
   "cell_type": "code",
   "execution_count": 22,
   "id": "frequent-client",
   "metadata": {
    "ExecuteTime": {
     "end_time": "2021-11-12T09:13:27.351389Z",
     "start_time": "2021-11-12T09:13:26.934585Z"
    }
   },
   "outputs": [
    {
     "data": {
      "text/plain": [
       "Text(0, 0.5, 'Clicks')"
      ]
     },
     "execution_count": 22,
     "metadata": {},
     "output_type": "execute_result"
    },
    {
     "data": {
      "image/png": "[encoded data removed]",
      "text/plain": [
       "<Figure size 842.4x595.44 with 2 Axes>"
      ]
     },
     "metadata": {},
     "output_type": "display_data"
    }
   ],
   "source": [
    "fig, ax1 = plt.subplots(1, 1, figsize=(11.7, 8.27))\n",
    "kargs1 = {\n",
    "    'x': 'Bid Upper Bound',\n",
    "    'y': 'CTR',\n",
    "    'data': linearBidder_stats,\n",
    "    'color': 'red'\n",
    "}\n",
    "\n",
    "kargs2 = {\n",
    "    'x': 'Bid Upper Bound',\n",
    "    'y': 'Clicks',\n",
    "    'data': linearBidder_stats,\n",
    "    'color': 'green'\n",
    "}\n",
    "\n",
    "ax1.set_title('Linear bidding strategy')\n",
    "ax1 = sns.lineplot(**kargs1)\n",
    "ax1.set_ylabel('CTR', color='r')\n",
    "\n",
    "ax2 = ax1.twinx()\n",
    "ax2 = sns.lineplot(**kargs2)\n",
    "ax2.set_ylabel('Clicks', color='green')"
   ]
  }
 ],
 "metadata": {
  "colab": {
   "collapsed_sections": [],
   "name": "prepareDatasetCSV.ipynb",
   "provenance": []
  },
  "kernelspec": {
   "display_name": "Python 3",
   "language": "python",
   "name": "python3"
  },
  "language_info": {
   "codemirror_mode": {
    "name": "ipython",
    "version": 3
   },
   "file_extension": ".py",
   "mimetype": "text/x-python",
   "name": "python",
   "nbconvert_exporter": "python",
   "pygments_lexer": "ipython3",
   "version": "3.8.8"
  },
  "latex_envs": {
   "LaTeX_envs_menu_present": true,
   "autoclose": false,
   "autocomplete": true,
   "bibliofile": "biblio.bib",
   "cite_by": "apalike",
   "current_citInitial": 1,
   "eqLabelWithNumbers": true,
   "eqNumInitial": 1,
   "hotkeys": {
    "equation": "Ctrl-E",
    "itemize": "Ctrl-I"
   },
   "labels_anchors": false,
   "latex_user_defs": false,
   "report_style_numbering": false,
   "user_envs_cfg": false
  },
  "toc": {
   "base_numbering": 1,
   "nav_menu": {},
   "number_sections": true,
   "sideBar": true,
   "skip_h1_title": false,
   "title_cell": "Table of Contents",
   "title_sidebar": "Contents",
   "toc_cell": true,
   "toc_position": {},
   "toc_section_display": true,
   "toc_window_display": false
  },
  "varInspector": {
   "cols": {
    "lenName": 16,
    "lenType": 16,
    "lenVar": 40
   },
   "kernels_config": {
    "python": {
     "delete_cmd_postfix": "",
     "delete_cmd_prefix": "del ",
     "library": "var_list.py",
     "varRefreshCmd": "print(var_dic_list())"
    },
    "r": {
     "delete_cmd_postfix": ") ",
     "delete_cmd_prefix": "rm(",
     "library": "var_list.r",
     "varRefreshCmd": "cat(var_dic_list()) "
    }
   },
   "types_to_exclude": [
    "module",
    "function",
    "builtin_function_or_method",
    "instance",
    "_Feature"
   ],
   "window_display": false
  }
 },
 "nbformat": 4,
 "nbformat_minor": 1
}
