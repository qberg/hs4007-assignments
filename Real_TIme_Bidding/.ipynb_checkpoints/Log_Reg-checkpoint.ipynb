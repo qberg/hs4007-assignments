{
 "cells": [
  {
   "cell_type": "markdown",
   "id": "beautiful-cooperative",
   "metadata": {},
   "source": [
    "# Notebook 5: Logistic Regeression\n",
    "\n",
    "Here we develop a logistic regression model that makes use of the training data for future prdictions."
   ]
  },
  {
   "cell_type": "code",
   "execution_count": 1,
   "id": "compliant-lafayette",
   "metadata": {
    "ExecuteTime": {
     "end_time": "2021-11-13T05:17:48.253163Z",
     "start_time": "2021-11-13T05:17:22.069869Z"
    }
   },
   "outputs": [],
   "source": [
    "#Dependancies and Utilities.\n",
    "import pandas as pd\n",
    "import numpy as np\n",
    "from random import randrange\n",
    "import matplotlib.pyplot as plt\n",
    "import seaborn as sns\n",
    "plt.style.use('seaborn')\n",
    "%matplotlib inline\n",
    "from imblearn.under_sampling import TomekLinks, RandomUnderSampler,NearMiss\n",
    "from imblearn.over_sampling import SMOTE\n",
    "from imblearn.combine import SMOTETomek\n",
    "from sklearn.model_selection import StratifiedKFold, cross_val_score, GridSearchCV\n",
    "from sklearn import metrics\n",
    "from sklearn.metrics import auc,roc_curve,confusion_matrix\n",
    "from sklearn.linear_model import LogisticRegression"
   ]
  },
  {
   "cell_type": "code",
   "execution_count": 12,
   "id": "terminal-joyce",
   "metadata": {
    "ExecuteTime": {
     "end_time": "2021-11-13T05:26:39.332607Z",
     "start_time": "2021-11-13T05:26:39.301397Z"
    }
   },
   "outputs": [],
   "source": [
    "from preprocessCSV import *\n",
    "from featurize import *\n",
    "\n",
    "class display(object):\n",
    "    \"\"\"Display HTML representation of multiple objects\"\"\"\n",
    "    template = \"\"\"<div style=\"float: left; padding: 10px;\">\n",
    "    <p style='font-family:\"Courier New\", Courier, monospace'>{0}</p>{1}\n",
    "    </div>\"\"\"\n",
    "    def __init__(self, *args):\n",
    "        self.args = args\n",
    "        \n",
    "    def _repr_html_(self):\n",
    "        return '\\n'.join(self.template.format(a, eval(a)._repr_html_())\n",
    "                         for a in self.args)\n",
    "    \n",
    "    def __repr__(self):\n",
    "        return '\\n\\n'.join(a + '\\n' + repr(eval(a))\n",
    "                           for a in self.args)\n",
    "    "
   ]
  },
  {
   "cell_type": "markdown",
   "id": "numerical-integrity",
   "metadata": {},
   "source": [
    "## Loading the data\n",
    "All predictions is to be made using advertiser 1458's training data."
   ]
  },
  {
   "cell_type": "code",
   "execution_count": 15,
   "id": "considered-daughter",
   "metadata": {
    "ExecuteTime": {
     "end_time": "2021-11-13T05:27:27.808642Z",
     "start_time": "2021-11-13T05:27:21.981178Z"
    }
   },
   "outputs": [
    {
     "data": {
      "text/html": [
       "<div>\n",
       "<style scoped>\n",
       "    .dataframe tbody tr th:only-of-type {\n",
       "        vertical-align: middle;\n",
       "    }\n",
       "\n",
       "    .dataframe tbody tr th {\n",
       "        vertical-align: top;\n",
       "    }\n",
       "\n",
       "    .dataframe thead th {\n",
       "        text-align: right;\n",
       "    }\n",
       "</style>\n",
       "<table border=\"1\" class=\"dataframe\">\n",
       "  <thead>\n",
       "    <tr style=\"text-align: right;\">\n",
       "      <th></th>\n",
       "      <th>Unnamed: 0</th>\n",
       "      <th>day</th>\n",
       "      <th>hour</th>\n",
       "      <th>click</th>\n",
       "      <th>browser</th>\n",
       "      <th>os</th>\n",
       "      <th>ad_exchange</th>\n",
       "      <th>ad_slot_width</th>\n",
       "      <th>ad_slot_height</th>\n",
       "      <th>ad_slot_visibility</th>\n",
       "      <th>ad_slot</th>\n",
       "      <th>ad_slot_floor_price</th>\n",
       "      <th>bidding_price</th>\n",
       "      <th>paying_price</th>\n",
       "      <th>region_id</th>\n",
       "    </tr>\n",
       "  </thead>\n",
       "  <tbody>\n",
       "    <tr>\n",
       "      <th>0</th>\n",
       "      <td>6</td>\n",
       "      <td>3</td>\n",
       "      <td>23</td>\n",
       "      <td>0</td>\n",
       "      <td>ie</td>\n",
       "      <td>windows</td>\n",
       "      <td>3</td>\n",
       "      <td>300</td>\n",
       "      <td>250</td>\n",
       "      <td>0</td>\n",
       "      <td>0</td>\n",
       "      <td>10</td>\n",
       "      <td>300</td>\n",
       "      <td>10</td>\n",
       "      <td>333</td>\n",
       "    </tr>\n",
       "    <tr>\n",
       "      <th>1</th>\n",
       "      <td>7</td>\n",
       "      <td>1</td>\n",
       "      <td>15</td>\n",
       "      <td>0</td>\n",
       "      <td>other</td>\n",
       "      <td>windows</td>\n",
       "      <td>1</td>\n",
       "      <td>728</td>\n",
       "      <td>90</td>\n",
       "      <td>2</td>\n",
       "      <td>1</td>\n",
       "      <td>0</td>\n",
       "      <td>300</td>\n",
       "      <td>151</td>\n",
       "      <td>164</td>\n",
       "    </tr>\n",
       "    <tr>\n",
       "      <th>2</th>\n",
       "      <td>8</td>\n",
       "      <td>3</td>\n",
       "      <td>10</td>\n",
       "      <td>0</td>\n",
       "      <td>ie</td>\n",
       "      <td>windows</td>\n",
       "      <td>2</td>\n",
       "      <td>728</td>\n",
       "      <td>90</td>\n",
       "      <td>1</td>\n",
       "      <td>0</td>\n",
       "      <td>4</td>\n",
       "      <td>300</td>\n",
       "      <td>183</td>\n",
       "      <td>216</td>\n",
       "    </tr>\n",
       "    <tr>\n",
       "      <th>3</th>\n",
       "      <td>11</td>\n",
       "      <td>4</td>\n",
       "      <td>8</td>\n",
       "      <td>0</td>\n",
       "      <td>other</td>\n",
       "      <td>windows</td>\n",
       "      <td>3</td>\n",
       "      <td>300</td>\n",
       "      <td>250</td>\n",
       "      <td>0</td>\n",
       "      <td>0</td>\n",
       "      <td>50</td>\n",
       "      <td>300</td>\n",
       "      <td>70</td>\n",
       "      <td>164</td>\n",
       "    </tr>\n",
       "    <tr>\n",
       "      <th>4</th>\n",
       "      <td>15</td>\n",
       "      <td>1</td>\n",
       "      <td>11</td>\n",
       "      <td>0</td>\n",
       "      <td>chrome</td>\n",
       "      <td>windows</td>\n",
       "      <td>3</td>\n",
       "      <td>1000</td>\n",
       "      <td>90</td>\n",
       "      <td>0</td>\n",
       "      <td>0</td>\n",
       "      <td>70</td>\n",
       "      <td>300</td>\n",
       "      <td>70</td>\n",
       "      <td>3</td>\n",
       "    </tr>\n",
       "    <tr>\n",
       "      <th>...</th>\n",
       "      <td>...</td>\n",
       "      <td>...</td>\n",
       "      <td>...</td>\n",
       "      <td>...</td>\n",
       "      <td>...</td>\n",
       "      <td>...</td>\n",
       "      <td>...</td>\n",
       "      <td>...</td>\n",
       "      <td>...</td>\n",
       "      <td>...</td>\n",
       "      <td>...</td>\n",
       "      <td>...</td>\n",
       "      <td>...</td>\n",
       "      <td>...</td>\n",
       "      <td>...</td>\n",
       "    </tr>\n",
       "    <tr>\n",
       "      <th>617064</th>\n",
       "      <td>2447396</td>\n",
       "      <td>4</td>\n",
       "      <td>18</td>\n",
       "      <td>0</td>\n",
       "      <td>ie</td>\n",
       "      <td>windows</td>\n",
       "      <td>3</td>\n",
       "      <td>300</td>\n",
       "      <td>250</td>\n",
       "      <td>0</td>\n",
       "      <td>0</td>\n",
       "      <td>10</td>\n",
       "      <td>300</td>\n",
       "      <td>20</td>\n",
       "      <td>146</td>\n",
       "    </tr>\n",
       "    <tr>\n",
       "      <th>617065</th>\n",
       "      <td>2447403</td>\n",
       "      <td>1</td>\n",
       "      <td>12</td>\n",
       "      <td>0</td>\n",
       "      <td>chrome</td>\n",
       "      <td>windows</td>\n",
       "      <td>3</td>\n",
       "      <td>1000</td>\n",
       "      <td>90</td>\n",
       "      <td>0</td>\n",
       "      <td>0</td>\n",
       "      <td>70</td>\n",
       "      <td>300</td>\n",
       "      <td>70</td>\n",
       "      <td>94</td>\n",
       "    </tr>\n",
       "    <tr>\n",
       "      <th>617066</th>\n",
       "      <td>2447406</td>\n",
       "      <td>4</td>\n",
       "      <td>22</td>\n",
       "      <td>0</td>\n",
       "      <td>chrome</td>\n",
       "      <td>windows</td>\n",
       "      <td>3</td>\n",
       "      <td>300</td>\n",
       "      <td>250</td>\n",
       "      <td>0</td>\n",
       "      <td>0</td>\n",
       "      <td>50</td>\n",
       "      <td>300</td>\n",
       "      <td>50</td>\n",
       "      <td>1</td>\n",
       "    </tr>\n",
       "    <tr>\n",
       "      <th>617067</th>\n",
       "      <td>2447407</td>\n",
       "      <td>1</td>\n",
       "      <td>21</td>\n",
       "      <td>0</td>\n",
       "      <td>other</td>\n",
       "      <td>windows</td>\n",
       "      <td>1</td>\n",
       "      <td>728</td>\n",
       "      <td>90</td>\n",
       "      <td>1</td>\n",
       "      <td>1</td>\n",
       "      <td>0</td>\n",
       "      <td>300</td>\n",
       "      <td>76</td>\n",
       "      <td>216</td>\n",
       "    </tr>\n",
       "    <tr>\n",
       "      <th>617068</th>\n",
       "      <td>2447409</td>\n",
       "      <td>6</td>\n",
       "      <td>1</td>\n",
       "      <td>0</td>\n",
       "      <td>ie</td>\n",
       "      <td>windows</td>\n",
       "      <td>2</td>\n",
       "      <td>250</td>\n",
       "      <td>250</td>\n",
       "      <td>2</td>\n",
       "      <td>0</td>\n",
       "      <td>4</td>\n",
       "      <td>300</td>\n",
       "      <td>7</td>\n",
       "      <td>216</td>\n",
       "    </tr>\n",
       "  </tbody>\n",
       "</table>\n",
       "<p>617069 rows × 15 columns</p>\n",
       "</div>"
      ],
      "text/plain": [
       "        Unnamed: 0  day  hour  click browser       os  ad_exchange  \\\n",
       "0                6    3    23      0      ie  windows            3   \n",
       "1                7    1    15      0   other  windows            1   \n",
       "2                8    3    10      0      ie  windows            2   \n",
       "3               11    4     8      0   other  windows            3   \n",
       "4               15    1    11      0  chrome  windows            3   \n",
       "...            ...  ...   ...    ...     ...      ...          ...   \n",
       "617064     2447396    4    18      0      ie  windows            3   \n",
       "617065     2447403    1    12      0  chrome  windows            3   \n",
       "617066     2447406    4    22      0  chrome  windows            3   \n",
       "617067     2447407    1    21      0   other  windows            1   \n",
       "617068     2447409    6     1      0      ie  windows            2   \n",
       "\n",
       "        ad_slot_width  ad_slot_height  ad_slot_visibility  ad_slot  \\\n",
       "0                 300             250                   0        0   \n",
       "1                 728              90                   2        1   \n",
       "2                 728              90                   1        0   \n",
       "3                 300             250                   0        0   \n",
       "4                1000              90                   0        0   \n",
       "...               ...             ...                 ...      ...   \n",
       "617064            300             250                   0        0   \n",
       "617065           1000              90                   0        0   \n",
       "617066            300             250                   0        0   \n",
       "617067            728              90                   1        1   \n",
       "617068            250             250                   2        0   \n",
       "\n",
       "        ad_slot_floor_price  bidding_price  paying_price  region_id  \n",
       "0                        10            300            10        333  \n",
       "1                         0            300           151        164  \n",
       "2                         4            300           183        216  \n",
       "3                        50            300            70        164  \n",
       "4                        70            300            70          3  \n",
       "...                     ...            ...           ...        ...  \n",
       "617064                   10            300            20        146  \n",
       "617065                   70            300            70         94  \n",
       "617066                   50            300            50          1  \n",
       "617067                    0            300            76        216  \n",
       "617068                    4            300             7        216  \n",
       "\n",
       "[617069 rows x 15 columns]"
      ]
     },
     "execution_count": 15,
     "metadata": {},
     "output_type": "execute_result"
    }
   ],
   "source": [
    "train = pd.read_csv('Data/train_1458.csv')\n",
    "validate = pd.read_csv('Data/validate_1458.csv')"
   ]
  },
  {
   "cell_type": "code",
   "execution_count": 18,
   "id": "quick-holder",
   "metadata": {
    "ExecuteTime": {
     "end_time": "2021-11-13T05:27:44.306658Z",
     "start_time": "2021-11-13T05:27:42.889803Z"
    }
   },
   "outputs": [],
   "source": [
    "#Preprocessing done in notebook 2.\n",
    "for data in [train, validate]:\n",
    "    data.drop(columns=['Unnamed: 0'], axis=1, inplace=True)\n",
    "    data = numerise_features(data)\n",
    "    data = categorize_features(data,\n",
    "                               category_features=[\n",
    "                                   'day', 'hour', 'browser', 'os',\n",
    "                                   'ad_slot_visibility', 'ad_slot',\n",
    "                                   'ad_exchange', 'region_id'\n",
    "                               ])"
   ]
  },
  {
   "cell_type": "code",
   "execution_count": 25,
   "id": "supported-pleasure",
   "metadata": {
    "ExecuteTime": {
     "end_time": "2021-11-13T05:30:10.592200Z",
     "start_time": "2021-11-13T05:30:10.175576Z"
    }
   },
   "outputs": [],
   "source": [
    "#Feature Extraction performed in notebook 3.\n",
    "train = featurise_data(train)\n",
    "validate = featurise_data(validate)"
   ]
  },
  {
   "cell_type": "code",
   "execution_count": 27,
   "id": "complimentary-webcam",
   "metadata": {
    "ExecuteTime": {
     "end_time": "2021-11-13T05:30:40.671397Z",
     "start_time": "2021-11-13T05:30:40.633635Z"
    }
   },
   "outputs": [
    {
     "name": "stdout",
     "output_type": "stream",
     "text": [
      "<class 'pandas.core.frame.DataFrame'>\n",
      "RangeIndex: 1849308 entries, 0 to 1849307\n",
      "Data columns (total 100 columns):\n",
      " #   Column                  Dtype\n",
      "---  ------                  -----\n",
      " 0   click                   int32\n",
      " 1   ad_slot_width           int32\n",
      " 2   ad_slot_height          int32\n",
      " 3   bidding_price           int32\n",
      " 4   paying_price            int32\n",
      " 5   day_0                   uint8\n",
      " 6   day_1                   uint8\n",
      " 7   day_2                   uint8\n",
      " 8   day_3                   uint8\n",
      " 9   day_4                   uint8\n",
      " 10  day_5                   uint8\n",
      " 11  day_6                   uint8\n",
      " 12  hour_0                  uint8\n",
      " 13  hour_1                  uint8\n",
      " 14  hour_2                  uint8\n",
      " 15  hour_3                  uint8\n",
      " 16  hour_4                  uint8\n",
      " 17  hour_5                  uint8\n",
      " 18  hour_6                  uint8\n",
      " 19  hour_7                  uint8\n",
      " 20  hour_8                  uint8\n",
      " 21  hour_9                  uint8\n",
      " 22  hour_10                 uint8\n",
      " 23  hour_11                 uint8\n",
      " 24  hour_12                 uint8\n",
      " 25  hour_13                 uint8\n",
      " 26  hour_14                 uint8\n",
      " 27  hour_15                 uint8\n",
      " 28  hour_16                 uint8\n",
      " 29  hour_17                 uint8\n",
      " 30  hour_18                 uint8\n",
      " 31  hour_19                 uint8\n",
      " 32  hour_20                 uint8\n",
      " 33  hour_21                 uint8\n",
      " 34  hour_22                 uint8\n",
      " 35  hour_23                 uint8\n",
      " 36  browser_chrome          uint8\n",
      " 37  browser_firefox         uint8\n",
      " 38  browser_ie              uint8\n",
      " 39  browser_opera           uint8\n",
      " 40  browser_other           uint8\n",
      " 41  browser_safari          uint8\n",
      " 42  os_linux                uint8\n",
      " 43  os_mac os x             uint8\n",
      " 44  os_other                uint8\n",
      " 45  os_windows              uint8\n",
      " 46  ad_exchange_1           uint8\n",
      " 47  ad_exchange_2           uint8\n",
      " 48  ad_exchange_3           uint8\n",
      " 49  ad_slot_visibility_0    uint8\n",
      " 50  ad_slot_visibility_1    uint8\n",
      " 51  ad_slot_visibility_2    uint8\n",
      " 52  ad_slot_visibility_255  uint8\n",
      " 53  ad_slot_0               uint8\n",
      " 54  ad_slot_1               uint8\n",
      " 55  region_id_0             uint8\n",
      " 56  region_id_1             uint8\n",
      " 57  region_id_2             uint8\n",
      " 58  region_id_3             uint8\n",
      " 59  region_id_15            uint8\n",
      " 60  region_id_27            uint8\n",
      " 61  region_id_40            uint8\n",
      " 62  region_id_55            uint8\n",
      " 63  region_id_65            uint8\n",
      " 64  region_id_79            uint8\n",
      " 65  region_id_80            uint8\n",
      " 66  region_id_94            uint8\n",
      " 67  region_id_106           uint8\n",
      " 68  region_id_124           uint8\n",
      " 69  region_id_134           uint8\n",
      " 70  region_id_146           uint8\n",
      " 71  region_id_164           uint8\n",
      " 72  region_id_183           uint8\n",
      " 73  region_id_201           uint8\n",
      " 74  region_id_216           uint8\n",
      " 75  region_id_238           uint8\n",
      " 76  region_id_253           uint8\n",
      " 77  region_id_275           uint8\n",
      " 78  region_id_276           uint8\n",
      " 79  region_id_298           uint8\n",
      " 80  region_id_308           uint8\n",
      " 81  region_id_325           uint8\n",
      " 82  region_id_333           uint8\n",
      " 83  region_id_344           uint8\n",
      " 84  region_id_359           uint8\n",
      " 85  region_id_368           uint8\n",
      " 86  region_id_374           uint8\n",
      " 87  region_id_393           uint8\n",
      " 88  region_id_394           uint8\n",
      " 89  region_id_395           uint8\n",
      " 90  floorprice_bin_1        uint8\n",
      " 91  floorprice_bin_2        uint8\n",
      " 92  floorprice_bin_3        uint8\n",
      " 93  floorprice_bin_4        uint8\n",
      " 94  floorprice_bin_5        uint8\n",
      " 95  floorprice_bin_6        uint8\n",
      " 96  floorprice_bin_7        uint8\n",
      " 97  floorprice_bin_8        uint8\n",
      " 98  floorprice_bin_9        uint8\n",
      " 99  floorprice_bin_10       uint8\n",
      "dtypes: int32(5), uint8(95)\n",
      "memory usage: 202.8 MB\n"
     ]
    }
   ],
   "source": [
    "#Training data overview.\n",
    "train.info()"
   ]
  },
  {
   "cell_type": "markdown",
   "id": "coupled-married",
   "metadata": {},
   "source": [
    "### Class Imbalance\n",
    "\n",
    "We are handed the task of classifying the the data points into two classes of 'click' and 'not click'. But there is haevy imbalence in the number of training data points avaiable for the two classes. To rectify this the data is downsampled by the following steps. The code is adapted directly from the documnetation of imblearn."
   ]
  },
  {
   "cell_type": "code",
   "execution_count": 31,
   "id": "associate-singapore",
   "metadata": {
    "ExecuteTime": {
     "end_time": "2021-11-13T05:32:03.798930Z",
     "start_time": "2021-11-13T05:32:03.632073Z"
    }
   },
   "outputs": [
    {
     "data": {
      "text/plain": [
       "click\n",
       "0    1848021\n",
       "1       1287\n",
       "dtype: int64"
      ]
     },
     "execution_count": 31,
     "metadata": {},
     "output_type": "execute_result"
    }
   ],
   "source": [
    "train.groupby(['click']).size()"
   ]
  },
  {
   "cell_type": "code",
   "execution_count": 32,
   "id": "imported-thing",
   "metadata": {
    "ExecuteTime": {
     "end_time": "2021-11-13T05:32:44.511940Z",
     "start_time": "2021-11-13T05:32:44.480884Z"
    }
   },
   "outputs": [],
   "source": [
    "def downsample(data):\n",
    "    #The imbalanced class.\n",
    "    data_outlier = data.loc[train['click'] == 1]\n",
    "\n",
    "    #More weighted class.\n",
    "    data_inlier = data.loc[data['click'] == 0].sample(\n",
    "        n=20000, random_state=123).reset_index(drop=True)\n",
    "    ratio = data_inlier.shape[0]\n",
    "\n",
    "    data_ = pd.concat([data_inlier, data_outlier], axis=0)\n",
    "\n",
    "    X = data_.drop(columns=['click', 'paying_price', 'bidding_price'], axis=1)\n",
    "    X = X.values\n",
    "    y = data_['click'].values\n",
    "    sm = SMOTE(sampling_strategy=dict({0: ratio, 1: ratio}))\n",
    "\n",
    "    X_train, y_train = sm.fit_resample(X, y)\n",
    "\n",
    "    return X_train, y_train"
   ]
  },
  {
   "cell_type": "code",
   "execution_count": 33,
   "id": "verified-literacy",
   "metadata": {
    "ExecuteTime": {
     "end_time": "2021-11-13T05:32:49.034729Z",
     "start_time": "2021-11-13T05:32:47.534209Z"
    }
   },
   "outputs": [],
   "source": [
    "X_train,y_train = downsample(train)"
   ]
  },
  {
   "cell_type": "code",
   "execution_count": 34,
   "id": "acting-industry",
   "metadata": {
    "ExecuteTime": {
     "end_time": "2021-11-13T05:32:50.172223Z",
     "start_time": "2021-11-13T05:32:50.156591Z"
    }
   },
   "outputs": [
    {
     "name": "stdout",
     "output_type": "stream",
     "text": [
      "Training Data Dimensions:(40000, 97)\n"
     ]
    }
   ],
   "source": [
    "print(f'Training Data Dimensions:{X_train.shape}')"
   ]
  },
  {
   "cell_type": "code",
   "execution_count": 38,
   "id": "exciting-catch",
   "metadata": {
    "ExecuteTime": {
     "end_time": "2021-11-13T05:35:11.648832Z",
     "start_time": "2021-11-13T05:35:11.601937Z"
    }
   },
   "outputs": [
    {
     "data": {
      "text/plain": [
       "Counter({0: 20000, 1: 20000})"
      ]
     },
     "execution_count": 38,
     "metadata": {},
     "output_type": "execute_result"
    }
   ],
   "source": [
    "import collections\n",
    "collections.Counter(y_train)"
   ]
  },
  {
   "cell_type": "markdown",
   "id": "accessory-compatibility",
   "metadata": {},
   "source": [
    "As can be seen there are now equal number of training points for both the classes.\n",
    "\n",
    "---"
   ]
  },
  {
   "cell_type": "code",
   "execution_count": 35,
   "id": "useful-failure",
   "metadata": {
    "ExecuteTime": {
     "end_time": "2021-11-13T05:33:00.739376Z",
     "start_time": "2021-11-13T05:33:00.592039Z"
    }
   },
   "outputs": [],
   "source": [
    "#Preparing the validation dataset.\n",
    "X_val = validate.drop(['click', 'paying_price', 'bidding_price'],axis=1).values\n",
    "y_val = validate['click'].values"
   ]
  },
  {
   "cell_type": "markdown",
   "id": "western-interest",
   "metadata": {},
   "source": [
    "---\n",
    "---"
   ]
  },
  {
   "cell_type": "markdown",
   "id": "decreased-rebecca",
   "metadata": {},
   "source": [
    "## Finetuning the hyperparameters."
   ]
  },
  {
   "cell_type": "code",
   "execution_count": 40,
   "id": "amazing-bridges",
   "metadata": {
    "ExecuteTime": {
     "end_time": "2021-11-13T05:36:38.507677Z",
     "start_time": "2021-11-13T05:36:38.492067Z"
    }
   },
   "outputs": [],
   "source": [
    "#The parameter space to be searched.\n",
    "lr_params_grid = {'C': [0.001,0.01,0.1,1.0,10.0,100,1000]}"
   ]
  },
  {
   "cell_type": "code",
   "execution_count": 41,
   "id": "included-schedule",
   "metadata": {
    "ExecuteTime": {
     "end_time": "2021-11-13T05:41:38.142347Z",
     "start_time": "2021-11-13T05:36:41.556991Z"
    },
    "scrolled": false
   },
   "outputs": [
    {
     "name": "stdout",
     "output_type": "stream",
     "text": [
      "Fitting 3 folds for each of 7 candidates, totalling 21 fits\n"
     ]
    },
    {
     "name": "stderr",
     "output_type": "stream",
     "text": [
      "[Parallel(n_jobs=-1)]: Using backend LokyBackend with 8 concurrent workers.\n",
      "[Parallel(n_jobs=-1)]: Done   1 out of   1 | elapsed:   27.4s finished\n"
     ]
    },
    {
     "name": "stdout",
     "output_type": "stream",
     "text": [
      "[CV 1/3] END ........................................C=0.001; total time=  28.1s\n"
     ]
    },
    {
     "name": "stderr",
     "output_type": "stream",
     "text": [
      "[Parallel(n_jobs=-1)]: Using backend LokyBackend with 8 concurrent workers.\n",
      "[Parallel(n_jobs=-1)]: Done   1 out of   1 | elapsed:   14.0s finished\n"
     ]
    },
    {
     "name": "stdout",
     "output_type": "stream",
     "text": [
      "[CV 2/3] END ........................................C=0.001; total time=  14.4s\n"
     ]
    },
    {
     "name": "stderr",
     "output_type": "stream",
     "text": [
      "[Parallel(n_jobs=-1)]: Using backend LokyBackend with 8 concurrent workers.\n",
      "[Parallel(n_jobs=-1)]: Done   1 out of   1 | elapsed:    7.4s finished\n"
     ]
    },
    {
     "name": "stdout",
     "output_type": "stream",
     "text": [
      "[CV 3/3] END ........................................C=0.001; total time=   7.7s\n"
     ]
    },
    {
     "name": "stderr",
     "output_type": "stream",
     "text": [
      "[Parallel(n_jobs=-1)]: Using backend LokyBackend with 8 concurrent workers.\n",
      "[Parallel(n_jobs=-1)]: Done   1 out of   1 | elapsed:   12.7s finished\n"
     ]
    },
    {
     "name": "stdout",
     "output_type": "stream",
     "text": [
      "[CV 1/3] END .........................................C=0.01; total time=  13.1s\n"
     ]
    },
    {
     "name": "stderr",
     "output_type": "stream",
     "text": [
      "[Parallel(n_jobs=-1)]: Using backend LokyBackend with 8 concurrent workers.\n",
      "[Parallel(n_jobs=-1)]: Done   1 out of   1 | elapsed:   11.7s finished\n"
     ]
    },
    {
     "name": "stdout",
     "output_type": "stream",
     "text": [
      "[CV 2/3] END .........................................C=0.01; total time=  12.0s\n"
     ]
    },
    {
     "name": "stderr",
     "output_type": "stream",
     "text": [
      "[Parallel(n_jobs=-1)]: Using backend LokyBackend with 8 concurrent workers.\n",
      "[Parallel(n_jobs=-1)]: Done   1 out of   1 | elapsed:   12.1s finished\n"
     ]
    },
    {
     "name": "stdout",
     "output_type": "stream",
     "text": [
      "[CV 3/3] END .........................................C=0.01; total time=  12.3s\n"
     ]
    },
    {
     "name": "stderr",
     "output_type": "stream",
     "text": [
      "[Parallel(n_jobs=-1)]: Using backend LokyBackend with 8 concurrent workers.\n",
      "[Parallel(n_jobs=-1)]: Done   1 out of   1 | elapsed:   12.2s finished\n"
     ]
    },
    {
     "name": "stdout",
     "output_type": "stream",
     "text": [
      "[CV 1/3] END ..........................................C=0.1; total time=  12.4s\n"
     ]
    },
    {
     "name": "stderr",
     "output_type": "stream",
     "text": [
      "[Parallel(n_jobs=-1)]: Using backend LokyBackend with 8 concurrent workers.\n",
      "[Parallel(n_jobs=-1)]: Done   1 out of   1 | elapsed:   12.1s finished\n",
      "[Parallel(n_jobs=-1)]: Using backend LokyBackend with 8 concurrent workers.\n"
     ]
    },
    {
     "name": "stdout",
     "output_type": "stream",
     "text": [
      "[CV 2/3] END ..........................................C=0.1; total time=  12.2s\n"
     ]
    },
    {
     "name": "stderr",
     "output_type": "stream",
     "text": [
      "[Parallel(n_jobs=-1)]: Done   1 out of   1 | elapsed:   10.9s finished\n"
     ]
    },
    {
     "name": "stdout",
     "output_type": "stream",
     "text": [
      "[CV 3/3] END ..........................................C=0.1; total time=  11.2s\n"
     ]
    },
    {
     "name": "stderr",
     "output_type": "stream",
     "text": [
      "[Parallel(n_jobs=-1)]: Using backend LokyBackend with 8 concurrent workers.\n",
      "[Parallel(n_jobs=-1)]: Done   1 out of   1 | elapsed:   10.9s finished\n"
     ]
    },
    {
     "name": "stdout",
     "output_type": "stream",
     "text": [
      "[CV 1/3] END ..........................................C=1.0; total time=  11.2s\n"
     ]
    },
    {
     "name": "stderr",
     "output_type": "stream",
     "text": [
      "[Parallel(n_jobs=-1)]: Using backend LokyBackend with 8 concurrent workers.\n",
      "[Parallel(n_jobs=-1)]: Done   1 out of   1 | elapsed:   12.2s finished\n"
     ]
    },
    {
     "name": "stdout",
     "output_type": "stream",
     "text": [
      "[CV 2/3] END ..........................................C=1.0; total time=  12.6s\n"
     ]
    },
    {
     "name": "stderr",
     "output_type": "stream",
     "text": [
      "[Parallel(n_jobs=-1)]: Using backend LokyBackend with 8 concurrent workers.\n",
      "[Parallel(n_jobs=-1)]: Done   1 out of   1 | elapsed:   11.7s finished\n"
     ]
    },
    {
     "name": "stdout",
     "output_type": "stream",
     "text": [
      "[CV 3/3] END ..........................................C=1.0; total time=  11.9s\n"
     ]
    },
    {
     "name": "stderr",
     "output_type": "stream",
     "text": [
      "[Parallel(n_jobs=-1)]: Using backend LokyBackend with 8 concurrent workers.\n",
      "[Parallel(n_jobs=-1)]: Done   1 out of   1 | elapsed:   12.0s finished\n"
     ]
    },
    {
     "name": "stdout",
     "output_type": "stream",
     "text": [
      "[CV 1/3] END .........................................C=10.0; total time=  12.3s\n"
     ]
    },
    {
     "name": "stderr",
     "output_type": "stream",
     "text": [
      "[Parallel(n_jobs=-1)]: Using backend LokyBackend with 8 concurrent workers.\n",
      "[Parallel(n_jobs=-1)]: Done   1 out of   1 | elapsed:   11.5s finished\n"
     ]
    },
    {
     "name": "stdout",
     "output_type": "stream",
     "text": [
      "[CV 2/3] END .........................................C=10.0; total time=  11.8s\n"
     ]
    },
    {
     "name": "stderr",
     "output_type": "stream",
     "text": [
      "[Parallel(n_jobs=-1)]: Using backend LokyBackend with 8 concurrent workers.\n",
      "[Parallel(n_jobs=-1)]: Done   1 out of   1 | elapsed:   11.4s finished\n"
     ]
    },
    {
     "name": "stdout",
     "output_type": "stream",
     "text": [
      "[CV 3/3] END .........................................C=10.0; total time=  11.7s\n"
     ]
    },
    {
     "name": "stderr",
     "output_type": "stream",
     "text": [
      "[Parallel(n_jobs=-1)]: Using backend LokyBackend with 8 concurrent workers.\n",
      "[Parallel(n_jobs=-1)]: Done   1 out of   1 | elapsed:   11.4s finished\n"
     ]
    },
    {
     "name": "stdout",
     "output_type": "stream",
     "text": [
      "[CV 1/3] END ..........................................C=100; total time=  11.7s\n"
     ]
    },
    {
     "name": "stderr",
     "output_type": "stream",
     "text": [
      "[Parallel(n_jobs=-1)]: Using backend LokyBackend with 8 concurrent workers.\n",
      "[Parallel(n_jobs=-1)]: Done   1 out of   1 | elapsed:   10.6s finished\n"
     ]
    },
    {
     "name": "stdout",
     "output_type": "stream",
     "text": [
      "[CV 2/3] END ..........................................C=100; total time=  11.0s\n"
     ]
    },
    {
     "name": "stderr",
     "output_type": "stream",
     "text": [
      "[Parallel(n_jobs=-1)]: Using backend LokyBackend with 8 concurrent workers.\n",
      "[Parallel(n_jobs=-1)]: Done   1 out of   1 | elapsed:   11.5s finished\n"
     ]
    },
    {
     "name": "stdout",
     "output_type": "stream",
     "text": [
      "[CV 3/3] END ..........................................C=100; total time=  11.9s\n"
     ]
    },
    {
     "name": "stderr",
     "output_type": "stream",
     "text": [
      "[Parallel(n_jobs=-1)]: Using backend LokyBackend with 8 concurrent workers.\n",
      "[Parallel(n_jobs=-1)]: Done   1 out of   1 | elapsed:   12.9s finished\n"
     ]
    },
    {
     "name": "stdout",
     "output_type": "stream",
     "text": [
      "[CV 1/3] END .........................................C=1000; total time=  13.2s\n"
     ]
    },
    {
     "name": "stderr",
     "output_type": "stream",
     "text": [
      "[Parallel(n_jobs=-1)]: Using backend LokyBackend with 8 concurrent workers.\n",
      "[Parallel(n_jobs=-1)]: Done   1 out of   1 | elapsed:   12.5s finished\n"
     ]
    },
    {
     "name": "stdout",
     "output_type": "stream",
     "text": [
      "[CV 2/3] END .........................................C=1000; total time=  12.9s\n"
     ]
    },
    {
     "name": "stderr",
     "output_type": "stream",
     "text": [
      "[Parallel(n_jobs=-1)]: Using backend LokyBackend with 8 concurrent workers.\n",
      "[Parallel(n_jobs=-1)]: Done   1 out of   1 | elapsed:   14.3s finished\n"
     ]
    },
    {
     "name": "stdout",
     "output_type": "stream",
     "text": [
      "[CV 3/3] END .........................................C=1000; total time=  14.6s\n"
     ]
    },
    {
     "name": "stderr",
     "output_type": "stream",
     "text": [
      "[Parallel(n_jobs=-1)]: Using backend LokyBackend with 8 concurrent workers.\n",
      "[Parallel(n_jobs=-1)]: Done   1 out of   1 | elapsed:   23.6s finished\n"
     ]
    }
   ],
   "source": [
    "def tune_hyperparameters(X, y, params_space=lr_params_grid):\n",
    "\n",
    "    #Defining the model.\n",
    "    lr_model = LogisticRegression(max_iter=200, verbose=3, n_jobs=-1)\n",
    "    strk = StratifiedKFold(3, random_state=2048, shuffle=True)\n",
    "\n",
    "    gr = GridSearchCV(lr_model,\n",
    "                      params_space,\n",
    "                      scoring='roc_auc',\n",
    "                      cv=strk,\n",
    "                      verbose=3)\n",
    "    gr.fit(X, y)\n",
    "\n",
    "    return gr.cv_results_\n",
    "\n",
    "\n",
    "hyperparams_results = tune_hyperparameters(X=X_train, y=y_train)"
   ]
  },
  {
   "cell_type": "code",
   "execution_count": 42,
   "id": "wooden-covering",
   "metadata": {
    "ExecuteTime": {
     "end_time": "2021-11-13T05:41:59.060769Z",
     "start_time": "2021-11-13T05:41:59.007335Z"
    }
   },
   "outputs": [
    {
     "data": {
      "text/html": [
       "<div>\n",
       "<style scoped>\n",
       "    .dataframe tbody tr th:only-of-type {\n",
       "        vertical-align: middle;\n",
       "    }\n",
       "\n",
       "    .dataframe tbody tr th {\n",
       "        vertical-align: top;\n",
       "    }\n",
       "\n",
       "    .dataframe thead th {\n",
       "        text-align: right;\n",
       "    }\n",
       "</style>\n",
       "<table border=\"1\" class=\"dataframe\">\n",
       "  <thead>\n",
       "    <tr style=\"text-align: right;\">\n",
       "      <th></th>\n",
       "      <th>mean_fit_time</th>\n",
       "      <th>std_fit_time</th>\n",
       "      <th>mean_score_time</th>\n",
       "      <th>std_score_time</th>\n",
       "      <th>param_C</th>\n",
       "      <th>split1_test_score</th>\n",
       "      <th>mean_test_score</th>\n",
       "      <th>std_test_score</th>\n",
       "      <th>rank_test_score</th>\n",
       "    </tr>\n",
       "  </thead>\n",
       "  <tbody>\n",
       "    <tr>\n",
       "      <th>0</th>\n",
       "      <td>16.819669</td>\n",
       "      <td>8.466498</td>\n",
       "      <td>0.022974</td>\n",
       "      <td>0.022431</td>\n",
       "      <td>0.001</td>\n",
       "      <td>0.879679</td>\n",
       "      <td>0.871866</td>\n",
       "      <td>0.007554</td>\n",
       "      <td>7</td>\n",
       "    </tr>\n",
       "    <tr>\n",
       "      <th>1</th>\n",
       "      <td>12.575815</td>\n",
       "      <td>0.434879</td>\n",
       "      <td>0.015573</td>\n",
       "      <td>0.000059</td>\n",
       "      <td>0.01</td>\n",
       "      <td>0.968276</td>\n",
       "      <td>0.966975</td>\n",
       "      <td>0.001444</td>\n",
       "      <td>6</td>\n",
       "    </tr>\n",
       "    <tr>\n",
       "      <th>2</th>\n",
       "      <td>12.045636</td>\n",
       "      <td>0.506781</td>\n",
       "      <td>0.015567</td>\n",
       "      <td>0.012759</td>\n",
       "      <td>0.1</td>\n",
       "      <td>0.971033</td>\n",
       "      <td>0.971369</td>\n",
       "      <td>0.001290</td>\n",
       "      <td>2</td>\n",
       "    </tr>\n",
       "    <tr>\n",
       "      <th>3</th>\n",
       "      <td>11.984067</td>\n",
       "      <td>0.569993</td>\n",
       "      <td>0.014672</td>\n",
       "      <td>0.006362</td>\n",
       "      <td>1.0</td>\n",
       "      <td>0.973512</td>\n",
       "      <td>0.972225</td>\n",
       "      <td>0.001559</td>\n",
       "      <td>1</td>\n",
       "    </tr>\n",
       "    <tr>\n",
       "      <th>4</th>\n",
       "      <td>12.044727</td>\n",
       "      <td>0.261216</td>\n",
       "      <td>0.012506</td>\n",
       "      <td>0.009241</td>\n",
       "      <td>10.0</td>\n",
       "      <td>0.970143</td>\n",
       "      <td>0.969061</td>\n",
       "      <td>0.001102</td>\n",
       "      <td>5</td>\n",
       "    </tr>\n",
       "    <tr>\n",
       "      <th>5</th>\n",
       "      <td>11.620989</td>\n",
       "      <td>0.408796</td>\n",
       "      <td>0.000000</td>\n",
       "      <td>0.000000</td>\n",
       "      <td>100</td>\n",
       "      <td>0.969612</td>\n",
       "      <td>0.970201</td>\n",
       "      <td>0.000880</td>\n",
       "      <td>3</td>\n",
       "    </tr>\n",
       "    <tr>\n",
       "      <th>6</th>\n",
       "      <td>13.666587</td>\n",
       "      <td>0.763128</td>\n",
       "      <td>0.005166</td>\n",
       "      <td>0.007305</td>\n",
       "      <td>1000</td>\n",
       "      <td>0.970647</td>\n",
       "      <td>0.969612</td>\n",
       "      <td>0.001774</td>\n",
       "      <td>4</td>\n",
       "    </tr>\n",
       "  </tbody>\n",
       "</table>\n",
       "</div>"
      ],
      "text/plain": [
       "   mean_fit_time  std_fit_time  mean_score_time  std_score_time param_C  \\\n",
       "0      16.819669      8.466498         0.022974        0.022431   0.001   \n",
       "1      12.575815      0.434879         0.015573        0.000059    0.01   \n",
       "2      12.045636      0.506781         0.015567        0.012759     0.1   \n",
       "3      11.984067      0.569993         0.014672        0.006362     1.0   \n",
       "4      12.044727      0.261216         0.012506        0.009241    10.0   \n",
       "5      11.620989      0.408796         0.000000        0.000000     100   \n",
       "6      13.666587      0.763128         0.005166        0.007305    1000   \n",
       "\n",
       "   split1_test_score  mean_test_score  std_test_score  rank_test_score  \n",
       "0           0.879679         0.871866        0.007554                7  \n",
       "1           0.968276         0.966975        0.001444                6  \n",
       "2           0.971033         0.971369        0.001290                2  \n",
       "3           0.973512         0.972225        0.001559                1  \n",
       "4           0.970143         0.969061        0.001102                5  \n",
       "5           0.969612         0.970201        0.000880                3  \n",
       "6           0.970647         0.969612        0.001774                4  "
      ]
     },
     "execution_count": 42,
     "metadata": {},
     "output_type": "execute_result"
    }
   ],
   "source": [
    "hyperparams_stats_df = pd.DataFrame(hyperparams_results)\n",
    "hyperparams_stats_df.drop(\n",
    "    ['params', 'split0_test_score', 'split2_test_score', 'split2_test_score'],\n",
    "    axis = 1,\n",
    "    inplace = True)\n",
    "hyperparams_stats_df"
   ]
  },
  {
   "cell_type": "markdown",
   "id": "characteristic-laundry",
   "metadata": {},
   "source": [
    "**From the table we can conclude that C = 1.0 is the best hyperparameter.**"
   ]
  },
  {
   "cell_type": "code",
   "execution_count": 43,
   "id": "revised-northeast",
   "metadata": {
    "ExecuteTime": {
     "end_time": "2021-11-13T05:43:03.917424Z",
     "start_time": "2021-11-13T05:42:43.433626Z"
    }
   },
   "outputs": [
    {
     "name": "stderr",
     "output_type": "stream",
     "text": [
      "[Parallel(n_jobs=-1)]: Using backend LokyBackend with 8 concurrent workers.\n",
      "[Parallel(n_jobs=-1)]: Done   1 out of   1 | elapsed:   19.7s finished\n"
     ]
    }
   ],
   "source": [
    "#Defining the best model.\n",
    "LR_MODEL = LogisticRegression(C=1.0, max_iter=200, verbose=3, n_jobs=-1)\n",
    "\n",
    "#Fititng the model over the training dataset and predicting on the validation datset.\n",
    "y_preds = LR_MODEL.fit(X_train, y_train).predict(X_val)"
   ]
  },
  {
   "cell_type": "code",
   "execution_count": 44,
   "id": "identical-mauritius",
   "metadata": {
    "ExecuteTime": {
     "end_time": "2021-11-13T05:43:13.377567Z",
     "start_time": "2021-11-13T05:43:12.789708Z"
    }
   },
   "outputs": [
    {
     "name": "stdout",
     "output_type": "stream",
     "text": [
      "[[594866  21763]\n",
      " [   406     34]]\n"
     ]
    }
   ],
   "source": [
    "#Gettting the confusion matrix.\n",
    "print(confusion_matrix(y_val,y_preds))"
   ]
  },
  {
   "cell_type": "code",
   "execution_count": 45,
   "id": "electrical-recovery",
   "metadata": {
    "ExecuteTime": {
     "end_time": "2021-11-13T05:43:20.875213Z",
     "start_time": "2021-11-13T05:43:20.508436Z"
    }
   },
   "outputs": [],
   "source": [
    "#Estimation of pCTR for validation datset.\n",
    "pred_probs = LR_MODEL.predict_proba(X_val)\n",
    "pCTR = pd.DataFrame(pred_probs)"
   ]
  },
  {
   "cell_type": "code",
   "execution_count": 46,
   "id": "hidden-sussex",
   "metadata": {
    "ExecuteTime": {
     "end_time": "2021-11-13T05:43:30.519719Z",
     "start_time": "2021-11-13T05:43:24.848670Z"
    }
   },
   "outputs": [
    {
     "name": "stderr",
     "output_type": "stream",
     "text": [
      "C:\\Users\\Reneeth\\anaconda3\\envs\\R_Data_Analysis\\lib\\site-packages\\seaborn\\distributions.py:2557: FutureWarning: `distplot` is a deprecated function and will be removed in a future version. Please adapt your code to use either `displot` (a figure-level function with similar flexibility) or `histplot` (an axes-level function for histograms).\n",
      "  warnings.warn(msg, FutureWarning)\n"
     ]
    },
    {
     "data": {
      "text/plain": [
       "Text(0.5, 1.0, 'Logistic Regression pCTR')"
      ]
     },
     "execution_count": 46,
     "metadata": {},
     "output_type": "execute_result"
    },
    {
     "data": {
      "image/png": "[encoded data removed]",
      "text/plain": [
       "<Figure size 842.4x626.4 with 1 Axes>"
      ]
     },
     "metadata": {
      "needs_background": "light"
     },
     "output_type": "display_data"
    }
   ],
   "source": [
    "#Defining a figure.\n",
    "fig,ax = plt.subplots(1,1,figsize=(11.7,8.7))\n",
    "\n",
    "#pCTR distribution for click=1.\n",
    "sns.distplot(pCTR[1])\n",
    "plt.xlabel(\"pCTR\")\n",
    "plt.title('Logistic Regression pCTR')"
   ]
  },
  {
   "cell_type": "code",
   "execution_count": 47,
   "id": "treated-jurisdiction",
   "metadata": {
    "ExecuteTime": {
     "end_time": "2021-11-13T05:43:49.913625Z",
     "start_time": "2021-11-13T05:43:47.917948Z"
    }
   },
   "outputs": [],
   "source": [
    "#Storing the results.\n",
    "#pd.DataFrame(pred).to_csv('LR_pCTR_val1.csv')\n",
    "pCTR[[1]].to_csv('LR_pCTR_val_1458.csv')"
   ]
  },
  {
   "cell_type": "code",
   "execution_count": 48,
   "id": "limiting-variation",
   "metadata": {
    "ExecuteTime": {
     "end_time": "2021-11-13T05:44:05.266735Z",
     "start_time": "2021-11-13T05:44:04.783519Z"
    }
   },
   "outputs": [],
   "source": [
    "LR_pCTR = pd.read_csv('LR_pCTR_val_1458.csv')"
   ]
  },
  {
   "cell_type": "code",
   "execution_count": 52,
   "id": "downtown-fundamentals",
   "metadata": {
    "ExecuteTime": {
     "end_time": "2021-11-13T05:45:02.876297Z",
     "start_time": "2021-11-13T05:45:02.827963Z"
    }
   },
   "outputs": [],
   "source": [
    "#Using a small subset for further verifications.\n",
    "LR_pCTR = LR_pCTR.loc[:20000,'1']\n",
    "val_clk = validate.click[:20000]"
   ]
  },
  {
   "cell_type": "code",
   "execution_count": 55,
   "id": "injured-looking",
   "metadata": {
    "ExecuteTime": {
     "end_time": "2021-11-13T05:45:29.430042Z",
     "start_time": "2021-11-13T05:45:29.245075Z"
    }
   },
   "outputs": [
    {
     "data": {
      "image/png": "[encoded data removed]",
      "text/plain": [
       "<Figure size 842.4x626.4 with 1 Axes>"
      ]
     },
     "metadata": {
      "needs_background": "light"
     },
     "output_type": "display_data"
    }
   ],
   "source": [
    "#ROC curves.\n",
    "rocaucs_list = []\n",
    "\n",
    "for p_CTR in [LR_pCTR]:\n",
    "    fpr, tpr, thresholds = roc_curve([click for click in val_clk], p_CTR)\n",
    "    roc_auc = metrics.auc(fpr, tpr)\n",
    "    rocaucs_list.append([fpr,tpr,roc_auc])\n",
    "    \n",
    "f, axes = plt.subplots(1, figsize=(11.7, 8.7))\n",
    "for [fpr, tpr, roc_auc],label in zip(rocaucs_list,['Logistic Regression Model 1']):\n",
    "    lab = '%s AUC=%.4f' % (label,roc_auc)\n",
    "    axes.step(fpr, tpr, lw=3,label=lab)\n",
    "axes.legend(loc='lower right', fontsize='small')\n",
    "plt.title('ROC curve for pCTR estimator')\n",
    "plt.show()"
   ]
  }
 ],
 "metadata": {
  "kernelspec": {
   "display_name": "Python 3",
   "language": "python",
   "name": "python3"
  },
  "language_info": {
   "codemirror_mode": {
    "name": "ipython",
    "version": 3
   },
   "file_extension": ".py",
   "mimetype": "text/x-python",
   "name": "python",
   "nbconvert_exporter": "python",
   "pygments_lexer": "ipython3",
   "version": "3.8.8"
  },
  "latex_envs": {
   "LaTeX_envs_menu_present": true,
   "autoclose": false,
   "autocomplete": true,
   "bibliofile": "biblio.bib",
   "cite_by": "apalike",
   "current_citInitial": 1,
   "eqLabelWithNumbers": true,
   "eqNumInitial": 1,
   "hotkeys": {
    "equation": "Ctrl-E",
    "itemize": "Ctrl-I"
   },
   "labels_anchors": false,
   "latex_user_defs": false,
   "report_style_numbering": false,
   "user_envs_cfg": false
  },
  "toc": {
   "base_numbering": 1,
   "nav_menu": {},
   "number_sections": true,
   "sideBar": true,
   "skip_h1_title": false,
   "title_cell": "Table of Contents",
   "title_sidebar": "Contents",
   "toc_cell": false,
   "toc_position": {},
   "toc_section_display": true,
   "toc_window_display": false
  },
  "varInspector": {
   "cols": {
    "lenName": 16,
    "lenType": 16,
    "lenVar": 40
   },
   "kernels_config": {
    "python": {
     "delete_cmd_postfix": "",
     "delete_cmd_prefix": "del ",
     "library": "var_list.py",
     "varRefreshCmd": "print(var_dic_list())"
    },
    "r": {
     "delete_cmd_postfix": ") ",
     "delete_cmd_prefix": "rm(",
     "library": "var_list.r",
     "varRefreshCmd": "cat(var_dic_list()) "
    }
   },
   "types_to_exclude": [
    "module",
    "function",
    "builtin_function_or_method",
    "instance",
    "_Feature"
   ],
   "window_display": false
  }
 },
 "nbformat": 4,
 "nbformat_minor": 5
}
