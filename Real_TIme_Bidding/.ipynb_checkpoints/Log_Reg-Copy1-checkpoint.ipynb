{
 "cells": [
  {
   "cell_type": "markdown",
   "id": "beautiful-cooperative",
   "metadata": {},
   "source": [
    "# Notebook 5: Logistic Regeression\n",
    "\n",
    "Here we develop a logistic regression model that makes use of the training data for future prdictions."
   ]
  },
  {
   "cell_type": "code",
   "execution_count": null,
   "id": "compliant-lafayette",
   "metadata": {
    "ExecuteTime": {
     "start_time": "2021-11-13T05:17:15.522Z"
    }
   },
   "outputs": [],
   "source": [
    "#Dependancies and Utilities.\n",
    "import pandas as pd\n",
    "import numpy as np\n",
    "from random import randrange\n",
    "import matplotlib.pyplot as plt\n",
    "import seaborn as sns\n",
    "plt.style.use('seaborn')\n",
    "%matplotlib inline\n",
    "from imblearn.under_sampling import TomekLinks, RandomUnderSampler,NearMiss\n",
    "from imblearn.over_sampling import SMOTE\n",
    "from imblearn.combine import SMOTETomek\n",
    "from sklearn.model_selection import StratifiedKFold, cross_val_score, GridSearchCV\n",
    "from sklearn import metrics\n",
    "from sklearn.metrics import auc,roc_curve,confusion_matrix\n",
    "from sklearn.linear_model import LogisticRegression"
   ]
  },
  {
   "cell_type": "code",
   "execution_count": 2,
   "id": "terminal-joyce",
   "metadata": {
    "ExecuteTime": {
     "end_time": "2021-11-11T04:34:22.175368Z",
     "start_time": "2021-11-11T04:34:21.791386Z"
    }
   },
   "outputs": [],
   "source": [
    "from preprocessCSV import *\n",
    "from featurize import *\n",
    "\n",
    "class display(object):\n",
    "    \"\"\"Display HTML representation of multiple objects\"\"\"\n",
    "    template = \"\"\"<div style=\"float: left; padding: 10px;\">\n",
    "    <p style='font-family:\"Courier New\", Courier, monospace'>{0}</p>{1}\n",
    "    </div>\"\"\"\n",
    "    def __init__(self, *args):\n",
    "        self.args = args\n",
    "        \n",
    "    def _repr_html_(self):\n",
    "        return '\\n'.join(self.template.format(a, eval(a)._repr_html_())\n",
    "                         for a in self.args)\n",
    "    \n",
    "    def __repr__(self):\n",
    "        return '\\n\\n'.join(a + '\\n' + repr(eval(a))\n",
    "                           for a in self.args)\n",
    "    "
   ]
  },
  {
   "cell_type": "markdown",
   "id": "numerical-integrity",
   "metadata": {},
   "source": [
    "## Loading the data"
   ]
  },
  {
   "cell_type": "code",
   "execution_count": 3,
   "id": "quick-holder",
   "metadata": {
    "ExecuteTime": {
     "end_time": "2021-11-11T04:35:12.492554Z",
     "start_time": "2021-11-11T04:34:22.179359Z"
    }
   },
   "outputs": [],
   "source": [
    "train = pd.read_csv('Data/train.csv')\n",
    "validate = pd.read_csv('Data/validation.csv')\n",
    "test = pd.read_csv('Data/validation.csv')\n",
    "for data in [train,validate,test]:\n",
    "    data.drop(columns = ['Unnamed: 0'], axis =1, inplace=True)\n",
    "    data = numerise_features(data)\n",
    "    data = categorize_features(data)\n",
    "\n",
    "train = featurise_data(train)\n",
    "validate = featurise_data(validate)"
   ]
  },
  {
   "cell_type": "markdown",
   "id": "coupled-married",
   "metadata": {},
   "source": [
    "### Class Imbalance\n",
    "\n",
    "We are handed the task of classifying the the data points into two classes of 'click' and 'not click'. But there is haevy imbalence in the number of training data points avaiable for the two classes. TO rectify this the data is downsampled by the following steps. The code is adapted directly from the documnetation of imblearn."
   ]
  },
  {
   "cell_type": "code",
   "execution_count": 4,
   "id": "imported-thing",
   "metadata": {
    "ExecuteTime": {
     "end_time": "2021-11-11T04:35:12.524436Z",
     "start_time": "2021-11-11T04:35:12.497511Z"
    }
   },
   "outputs": [],
   "source": [
    "def downsample(data):\n",
    "    #The imbalanced class.\n",
    "    data_outlier = data.loc[train['click'] == 1]\n",
    "\n",
    "    #More weighted class.\n",
    "    data_inlier = data.loc[data['click'] == 0].sample(\n",
    "        n=20000, random_state=123).reset_index(drop=True)\n",
    "    ratio = data_inlier.shape[0]\n",
    "\n",
    "    data_ = pd.concat([data_inlier, data_outlier], axis=0)\n",
    "\n",
    "    X = data_.drop(columns=['click', 'paying_price', 'bidding_price'], axis=1)\n",
    "    X = X.values\n",
    "    y = data_['click'].values\n",
    "    sm = SMOTE(sampling_strategy=dict({0: ratio, 1: ratio}))\n",
    "\n",
    "    X_train, y_train = sm.fit_resample(X, y)\n",
    "\n",
    "    return X_train, y_train"
   ]
  },
  {
   "cell_type": "code",
   "execution_count": 5,
   "id": "verified-literacy",
   "metadata": {
    "ExecuteTime": {
     "end_time": "2021-11-11T04:35:19.828975Z",
     "start_time": "2021-11-11T04:35:12.526440Z"
    }
   },
   "outputs": [],
   "source": [
    "X_train,y_train = downsample(train)"
   ]
  },
  {
   "cell_type": "code",
   "execution_count": 6,
   "id": "acting-industry",
   "metadata": {
    "ExecuteTime": {
     "end_time": "2021-11-11T04:35:19.892228Z",
     "start_time": "2021-11-11T04:35:19.830882Z"
    }
   },
   "outputs": [
    {
     "name": "stdout",
     "output_type": "stream",
     "text": [
      "Training Data Dimensions:(40000, 98)\n"
     ]
    }
   ],
   "source": [
    "print(f'Training Data Dimensions:{X_train.shape}')"
   ]
  },
  {
   "cell_type": "code",
   "execution_count": 7,
   "id": "useful-failure",
   "metadata": {
    "ExecuteTime": {
     "end_time": "2021-11-11T04:35:20.964969Z",
     "start_time": "2021-11-11T04:35:19.893230Z"
    }
   },
   "outputs": [],
   "source": [
    "#Preparing the validation dataset.\n",
    "X_val = validate.drop(['click', 'paying_price', 'bidding_price'],axis=1).values\n",
    "y_val = validate['click'].values"
   ]
  },
  {
   "cell_type": "markdown",
   "id": "decreased-rebecca",
   "metadata": {},
   "source": [
    "## Finetuning the hyperparameters."
   ]
  },
  {
   "cell_type": "code",
   "execution_count": 8,
   "id": "amazing-bridges",
   "metadata": {
    "ExecuteTime": {
     "end_time": "2021-11-11T04:35:21.690437Z",
     "start_time": "2021-11-11T04:35:20.967877Z"
    }
   },
   "outputs": [],
   "source": [
    "#The parameter space to be searched.\n",
    "lr_params_grid = {'C': [0.001,0.01,0.1,1.0,10.0,1000]}"
   ]
  },
  {
   "cell_type": "code",
   "execution_count": 9,
   "id": "included-schedule",
   "metadata": {
    "ExecuteTime": {
     "end_time": "2021-11-11T04:40:19.945477Z",
     "start_time": "2021-11-11T04:35:21.697429Z"
    },
    "scrolled": false
   },
   "outputs": [
    {
     "name": "stdout",
     "output_type": "stream",
     "text": [
      "Fitting 3 folds for each of 6 candidates, totalling 18 fits\n"
     ]
    },
    {
     "name": "stderr",
     "output_type": "stream",
     "text": [
      "[Parallel(n_jobs=-1)]: Using backend LokyBackend with 8 concurrent workers.\n",
      "[Parallel(n_jobs=-1)]: Done   1 out of   1 | elapsed:   35.3s finished\n"
     ]
    },
    {
     "name": "stdout",
     "output_type": "stream",
     "text": [
      "[CV 1/3] END ........................................C=0.001; total time=  41.2s\n"
     ]
    },
    {
     "name": "stderr",
     "output_type": "stream",
     "text": [
      "[Parallel(n_jobs=-1)]: Using backend LokyBackend with 8 concurrent workers.\n",
      "[Parallel(n_jobs=-1)]: Done   1 out of   1 | elapsed:   13.3s finished\n"
     ]
    },
    {
     "name": "stdout",
     "output_type": "stream",
     "text": [
      "[CV 2/3] END ........................................C=0.001; total time=  13.7s\n"
     ]
    },
    {
     "name": "stderr",
     "output_type": "stream",
     "text": [
      "[Parallel(n_jobs=-1)]: Using backend LokyBackend with 8 concurrent workers.\n",
      "[Parallel(n_jobs=-1)]: Done   1 out of   1 | elapsed:   14.7s finished\n",
      "[Parallel(n_jobs=-1)]: Using backend LokyBackend with 8 concurrent workers.\n"
     ]
    },
    {
     "name": "stdout",
     "output_type": "stream",
     "text": [
      "[CV 3/3] END ........................................C=0.001; total time=  14.8s\n"
     ]
    },
    {
     "name": "stderr",
     "output_type": "stream",
     "text": [
      "[Parallel(n_jobs=-1)]: Done   1 out of   1 | elapsed:   13.6s finished\n"
     ]
    },
    {
     "name": "stdout",
     "output_type": "stream",
     "text": [
      "[CV 1/3] END .........................................C=0.01; total time=  14.0s\n"
     ]
    },
    {
     "name": "stderr",
     "output_type": "stream",
     "text": [
      "[Parallel(n_jobs=-1)]: Using backend LokyBackend with 8 concurrent workers.\n",
      "[Parallel(n_jobs=-1)]: Done   1 out of   1 | elapsed:   11.8s finished\n"
     ]
    },
    {
     "name": "stdout",
     "output_type": "stream",
     "text": [
      "[CV 2/3] END .........................................C=0.01; total time=  12.1s\n"
     ]
    },
    {
     "name": "stderr",
     "output_type": "stream",
     "text": [
      "[Parallel(n_jobs=-1)]: Using backend LokyBackend with 8 concurrent workers.\n",
      "[Parallel(n_jobs=-1)]: Done   1 out of   1 | elapsed:   12.1s finished\n"
     ]
    },
    {
     "name": "stdout",
     "output_type": "stream",
     "text": [
      "[CV 3/3] END .........................................C=0.01; total time=  12.4s\n"
     ]
    },
    {
     "name": "stderr",
     "output_type": "stream",
     "text": [
      "[Parallel(n_jobs=-1)]: Using backend LokyBackend with 8 concurrent workers.\n",
      "[Parallel(n_jobs=-1)]: Done   1 out of   1 | elapsed:   11.8s finished\n"
     ]
    },
    {
     "name": "stdout",
     "output_type": "stream",
     "text": [
      "[CV 1/3] END ..........................................C=0.1; total time=  12.2s\n"
     ]
    },
    {
     "name": "stderr",
     "output_type": "stream",
     "text": [
      "[Parallel(n_jobs=-1)]: Using backend LokyBackend with 8 concurrent workers.\n",
      "[Parallel(n_jobs=-1)]: Done   1 out of   1 | elapsed:   11.8s finished\n"
     ]
    },
    {
     "name": "stdout",
     "output_type": "stream",
     "text": [
      "[CV 2/3] END ..........................................C=0.1; total time=  12.1s\n"
     ]
    },
    {
     "name": "stderr",
     "output_type": "stream",
     "text": [
      "[Parallel(n_jobs=-1)]: Using backend LokyBackend with 8 concurrent workers.\n",
      "[Parallel(n_jobs=-1)]: Done   1 out of   1 | elapsed:   13.1s finished\n"
     ]
    },
    {
     "name": "stdout",
     "output_type": "stream",
     "text": [
      "[CV 3/3] END ..........................................C=0.1; total time=  13.5s\n"
     ]
    },
    {
     "name": "stderr",
     "output_type": "stream",
     "text": [
      "[Parallel(n_jobs=-1)]: Using backend LokyBackend with 8 concurrent workers.\n",
      "[Parallel(n_jobs=-1)]: Done   1 out of   1 | elapsed:   13.8s finished\n"
     ]
    },
    {
     "name": "stdout",
     "output_type": "stream",
     "text": [
      "[CV 1/3] END ..........................................C=1.0; total time=  14.1s\n"
     ]
    },
    {
     "name": "stderr",
     "output_type": "stream",
     "text": [
      "[Parallel(n_jobs=-1)]: Using backend LokyBackend with 8 concurrent workers.\n",
      "[Parallel(n_jobs=-1)]: Done   1 out of   1 | elapsed:   13.1s finished\n"
     ]
    },
    {
     "name": "stdout",
     "output_type": "stream",
     "text": [
      "[CV 2/3] END ..........................................C=1.0; total time=  13.4s\n"
     ]
    },
    {
     "name": "stderr",
     "output_type": "stream",
     "text": [
      "[Parallel(n_jobs=-1)]: Using backend LokyBackend with 8 concurrent workers.\n",
      "[Parallel(n_jobs=-1)]: Done   1 out of   1 | elapsed:   13.6s finished\n"
     ]
    },
    {
     "name": "stdout",
     "output_type": "stream",
     "text": [
      "[CV 3/3] END ..........................................C=1.0; total time=  13.9s\n"
     ]
    },
    {
     "name": "stderr",
     "output_type": "stream",
     "text": [
      "[Parallel(n_jobs=-1)]: Using backend LokyBackend with 8 concurrent workers.\n",
      "[Parallel(n_jobs=-1)]: Done   1 out of   1 | elapsed:   14.0s finished\n"
     ]
    },
    {
     "name": "stdout",
     "output_type": "stream",
     "text": [
      "[CV 1/3] END .........................................C=10.0; total time=  14.3s\n"
     ]
    },
    {
     "name": "stderr",
     "output_type": "stream",
     "text": [
      "[Parallel(n_jobs=-1)]: Using backend LokyBackend with 8 concurrent workers.\n",
      "[Parallel(n_jobs=-1)]: Done   1 out of   1 | elapsed:   13.8s finished\n"
     ]
    },
    {
     "name": "stdout",
     "output_type": "stream",
     "text": [
      "[CV 2/3] END .........................................C=10.0; total time=  14.1s\n"
     ]
    },
    {
     "name": "stderr",
     "output_type": "stream",
     "text": [
      "[Parallel(n_jobs=-1)]: Using backend LokyBackend with 8 concurrent workers.\n",
      "[Parallel(n_jobs=-1)]: Done   1 out of   1 | elapsed:   13.2s finished\n"
     ]
    },
    {
     "name": "stdout",
     "output_type": "stream",
     "text": [
      "[CV 3/3] END .........................................C=10.0; total time=  13.6s\n"
     ]
    },
    {
     "name": "stderr",
     "output_type": "stream",
     "text": [
      "[Parallel(n_jobs=-1)]: Using backend LokyBackend with 8 concurrent workers.\n",
      "[Parallel(n_jobs=-1)]: Done   1 out of   1 | elapsed:   14.0s finished\n"
     ]
    },
    {
     "name": "stdout",
     "output_type": "stream",
     "text": [
      "[CV 1/3] END .........................................C=1000; total time=  14.4s\n"
     ]
    },
    {
     "name": "stderr",
     "output_type": "stream",
     "text": [
      "[Parallel(n_jobs=-1)]: Using backend LokyBackend with 8 concurrent workers.\n",
      "[Parallel(n_jobs=-1)]: Done   1 out of   1 | elapsed:   12.9s finished\n"
     ]
    },
    {
     "name": "stdout",
     "output_type": "stream",
     "text": [
      "[CV 2/3] END .........................................C=1000; total time=  13.3s\n"
     ]
    },
    {
     "name": "stderr",
     "output_type": "stream",
     "text": [
      "[Parallel(n_jobs=-1)]: Using backend LokyBackend with 8 concurrent workers.\n",
      "[Parallel(n_jobs=-1)]: Done   1 out of   1 | elapsed:   13.9s finished\n"
     ]
    },
    {
     "name": "stdout",
     "output_type": "stream",
     "text": [
      "[CV 3/3] END .........................................C=1000; total time=  14.3s\n"
     ]
    },
    {
     "name": "stderr",
     "output_type": "stream",
     "text": [
      "[Parallel(n_jobs=-1)]: Using backend LokyBackend with 8 concurrent workers.\n",
      "[Parallel(n_jobs=-1)]: Done   1 out of   1 | elapsed:   23.6s finished\n"
     ]
    }
   ],
   "source": [
    "def tune_hyperparameters(X,y,params_space=lr_params_grid):\n",
    "    \n",
    "    #Defining the model.\n",
    "    lr_model = LogisticRegression(max_iter=200,verbose=3,n_jobs=-1)    \n",
    "    strk = StratifiedKFold(3, random_state=2048, shuffle=True)\n",
    "    \n",
    "    gr = GridSearchCV(lr_model, params_space, scoring='roc_auc', cv=strk, verbose=3)\n",
    "    gr.fit(X, y)\n",
    "    \n",
    "    return gr.cv_results_\n",
    "\n",
    "hyperparams_results = tune_hyperparameters(X = X_train,y = y_train)"
   ]
  },
  {
   "cell_type": "code",
   "execution_count": 11,
   "id": "wooden-covering",
   "metadata": {
    "ExecuteTime": {
     "end_time": "2021-11-11T04:44:57.546658Z",
     "start_time": "2021-11-11T04:44:57.293503Z"
    }
   },
   "outputs": [
    {
     "data": {
      "text/html": [
       "<div>\n",
       "<style scoped>\n",
       "    .dataframe tbody tr th:only-of-type {\n",
       "        vertical-align: middle;\n",
       "    }\n",
       "\n",
       "    .dataframe tbody tr th {\n",
       "        vertical-align: top;\n",
       "    }\n",
       "\n",
       "    .dataframe thead th {\n",
       "        text-align: right;\n",
       "    }\n",
       "</style>\n",
       "<table border=\"1\" class=\"dataframe\">\n",
       "  <thead>\n",
       "    <tr style=\"text-align: right;\">\n",
       "      <th></th>\n",
       "      <th>mean_fit_time</th>\n",
       "      <th>std_fit_time</th>\n",
       "      <th>mean_score_time</th>\n",
       "      <th>std_score_time</th>\n",
       "      <th>param_C</th>\n",
       "      <th>split1_test_score</th>\n",
       "      <th>mean_test_score</th>\n",
       "      <th>std_test_score</th>\n",
       "      <th>rank_test_score</th>\n",
       "    </tr>\n",
       "  </thead>\n",
       "  <tbody>\n",
       "    <tr>\n",
       "      <th>0</th>\n",
       "      <td>23.327035</td>\n",
       "      <td>12.694438</td>\n",
       "      <td>0.032251</td>\n",
       "      <td>0.030105</td>\n",
       "      <td>0.001</td>\n",
       "      <td>0.814397</td>\n",
       "      <td>0.818104</td>\n",
       "      <td>0.003721</td>\n",
       "      <td>6</td>\n",
       "    </tr>\n",
       "    <tr>\n",
       "      <th>1</th>\n",
       "      <td>12.940199</td>\n",
       "      <td>0.790281</td>\n",
       "      <td>0.012618</td>\n",
       "      <td>0.005892</td>\n",
       "      <td>0.01</td>\n",
       "      <td>0.910605</td>\n",
       "      <td>0.907262</td>\n",
       "      <td>0.003934</td>\n",
       "      <td>5</td>\n",
       "    </tr>\n",
       "    <tr>\n",
       "      <th>2</th>\n",
       "      <td>12.684424</td>\n",
       "      <td>0.633296</td>\n",
       "      <td>0.010594</td>\n",
       "      <td>0.003796</td>\n",
       "      <td>0.1</td>\n",
       "      <td>0.912530</td>\n",
       "      <td>0.910975</td>\n",
       "      <td>0.001110</td>\n",
       "      <td>3</td>\n",
       "    </tr>\n",
       "    <tr>\n",
       "      <th>3</th>\n",
       "      <td>13.927462</td>\n",
       "      <td>0.291856</td>\n",
       "      <td>0.011109</td>\n",
       "      <td>0.003446</td>\n",
       "      <td>1.0</td>\n",
       "      <td>0.908101</td>\n",
       "      <td>0.912109</td>\n",
       "      <td>0.004837</td>\n",
       "      <td>2</td>\n",
       "    </tr>\n",
       "    <tr>\n",
       "      <th>4</th>\n",
       "      <td>14.099022</td>\n",
       "      <td>0.308209</td>\n",
       "      <td>0.012271</td>\n",
       "      <td>0.003719</td>\n",
       "      <td>10.0</td>\n",
       "      <td>0.901009</td>\n",
       "      <td>0.909852</td>\n",
       "      <td>0.006799</td>\n",
       "      <td>4</td>\n",
       "    </tr>\n",
       "    <tr>\n",
       "      <th>5</th>\n",
       "      <td>14.074196</td>\n",
       "      <td>0.489788</td>\n",
       "      <td>0.012318</td>\n",
       "      <td>0.005427</td>\n",
       "      <td>1000</td>\n",
       "      <td>0.908813</td>\n",
       "      <td>0.913194</td>\n",
       "      <td>0.003719</td>\n",
       "      <td>1</td>\n",
       "    </tr>\n",
       "  </tbody>\n",
       "</table>\n",
       "</div>"
      ],
      "text/plain": [
       "   mean_fit_time  std_fit_time  mean_score_time  std_score_time param_C  \\\n",
       "0      23.327035     12.694438         0.032251        0.030105   0.001   \n",
       "1      12.940199      0.790281         0.012618        0.005892    0.01   \n",
       "2      12.684424      0.633296         0.010594        0.003796     0.1   \n",
       "3      13.927462      0.291856         0.011109        0.003446     1.0   \n",
       "4      14.099022      0.308209         0.012271        0.003719    10.0   \n",
       "5      14.074196      0.489788         0.012318        0.005427    1000   \n",
       "\n",
       "   split1_test_score  mean_test_score  std_test_score  rank_test_score  \n",
       "0           0.814397         0.818104        0.003721                6  \n",
       "1           0.910605         0.907262        0.003934                5  \n",
       "2           0.912530         0.910975        0.001110                3  \n",
       "3           0.908101         0.912109        0.004837                2  \n",
       "4           0.901009         0.909852        0.006799                4  \n",
       "5           0.908813         0.913194        0.003719                1  "
      ]
     },
     "execution_count": 11,
     "metadata": {},
     "output_type": "execute_result"
    }
   ],
   "source": [
    "hyperparams_stats_df = pd.DataFrame(hyperparams_results)\n",
    "hyperparams_stats_df.drop(\n",
    "    ['params', 'split0_test_score', 'split2_test_score', 'split2_test_score'],\n",
    "    axis = 1,\n",
    "    inplace = True)\n",
    "hyperparams_stats_df"
   ]
  },
  {
   "cell_type": "markdown",
   "id": "characteristic-laundry",
   "metadata": {},
   "source": [
    "**From the data we can conclude that C = 0.1 is the best hyperparameter.**"
   ]
  },
  {
   "cell_type": "code",
   "execution_count": 13,
   "id": "revised-northeast",
   "metadata": {
    "ExecuteTime": {
     "end_time": "2021-11-11T04:45:50.440112Z",
     "start_time": "2021-11-11T04:45:28.280224Z"
    }
   },
   "outputs": [
    {
     "name": "stderr",
     "output_type": "stream",
     "text": [
      "[Parallel(n_jobs=-1)]: Using backend LokyBackend with 8 concurrent workers.\n",
      "[Parallel(n_jobs=-1)]: Done   1 out of   1 | elapsed:   20.6s finished\n"
     ]
    }
   ],
   "source": [
    "#Defining the best model\n",
    "LR_MODEL = LogisticRegression(C = 1000,max_iter=200,verbose=3,n_jobs=-1)\n",
    "\n",
    "#Fititng the model over the training dataset and predicting on the validation datset.\n",
    "y_preds = LR_MODEL.fit(X_train, y_train).predict(X_val)"
   ]
  },
  {
   "cell_type": "code",
   "execution_count": 14,
   "id": "identical-mauritius",
   "metadata": {
    "ExecuteTime": {
     "end_time": "2021-11-11T04:45:54.883810Z",
     "start_time": "2021-11-11T04:45:53.155921Z"
    }
   },
   "outputs": [
    {
     "name": "stdout",
     "output_type": "stream",
     "text": [
      "[[2209878  235990]\n",
      " [   1138     406]]\n"
     ]
    }
   ],
   "source": [
    "#Gettting the confusion matrix.\n",
    "print(confusion_matrix(y_val,y_preds))"
   ]
  },
  {
   "cell_type": "code",
   "execution_count": 15,
   "id": "electrical-recovery",
   "metadata": {
    "ExecuteTime": {
     "end_time": "2021-11-11T04:45:58.273592Z",
     "start_time": "2021-11-11T04:45:57.212369Z"
    }
   },
   "outputs": [],
   "source": [
    "#Estimation of pCTR for validation datset.\n",
    "pred_probs = LR_MODEL.predict_proba(X_val)\n",
    "pCTR = pd.DataFrame(pred_probs)"
   ]
  },
  {
   "cell_type": "code",
   "execution_count": 28,
   "id": "hidden-sussex",
   "metadata": {
    "ExecuteTime": {
     "end_time": "2021-11-11T05:46:15.909118Z",
     "start_time": "2021-11-11T05:46:00.903007Z"
    }
   },
   "outputs": [
    {
     "name": "stderr",
     "output_type": "stream",
     "text": [
      "C:\\Users\\Reneeth\\anaconda3\\envs\\R_Data_Analysis\\lib\\site-packages\\seaborn\\distributions.py:2557: FutureWarning: `distplot` is a deprecated function and will be removed in a future version. Please adapt your code to use either `displot` (a figure-level function with similar flexibility) or `histplot` (an axes-level function for histograms).\n",
      "  warnings.warn(msg, FutureWarning)\n"
     ]
    },
    {
     "data": {
      "text/plain": [
       "Text(0.5, 1.0, 'Logistic Regression pCTR')"
      ]
     },
     "execution_count": 28,
     "metadata": {},
     "output_type": "execute_result"
    },
    {
     "data": {
      "image/png": "[encoded data removed]",
      "text/plain": [
       "<Figure size 842.4x626.4 with 1 Axes>"
      ]
     },
     "metadata": {
      "needs_background": "light"
     },
     "output_type": "display_data"
    }
   ],
   "source": [
    "#Defining a figure.\n",
    "fig,ax = plt.subplots(1,1,figsize=(11.7,8.7))\n",
    "\n",
    "#pCTR distribution for click=1.\n",
    "sns.distplot(pCTR[1])\n",
    "plt.xlabel(\"pCTR\")\n",
    "plt.title('Logistic Regression pCTR')"
   ]
  },
  {
   "cell_type": "code",
   "execution_count": null,
   "id": "treated-jurisdiction",
   "metadata": {
    "ExecuteTime": {
     "end_time": "2021-11-11T04:40:21.005780Z",
     "start_time": "2021-11-11T04:34:05.618Z"
    }
   },
   "outputs": [],
   "source": [
    "#Storing the results.\n",
    "#pd.DataFrame(pred).to_csv('LR_pCTR_val1.csv')\n",
    "pCTR[[1]].to_csv('LR_pCTR_val.csv')"
   ]
  },
  {
   "cell_type": "code",
   "execution_count": 22,
   "id": "limiting-variation",
   "metadata": {
    "ExecuteTime": {
     "end_time": "2021-11-11T05:41:18.523058Z",
     "start_time": "2021-11-11T05:41:12.395697Z"
    }
   },
   "outputs": [],
   "source": [
    "LR_pCTR = pd.read_csv('LR_pCTR_val.csv')\n",
    "lr_pCTR = pd.read_csv('LR_pCTR_val1.csv')"
   ]
  },
  {
   "cell_type": "code",
   "execution_count": 25,
   "id": "downtown-fundamentals",
   "metadata": {
    "ExecuteTime": {
     "end_time": "2021-11-11T05:42:23.174497Z",
     "start_time": "2021-11-11T05:42:23.152355Z"
    }
   },
   "outputs": [],
   "source": [
    "#Using a small subset for further verifications.\n",
    "LR_pCTR = LR_pCTR[:20000]\n",
    "lr_pCTR =lr_pCTR[:20000]\n",
    "val_clk = validate.click[:20000]"
   ]
  },
  {
   "cell_type": "code",
   "execution_count": 23,
   "id": "cardiac-minnesota",
   "metadata": {
    "ExecuteTime": {
     "end_time": "2021-11-11T05:41:28.534143Z",
     "start_time": "2021-11-11T05:41:28.502895Z"
    }
   },
   "outputs": [],
   "source": [
    "LR_pCTR.drop(['Unnamed: 0'],axis=1,inplace=True)"
   ]
  },
  {
   "cell_type": "code",
   "execution_count": 27,
   "id": "injured-looking",
   "metadata": {
    "ExecuteTime": {
     "end_time": "2021-11-11T05:42:53.061292Z",
     "start_time": "2021-11-11T05:42:52.914236Z"
    }
   },
   "outputs": [
    {
     "data": {
      "image/png": "[encoded data removed]",
      "text/plain": [
       "<Figure size 842.4x626.4 with 1 Axes>"
      ]
     },
     "metadata": {
      "needs_background": "light"
     },
     "output_type": "display_data"
    }
   ],
   "source": [
    "#ROC curves.\n",
    "rocaucs_list = []\n",
    "\n",
    "for p_CTR in [LR_pCTR]:\n",
    "    fpr, tpr, thresholds = roc_curve([click for click in val_clk], p_CTR)\n",
    "    roc_auc = metrics.auc(fpr, tpr)\n",
    "    rocaucs_list.append([fpr,tpr,roc_auc])\n",
    "    \n",
    "f, axes = plt.subplots(1, figsize=(11.7, 8.7))\n",
    "for [fpr, tpr, roc_auc],label in zip(rocaucs_list,['Logistic Regression Model 1']):\n",
    "    lab = '%s AUC=%.4f' % (label,roc_auc)\n",
    "    axes.step(fpr, tpr, lw=3,label=lab)\n",
    "axes.legend(loc='lower right', fontsize='small')\n",
    "plt.title('ROC curve for pCTR estimator')\n",
    "plt.show()"
   ]
  }
 ],
 "metadata": {
  "kernelspec": {
   "display_name": "Python 3",
   "language": "python",
   "name": "python3"
  },
  "language_info": {
   "codemirror_mode": {
    "name": "ipython",
    "version": 3
   },
   "file_extension": ".py",
   "mimetype": "text/x-python",
   "name": "python",
   "nbconvert_exporter": "python",
   "pygments_lexer": "ipython3",
   "version": "3.8.8"
  },
  "latex_envs": {
   "LaTeX_envs_menu_present": true,
   "autoclose": false,
   "autocomplete": true,
   "bibliofile": "biblio.bib",
   "cite_by": "apalike",
   "current_citInitial": 1,
   "eqLabelWithNumbers": true,
   "eqNumInitial": 1,
   "hotkeys": {
    "equation": "Ctrl-E",
    "itemize": "Ctrl-I"
   },
   "labels_anchors": false,
   "latex_user_defs": false,
   "report_style_numbering": false,
   "user_envs_cfg": false
  },
  "toc": {
   "base_numbering": 1,
   "nav_menu": {},
   "number_sections": true,
   "sideBar": true,
   "skip_h1_title": false,
   "title_cell": "Table of Contents",
   "title_sidebar": "Contents",
   "toc_cell": false,
   "toc_position": {},
   "toc_section_display": true,
   "toc_window_display": false
  },
  "varInspector": {
   "cols": {
    "lenName": 16,
    "lenType": 16,
    "lenVar": 40
   },
   "kernels_config": {
    "python": {
     "delete_cmd_postfix": "",
     "delete_cmd_prefix": "del ",
     "library": "var_list.py",
     "varRefreshCmd": "print(var_dic_list())"
    },
    "r": {
     "delete_cmd_postfix": ") ",
     "delete_cmd_prefix": "rm(",
     "library": "var_list.r",
     "varRefreshCmd": "cat(var_dic_list()) "
    }
   },
   "types_to_exclude": [
    "module",
    "function",
    "builtin_function_or_method",
    "instance",
    "_Feature"
   ],
   "window_display": false
  }
 },
 "nbformat": 4,
 "nbformat_minor": 5
}
