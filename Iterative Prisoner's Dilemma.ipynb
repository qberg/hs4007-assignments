{
 "cells": [
  {
   "cell_type": "markdown",
   "id": "owned-worry",
   "metadata": {},
   "source": [
    "# Characterizing Nash Equillibrium\n",
    "\n",
    "## Definition:\n",
    "\n",
    "As seen in the class, a layman definiton of Nash equllibrium would be the choice made by players in a game such that no \n",
    "player can choose better given what every other player is choosing."
   ]
  },
  {
   "cell_type": "markdown",
   "id": "accomplished-hollywood",
   "metadata": {},
   "source": [
    "## A Toy Model:\n",
    "\n",
    "To understand the characteristics of Nash equillibrium, a simple toy model of the Prisoner's dilemma was discussed in the class. The model had the following pay-off-matrix:\n",
    "\n",
    "| Calvin/Klein | Confess | Not Confess  |\n",
    "| --- | --- | --- |\n",
    "| Confess |   5y,5y   |  0y,15y |\n",
    "| Not Confess  | 15y,0y | 1y,1y |\n",
    "\n",
    "The Nash equillibrium of this game is for both of them to confess. Even if one of them is let know of other's decision, there is no chance they would want to change their strategy of confessing (under the assumption the prisoners are rational), as the strategy of confessing always ensures the best possible outcome for them.\n",
    "\n",
    "Here, we iterate such a model $N-$number of times and estimate the average pay-off for each player.\n",
    "\n",
    "[Reference: Effective Choice in the Prisoner's Dilemma ](https://www.jstor.org/stable/pdf/173932.pdf?refreqid=excelsior%3Aeef7a653a4ae47e904b41d8d57f55b12)"
   ]
  },
  {
   "cell_type": "markdown",
   "id": "early-blond",
   "metadata": {},
   "source": [
    "### Theory to Code:"
   ]
  },
  {
   "cell_type": "code",
   "execution_count": 1,
   "id": "federal-czech",
   "metadata": {},
   "outputs": [],
   "source": [
    "import numpy as np\n",
    "from random import randint\n",
    "import pandas as pd"
   ]
  },
  {
   "cell_type": "code",
   "execution_count": 2,
   "id": "convinced-prefix",
   "metadata": {},
   "outputs": [],
   "source": [
    "#Utilities needed.\n",
    "mean_of_list = lambda List:sum(List)/len(List)\n",
    "transpose    = lambda List:zip(*List)"
   ]
  },
  {
   "cell_type": "code",
   "execution_count": 3,
   "id": "latest-emergency",
   "metadata": {},
   "outputs": [],
   "source": [
    "'''A class that describes the strategies our prisoners undertake.'''\n",
    "class Classic_Prisoners:\n",
    "    def __init__(self,prob_confess):   #All the prior information assumed for our prisoners goes here. \n",
    "        self.p = prob_confess          #The probablity for them to confess.               \n",
    "    \n",
    "    def choose(self):\n",
    "        #We assume our player randomly chooses one of the two strategies (confess or not) in each round randomly.\n",
    "        #To do this we generate a random integer r.\n",
    "        r = randint(0,99)\n",
    "        if r < self.p:\n",
    "            return 0      #Chooses strategy 1(confess).\n",
    "        else:\n",
    "            return 1      #Chooses strategy 2(Not Confess).\n",
    "    "
   ]
  },
  {
   "cell_type": "code",
   "execution_count": 4,
   "id": "illegal-tucson",
   "metadata": {},
   "outputs": [],
   "source": [
    "'''A class describing the game to be played by our agents.'''\n",
    "class Two_Person_Game:\n",
    "    def __init__(self,pay_off_mat,player1,player2):\n",
    "        self.pmat = pay_off_mat\n",
    "        self.players = [player1,player2]\n",
    "        self.payoff_dict = dict((p,0) for p in self.players)\n",
    "        self.choices = []\n",
    "        \n",
    "    \n",
    "    def play_game(self,N):    #N denotes the number of times the game should be played.\n",
    "        p1,p2 = self.players\n",
    "        for _ in range(1,N):\n",
    "            p1_choice = p1.choose()\n",
    "            p2_choice = p2.choose()\n",
    "            self.choices.append((p1_choice,p2_choice))\n",
    "        #return self.choices\n",
    "    \n",
    "    def pay_off(self):\n",
    "        p1,p2 = self.players\n",
    "        #self.choices = self.play_game(N)\n",
    "        payoffs = (self.pmat[c1][c2] for (c1,c2) in self.choices)\n",
    "        pay_p1, pay_p2 = transpose(payoffs)\n",
    "        return {'Player-1' : mean_of_list(pay_p1),'Player-2': mean_of_list(pay_p2)}\n",
    "    \n",
    "            \n",
    "            "
   ]
  },
  {
   "cell_type": "markdown",
   "id": "contained-holly",
   "metadata": {},
   "source": [
    "#### Analysis of the results of the algorithm:\n",
    "\n",
    "We look at what would happen to estimated the pay-off of each prisoner for different probablities of confessing. "
   ]
  },
  {
   "cell_type": "code",
   "execution_count": 5,
   "id": "martial-demand",
   "metadata": {},
   "outputs": [],
   "source": [
    "pay_off_mat_prisoners = [ [(5,5),(0,15)] , [(15,0),(1,1)] ]"
   ]
  },
  {
   "cell_type": "code",
   "execution_count": 6,
   "id": "smoking-romantic",
   "metadata": {},
   "outputs": [],
   "source": [
    "def varying_prob_results(iterator,pay_off_matrix,player):\n",
    "    pay_off_dict = {}\n",
    "    for (p1,p2) in iterator:\n",
    "        prisoner1 = player(p1)\n",
    "        prisoner2 = player(p2)\n",
    "        Prisoners_Dilemma = Two_Person_Game(pay_off_mat_prisoners,prisoner1,prisoner2)\n",
    "        Prisoners_Dilemma.play_game(1000)\n",
    "        key = '('+str(p1)+ '|'+str(p2) + ')'+'%'\n",
    "        pay_off_dict[key] = Prisoners_Dilemma.pay_off()\n",
    "    df_pay_off =  pd.DataFrame(pay_off_dict)\n",
    "    return df_pay_off"
   ]
  },
  {
   "cell_type": "code",
   "execution_count": 7,
   "id": "macro-spice",
   "metadata": {},
   "outputs": [
    {
     "data": {
      "text/html": [
       "<div>\n",
       "<style scoped>\n",
       "    .dataframe tbody tr th:only-of-type {\n",
       "        vertical-align: middle;\n",
       "    }\n",
       "\n",
       "    .dataframe tbody tr th {\n",
       "        vertical-align: top;\n",
       "    }\n",
       "\n",
       "    .dataframe thead th {\n",
       "        text-align: right;\n",
       "    }\n",
       "</style>\n",
       "<table border=\"1\" class=\"dataframe\">\n",
       "  <thead>\n",
       "    <tr style=\"text-align: right;\">\n",
       "      <th></th>\n",
       "      <th>(0|0)%</th>\n",
       "      <th>(10|10)%</th>\n",
       "      <th>(20|20)%</th>\n",
       "      <th>(30|30)%</th>\n",
       "      <th>(40|40)%</th>\n",
       "      <th>(50|50)%</th>\n",
       "      <th>(60|60)%</th>\n",
       "      <th>(70|70)%</th>\n",
       "      <th>(80|80)%</th>\n",
       "      <th>(90|90)%</th>\n",
       "      <th>(100|100)%</th>\n",
       "    </tr>\n",
       "  </thead>\n",
       "  <tbody>\n",
       "    <tr>\n",
       "      <th>Player-1</th>\n",
       "      <td>1.0</td>\n",
       "      <td>2.33</td>\n",
       "      <td>3.34</td>\n",
       "      <td>4.08</td>\n",
       "      <td>4.92</td>\n",
       "      <td>5.24</td>\n",
       "      <td>5.69</td>\n",
       "      <td>5.54</td>\n",
       "      <td>5.42</td>\n",
       "      <td>5.41</td>\n",
       "      <td>5.0</td>\n",
       "    </tr>\n",
       "    <tr>\n",
       "      <th>Player-2</th>\n",
       "      <td>1.0</td>\n",
       "      <td>2.56</td>\n",
       "      <td>3.25</td>\n",
       "      <td>3.87</td>\n",
       "      <td>4.53</td>\n",
       "      <td>5.26</td>\n",
       "      <td>5.65</td>\n",
       "      <td>5.81</td>\n",
       "      <td>5.93</td>\n",
       "      <td>5.41</td>\n",
       "      <td>5.0</td>\n",
       "    </tr>\n",
       "  </tbody>\n",
       "</table>\n",
       "</div>"
      ],
      "text/plain": [
       "          (0|0)%  (10|10)%  (20|20)%  (30|30)%  (40|40)%  (50|50)%  (60|60)%  \\\n",
       "Player-1     1.0      2.33      3.34      4.08      4.92      5.24      5.69   \n",
       "Player-2     1.0      2.56      3.25      3.87      4.53      5.26      5.65   \n",
       "\n",
       "          (70|70)%  (80|80)%  (90|90)%  (100|100)%  \n",
       "Player-1      5.54      5.42      5.41         5.0  \n",
       "Player-2      5.81      5.93      5.41         5.0  "
      ]
     },
     "execution_count": 7,
     "metadata": {},
     "output_type": "execute_result"
    }
   ],
   "source": [
    "seq_gen1 = ((i*10,i*10) for i in range(11))       #An iterator.\n",
    "df1_pay_off = varying_prob_results(seq_gen1,pay_off_mat_prisoners,Classic_Prisoners)\n",
    "df1_pay_off.round(2).head()"
   ]
  },
  {
   "cell_type": "code",
   "execution_count": 8,
   "id": "valuable-climb",
   "metadata": {},
   "outputs": [
    {
     "data": {
      "text/html": [
       "<div>\n",
       "<style scoped>\n",
       "    .dataframe tbody tr th:only-of-type {\n",
       "        vertical-align: middle;\n",
       "    }\n",
       "\n",
       "    .dataframe tbody tr th {\n",
       "        vertical-align: top;\n",
       "    }\n",
       "\n",
       "    .dataframe thead th {\n",
       "        text-align: right;\n",
       "    }\n",
       "</style>\n",
       "<table border=\"1\" class=\"dataframe\">\n",
       "  <thead>\n",
       "    <tr style=\"text-align: right;\">\n",
       "      <th></th>\n",
       "      <th>(0|100)%</th>\n",
       "      <th>(10|90)%</th>\n",
       "      <th>(20|80)%</th>\n",
       "      <th>(30|70)%</th>\n",
       "      <th>(40|60)%</th>\n",
       "      <th>(50|50)%</th>\n",
       "      <th>(60|40)%</th>\n",
       "      <th>(70|30)%</th>\n",
       "      <th>(80|20)%</th>\n",
       "      <th>(90|10)%</th>\n",
       "      <th>(100|0)%</th>\n",
       "    </tr>\n",
       "  </thead>\n",
       "  <tbody>\n",
       "    <tr>\n",
       "      <th>Player-1</th>\n",
       "      <td>15.0</td>\n",
       "      <td>12.42</td>\n",
       "      <td>10.84</td>\n",
       "      <td>8.35</td>\n",
       "      <td>6.86</td>\n",
       "      <td>5.19</td>\n",
       "      <td>3.48</td>\n",
       "      <td>2.49</td>\n",
       "      <td>1.73</td>\n",
       "      <td>0.59</td>\n",
       "      <td>0.0</td>\n",
       "    </tr>\n",
       "    <tr>\n",
       "      <th>Player-2</th>\n",
       "      <td>0.0</td>\n",
       "      <td>0.71</td>\n",
       "      <td>1.40</td>\n",
       "      <td>2.67</td>\n",
       "      <td>3.96</td>\n",
       "      <td>5.25</td>\n",
       "      <td>7.04</td>\n",
       "      <td>8.81</td>\n",
       "      <td>10.36</td>\n",
       "      <td>12.89</td>\n",
       "      <td>15.0</td>\n",
       "    </tr>\n",
       "  </tbody>\n",
       "</table>\n",
       "</div>"
      ],
      "text/plain": [
       "          (0|100)%  (10|90)%  (20|80)%  (30|70)%  (40|60)%  (50|50)%  \\\n",
       "Player-1      15.0     12.42     10.84      8.35      6.86      5.19   \n",
       "Player-2       0.0      0.71      1.40      2.67      3.96      5.25   \n",
       "\n",
       "          (60|40)%  (70|30)%  (80|20)%  (90|10)%  (100|0)%  \n",
       "Player-1      3.48      2.49      1.73      0.59       0.0  \n",
       "Player-2      7.04      8.81     10.36     12.89      15.0  "
      ]
     },
     "execution_count": 8,
     "metadata": {},
     "output_type": "execute_result"
    }
   ],
   "source": [
    "seq_gen2 = ((i*10,(10-i)*10) for i in range(11)) \n",
    "df2_pay_off = varying_prob_results(seq_gen2,pay_off_mat_prisoners,Classic_Prisoners)\n",
    "df2_pay_off.round(2).head()"
   ]
  }
 ],
 "metadata": {
  "kernelspec": {
   "display_name": "Python 3",
   "language": "python",
   "name": "python3"
  },
  "language_info": {
   "codemirror_mode": {
    "name": "ipython",
    "version": 3
   },
   "file_extension": ".py",
   "mimetype": "text/x-python",
   "name": "python",
   "nbconvert_exporter": "python",
   "pygments_lexer": "ipython3",
   "version": "3.8.8"
  },
  "latex_envs": {
   "LaTeX_envs_menu_present": true,
   "autoclose": false,
   "autocomplete": true,
   "bibliofile": "biblio.bib",
   "cite_by": "apalike",
   "current_citInitial": 1,
   "eqLabelWithNumbers": true,
   "eqNumInitial": 1,
   "hotkeys": {
    "equation": "Ctrl-E",
    "itemize": "Ctrl-I"
   },
   "labels_anchors": false,
   "latex_user_defs": false,
   "report_style_numbering": false,
   "user_envs_cfg": false
  },
  "toc": {
   "base_numbering": 1,
   "nav_menu": {},
   "number_sections": true,
   "sideBar": true,
   "skip_h1_title": false,
   "title_cell": "Table of Contents",
   "title_sidebar": "Contents",
   "toc_cell": false,
   "toc_position": {},
   "toc_section_display": true,
   "toc_window_display": false
  }
 },
 "nbformat": 4,
 "nbformat_minor": 5
}
